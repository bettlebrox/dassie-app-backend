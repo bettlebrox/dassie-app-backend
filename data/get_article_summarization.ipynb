{
 "cells": [
  {
   "cell_type": "code",
   "execution_count": 17,
   "id": "87600361",
   "metadata": {},
   "outputs": [
    {
     "name": "stdout",
     "output_type": "stream",
     "text": [
      "Requirement already satisfied: python-dotenv in /Users/davidburke/src/dassie/.venv/lib/python3.9/site-packages (1.0.1)\n",
      "\n",
      "\u001b[1m[\u001b[0m\u001b[34;49mnotice\u001b[0m\u001b[1;39;49m]\u001b[0m\u001b[39;49m A new release of pip is available: \u001b[0m\u001b[31;49m23.0.1\u001b[0m\u001b[39;49m -> \u001b[0m\u001b[32;49m24.2\u001b[0m\n",
      "\u001b[1m[\u001b[0m\u001b[34;49mnotice\u001b[0m\u001b[1;39;49m]\u001b[0m\u001b[39;49m To update, run: \u001b[0m\u001b[32;49mpip install --upgrade pip\u001b[0m\n",
      "Note: you may need to restart the kernel to use updated packages.\n",
      "Requirement already satisfied: pandas in /Users/davidburke/src/dassie/.venv/lib/python3.9/site-packages (2.2.3)\n",
      "Requirement already satisfied: tzdata>=2022.7 in /Users/davidburke/src/dassie/.venv/lib/python3.9/site-packages (from pandas) (2024.2)\n",
      "Requirement already satisfied: python-dateutil>=2.8.2 in /Users/davidburke/src/dassie/.venv/lib/python3.9/site-packages (from pandas) (2.8.2)\n",
      "Requirement already satisfied: pytz>=2020.1 in /Users/davidburke/src/dassie/.venv/lib/python3.9/site-packages (from pandas) (2022.5)\n",
      "Requirement already satisfied: numpy>=1.22.4 in /Users/davidburke/src/dassie/.venv/lib/python3.9/site-packages (from pandas) (1.24.4)\n",
      "Requirement already satisfied: six>=1.5 in /Users/davidburke/src/dassie/.venv/lib/python3.9/site-packages (from python-dateutil>=2.8.2->pandas) (1.16.0)\n",
      "\n",
      "\u001b[1m[\u001b[0m\u001b[34;49mnotice\u001b[0m\u001b[1;39;49m]\u001b[0m\u001b[39;49m A new release of pip is available: \u001b[0m\u001b[31;49m23.0.1\u001b[0m\u001b[39;49m -> \u001b[0m\u001b[32;49m24.2\u001b[0m\n",
      "\u001b[1m[\u001b[0m\u001b[34;49mnotice\u001b[0m\u001b[1;39;49m]\u001b[0m\u001b[39;49m To update, run: \u001b[0m\u001b[32;49mpip install --upgrade pip\u001b[0m\n",
      "Note: you may need to restart the kernel to use updated packages.\n",
      "Requirement already satisfied: boto3 in /Users/davidburke/src/dassie/.venv/lib/python3.9/site-packages (1.34.113)\n",
      "Requirement already satisfied: jmespath<2.0.0,>=0.7.1 in /Users/davidburke/src/dassie/.venv/lib/python3.9/site-packages (from boto3) (1.0.1)\n",
      "Requirement already satisfied: botocore<1.35.0,>=1.34.113 in /Users/davidburke/src/dassie/.venv/lib/python3.9/site-packages (from boto3) (1.34.113)\n",
      "Requirement already satisfied: s3transfer<0.11.0,>=0.10.0 in /Users/davidburke/src/dassie/.venv/lib/python3.9/site-packages (from boto3) (0.10.1)\n",
      "Requirement already satisfied: urllib3<1.27,>=1.25.4 in /Users/davidburke/src/dassie/.venv/lib/python3.9/site-packages (from botocore<1.35.0,>=1.34.113->boto3) (1.26.19)\n",
      "Requirement already satisfied: python-dateutil<3.0.0,>=2.1 in /Users/davidburke/src/dassie/.venv/lib/python3.9/site-packages (from botocore<1.35.0,>=1.34.113->boto3) (2.8.2)\n",
      "Requirement already satisfied: six>=1.5 in /Users/davidburke/src/dassie/.venv/lib/python3.9/site-packages (from python-dateutil<3.0.0,>=2.1->botocore<1.35.0,>=1.34.113->boto3) (1.16.0)\n",
      "\n",
      "\u001b[1m[\u001b[0m\u001b[34;49mnotice\u001b[0m\u001b[1;39;49m]\u001b[0m\u001b[39;49m A new release of pip is available: \u001b[0m\u001b[31;49m23.0.1\u001b[0m\u001b[39;49m -> \u001b[0m\u001b[32;49m24.2\u001b[0m\n",
      "\u001b[1m[\u001b[0m\u001b[34;49mnotice\u001b[0m\u001b[1;39;49m]\u001b[0m\u001b[39;49m To update, run: \u001b[0m\u001b[32;49mpip install --upgrade pip\u001b[0m\n",
      "Note: you may need to restart the kernel to use updated packages.\n",
      "Requirement already satisfied: langfuse in /Users/davidburke/src/dassie/.venv/lib/python3.9/site-packages (2.44.0)\n",
      "Requirement already satisfied: httpx<1.0,>=0.15.4 in /Users/davidburke/src/dassie/.venv/lib/python3.9/site-packages (from langfuse) (0.27.0)\n",
      "Requirement already satisfied: pydantic<3.0,>=1.10.7 in /Users/davidburke/src/dassie/.venv/lib/python3.9/site-packages (from langfuse) (2.6.4)\n",
      "Requirement already satisfied: anyio<5.0.0,>=4.4.0 in /Users/davidburke/src/dassie/.venv/lib/python3.9/site-packages (from langfuse) (4.4.0)\n",
      "Requirement already satisfied: packaging<24.0,>=23.2 in /Users/davidburke/src/dassie/.venv/lib/python3.9/site-packages (from langfuse) (23.2)\n",
      "Requirement already satisfied: idna<4.0,>=3.7 in /Users/davidburke/src/dassie/.venv/lib/python3.9/site-packages (from langfuse) (3.7)\n",
      "Requirement already satisfied: wrapt<2.0,>=1.14 in /Users/davidburke/src/dassie/.venv/lib/python3.9/site-packages (from langfuse) (1.16.0)\n",
      "Requirement already satisfied: backoff>=1.10.0 in /Users/davidburke/src/dassie/.venv/lib/python3.9/site-packages (from langfuse) (2.2.1)\n",
      "Requirement already satisfied: exceptiongroup>=1.0.2 in /Users/davidburke/src/dassie/.venv/lib/python3.9/site-packages (from anyio<5.0.0,>=4.4.0->langfuse) (1.2.0)\n",
      "Requirement already satisfied: typing-extensions>=4.1 in /Users/davidburke/src/dassie/.venv/lib/python3.9/site-packages (from anyio<5.0.0,>=4.4.0->langfuse) (4.12.2)\n",
      "Requirement already satisfied: sniffio>=1.1 in /Users/davidburke/src/dassie/.venv/lib/python3.9/site-packages (from anyio<5.0.0,>=4.4.0->langfuse) (1.3.1)\n",
      "Requirement already satisfied: certifi in /Users/davidburke/src/dassie/.venv/lib/python3.9/site-packages (from httpx<1.0,>=0.15.4->langfuse) (2024.7.4)\n",
      "Requirement already satisfied: httpcore==1.* in /Users/davidburke/src/dassie/.venv/lib/python3.9/site-packages (from httpx<1.0,>=0.15.4->langfuse) (1.0.5)\n",
      "Requirement already satisfied: h11<0.15,>=0.13 in /Users/davidburke/src/dassie/.venv/lib/python3.9/site-packages (from httpcore==1.*->httpx<1.0,>=0.15.4->langfuse) (0.14.0)\n",
      "Requirement already satisfied: pydantic-core==2.16.3 in /Users/davidburke/src/dassie/.venv/lib/python3.9/site-packages (from pydantic<3.0,>=1.10.7->langfuse) (2.16.3)\n",
      "Requirement already satisfied: annotated-types>=0.4.0 in /Users/davidburke/src/dassie/.venv/lib/python3.9/site-packages (from pydantic<3.0,>=1.10.7->langfuse) (0.6.0)\n",
      "\n",
      "\u001b[1m[\u001b[0m\u001b[34;49mnotice\u001b[0m\u001b[1;39;49m]\u001b[0m\u001b[39;49m A new release of pip is available: \u001b[0m\u001b[31;49m23.0.1\u001b[0m\u001b[39;49m -> \u001b[0m\u001b[32;49m24.2\u001b[0m\n",
      "\u001b[1m[\u001b[0m\u001b[34;49mnotice\u001b[0m\u001b[1;39;49m]\u001b[0m\u001b[39;49m To update, run: \u001b[0m\u001b[32;49mpip install --upgrade pip\u001b[0m\n",
      "Note: you may need to restart the kernel to use updated packages.\n",
      "Requirement already satisfied: gitpython in /Users/davidburke/src/dassie/.venv/lib/python3.9/site-packages (3.1.43)\n",
      "Requirement already satisfied: gitdb<5,>=4.0.1 in /Users/davidburke/src/dassie/.venv/lib/python3.9/site-packages (from gitpython) (4.0.11)\n",
      "Requirement already satisfied: smmap<6,>=3.0.1 in /Users/davidburke/src/dassie/.venv/lib/python3.9/site-packages (from gitdb<5,>=4.0.1->gitpython) (5.0.1)\n",
      "\n",
      "\u001b[1m[\u001b[0m\u001b[34;49mnotice\u001b[0m\u001b[1;39;49m]\u001b[0m\u001b[39;49m A new release of pip is available: \u001b[0m\u001b[31;49m23.0.1\u001b[0m\u001b[39;49m -> \u001b[0m\u001b[32;49m24.2\u001b[0m\n",
      "\u001b[1m[\u001b[0m\u001b[34;49mnotice\u001b[0m\u001b[1;39;49m]\u001b[0m\u001b[39;49m To update, run: \u001b[0m\u001b[32;49mpip install --upgrade pip\u001b[0m\n",
      "Note: you may need to restart the kernel to use updated packages.\n"
     ]
    }
   ],
   "source": [
    "%pip install python-dotenv\n",
    "%pip install pandas\n",
    "%pip install boto3\n",
    "%pip install langfuse\n",
    "%pip install gitpython"
   ]
  },
  {
   "cell_type": "code",
   "execution_count": 1,
   "id": "847cf981-6b3e-485c-960a-ef825ce7d1d8",
   "metadata": {},
   "outputs": [],
   "source": [
    "import dotenv\n",
    "dotenv.load_dotenv(\"../local.env\")\n",
    "import os\n",
    "import sys\n",
    "sys.path.append(\n",
    "    os.path.join(os.path.dirname(os.path.abspath('.')), \"python/lambda\")\n",
    ")\n",
    "import pandas as pd\n",
    "from services.openai_client import OpenAIClient\n",
    "from langfuse.decorators import observe, langfuse_context\n",
    "openai_client = OpenAIClient(\n",
    "        os.environ[\"OPENAI_API_KEY\"], os.environ[\"LANGFUSE_KEY\"]\n",
    ")\n",
    "from services.neptune_client import NeptuneClient\n",
    "import re\n",
    "neptune_client = NeptuneClient(\"https://127.0.0.1:8182\")\n",
    "import git\n",
    "repo = git.Repo(search_parent_directories=True)\n",
    "sha = repo.head.object.hexsha\n",
    "from langfuse import Langfuse\n",
    "langfuse = Langfuse(\n",
    "  secret_key=os.environ[\"LANGFUSE_KEY\"],\n",
    "  public_key=\"pk-lf-b2888d04-2d31-4b07-8f53-d40d311d4d13\",\n",
    "  host=\"https://cloud.langfuse.com\",\n",
    "  release=\"local_\"+sha\n",
    ")\n",
    "import json"
   ]
  },
  {
   "cell_type": "code",
   "execution_count": null,
   "id": "19048884-abdc-45e9-98c8-d81dd3fc12ed",
   "metadata": {},
   "outputs": [],
   "source": [
    "pf = pd.read_csv(\"get_article_summarization.csv\")"
   ]
  },
  {
   "cell_type": "code",
   "execution_count": null,
   "id": "21931a7a-6630-4c89-9156-26ddb6d0c995",
   "metadata": {},
   "outputs": [],
   "source": [
    "pf.head()"
   ]
  },
  {
   "cell_type": "code",
   "execution_count": null,
   "id": "52622747-46ea-4629-a524-adf5c2f28932",
   "metadata": {},
   "outputs": [],
   "source": [
    "import json\n",
    "input = json.loads(pf.iloc[5].input)\n",
    "from pprint import pprint\n",
    "pprint(input)\n",
    "pf.iloc[5].output\n",
    "len(input['args'][0])"
   ]
  },
  {
   "cell_type": "code",
   "execution_count": null,
   "id": "71f5b7d1-1fc3-4a1a-8778-58d9dac9d054",
   "metadata": {},
   "outputs": [],
   "source": [
    "\n",
    "new_prompt = \"\"\"\n",
    "Your task is to identity the entities and relations that are the subject of the following text. use dbpedia ontologies to model the entities and relations. Output in turtle rdf format.\n",
    "---\n",
    "\"\"\"\n",
    "import hashlib\n",
    "\n",
    "def hash_prompt(prompt):\n",
    "    return hashlib.md5(prompt.encode()).hexdigest()\n",
    "\n",
    "prompt_hash = hash_prompt(new_prompt)\n",
    "print(f\"Hash of new_prompt: {prompt_hash}\")\n",
    "\n",
    "@observe(name=\"get_article_summarization\")\n",
    "def get_article_summarization(input):\n",
    "    langfuse_context.update_current_trace(\n",
    "        tags=[\"experimentation\", \"notebook\", prompt_hash]\n",
    "\n",
    "    )\n",
    "    return openai_client.get_completion(new_prompt, input,model=\"gpt-4o\")\n"
   ]
  },
  {
   "cell_type": "code",
   "execution_count": null,
   "id": "0cac36f8",
   "metadata": {},
   "outputs": [],
   "source": [
    "\n",
    "open_cypher = openai_client.get_article_graph(input['args'][0],article_id=\"some_uuid\")\n",
    "open_cypher = re.sub(r\"date\\(('|\\\".*?'|\\\")\\)\", r\"\\1\", open_cypher)\n",
    "print(open_cypher)\n",
    "res = neptune_client.query(open_cypher)\n",
    "print(res)"
   ]
  },
  {
   "cell_type": "code",
   "execution_count": 2,
   "id": "8b7e4f9b",
   "metadata": {},
   "outputs": [],
   "source": [
    "import boto3\n",
    "from article_repo import ArticleRepository\n",
    "from browse_repo import BrowseRepository\n",
    "from repos import BrowsedRepository\n",
    "from services.articles_service import ArticlesService\n",
    "from services.themes_service import ThemesService\n",
    "from theme_repo import ThemeRepository\n",
    "secretsmanager = boto3.client(\"secretsmanager\")\n",
    "get_secret_value_response = secretsmanager.get_secret_value(\n",
    "    SecretId=os.getenv(\"DB_SECRET_ARN\")\n",
    ")\n",
    "secret = json.loads(get_secret_value_response[\"SecretString\"])\n",
    "article_repo = ArticleRepository(\n",
    "    secret[\"username\"],\n",
    "    secret[\"password\"],\n",
    "    \"dassie\",\n",
    "    os.getenv(\"DB_CLUSTER_ENDPOINT\"),\n",
    ")\n",
    "browse_repo = BrowseRepository(\n",
    "    secret[\"username\"],\n",
    "    secret[\"password\"],\n",
    "    \"dassie\",\n",
    "    os.getenv(\"DB_CLUSTER_ENDPOINT\"),\n",
    ")\n",
    "browsed_repo = BrowsedRepository(\n",
    "    secret[\"username\"],\n",
    "    secret[\"password\"],\n",
    "    \"dassie\",\n",
    "    os.getenv(\"DB_CLUSTER_ENDPOINT\"),\n",
    ")\n",
    "theme_repo = ThemeRepository(\n",
    "    secret[\"username\"],\n",
    "    secret[\"password\"],\n",
    "    \"dassie\",\n",
    "    os.getenv(\"DB_CLUSTER_ENDPOINT\"),\n",
    ")\n",
    "openai_client = OpenAIClient(\n",
    "    os.environ[\"OPENAI_API_KEY\"], os.environ[\"LANGFUSE_KEY\"]\n",
    ")\n",
    "articles_service = ArticlesService(article_repo=article_repo, theme_repo=None, browse_repo=browse_repo, browsed_repo=browsed_repo, openai_client=openai_client)\n",
    "themes_service = ThemesService(theme_repo=theme_repo, article_repo=article_repo, openai_client=openai_client)\n",
    "@observe(name=\"article_graph_test\")\n",
    "def article_graph_test(article, article_id, tag):\n",
    "    langfuse_context.update_current_trace(\n",
    "        tags=[\"experimentation\", \"notebook\", tag]\n",
    "\n",
    "    )\n",
    "    open_cypher = openai_client.get_article_graph(article.text,article_id=article_id)\n",
    "    print(open_cypher)\n",
    "    try:\n",
    "        res = neptune_client.query(open_cypher)\n",
    "        print(res)\n",
    "    except Exception as e:\n",
    "        print(e)\n",
    "        langfuse_context.update_current_trace(\n",
    "        tags=[\"neptune_exception\"]\n",
    "    )"
   ]
  },
  {
   "cell_type": "code",
   "execution_count": 12,
   "id": "3a5db2e0",
   "metadata": {},
   "outputs": [
    {
     "name": "stdout",
     "output_type": "stream",
     "text": [
      "'a2452062-4748-4643-9856-410f3545d66d','79b248ee-240b-4342-8071-2ae09dbad22c','3d04cd9d-de07-49e7-be4b-78b3413f7284','937180be-5226-41ca-985d-9279acef87c0','5ef4761e-a240-4724-9ce2-faca2ce40696','6d1b6499-5130-4b99-b33f-8c8c6c0d9bb7','147d7657-9f56-4258-bdbc-b8ed27bd0346','6ddd4e93-573d-4443-927f-36066be16c5e','afd929d3-ef78-4e10-94ec-612e34f5cc73','e7d45e3d-103d-4469-bb98-418d9433f087','e407b921-f743-4e4e-9763-c4b395263379','5eeface4-a7ee-4d30-8124-6323e703f5f2','9d06ab54-9a16-4511-a434-16b364df8543','61cae0ab-5592-4360-9bce-11b853455359','d7d16efe-3df8-4ca8-9351-68df0f774acf','d625bca5-2963-492a-9e60-b0cc79ca1d73','e0d1fe6b-2e7a-47a0-b123-5ff7b7b604c6','f5ea2a99-89f0-45c2-a582-958573bdddf6','b9a80b36-10f9-4d18-89ec-5ce140b60a90','44a557c5-64bd-467e-bc1b-cb5b009dc92f'\n",
      "0e0bd7d3-22c2-4e8f-8bfc-96d0a6a2fbb9\n",
      "flying+to+majorca\n"
     ]
    }
   ],
   "source": [
    "in_q = \"'\"\n",
    "for article in articles:\n",
    "    in_q += str(article.id) + \"','\"\n",
    "in_q = in_q[:-2]\n",
    "print(in_q)\n",
    "print(theme.id)\n",
    "print(theme.title)"
   ]
  },
  {
   "cell_type": "code",
   "execution_count": 11,
   "id": "1dbe8f9a",
   "metadata": {},
   "outputs": [],
   "source": [
    "theme = themes_service.get_theme_by_title(\"flying+to+majorca\")\n",
    "articles = theme.related\n",
    "#article_graph_test(articles[0],articles[0].id,\"theme_related\")\n",
    "#for article in articles:\n",
    "#    article_graph_test(article,article.id,\"theme_related\")\n",
    "\n"
   ]
  },
  {
   "cell_type": "code",
   "execution_count": null,
   "id": "97c898a7",
   "metadata": {},
   "outputs": [],
   "source": [
    "articles = articles_service._article_repo.get(limit=100,sort_by=\"logged_at\",descending=True)\n",
    "for article in articles:\n",
    "    article_graph_test(article,article.id)"
   ]
  },
  {
   "cell_type": "code",
   "execution_count": null,
   "id": "1ed3fe3b",
   "metadata": {},
   "outputs": [],
   "source": [
    "\n",
    "\n",
    "obs = langfuse.fetch_observation(\"8cf07c1b-548a-43d1-a00a-81f1f2caac9f\")\n",
    "print(obs)\n",
    "dir(obs)\n",
    "\n"
   ]
  },
  {
   "cell_type": "code",
   "execution_count": 9,
   "id": "5128563d",
   "metadata": {},
   "outputs": [
    {
     "name": "stdout",
     "output_type": "stream",
     "text": [
      "97299858-810a-422d-81df-fc385583b1e7\n",
      "8cf07c1b-548a-43d1-a00a-81f1f2caac9f\n",
      "{\"message\":\"Neptune query: \\nMERGE (article:Article {id: '2bae4cab-b9e3-4028-ba38-e21fcaeaaabe'})\\n\\nMERGE (rdflib:RDFLib {name: 'RDFLib'})\\nSET rdflib:Software,\\n    rdflib.initialReleaseDate = '2002-06-04',\\n    rdflib.latestReleaseVersion = '7.0.0',\\n    rdflib.latestReleaseDate = '2022-07-16',\\n    rdflib.description = \\\"RDFLib is a Python library for working with RDF, a simple yet powerful language for representing information. This library contains parsers/serializers for almost all of the known RDF serializations, such as RDF/XML, Turtle, N-Triples, & JSON-LD, many of which are now supported in their updated form.\\\",\\n    rdflib.website = 'https://rdflib.readthedocs.io'\\nMERGE (python:ProgrammingLanguage {name: 'Python (programming language)'})\\nMERGE (rdflib)-[:DEVELOPER]->(python)\\nMERGE (rdflib)-[:PROGRAMMING_LANGUAGE]->(python)\\nMERGE (article)-[:MENTIONS]->(rdflib)\\n\\nMERGE (turtle:Turtle {name: 'Turtle (syntax)'})\\nSET turtle:FileFormat,\\n    turtle.description = \\\"A Turtle document allows writing down an RDF graph in a compact textual form. An RDF graph is made up of triples consisting of a subject, predicate and object.\\\",\\n    turtle.website = 'https://w3c.github.io/rdf-turtle/spec'\\nMERGE (w3c:Organization {name: 'W3C'})\\nMERGE (turtle)-[:DEVELOPER]->(w3c)\\nMERGE (article)-[:MENTIONS]->(turtle)\\n\\nMERGE (github:Website {name: 'GitHub'})\\nSET github.website = 'https://github.com'\\nMERGE (article)-[:MENTIONS]->(github)\\n\\nMERGE (stackoverflow:Website {name: 'Stack Overflow'})\\nSET stackoverflow.website = 'https://stackoverflow.com'\\nMERGE (article)-[:MENTIONS]->(stackoverflow)\\n\\nMERGE (w3c:Organization {name: 'W3C'})\\nSET w3c.website = 'https://www.w3.org'\\nMERGE (article)-[:MENTIONS]->(w3c)\\n\\nMERGE (python:ProgrammingLanguage {name: 'Python (programming language)'})\\nSET python:ProgrammingLanguage,\\n    python.website = 'https://www.python.org'\\nMERGE (psf:Organization {name: 'Python Software Foundation'})\\nMERGE (python)-[:DEVELOPER]->(psf)\\nMERGE (article)-[:MENTIONS]->(python)\\n\",\"level\":\"INFO\",\"location\":\"query:21\",\"timestamp\":\"2024-10-01 11:34:12,190+0100\",\"service\":\"dassie\"}\n",
      "{\"message\":\"Neptune query response: {'ResponseMetadata': {'HTTPStatusCode': 200, 'HTTPHeaders': {'transfer-encoding': 'chunked'}, 'RetryAttempts': 0}, 'results': []}\",\"level\":\"INFO\",\"location\":\"query:26\",\"timestamp\":\"2024-10-01 11:34:12,360+0100\",\"service\":\"dassie\"}\n",
      "{\"message\":\"Neptune query response: {'ResponseMetadata': {'HTTPStatusCode': 200, 'HTTPHeaders': {'transfer-encoding': 'chunked'}, 'RetryAttempts': 0}, 'results': []}\",\"level\":\"INFO\",\"location\":\"query:26\",\"timestamp\":\"2024-10-01 11:34:12,478+0100\",\"service\":\"dassie\"}\n"
     ]
    },
    {
     "name": "stderr",
     "output_type": "stream",
     "text": [
      "/Users/davidburke/src/dassie/.venv/lib/python3.9/site-packages/urllib3/connectionpool.py:1063: InsecureRequestWarning: Unverified HTTPS request is being made to host '127.0.0.1'. Adding certificate verification is strongly advised. See: https://urllib3.readthedocs.io/en/1.26.x/advanced-usage.html#ssl-warnings\n",
      "  warnings.warn(\n",
      "/Users/davidburke/src/dassie/.venv/lib/python3.9/site-packages/urllib3/connectionpool.py:1063: InsecureRequestWarning: Unverified HTTPS request is being made to host '127.0.0.1'. Adding certificate verification is strongly advised. See: https://urllib3.readthedocs.io/en/1.26.x/advanced-usage.html#ssl-warnings\n",
      "  warnings.warn(\n",
      "/Users/davidburke/src/dassie/.venv/lib/python3.9/site-packages/urllib3/connectionpool.py:1063: InsecureRequestWarning: Unverified HTTPS request is being made to host '127.0.0.1'. Adding certificate verification is strongly advised. See: https://urllib3.readthedocs.io/en/1.26.x/advanced-usage.html#ssl-warnings\n",
      "  warnings.warn(\n"
     ]
    },
    {
     "name": "stdout",
     "output_type": "stream",
     "text": [
      "{\"message\":\"Neptune query response: {'ResponseMetadata': {'HTTPStatusCode': 200, 'HTTPHeaders': {'transfer-encoding': 'chunked'}, 'RetryAttempts': 0}, 'results': []}\",\"level\":\"INFO\",\"location\":\"query:26\",\"timestamp\":\"2024-10-01 11:34:12,555+0100\",\"service\":\"dassie\"}\n",
      "{\"message\":\"Neptune query response: {'ResponseMetadata': {'HTTPStatusCode': 200, 'HTTPHeaders': {'transfer-encoding': 'chunked'}, 'RetryAttempts': 0}, 'results': []}\",\"level\":\"INFO\",\"location\":\"query:26\",\"timestamp\":\"2024-10-01 11:34:12,610+0100\",\"service\":\"dassie\"}\n",
      "{\"message\":\"Neptune query response: {'ResponseMetadata': {'HTTPStatusCode': 200, 'HTTPHeaders': {'transfer-encoding': 'chunked'}, 'RetryAttempts': 0}, 'results': []}\",\"level\":\"INFO\",\"location\":\"query:26\",\"timestamp\":\"2024-10-01 11:34:12,688+0100\",\"service\":\"dassie\"}\n",
      "{\"message\":\"Neptune query response: {'ResponseMetadata': {'HTTPStatusCode': 200, 'HTTPHeaders': {'transfer-encoding': 'chunked'}, 'RetryAttempts': 0}, 'results': []}\",\"level\":\"INFO\",\"location\":\"query:26\",\"timestamp\":\"2024-10-01 11:34:12,744+0100\",\"service\":\"dassie\"}\n"
     ]
    },
    {
     "name": "stderr",
     "output_type": "stream",
     "text": [
      "/Users/davidburke/src/dassie/.venv/lib/python3.9/site-packages/urllib3/connectionpool.py:1063: InsecureRequestWarning: Unverified HTTPS request is being made to host '127.0.0.1'. Adding certificate verification is strongly advised. See: https://urllib3.readthedocs.io/en/1.26.x/advanced-usage.html#ssl-warnings\n",
      "  warnings.warn(\n",
      "/Users/davidburke/src/dassie/.venv/lib/python3.9/site-packages/urllib3/connectionpool.py:1063: InsecureRequestWarning: Unverified HTTPS request is being made to host '127.0.0.1'. Adding certificate verification is strongly advised. See: https://urllib3.readthedocs.io/en/1.26.x/advanced-usage.html#ssl-warnings\n",
      "  warnings.warn(\n",
      "/Users/davidburke/src/dassie/.venv/lib/python3.9/site-packages/urllib3/connectionpool.py:1063: InsecureRequestWarning: Unverified HTTPS request is being made to host '127.0.0.1'. Adding certificate verification is strongly advised. See: https://urllib3.readthedocs.io/en/1.26.x/advanced-usage.html#ssl-warnings\n",
      "  warnings.warn(\n",
      "/Users/davidburke/src/dassie/.venv/lib/python3.9/site-packages/urllib3/connectionpool.py:1063: InsecureRequestWarning: Unverified HTTPS request is being made to host '127.0.0.1'. Adding certificate verification is strongly advised. See: https://urllib3.readthedocs.io/en/1.26.x/advanced-usage.html#ssl-warnings\n",
      "  warnings.warn(\n"
     ]
    },
    {
     "name": "stdout",
     "output_type": "stream",
     "text": [
      "{\"message\":\"Neptune query response: {'ResponseMetadata': {'HTTPStatusCode': 200, 'HTTPHeaders': {'transfer-encoding': 'chunked'}, 'RetryAttempts': 0}, 'results': []}\",\"level\":\"INFO\",\"location\":\"query:26\",\"timestamp\":\"2024-10-01 11:34:12,824+0100\",\"service\":\"dassie\"}\n",
      "[[], [], [], [], [], [], []]\n",
      "\n",
      "MERGE (article:Article {id: '2bae4cab-b9e3-4028-ba38-e21fcaeaaabe'})\n",
      "\n",
      "MERGE (rdflib:RDFLib:Software {name: 'RDFLib'})\n",
      "ON CREATE SET rdflib.initialReleaseDate = date('2002-06-04'), rdflib.latestReleaseVersion = '7.0.0', rdflib.latestReleaseDate = date('2023-10-11'), rdflib.description = 'RDFLib is a Python library for working with RDF, a simple yet powerful language for representing information. This library contains parsers/serializers for almost all of the known RDF serializations, such as RDF/XML, Turtle, N-Triples, & JSON-LD, many of which are now supported in their updated form.', rdflib.website = 'https://rdflib.readthedocs.io'\n",
      "MERGE (python:ProgrammingLanguage {name: 'Python'})\n",
      "MERGE (bsd:License {name: 'BSD licenses'})\n",
      "MERGE (rdflib)-[:DEVELOPER]->(python)\n",
      "MERGE (rdflib)-[:PROGRAMMING_LANGUAGE]->(python)\n",
      "MERGE (rdflib)-[:LICENSE]->(bsd)\n",
      "MERGE (article)-[:MENTIONS]->(rdflib)\n",
      "\n",
      "MERGE (turtle:Turtle:FileFormat {name: 'Turtle (syntax)'})\n",
      "ON CREATE SET turtle.description = 'A Turtle document allows writing down an RDF graph in a compact textual form. An RDF graph is made up of triples consisting of a subject, predicate and object.'\n",
      "MERGE (rdf:FormatFamily {name: 'RDF'})\n",
      "MERGE (turtle)-[:FORMAT_FAMILY]->(rdf)\n",
      "MERGE (article)-[:MENTIONS]->(turtle)\n",
      "\n",
      "MERGE (jsonld:JSONLD:FileFormat {name: 'JSON-LD'})\n",
      "ON CREATE SET jsonld.description = 'JSON-LD is a method of encoding Linked Data using JSON.'\n",
      "MERGE (jsonld)-[:FORMAT_FAMILY]->(rdf)\n",
      "MERGE (article)-[:MENTIONS]->(jsonld)\n",
      "\n",
      "MERGE (rdfxml:RDFXML:FileFormat {name: 'RDF/XML'})\n",
      "ON CREATE SET rdfxml.description = 'RDF/XML is a syntax, defined by the W3C, to express an RDF graph as an XML document.'\n",
      "MERGE (rdfxml)-[:FORMAT_FAMILY]->(rdf)\n",
      "MERGE (article)-[:MENTIONS]->(rdfxml)\n",
      "\n",
      "MERGE (ntriples:NTriples:FileFormat {name: 'N-Triples'})\n",
      "ON CREATE SET ntriples.description = 'N-Triples is a format for storing and transmitting data, designed to be a simpler subset of the Turtle format.'\n",
      "MERGE (ntriples)-[:FORMAT_FAMILY]->(rdf)\n",
      "MERGE (article)-[:MENTIONS]->(ntriples)\n",
      "\n",
      "MERGE (nquads:NQuads:FileFormat {name: 'N-Quads'})\n",
      "ON CREATE SET nquads.description = 'N-Quads is an extension of N-Triples that allows for the serialization of RDF datasets.'\n",
      "MERGE (nquads)-[:FORMAT_FAMILY]->(rdf)\n",
      "MERGE (article)-[:MENTIONS]->(nquads)\n",
      "\n",
      "MERGE (trix:TriX:FileFormat {name: 'TriX'})\n",
      "ON CREATE SET trix.description = 'TriX (Triples in XML) is an RDF serialization format that uses XML to encode RDF graphs.'\n",
      "MERGE (trix)-[:FORMAT_FAMILY]->(rdf)\n",
      "MERGE (article)-[:MENTIONS]->(trix)\n",
      "\n",
      "{\"message\":\"Neptune query: \\nMERGE (article:Article {id: '2bae4cab-b9e3-4028-ba38-e21fcaeaaabe'})\\n\\nMERGE (rdflib:RDFLib:Software {name: 'RDFLib'})\\nON CREATE SET rdflib.initialReleaseDate = '2002-06-04', rdflib.latestReleaseVersion = '7.0.0', rdflib.latestReleaseDate = '2023-10-11', rdflib.description = 'RDFLib is a Python library for working with RDF, a simple yet powerful language for representing information. This library contains parsers/serializers for almost all of the known RDF serializations, such as RDF/XML, Turtle, N-Triples, & JSON-LD, many of which are now supported in their updated form.', rdflib.website = 'https://rdflib.readthedocs.io'\\nMERGE (python:ProgrammingLanguage {name: 'Python'})\\nMERGE (bsd:License {name: 'BSD licenses'})\\nMERGE (rdflib)-[:DEVELOPER]->(python)\\nMERGE (rdflib)-[:PROGRAMMING_LANGUAGE]->(python)\\nMERGE (rdflib)-[:LICENSE]->(bsd)\\nMERGE (article)-[:MENTIONS]->(rdflib)\\n\\nMERGE (turtle:Turtle:FileFormat {name: 'Turtle (syntax)'})\\nON CREATE SET turtle.description = 'A Turtle document allows writing down an RDF graph in a compact textual form. An RDF graph is made up of triples consisting of a subject, predicate and object.'\\nMERGE (rdf:FormatFamily {name: 'RDF'})\\nMERGE (turtle)-[:FORMAT_FAMILY]->(rdf)\\nMERGE (article)-[:MENTIONS]->(turtle)\\n\\nMERGE (jsonld:JSONLD:FileFormat {name: 'JSON-LD'})\\nON CREATE SET jsonld.description = 'JSON-LD is a method of encoding Linked Data using JSON.'\\nMERGE (jsonld)-[:FORMAT_FAMILY]->(rdf)\\nMERGE (article)-[:MENTIONS]->(jsonld)\\n\\nMERGE (rdfxml:RDFXML:FileFormat {name: 'RDF/XML'})\\nON CREATE SET rdfxml.description = 'RDF/XML is a syntax, defined by the W3C, to express an RDF graph as an XML document.'\\nMERGE (rdfxml)-[:FORMAT_FAMILY]->(rdf)\\nMERGE (article)-[:MENTIONS]->(rdfxml)\\n\\nMERGE (ntriples:NTriples:FileFormat {name: 'N-Triples'})\\nON CREATE SET ntriples.description = 'N-Triples is a format for storing and transmitting data, designed to be a simpler subset of the Turtle format.'\\nMERGE (ntriples)-[:FORMAT_FAMILY]->(rdf)\\nMERGE (article)-[:MENTIONS]->(ntriples)\\n\\nMERGE (nquads:NQuads:FileFormat {name: 'N-Quads'})\\nON CREATE SET nquads.description = 'N-Quads is an extension of N-Triples that allows for the serialization of RDF datasets.'\\nMERGE (nquads)-[:FORMAT_FAMILY]->(rdf)\\nMERGE (article)-[:MENTIONS]->(nquads)\\n\\nMERGE (trix:TriX:FileFormat {name: 'TriX'})\\nON CREATE SET trix.description = 'TriX (Triples in XML) is an RDF serialization format that uses XML to encode RDF graphs.'\\nMERGE (trix)-[:FORMAT_FAMILY]->(rdf)\\nMERGE (article)-[:MENTIONS]->(trix)\\n\",\"level\":\"INFO\",\"location\":\"query:21\",\"timestamp\":\"2024-10-01 11:34:35,583+0100\",\"service\":\"dassie\"}\n",
      "{\"message\":\"Neptune query response: {'ResponseMetadata': {'HTTPStatusCode': 200, 'HTTPHeaders': {'transfer-encoding': 'chunked'}, 'RetryAttempts': 0}, 'results': []}\",\"level\":\"INFO\",\"location\":\"query:26\",\"timestamp\":\"2024-10-01 11:34:35,639+0100\",\"service\":\"dassie\"}\n",
      "{\"message\":\"Neptune query response: {'ResponseMetadata': {'HTTPStatusCode': 200, 'HTTPHeaders': {'transfer-encoding': 'chunked'}, 'RetryAttempts': 0}, 'results': []}\",\"level\":\"INFO\",\"location\":\"query:26\",\"timestamp\":\"2024-10-01 11:34:35,789+0100\",\"service\":\"dassie\"}\n"
     ]
    },
    {
     "name": "stderr",
     "output_type": "stream",
     "text": [
      "/Users/davidburke/src/dassie/.venv/lib/python3.9/site-packages/urllib3/connectionpool.py:1063: InsecureRequestWarning: Unverified HTTPS request is being made to host '127.0.0.1'. Adding certificate verification is strongly advised. See: https://urllib3.readthedocs.io/en/1.26.x/advanced-usage.html#ssl-warnings\n",
      "  warnings.warn(\n",
      "/Users/davidburke/src/dassie/.venv/lib/python3.9/site-packages/urllib3/connectionpool.py:1063: InsecureRequestWarning: Unverified HTTPS request is being made to host '127.0.0.1'. Adding certificate verification is strongly advised. See: https://urllib3.readthedocs.io/en/1.26.x/advanced-usage.html#ssl-warnings\n",
      "  warnings.warn(\n",
      "/Users/davidburke/src/dassie/.venv/lib/python3.9/site-packages/urllib3/connectionpool.py:1063: InsecureRequestWarning: Unverified HTTPS request is being made to host '127.0.0.1'. Adding certificate verification is strongly advised. See: https://urllib3.readthedocs.io/en/1.26.x/advanced-usage.html#ssl-warnings\n",
      "  warnings.warn(\n"
     ]
    },
    {
     "name": "stdout",
     "output_type": "stream",
     "text": [
      "{\"message\":\"Neptune query response: {'ResponseMetadata': {'HTTPStatusCode': 200, 'HTTPHeaders': {'transfer-encoding': 'chunked'}, 'RetryAttempts': 0}, 'results': []}\",\"level\":\"INFO\",\"location\":\"query:26\",\"timestamp\":\"2024-10-01 11:34:35,869+0100\",\"service\":\"dassie\"}\n",
      "{\"message\":\"Neptune query response: {'ResponseMetadata': {'HTTPStatusCode': 200, 'HTTPHeaders': {'transfer-encoding': 'chunked'}, 'RetryAttempts': 0}, 'results': []}\",\"level\":\"INFO\",\"location\":\"query:26\",\"timestamp\":\"2024-10-01 11:34:35,943+0100\",\"service\":\"dassie\"}\n",
      "{\"message\":\"Neptune query response: {'ResponseMetadata': {'HTTPStatusCode': 200, 'HTTPHeaders': {'transfer-encoding': 'chunked'}, 'RetryAttempts': 0}, 'results': []}\",\"level\":\"INFO\",\"location\":\"query:26\",\"timestamp\":\"2024-10-01 11:34:36,039+0100\",\"service\":\"dassie\"}\n"
     ]
    },
    {
     "name": "stderr",
     "output_type": "stream",
     "text": [
      "/Users/davidburke/src/dassie/.venv/lib/python3.9/site-packages/urllib3/connectionpool.py:1063: InsecureRequestWarning: Unverified HTTPS request is being made to host '127.0.0.1'. Adding certificate verification is strongly advised. See: https://urllib3.readthedocs.io/en/1.26.x/advanced-usage.html#ssl-warnings\n",
      "  warnings.warn(\n",
      "/Users/davidburke/src/dassie/.venv/lib/python3.9/site-packages/urllib3/connectionpool.py:1063: InsecureRequestWarning: Unverified HTTPS request is being made to host '127.0.0.1'. Adding certificate verification is strongly advised. See: https://urllib3.readthedocs.io/en/1.26.x/advanced-usage.html#ssl-warnings\n",
      "  warnings.warn(\n",
      "/Users/davidburke/src/dassie/.venv/lib/python3.9/site-packages/urllib3/connectionpool.py:1063: InsecureRequestWarning: Unverified HTTPS request is being made to host '127.0.0.1'. Adding certificate verification is strongly advised. See: https://urllib3.readthedocs.io/en/1.26.x/advanced-usage.html#ssl-warnings\n",
      "  warnings.warn(\n"
     ]
    },
    {
     "name": "stdout",
     "output_type": "stream",
     "text": [
      "{\"message\":\"Neptune query response: {'ResponseMetadata': {'HTTPStatusCode': 200, 'HTTPHeaders': {'transfer-encoding': 'chunked'}, 'RetryAttempts': 0}, 'results': []}\",\"level\":\"INFO\",\"location\":\"query:26\",\"timestamp\":\"2024-10-01 11:34:36,121+0100\",\"service\":\"dassie\"}\n",
      "{\"message\":\"Neptune query response: {'ResponseMetadata': {'HTTPStatusCode': 200, 'HTTPHeaders': {'transfer-encoding': 'chunked'}, 'RetryAttempts': 0}, 'results': []}\",\"level\":\"INFO\",\"location\":\"query:26\",\"timestamp\":\"2024-10-01 11:34:36,200+0100\",\"service\":\"dassie\"}\n",
      "{\"message\":\"Neptune query response: {'ResponseMetadata': {'HTTPStatusCode': 200, 'HTTPHeaders': {'transfer-encoding': 'chunked'}, 'RetryAttempts': 0}, 'results': []}\",\"level\":\"INFO\",\"location\":\"query:26\",\"timestamp\":\"2024-10-01 11:34:36,277+0100\",\"service\":\"dassie\"}\n",
      "[[], [], [], [], [], [], [], []]\n",
      "---\n",
      "\n",
      "\n",
      "\n"
     ]
    },
    {
     "name": "stderr",
     "output_type": "stream",
     "text": [
      "/Users/davidburke/src/dassie/.venv/lib/python3.9/site-packages/urllib3/connectionpool.py:1063: InsecureRequestWarning: Unverified HTTPS request is being made to host '127.0.0.1'. Adding certificate verification is strongly advised. See: https://urllib3.readthedocs.io/en/1.26.x/advanced-usage.html#ssl-warnings\n",
      "  warnings.warn(\n",
      "/Users/davidburke/src/dassie/.venv/lib/python3.9/site-packages/urllib3/connectionpool.py:1063: InsecureRequestWarning: Unverified HTTPS request is being made to host '127.0.0.1'. Adding certificate verification is strongly advised. See: https://urllib3.readthedocs.io/en/1.26.x/advanced-usage.html#ssl-warnings\n",
      "  warnings.warn(\n"
     ]
    },
    {
     "name": "stdout",
     "output_type": "stream",
     "text": [
      "3a8af7fc-7527-4df7-8b81-f8c93cc3e169\n",
      "62ddd53d-dc3f-4662-9c2c-7c57e5f4c6ad\n",
      "{\"message\":\"Neptune query: \\nMERGE (a:Article {id: '6417f3da-51be-4328-99a5-66df16901ebd'})\\nMERGE (s:Software {id: 'http://github.com/RDFLib/rdflib'})\\nON CREATE SET s.title = 'RDFLib', s.description = 'RDFLib is a pure Python package for working with RDF.', s.releaseDate = '2023', s.version = '7.0.0', s.homepage = 'https://github.com/RDFLib/rdflib'\\nMERGE (p:ProgrammingLanguage {name: 'Python'})\\nMERGE (l:License {name: 'MIT License'})\\nMERGE (d:Developer {id: 'http://dbpedia.org/resource/RDFLib_Team'})\\nON CREATE SET d.name = 'RDFLib Team', d.homepage = 'https://github.com/RDFLib'\\nMERGE (s)-[:PROGRAMMING_LANGUAGE]->(p)\\nMERGE (s)-[:LICENSE]->(l)\\nMERGE (s)-[:DEVELOPER]->(d)\\nMERGE (d)-[:CREATOR_OF]->(s)\\nMERGE (s)-[:FEATURE]->(:Feature {name: 'Parsers & Serializers'})\\nMERGE (s)-[:FEATURE]->(:Feature {name: 'Store implementations'})\\nMERGE (s)-[:FEATURE]->(:Feature {name: 'Graph interface'})\\nMERGE (s)-[:FEATURE]->(:Feature {name: 'SPARQL 1.1 implementation'})\\nMERGE (s)-[:FEATURE]->(:Feature {name: 'Security Considerations'})\\nMERGE (s)-[:FEATURE]->(:Feature {name: 'API reference'})\\nMERGE (s)-[:FEATURE]->(:Feature {name: 'Versioning'})\\nMERGE (s)-[:FEATURE]->(:Feature {name: 'Contributor Covenant Code of Conduct'})\\nMERGE (s)-[:FEATURE]->(:Feature {name: 'Source Code'})\\nMERGE (s)-[:PARSES]->(:Format {name: 'RDF/XML'})\\nMERGE (s)-[:PARSES]->(:Format {name: 'N3'})\\nMERGE (s)-[:PARSES]->(:Format {name: 'NTriples'})\\nMERGE (s)-[:PARSES]->(:Format {name: 'N-Quads'})\\nMERGE (s)-[:PARSES]->(:Format {name: 'Turtle'})\\nMERGE (s)-[:PARSES]->(:Format {name: 'TriX'})\\nMERGE (s)-[:PARSES]->(:Format {name: 'JSON-LD'})\\nMERGE (s)-[:PARSES]->(:Format {name: 'HexTuples'})\\nMERGE (s)-[:PARSES]->(:Format {name: 'RDFa'})\\nMERGE (s)-[:PARSES]->(:Format {name: 'Microdata'})\\nMERGE (s)-[:STORES]->(:Store {name: 'memory stores'})\\nMERGE (s)-[:STORES]->(:Store {name: 'persistent, on-disk stores, using databases such as BerkeleyDB'})\\nMERGE (s)-[:STORES]->(:Store {name: 'remote SPARQL endpoints'})\\nMERGE (s)-[:INTERFACE]->(:Interface {name: 'Graph interface to a single graph or to multiple Named Graphs within a dataset'})\\nMERGE (s)-[:IMPLEMENTS]->(:Implementation {name: 'SPARQL 1.1 implementation for both Queries and Updates'})\\nMERGE (s)-[:SECURITY]->(:Security {description: 'RDFLib is designed to access arbitrary network and file resources, in some cases these are directly requested resources, in other cases they are indirectly referenced resources. If you are using RDFLib to process untrusted documents or queries you should take measures to restrict file and network access.'})\\nMERGE (s)-[:DOCUMENTATION]->(:Documentation {name: 'Getting started with RDFLib'})\\nMERGE (s)-[:DOCUMENTATION]->(:Documentation {name: 'Loading and saving RDF'})\\nMERGE (s)-[:DOCUMENTATION]->(:Documentation {name: 'Creating RDF triples'})\\nMERGE (s)-[:DOCUMENTATION]->(:Documentation {name: 'Navigating Graphs'})\\nMERGE (s)-[:DOCUMENTATION]->(:Documentation {name: 'Querying with SPARQL'})\\nMERGE (s)-[:DOCUMENTATION]->(:Documentation {name: 'Utilities & convenience functions'})\\nMERGE (s)-[:DOCUMENTATION]->(:Documentation {name: 'Examples'})\\nMERGE (s)-[:DOCUMENTATION]->(:Documentation {name: 'RDF terms in rdflib'})\\nMERGE (s)-[:DOCUMENTATION]->(:Documentation {name: 'Namespaces and Bindings'})\\nMERGE (s)-[:DOCUMENTATION]->(:Documentation {name: 'Persistence'})\\nMERGE (s)-[:DOCUMENTATION]->(:Documentation {name: 'Merging graphs'})\\nMERGE (s)-[:DOCUMENTATION]->(:Documentation {name: 'Upgrading from version 6 to 7'})\\nMERGE (s)-[:DOCUMENTATION]->(:Documentation {name: 'Upgrading 5.0.0 to 6.0.0'})\\nMERGE (s)-[:DOCUMENTATION]->(:Documentation {name: 'Upgrading 4.2.2 to 5.0.0'})\\nMERGE (s)-[:DOCUMENTATION]->(:Documentation {name: 'Security Considerations'})\\nMERGE (s)-[:DOCUMENTATION]->(:Documentation {name: 'API reference'})\\nMERGE (s)-[:DOCUMENTATION]->(:Documentation {name: 'RDFLib developers guide'})\\nMERGE (s)-[:DOCUMENTATION]->(:Documentation {name: 'Contributor Covenant Code of Conduct'})\\nMERGE (s)-[:DOCUMENTATION]->(:Documentation {name: 'Writing RDFLib Documentation'})\\nMERGE (s)-[:DOCUMENTATION]->(:Documentation {name: 'Persisting Notation 3 Terms'})\\nMERGE (s)-[:DOCUMENTATION]->(:Documentation {name: 'Type Hints'})\\nMERGE (s)-[:DOCUMENTATION]->(:Documentation {name: 'RDFLib Contributing Guide'})\\nMERGE (s)-[:DOCUMENTATION]->(:Documentation {name: 'Decision Records'})\\nMERGE (s)-[:VERSIONING]->(:Versioning {description: 'RDFLib follows Semantic Versioning 2.0.0'})\\nMERGE (s)-[:CHAT_ROOM]->(:ChatRoom {url: 'https://gitter.im/RDFLib/rdflib'})\\nMERGE (s)-[:CHAT_ROOM]->(:ChatRoom {url: 'https://matrix.to/#/#RDFLib_rdflib:gitter.im'})\\nMERGE (s)-[:MAILING_LIST]->(:MailingList {url: 'https://github.com/RDFLib/rdflib/discussions'})\\nMERGE (s)-[:TAG]->(:Tag {url: 'https://stackoverflow.com/questions/tagged/rdflib'})\\nMERGE (a)-[:SOURCE_OF]->(s)\\nMERGE (a)-[:SOURCE_OF]->(d)\\n\",\"level\":\"INFO\",\"location\":\"query:21\",\"timestamp\":\"2024-10-01 11:34:36,808+0100\",\"service\":\"dassie\"}\n"
     ]
    },
    {
     "name": "stderr",
     "output_type": "stream",
     "text": [
      "/Users/davidburke/src/dassie/.venv/lib/python3.9/site-packages/urllib3/connectionpool.py:1063: InsecureRequestWarning: Unverified HTTPS request is being made to host '127.0.0.1'. Adding certificate verification is strongly advised. See: https://urllib3.readthedocs.io/en/1.26.x/advanced-usage.html#ssl-warnings\n",
      "  warnings.warn(\n"
     ]
    },
    {
     "name": "stdout",
     "output_type": "stream",
     "text": [
      "{\"message\":\"Neptune query response: {'ResponseMetadata': {'HTTPStatusCode': 200, 'HTTPHeaders': {'transfer-encoding': 'chunked'}, 'RetryAttempts': 0}, 'results': []}\",\"level\":\"INFO\",\"location\":\"query:26\",\"timestamp\":\"2024-10-01 11:34:51,648+0100\",\"service\":\"dassie\"}\n",
      "[[]]\n",
      "\n",
      "MERGE (article:Article {id: '6417f3da-51be-4328-99a5-66df16901ebd'})\n",
      "MERGE (rdflib:Software {name: 'RDFLib'})\n",
      "ON CREATE SET rdflib.title = 'RDFLib', rdflib.description = 'RDFLib is a pure Python package for working with RDF.', rdflib.releaseDate = '2023', rdflib.version = '7.0.0', rdflib.homepage = 'https://github.com/RDFLib/rdflib', rdflib.programmingLanguage = 'Python'\n",
      "MERGE (rdflibTeam:Organization {name: 'RDFLib Team'})\n",
      "ON CREATE SET rdflibTeam.homepage = 'https://github.com/RDFLib'\n",
      "MERGE (license:License {url: 'https://opensource.org/licenses/BSD-3-Clause'})\n",
      "MERGE (sourceCode:Document {url: 'https://github.com/RDFLib/rdflib', title: 'RDFLib Source Code'})\n",
      "MERGE (githubOrg:Document {url: 'https://github.com/RDFLib', title: 'RDFLib GitHub Organization'})\n",
      "MERGE (securityDoc:Document {url: 'https://rdflib.readthedocs.io/en/stable/security.html', title: 'RDFLib Security Considerations'})\n",
      "MERGE (gettingStartedDoc:Document {url: 'https://rdflib.readthedocs.io/en/stable/getting_started.html', title: 'Getting started with RDFLib'})\n",
      "MERGE (apiReferenceDoc:Document {url: 'https://rdflib.readthedocs.io/en/stable/reference.html', title: 'RDFLib API Reference'})\n",
      "MERGE (versioningDoc:Document {url: 'https://rdflib.readthedocs.io/en/stable/versioning.html', title: 'RDFLib Versioning'})\n",
      "MERGE (developersGuideDoc:Document {url: 'https://rdflib.readthedocs.io/en/stable/developers.html', title: 'RDFLib Developers Guide'})\n",
      "MERGE (contactDoc:Document {url: 'https://rdflib.readthedocs.io/en/stable/contact.html', title: 'Further help & Contact'})\n",
      "\n",
      "MERGE (rdflib)-[:HAS_CREATOR]->(rdflibTeam)\n",
      "MERGE (rdflib)-[:HAS_LICENSE]->(license)\n",
      "MERGE (rdflib)-[:HAS_HOMEPAGE]->(sourceCode)\n",
      "MERGE (sourceCode)-[:HAS_CREATOR]->(rdflibTeam)\n",
      "MERGE (sourceCode)-[:HAS_SUBJECT]->(rdflib)\n",
      "MERGE (sourceCode)-[:HAS_LICENSE]->(license)\n",
      "MERGE (githubOrg)-[:HAS_CREATOR]->(rdflibTeam)\n",
      "MERGE (githubOrg)-[:HAS_SUBJECT]->(rdflib)\n",
      "MERGE (githubOrg)-[:HAS_LICENSE]->(license)\n",
      "MERGE (securityDoc)-[:HAS_SUBJECT]->(rdflib)\n",
      "MERGE (gettingStartedDoc)-[:HAS_SUBJECT]->(rdflib)\n",
      "MERGE (apiReferenceDoc)-[:HAS_SUBJECT]->(rdflib)\n",
      "MERGE (versioningDoc)-[:HAS_SUBJECT]->(rdflib)\n",
      "MERGE (developersGuideDoc)-[:HAS_SUBJECT]->(rdflib)\n",
      "MERGE (contactDoc)-[:HAS_SUBJECT]->(rdflib)\n",
      "\n",
      "MERGE (article)-[:MENTIONS]->(rdflib)\n",
      "MERGE (article)-[:MENTIONS]->(rdflibTeam)\n",
      "MERGE (article)-[:MENTIONS]->(sourceCode)\n",
      "MERGE (article)-[:MENTIONS]->(githubOrg)\n",
      "MERGE (article)-[:MENTIONS]->(securityDoc)\n",
      "MERGE (article)-[:MENTIONS]->(gettingStartedDoc)\n",
      "MERGE (article)-[:MENTIONS]->(apiReferenceDoc)\n",
      "MERGE (article)-[:MENTIONS]->(versioningDoc)\n",
      "MERGE (article)-[:MENTIONS]->(developersGuideDoc)\n",
      "MERGE (article)-[:MENTIONS]->(contactDoc)\n",
      "\n",
      "{\"message\":\"Neptune query: \\nMERGE (article:Article {id: '6417f3da-51be-4328-99a5-66df16901ebd'})\\nMERGE (rdflib:Software {name: 'RDFLib'})\\nON CREATE SET rdflib.title = 'RDFLib', rdflib.description = 'RDFLib is a pure Python package for working with RDF.', rdflib.releaseDate = '2023', rdflib.version = '7.0.0', rdflib.homepage = 'https://github.com/RDFLib/rdflib', rdflib.programmingLanguage = 'Python'\\nMERGE (rdflibTeam:Organization {name: 'RDFLib Team'})\\nON CREATE SET rdflibTeam.homepage = 'https://github.com/RDFLib'\\nMERGE (license:License {url: 'https://opensource.org/licenses/BSD-3-Clause'})\\nMERGE (sourceCode:Document {url: 'https://github.com/RDFLib/rdflib', title: 'RDFLib Source Code'})\\nMERGE (githubOrg:Document {url: 'https://github.com/RDFLib', title: 'RDFLib GitHub Organization'})\\nMERGE (securityDoc:Document {url: 'https://rdflib.readthedocs.io/en/stable/security.html', title: 'RDFLib Security Considerations'})\\nMERGE (gettingStartedDoc:Document {url: 'https://rdflib.readthedocs.io/en/stable/getting_started.html', title: 'Getting started with RDFLib'})\\nMERGE (apiReferenceDoc:Document {url: 'https://rdflib.readthedocs.io/en/stable/reference.html', title: 'RDFLib API Reference'})\\nMERGE (versioningDoc:Document {url: 'https://rdflib.readthedocs.io/en/stable/versioning.html', title: 'RDFLib Versioning'})\\nMERGE (developersGuideDoc:Document {url: 'https://rdflib.readthedocs.io/en/stable/developers.html', title: 'RDFLib Developers Guide'})\\nMERGE (contactDoc:Document {url: 'https://rdflib.readthedocs.io/en/stable/contact.html', title: 'Further help & Contact'})\\n\\nMERGE (rdflib)-[:HAS_CREATOR]->(rdflibTeam)\\nMERGE (rdflib)-[:HAS_LICENSE]->(license)\\nMERGE (rdflib)-[:HAS_HOMEPAGE]->(sourceCode)\\nMERGE (sourceCode)-[:HAS_CREATOR]->(rdflibTeam)\\nMERGE (sourceCode)-[:HAS_SUBJECT]->(rdflib)\\nMERGE (sourceCode)-[:HAS_LICENSE]->(license)\\nMERGE (githubOrg)-[:HAS_CREATOR]->(rdflibTeam)\\nMERGE (githubOrg)-[:HAS_SUBJECT]->(rdflib)\\nMERGE (githubOrg)-[:HAS_LICENSE]->(license)\\nMERGE (securityDoc)-[:HAS_SUBJECT]->(rdflib)\\nMERGE (gettingStartedDoc)-[:HAS_SUBJECT]->(rdflib)\\nMERGE (apiReferenceDoc)-[:HAS_SUBJECT]->(rdflib)\\nMERGE (versioningDoc)-[:HAS_SUBJECT]->(rdflib)\\nMERGE (developersGuideDoc)-[:HAS_SUBJECT]->(rdflib)\\nMERGE (contactDoc)-[:HAS_SUBJECT]->(rdflib)\\n\\nMERGE (article)-[:MENTIONS]->(rdflib)\\nMERGE (article)-[:MENTIONS]->(rdflibTeam)\\nMERGE (article)-[:MENTIONS]->(sourceCode)\\nMERGE (article)-[:MENTIONS]->(githubOrg)\\nMERGE (article)-[:MENTIONS]->(securityDoc)\\nMERGE (article)-[:MENTIONS]->(gettingStartedDoc)\\nMERGE (article)-[:MENTIONS]->(apiReferenceDoc)\\nMERGE (article)-[:MENTIONS]->(versioningDoc)\\nMERGE (article)-[:MENTIONS]->(developersGuideDoc)\\nMERGE (article)-[:MENTIONS]->(contactDoc)\\n\",\"level\":\"INFO\",\"location\":\"query:21\",\"timestamp\":\"2024-10-01 11:35:12,306+0100\",\"service\":\"dassie\"}\n"
     ]
    },
    {
     "name": "stderr",
     "output_type": "stream",
     "text": [
      "/Users/davidburke/src/dassie/.venv/lib/python3.9/site-packages/urllib3/connectionpool.py:1063: InsecureRequestWarning: Unverified HTTPS request is being made to host '127.0.0.1'. Adding certificate verification is strongly advised. See: https://urllib3.readthedocs.io/en/1.26.x/advanced-usage.html#ssl-warnings\n",
      "  warnings.warn(\n"
     ]
    },
    {
     "name": "stdout",
     "output_type": "stream",
     "text": [
      "{\"message\":\"Neptune query response: {'ResponseMetadata': {'HTTPStatusCode': 200, 'HTTPHeaders': {'transfer-encoding': 'chunked'}, 'RetryAttempts': 0}, 'results': []}\",\"level\":\"INFO\",\"location\":\"query:26\",\"timestamp\":\"2024-10-01 11:35:12,601+0100\",\"service\":\"dassie\"}\n"
     ]
    },
    {
     "name": "stderr",
     "output_type": "stream",
     "text": [
      "/Users/davidburke/src/dassie/.venv/lib/python3.9/site-packages/urllib3/connectionpool.py:1063: InsecureRequestWarning: Unverified HTTPS request is being made to host '127.0.0.1'. Adding certificate verification is strongly advised. See: https://urllib3.readthedocs.io/en/1.26.x/advanced-usage.html#ssl-warnings\n",
      "  warnings.warn(\n",
      "/Users/davidburke/src/dassie/.venv/lib/python3.9/site-packages/urllib3/connectionpool.py:1063: InsecureRequestWarning: Unverified HTTPS request is being made to host '127.0.0.1'. Adding certificate verification is strongly advised. See: https://urllib3.readthedocs.io/en/1.26.x/advanced-usage.html#ssl-warnings\n",
      "  warnings.warn(\n",
      "/Users/davidburke/src/dassie/.venv/lib/python3.9/site-packages/urllib3/connectionpool.py:1063: InsecureRequestWarning: Unverified HTTPS request is being made to host '127.0.0.1'. Adding certificate verification is strongly advised. See: https://urllib3.readthedocs.io/en/1.26.x/advanced-usage.html#ssl-warnings\n",
      "  warnings.warn(\n",
      "/Users/davidburke/src/dassie/.venv/lib/python3.9/site-packages/urllib3/connectionpool.py:1063: InsecureRequestWarning: Unverified HTTPS request is being made to host '127.0.0.1'. Adding certificate verification is strongly advised. See: https://urllib3.readthedocs.io/en/1.26.x/advanced-usage.html#ssl-warnings\n",
      "  warnings.warn(\n",
      "/Users/davidburke/src/dassie/.venv/lib/python3.9/site-packages/urllib3/connectionpool.py:1063: InsecureRequestWarning: Unverified HTTPS request is being made to host '127.0.0.1'. Adding certificate verification is strongly advised. See: https://urllib3.readthedocs.io/en/1.26.x/advanced-usage.html#ssl-warnings\n",
      "  warnings.warn(\n"
     ]
    },
    {
     "name": "stdout",
     "output_type": "stream",
     "text": [
      "{\"message\":\"Error querying Neptune: An error occurred (MemoryLimitExceededException) when calling the ExecuteOpenCypherQuery operation (reached max retries: 4): Operation terminated (out of memory)\",\"level\":\"ERROR\",\"location\":\"query:34\",\"timestamp\":\"2024-10-01 11:38:30,251+0100\",\"service\":\"dassie\"}\n",
      "An error occurred (MemoryLimitExceededException) when calling the ExecuteOpenCypherQuery operation (reached max retries: 4): Operation terminated (out of memory)\n",
      "---\n",
      "\n",
      "\n",
      "\n",
      "3a0a785c-3cd1-44bf-8261-80fc23b9d320\n",
      "1388e429-08ff-424d-a1a2-e0e62457151f\n",
      "{\"message\":\"Neptune query: \\nMERGE (article:Article {id: '3648fc06-0802-444a-9d99-f0abcd3682c3'})\\n\\nMERGE (rdflib:Software {name: 'RDFLib'})\\nON CREATE SET rdflib.title = 'RDFLib', \\n              rdflib.description = 'RDFLib is a pure Python package for working with RDF.', \\n              rdflib.releaseDate = '2023', \\n              rdflib.version = '7.0.0', \\n              rdflib.programmingLanguage = 'Python', \\n              rdflib.homepage = 'https://github.com/RDFLib/rdflib'\\nMERGE (article)-[:DESCRIBES]->(rdflib)\\n\\nMERGE (feature1:Feature {description: 'Parsers & Serializers for RDF/XML, N3, NTriples, N-Quads, Turtle, TriX, JSON-LD, HexTuples, RDFa and Microdata'})\\nMERGE (rdflib)-[:HAS_FEATURE]->(feature1)\\nMERGE (article)-[:DESCRIBES]->(feature1)\\n\\nMERGE (feature2:Feature {description: 'Store implementations: memory stores, persistent on-disk stores using databases such as BerkeleyDB, remote SPARQL endpoints'})\\nMERGE (rdflib)-[:HAS_FEATURE]->(feature2)\\nMERGE (article)-[:DESCRIBES]->(feature2)\\n\\nMERGE (feature3:Feature {description: 'Graph interface to a single graph or to multiple Named Graphs within a dataset'})\\nMERGE (rdflib)-[:HAS_FEATURE]->(feature3)\\nMERGE (article)-[:DESCRIBES]->(feature3)\\n\\nMERGE (feature4:Feature {description: 'SPARQL 1.1 implementation: both Queries and Updates are supported'})\\nMERGE (rdflib)-[:HAS_FEATURE]->(feature4)\\nMERGE (article)-[:DESCRIBES]->(feature4)\\n\\nMERGE (caution:Caution {description: 'RDFLib is designed to access arbitrary network and file resources, in some cases these are directly requested resources, in other cases they are indirectly referenced resources. If you are using RDFLib to process untrusted documents or queries you should take measures to restrict file and network access.'})\\nMERGE (rdflib)-[:HAS_CAUTION]->(caution)\\nMERGE (article)-[:DESCRIBES]->(caution)\\n\\nMERGE (documentation:Documentation {description: 'For information on available security measures, see the RDFLib Security Considerations documentation.'})\\nMERGE (rdflib)-[:HAS_DOCUMENTATION]->(documentation)\\nMERGE (article)-[:DESCRIBES]->(documentation)\\n\\nMERGE (rdflib_team:Organization {name: 'RDFLib Team', homepage: 'https://github.com/RDFLib'})\\nMERGE (rdflib)-[:MAINTAINED_BY]->(rdflib_team)\\nMERGE (article)-[:DESCRIBES]->(rdflib_team)\\n\\nMERGE (github:Organization {name: 'GitHub', homepage: 'https://github.com'})\\nMERGE (article)-[:DESCRIBES]->(github)\\n\\nMERGE (stackoverflow:Organization {name: 'StackOverflow', homepage: 'https://stackoverflow.com'})\\nMERGE (article)-[:DESCRIBES]->(stackoverflow)\\n\\nMERGE (gitter:Organization {name: 'Gitter', homepage: 'https://gitter.im'})\\nMERGE (article)-[:DESCRIBES]->(gitter)\\n\\nMERGE (matrix:Organization {name: 'Matrix', homepage: 'https://matrix.org'})\\nMERGE (article)-[:DESCRIBES]->(matrix)\\n\",\"level\":\"INFO\",\"location\":\"query:21\",\"timestamp\":\"2024-10-01 11:38:30,950+0100\",\"service\":\"dassie\"}\n",
      "{\"message\":\"Neptune query response: {'ResponseMetadata': {'HTTPStatusCode': 200, 'HTTPHeaders': {'transfer-encoding': 'chunked'}, 'RetryAttempts': 0}, 'results': []}\",\"level\":\"INFO\",\"location\":\"query:26\",\"timestamp\":\"2024-10-01 11:38:30,995+0100\",\"service\":\"dassie\"}\n",
      "{\"message\":\"Neptune query response: {'ResponseMetadata': {'HTTPStatusCode': 200, 'HTTPHeaders': {'transfer-encoding': 'chunked'}, 'RetryAttempts': 0}, 'results': []}\",\"level\":\"INFO\",\"location\":\"query:26\",\"timestamp\":\"2024-10-01 11:38:31,063+0100\",\"service\":\"dassie\"}\n",
      "{\"message\":\"Neptune query response: {'ResponseMetadata': {'HTTPStatusCode': 200, 'HTTPHeaders': {'transfer-encoding': 'chunked'}, 'RetryAttempts': 0}, 'results': []}\",\"level\":\"INFO\",\"location\":\"query:26\",\"timestamp\":\"2024-10-01 11:38:31,131+0100\",\"service\":\"dassie\"}\n"
     ]
    },
    {
     "name": "stderr",
     "output_type": "stream",
     "text": [
      "/Users/davidburke/src/dassie/.venv/lib/python3.9/site-packages/urllib3/connectionpool.py:1063: InsecureRequestWarning: Unverified HTTPS request is being made to host '127.0.0.1'. Adding certificate verification is strongly advised. See: https://urllib3.readthedocs.io/en/1.26.x/advanced-usage.html#ssl-warnings\n",
      "  warnings.warn(\n",
      "/Users/davidburke/src/dassie/.venv/lib/python3.9/site-packages/urllib3/connectionpool.py:1063: InsecureRequestWarning: Unverified HTTPS request is being made to host '127.0.0.1'. Adding certificate verification is strongly advised. See: https://urllib3.readthedocs.io/en/1.26.x/advanced-usage.html#ssl-warnings\n",
      "  warnings.warn(\n",
      "/Users/davidburke/src/dassie/.venv/lib/python3.9/site-packages/urllib3/connectionpool.py:1063: InsecureRequestWarning: Unverified HTTPS request is being made to host '127.0.0.1'. Adding certificate verification is strongly advised. See: https://urllib3.readthedocs.io/en/1.26.x/advanced-usage.html#ssl-warnings\n",
      "  warnings.warn(\n",
      "/Users/davidburke/src/dassie/.venv/lib/python3.9/site-packages/urllib3/connectionpool.py:1063: InsecureRequestWarning: Unverified HTTPS request is being made to host '127.0.0.1'. Adding certificate verification is strongly advised. See: https://urllib3.readthedocs.io/en/1.26.x/advanced-usage.html#ssl-warnings\n",
      "  warnings.warn(\n"
     ]
    },
    {
     "name": "stdout",
     "output_type": "stream",
     "text": [
      "{\"message\":\"Neptune query response: {'ResponseMetadata': {'HTTPStatusCode': 200, 'HTTPHeaders': {'transfer-encoding': 'chunked'}, 'RetryAttempts': 0}, 'results': []}\",\"level\":\"INFO\",\"location\":\"query:26\",\"timestamp\":\"2024-10-01 11:38:31,200+0100\",\"service\":\"dassie\"}\n",
      "{\"message\":\"Neptune query response: {'ResponseMetadata': {'HTTPStatusCode': 200, 'HTTPHeaders': {'transfer-encoding': 'chunked'}, 'RetryAttempts': 0}, 'results': []}\",\"level\":\"INFO\",\"location\":\"query:26\",\"timestamp\":\"2024-10-01 11:38:31,260+0100\",\"service\":\"dassie\"}\n",
      "{\"message\":\"Neptune query response: {'ResponseMetadata': {'HTTPStatusCode': 200, 'HTTPHeaders': {'transfer-encoding': 'chunked'}, 'RetryAttempts': 0}, 'results': []}\",\"level\":\"INFO\",\"location\":\"query:26\",\"timestamp\":\"2024-10-01 11:38:31,336+0100\",\"service\":\"dassie\"}\n",
      "{\"message\":\"Neptune query response: {'ResponseMetadata': {'HTTPStatusCode': 200, 'HTTPHeaders': {'transfer-encoding': 'chunked'}, 'RetryAttempts': 0}, 'results': []}\",\"level\":\"INFO\",\"location\":\"query:26\",\"timestamp\":\"2024-10-01 11:38:31,397+0100\",\"service\":\"dassie\"}\n"
     ]
    },
    {
     "name": "stderr",
     "output_type": "stream",
     "text": [
      "/Users/davidburke/src/dassie/.venv/lib/python3.9/site-packages/urllib3/connectionpool.py:1063: InsecureRequestWarning: Unverified HTTPS request is being made to host '127.0.0.1'. Adding certificate verification is strongly advised. See: https://urllib3.readthedocs.io/en/1.26.x/advanced-usage.html#ssl-warnings\n",
      "  warnings.warn(\n",
      "/Users/davidburke/src/dassie/.venv/lib/python3.9/site-packages/urllib3/connectionpool.py:1063: InsecureRequestWarning: Unverified HTTPS request is being made to host '127.0.0.1'. Adding certificate verification is strongly advised. See: https://urllib3.readthedocs.io/en/1.26.x/advanced-usage.html#ssl-warnings\n",
      "  warnings.warn(\n",
      "/Users/davidburke/src/dassie/.venv/lib/python3.9/site-packages/urllib3/connectionpool.py:1063: InsecureRequestWarning: Unverified HTTPS request is being made to host '127.0.0.1'. Adding certificate verification is strongly advised. See: https://urllib3.readthedocs.io/en/1.26.x/advanced-usage.html#ssl-warnings\n",
      "  warnings.warn(\n",
      "/Users/davidburke/src/dassie/.venv/lib/python3.9/site-packages/urllib3/connectionpool.py:1063: InsecureRequestWarning: Unverified HTTPS request is being made to host '127.0.0.1'. Adding certificate verification is strongly advised. See: https://urllib3.readthedocs.io/en/1.26.x/advanced-usage.html#ssl-warnings\n",
      "  warnings.warn(\n"
     ]
    },
    {
     "name": "stdout",
     "output_type": "stream",
     "text": [
      "{\"message\":\"Neptune query response: {'ResponseMetadata': {'HTTPStatusCode': 200, 'HTTPHeaders': {'transfer-encoding': 'chunked'}, 'RetryAttempts': 0}, 'results': []}\",\"level\":\"INFO\",\"location\":\"query:26\",\"timestamp\":\"2024-10-01 11:38:31,456+0100\",\"service\":\"dassie\"}\n",
      "{\"message\":\"Neptune query response: {'ResponseMetadata': {'HTTPStatusCode': 200, 'HTTPHeaders': {'transfer-encoding': 'chunked'}, 'RetryAttempts': 0}, 'results': []}\",\"level\":\"INFO\",\"location\":\"query:26\",\"timestamp\":\"2024-10-01 11:38:31,518+0100\",\"service\":\"dassie\"}\n",
      "{\"message\":\"Neptune query response: {'ResponseMetadata': {'HTTPStatusCode': 200, 'HTTPHeaders': {'transfer-encoding': 'chunked'}, 'RetryAttempts': 0}, 'results': []}\",\"level\":\"INFO\",\"location\":\"query:26\",\"timestamp\":\"2024-10-01 11:38:31,573+0100\",\"service\":\"dassie\"}\n",
      "{\"message\":\"Neptune query response: {'ResponseMetadata': {'HTTPStatusCode': 200, 'HTTPHeaders': {'transfer-encoding': 'chunked'}, 'RetryAttempts': 0}, 'results': []}\",\"level\":\"INFO\",\"location\":\"query:26\",\"timestamp\":\"2024-10-01 11:38:31,624+0100\",\"service\":\"dassie\"}\n"
     ]
    },
    {
     "name": "stderr",
     "output_type": "stream",
     "text": [
      "/Users/davidburke/src/dassie/.venv/lib/python3.9/site-packages/urllib3/connectionpool.py:1063: InsecureRequestWarning: Unverified HTTPS request is being made to host '127.0.0.1'. Adding certificate verification is strongly advised. See: https://urllib3.readthedocs.io/en/1.26.x/advanced-usage.html#ssl-warnings\n",
      "  warnings.warn(\n",
      "/Users/davidburke/src/dassie/.venv/lib/python3.9/site-packages/urllib3/connectionpool.py:1063: InsecureRequestWarning: Unverified HTTPS request is being made to host '127.0.0.1'. Adding certificate verification is strongly advised. See: https://urllib3.readthedocs.io/en/1.26.x/advanced-usage.html#ssl-warnings\n",
      "  warnings.warn(\n",
      "/Users/davidburke/src/dassie/.venv/lib/python3.9/site-packages/urllib3/connectionpool.py:1063: InsecureRequestWarning: Unverified HTTPS request is being made to host '127.0.0.1'. Adding certificate verification is strongly advised. See: https://urllib3.readthedocs.io/en/1.26.x/advanced-usage.html#ssl-warnings\n",
      "  warnings.warn(\n",
      "/Users/davidburke/src/dassie/.venv/lib/python3.9/site-packages/urllib3/connectionpool.py:1063: InsecureRequestWarning: Unverified HTTPS request is being made to host '127.0.0.1'. Adding certificate verification is strongly advised. See: https://urllib3.readthedocs.io/en/1.26.x/advanced-usage.html#ssl-warnings\n",
      "  warnings.warn(\n"
     ]
    },
    {
     "name": "stdout",
     "output_type": "stream",
     "text": [
      "{\"message\":\"Neptune query response: {'ResponseMetadata': {'HTTPStatusCode': 200, 'HTTPHeaders': {'transfer-encoding': 'chunked'}, 'RetryAttempts': 0}, 'results': []}\",\"level\":\"INFO\",\"location\":\"query:26\",\"timestamp\":\"2024-10-01 11:38:31,680+0100\",\"service\":\"dassie\"}\n",
      "{\"message\":\"Neptune query response: {'ResponseMetadata': {'HTTPStatusCode': 200, 'HTTPHeaders': {'transfer-encoding': 'chunked'}, 'RetryAttempts': 0}, 'results': []}\",\"level\":\"INFO\",\"location\":\"query:26\",\"timestamp\":\"2024-10-01 11:38:31,734+0100\",\"service\":\"dassie\"}\n",
      "[[], [], [], [], [], [], [], [], [], [], [], [], []]\n"
     ]
    },
    {
     "name": "stderr",
     "output_type": "stream",
     "text": [
      "/Users/davidburke/src/dassie/.venv/lib/python3.9/site-packages/urllib3/connectionpool.py:1063: InsecureRequestWarning: Unverified HTTPS request is being made to host '127.0.0.1'. Adding certificate verification is strongly advised. See: https://urllib3.readthedocs.io/en/1.26.x/advanced-usage.html#ssl-warnings\n",
      "  warnings.warn(\n"
     ]
    },
    {
     "name": "stdout",
     "output_type": "stream",
     "text": [
      "\n",
      "MERGE (article:Article {id: '3648fc06-0802-444a-9d99-f0abcd3682c3'})\n",
      "\n",
      "MERGE (rdflib:Software {name: 'RDFLib'})\n",
      "SET rdflib.title = 'RDFLib',\n",
      "    rdflib.description = 'RDFLib is a pure Python package for working with RDF.',\n",
      "    rdflib.releaseDate = '2023',\n",
      "    rdflib.version = '7.0.0',\n",
      "    rdflib.homepage = 'https://github.com/RDFLib/rdflib',\n",
      "    rdflib.programmingLanguage = 'Python',\n",
      "    rdflib.warning = 'RDFLib is designed to access arbitrary network and file resources, which may pose security risks when processing untrusted documents or queries.',\n",
      "    rdflib.documentation = 'https://rdflib.readthedocs.io/en/stable/',\n",
      "    rdflib.securityWarning = 'For information on available security measures, see the RDFLib Security Considerations documentation.',\n",
      "    rdflib.versioningPolicy = 'RDFLib follows Semantic Versioning 2.0.0',\n",
      "    rdflib.sourceCodeRepository = 'https://github.com/RDFLib/rdflib',\n",
      "    rdflib.email = 'rdflib-dev@googlegroups.com',\n",
      "    rdflib.chatID1 = 'gitter',\n",
      "    rdflib.chatID2 = 'matrix #RDFLib_rdflib:gitter.im'\n",
      "\n",
      "MERGE (team:Organization {name: 'RDFLib Team'})\n",
      "SET team.homepage = 'https://github.com/RDFLib',\n",
      "    team.date = '2009-2023'\n",
      "\n",
      "MERGE (doc:Document {title: 'RDFLib 7.0.0 Documentation'})\n",
      "SET doc.creator = 'RDFLib Team',\n",
      "    doc.date = '2023',\n",
      "    doc.subject = 'RDFLib',\n",
      "    doc.description = 'Documentation for RDFLib 7.0.0, including getting started guides, in-depth details, and reference materials.'\n",
      "\n",
      "MERGE (org:Organization {name: 'RDFLib Organization'})\n",
      "SET org.homepage = 'https://github.com/RDFLib',\n",
      "    org.date = '2009-2023'\n",
      "\n",
      "MERGE (rdflib)-[:DEVELOPED_BY]->(team)\n",
      "MERGE (team)-[:CREATED]->(rdflib)\n",
      "MERGE (doc)-[:CREATED_BY]->(team)\n",
      "MERGE (org)-[:CREATED]->(rdflib)\n",
      "\n",
      "MERGE (rdflib)-[:HAS_FEATURE]->(:Feature {description: 'Parsers & Serializers for RDF/XML, N3, NTriples, N-Quads, Turtle, TriX, JSON-LD, HexTuples, RDFa and Microdata'})\n",
      "MERGE (rdflib)-[:HAS_FEATURE]->(:Feature {description: 'Store implementations: memory stores, persistent on-disk stores using databases such as BerkeleyDB, remote SPARQL endpoints'})\n",
      "MERGE (rdflib)-[:HAS_FEATURE]->(:Feature {description: 'Graph interface to a single graph or to multiple Named Graphs within a dataset'})\n",
      "MERGE (rdflib)-[:HAS_FEATURE]->(:Feature {description: 'SPARQL 1.1 implementation: both Queries and Updates are supported'})\n",
      "\n",
      "MERGE (article)-[:SOURCE_OF]->(rdflib)\n",
      "MERGE (article)-[:SOURCE_OF]->(team)\n",
      "MERGE (article)-[:SOURCE_OF]->(doc)\n",
      "MERGE (article)-[:SOURCE_OF]->(org)\n",
      "\n",
      "{\"message\":\"Neptune query: \\nMERGE (article:Article {id: '3648fc06-0802-444a-9d99-f0abcd3682c3'})\\n\\nMERGE (rdflib:Software {name: 'RDFLib'})\\nSET rdflib.title = 'RDFLib',\\n    rdflib.description = 'RDFLib is a pure Python package for working with RDF.',\\n    rdflib.releaseDate = '2023',\\n    rdflib.version = '7.0.0',\\n    rdflib.homepage = 'https://github.com/RDFLib/rdflib',\\n    rdflib.programmingLanguage = 'Python',\\n    rdflib.warning = 'RDFLib is designed to access arbitrary network and file resources, which may pose security risks when processing untrusted documents or queries.',\\n    rdflib.documentation = 'https://rdflib.readthedocs.io/en/stable/',\\n    rdflib.securityWarning = 'For information on available security measures, see the RDFLib Security Considerations documentation.',\\n    rdflib.versioningPolicy = 'RDFLib follows Semantic Versioning 2.0.0',\\n    rdflib.sourceCodeRepository = 'https://github.com/RDFLib/rdflib',\\n    rdflib.email = 'rdflib-dev@googlegroups.com',\\n    rdflib.chatID1 = 'gitter',\\n    rdflib.chatID2 = 'matrix #RDFLib_rdflib:gitter.im'\\n\\nMERGE (team:Organization {name: 'RDFLib Team'})\\nSET team.homepage = 'https://github.com/RDFLib',\\n    team.date = '2009-2023'\\n\\nMERGE (doc:Document {title: 'RDFLib 7.0.0 Documentation'})\\nSET doc.creator = 'RDFLib Team',\\n    doc.date = '2023',\\n    doc.subject = 'RDFLib',\\n    doc.description = 'Documentation for RDFLib 7.0.0, including getting started guides, in-depth details, and reference materials.'\\n\\nMERGE (org:Organization {name: 'RDFLib Organization'})\\nSET org.homepage = 'https://github.com/RDFLib',\\n    org.date = '2009-2023'\\n\\nMERGE (rdflib)-[:DEVELOPED_BY]->(team)\\nMERGE (team)-[:CREATED]->(rdflib)\\nMERGE (doc)-[:CREATED_BY]->(team)\\nMERGE (org)-[:CREATED]->(rdflib)\\n\\nMERGE (rdflib)-[:HAS_FEATURE]->(:Feature {description: 'Parsers & Serializers for RDF/XML, N3, NTriples, N-Quads, Turtle, TriX, JSON-LD, HexTuples, RDFa and Microdata'})\\nMERGE (rdflib)-[:HAS_FEATURE]->(:Feature {description: 'Store implementations: memory stores, persistent on-disk stores using databases such as BerkeleyDB, remote SPARQL endpoints'})\\nMERGE (rdflib)-[:HAS_FEATURE]->(:Feature {description: 'Graph interface to a single graph or to multiple Named Graphs within a dataset'})\\nMERGE (rdflib)-[:HAS_FEATURE]->(:Feature {description: 'SPARQL 1.1 implementation: both Queries and Updates are supported'})\\n\\nMERGE (article)-[:SOURCE_OF]->(rdflib)\\nMERGE (article)-[:SOURCE_OF]->(team)\\nMERGE (article)-[:SOURCE_OF]->(doc)\\nMERGE (article)-[:SOURCE_OF]->(org)\\n\",\"level\":\"INFO\",\"location\":\"query:21\",\"timestamp\":\"2024-10-01 11:38:55,250+0100\",\"service\":\"dassie\"}\n",
      "{\"message\":\"Neptune query response: {'ResponseMetadata': {'HTTPStatusCode': 200, 'HTTPHeaders': {'transfer-encoding': 'chunked'}, 'RetryAttempts': 0}, 'results': []}\",\"level\":\"INFO\",\"location\":\"query:26\",\"timestamp\":\"2024-10-01 11:38:55,307+0100\",\"service\":\"dassie\"}\n",
      "{\"message\":\"Neptune query response: {'ResponseMetadata': {'HTTPStatusCode': 200, 'HTTPHeaders': {'transfer-encoding': 'chunked'}, 'RetryAttempts': 0}, 'results': []}\",\"level\":\"INFO\",\"location\":\"query:26\",\"timestamp\":\"2024-10-01 11:38:55,408+0100\",\"service\":\"dassie\"}\n"
     ]
    },
    {
     "name": "stderr",
     "output_type": "stream",
     "text": [
      "/Users/davidburke/src/dassie/.venv/lib/python3.9/site-packages/urllib3/connectionpool.py:1063: InsecureRequestWarning: Unverified HTTPS request is being made to host '127.0.0.1'. Adding certificate verification is strongly advised. See: https://urllib3.readthedocs.io/en/1.26.x/advanced-usage.html#ssl-warnings\n",
      "  warnings.warn(\n",
      "/Users/davidburke/src/dassie/.venv/lib/python3.9/site-packages/urllib3/connectionpool.py:1063: InsecureRequestWarning: Unverified HTTPS request is being made to host '127.0.0.1'. Adding certificate verification is strongly advised. See: https://urllib3.readthedocs.io/en/1.26.x/advanced-usage.html#ssl-warnings\n",
      "  warnings.warn(\n",
      "/Users/davidburke/src/dassie/.venv/lib/python3.9/site-packages/urllib3/connectionpool.py:1063: InsecureRequestWarning: Unverified HTTPS request is being made to host '127.0.0.1'. Adding certificate verification is strongly advised. See: https://urllib3.readthedocs.io/en/1.26.x/advanced-usage.html#ssl-warnings\n",
      "  warnings.warn(\n"
     ]
    },
    {
     "name": "stdout",
     "output_type": "stream",
     "text": [
      "{\"message\":\"Neptune query response: {'ResponseMetadata': {'HTTPStatusCode': 200, 'HTTPHeaders': {'transfer-encoding': 'chunked'}, 'RetryAttempts': 0}, 'results': []}\",\"level\":\"INFO\",\"location\":\"query:26\",\"timestamp\":\"2024-10-01 11:38:55,467+0100\",\"service\":\"dassie\"}\n",
      "{\"message\":\"Neptune query response: {'ResponseMetadata': {'HTTPStatusCode': 200, 'HTTPHeaders': {'transfer-encoding': 'chunked'}, 'RetryAttempts': 0}, 'results': []}\",\"level\":\"INFO\",\"location\":\"query:26\",\"timestamp\":\"2024-10-01 11:38:55,529+0100\",\"service\":\"dassie\"}\n",
      "{\"message\":\"Neptune query response: {'ResponseMetadata': {'HTTPStatusCode': 200, 'HTTPHeaders': {'transfer-encoding': 'chunked'}, 'RetryAttempts': 0}, 'results': []}\",\"level\":\"INFO\",\"location\":\"query:26\",\"timestamp\":\"2024-10-01 11:38:55,581+0100\",\"service\":\"dassie\"}\n"
     ]
    },
    {
     "name": "stderr",
     "output_type": "stream",
     "text": [
      "/Users/davidburke/src/dassie/.venv/lib/python3.9/site-packages/urllib3/connectionpool.py:1063: InsecureRequestWarning: Unverified HTTPS request is being made to host '127.0.0.1'. Adding certificate verification is strongly advised. See: https://urllib3.readthedocs.io/en/1.26.x/advanced-usage.html#ssl-warnings\n",
      "  warnings.warn(\n",
      "/Users/davidburke/src/dassie/.venv/lib/python3.9/site-packages/urllib3/connectionpool.py:1063: InsecureRequestWarning: Unverified HTTPS request is being made to host '127.0.0.1'. Adding certificate verification is strongly advised. See: https://urllib3.readthedocs.io/en/1.26.x/advanced-usage.html#ssl-warnings\n",
      "  warnings.warn(\n",
      "/Users/davidburke/src/dassie/.venv/lib/python3.9/site-packages/urllib3/connectionpool.py:1063: InsecureRequestWarning: Unverified HTTPS request is being made to host '127.0.0.1'. Adding certificate verification is strongly advised. See: https://urllib3.readthedocs.io/en/1.26.x/advanced-usage.html#ssl-warnings\n",
      "  warnings.warn(\n"
     ]
    },
    {
     "name": "stdout",
     "output_type": "stream",
     "text": [
      "{\"message\":\"Neptune query response: {'ResponseMetadata': {'HTTPStatusCode': 200, 'HTTPHeaders': {'transfer-encoding': 'chunked'}, 'RetryAttempts': 0}, 'results': []}\",\"level\":\"INFO\",\"location\":\"query:26\",\"timestamp\":\"2024-10-01 11:38:55,688+0100\",\"service\":\"dassie\"}\n",
      "{\"message\":\"Neptune query response: {'ResponseMetadata': {'HTTPStatusCode': 200, 'HTTPHeaders': {'transfer-encoding': 'chunked'}, 'RetryAttempts': 0}, 'results': []}\",\"level\":\"INFO\",\"location\":\"query:26\",\"timestamp\":\"2024-10-01 11:38:55,778+0100\",\"service\":\"dassie\"}\n"
     ]
    },
    {
     "name": "stderr",
     "output_type": "stream",
     "text": [
      "/Users/davidburke/src/dassie/.venv/lib/python3.9/site-packages/urllib3/connectionpool.py:1063: InsecureRequestWarning: Unverified HTTPS request is being made to host '127.0.0.1'. Adding certificate verification is strongly advised. See: https://urllib3.readthedocs.io/en/1.26.x/advanced-usage.html#ssl-warnings\n",
      "  warnings.warn(\n",
      "/Users/davidburke/src/dassie/.venv/lib/python3.9/site-packages/urllib3/connectionpool.py:1063: InsecureRequestWarning: Unverified HTTPS request is being made to host '127.0.0.1'. Adding certificate verification is strongly advised. See: https://urllib3.readthedocs.io/en/1.26.x/advanced-usage.html#ssl-warnings\n",
      "  warnings.warn(\n",
      "/Users/davidburke/src/dassie/.venv/lib/python3.9/site-packages/urllib3/connectionpool.py:1063: InsecureRequestWarning: Unverified HTTPS request is being made to host '127.0.0.1'. Adding certificate verification is strongly advised. See: https://urllib3.readthedocs.io/en/1.26.x/advanced-usage.html#ssl-warnings\n",
      "  warnings.warn(\n",
      "/Users/davidburke/src/dassie/.venv/lib/python3.9/site-packages/urllib3/connectionpool.py:1063: InsecureRequestWarning: Unverified HTTPS request is being made to host '127.0.0.1'. Adding certificate verification is strongly advised. See: https://urllib3.readthedocs.io/en/1.26.x/advanced-usage.html#ssl-warnings\n",
      "  warnings.warn(\n",
      "/Users/davidburke/src/dassie/.venv/lib/python3.9/site-packages/urllib3/connectionpool.py:1063: InsecureRequestWarning: Unverified HTTPS request is being made to host '127.0.0.1'. Adding certificate verification is strongly advised. See: https://urllib3.readthedocs.io/en/1.26.x/advanced-usage.html#ssl-warnings\n",
      "  warnings.warn(\n",
      "/Users/davidburke/src/dassie/.venv/lib/python3.9/site-packages/urllib3/connectionpool.py:1063: InsecureRequestWarning: Unverified HTTPS request is being made to host '127.0.0.1'. Adding certificate verification is strongly advised. See: https://urllib3.readthedocs.io/en/1.26.x/advanced-usage.html#ssl-warnings\n",
      "  warnings.warn(\n"
     ]
    },
    {
     "name": "stdout",
     "output_type": "stream",
     "text": [
      "{\"message\":\"Error querying Neptune: An error occurred (MemoryLimitExceededException) when calling the ExecuteOpenCypherQuery operation (reached max retries: 4): Operation terminated (out of memory)\",\"level\":\"ERROR\",\"location\":\"query:34\",\"timestamp\":\"2024-10-01 11:42:06,848+0100\",\"service\":\"dassie\"}\n",
      "An error occurred (MemoryLimitExceededException) when calling the ExecuteOpenCypherQuery operation (reached max retries: 4): Operation terminated (out of memory)\n",
      "---\n",
      "\n",
      "\n",
      "\n",
      "05107e63-5c4c-4c42-bb2b-bf7cc30406cc\n",
      "d3448ac7-2d8c-47c6-9fb3-e8f68025eb12\n",
      "'NoneType' object has no attribute 'startswith'\n",
      "---\n",
      "\n",
      "\n",
      "\n",
      "7c0485b3-5e30-4e51-8cd7-31dbc0087ded\n",
      "95c52f29-a75c-4c18-8c9a-fc3a65492c21\n",
      "'NoneType' object has no attribute 'startswith'\n",
      "---\n",
      "\n",
      "\n",
      "\n",
      "14511b98-ef96-444e-a154-ae659e46828f\n",
      "4beb6230-43ae-414c-ab84-1f48742b4bc3\n",
      "'NoneType' object has no attribute 'startswith'\n",
      "---\n",
      "\n",
      "\n",
      "\n",
      "cbf6fc65-18ad-4d5b-a7be-fb38eecd4979\n",
      "569de5b5-8e01-4d40-81c0-87b5a57e033f\n",
      "{\"message\":\"Neptune query: \\nMERGE (a:Article {id: '0f19b8a7-28a9-4711-b66b-e6d3ef43db38'})\\n\\nMERGE (v:Company {name: 'ValitaCell'})\\nON CREATE SET v.industry = 'Biotechnology', v.location = 'Dublin', v.foundingYear = 2014, v.product = 'analytical technologies and products for the biopharmaceutical industry'\\nMERGE (a)-[:MENTIONS]->(v)\\n\\nMERGE (b:Company {name: 'Beckman Coulter'})\\nON CREATE SET b.industry = 'Life sciences', b.location = 'Brea, California'\\nMERGE (a)-[:MENTIONS]->(b)\\nMERGE (b)-[:HAS_SUBSIDIARY]->(v)\\n\\nMERGE (j:Person {name: 'Jerry Clifford'})\\nON CREATE SET j.occupation = 'Businessperson', j.knownFor = 'ValitaCell', j.almaMater = 'University College Cork'\\nMERGE (a)-[:MENTIONS]->(j)\\nMERGE (v)-[:FOUNDED_BY]->(j)\\nMERGE (v)-[:CEO]->(j)\\n\\nMERGE (d:City {name: 'Dublin'})\\nON CREATE SET d.country = 'Ireland'\\nMERGE (a)-[:MENTIONS]->(d)\\n\\nMERGE (p:Product {name: 'Valita Titer'})\\nON CREATE SET p.manufacturer = 'ValitaCell', p.productType = 'IgG Quantification Assays', p.description = 'plate-based, 96- and 384-well assays that offer a rapid, cost-effective way to measure IgG'\\nMERGE (a)-[:MENTIONS]->(p)\\n\\nMERGE (u:University {name: 'University College Cork'})\\nON CREATE SET u.location = 'Cork (city)', u.country = 'Ireland'\\nMERGE (a)-[:MENTIONS]->(u)\\n\",\"level\":\"INFO\",\"location\":\"query:21\",\"timestamp\":\"2024-10-01 11:42:08,132+0100\",\"service\":\"dassie\"}\n",
      "{\"message\":\"Neptune query response: {'ResponseMetadata': {'HTTPStatusCode': 200, 'HTTPHeaders': {'transfer-encoding': 'chunked'}, 'RetryAttempts': 0}, 'results': []}\",\"level\":\"INFO\",\"location\":\"query:26\",\"timestamp\":\"2024-10-01 11:42:08,182+0100\",\"service\":\"dassie\"}\n",
      "{\"message\":\"Neptune query response: {'ResponseMetadata': {'HTTPStatusCode': 200, 'HTTPHeaders': {'transfer-encoding': 'chunked'}, 'RetryAttempts': 0}, 'results': []}\",\"level\":\"INFO\",\"location\":\"query:26\",\"timestamp\":\"2024-10-01 11:42:08,245+0100\",\"service\":\"dassie\"}\n",
      "{\"message\":\"Neptune query response: {'ResponseMetadata': {'HTTPStatusCode': 200, 'HTTPHeaders': {'transfer-encoding': 'chunked'}, 'RetryAttempts': 0}, 'results': []}\",\"level\":\"INFO\",\"location\":\"query:26\",\"timestamp\":\"2024-10-01 11:42:08,311+0100\",\"service\":\"dassie\"}\n"
     ]
    },
    {
     "name": "stderr",
     "output_type": "stream",
     "text": [
      "/Users/davidburke/src/dassie/.venv/lib/python3.9/site-packages/urllib3/connectionpool.py:1063: InsecureRequestWarning: Unverified HTTPS request is being made to host '127.0.0.1'. Adding certificate verification is strongly advised. See: https://urllib3.readthedocs.io/en/1.26.x/advanced-usage.html#ssl-warnings\n",
      "  warnings.warn(\n",
      "/Users/davidburke/src/dassie/.venv/lib/python3.9/site-packages/urllib3/connectionpool.py:1063: InsecureRequestWarning: Unverified HTTPS request is being made to host '127.0.0.1'. Adding certificate verification is strongly advised. See: https://urllib3.readthedocs.io/en/1.26.x/advanced-usage.html#ssl-warnings\n",
      "  warnings.warn(\n",
      "/Users/davidburke/src/dassie/.venv/lib/python3.9/site-packages/urllib3/connectionpool.py:1063: InsecureRequestWarning: Unverified HTTPS request is being made to host '127.0.0.1'. Adding certificate verification is strongly advised. See: https://urllib3.readthedocs.io/en/1.26.x/advanced-usage.html#ssl-warnings\n",
      "  warnings.warn(\n",
      "/Users/davidburke/src/dassie/.venv/lib/python3.9/site-packages/urllib3/connectionpool.py:1063: InsecureRequestWarning: Unverified HTTPS request is being made to host '127.0.0.1'. Adding certificate verification is strongly advised. See: https://urllib3.readthedocs.io/en/1.26.x/advanced-usage.html#ssl-warnings\n",
      "  warnings.warn(\n"
     ]
    },
    {
     "name": "stdout",
     "output_type": "stream",
     "text": [
      "{\"message\":\"Neptune query response: {'ResponseMetadata': {'HTTPStatusCode': 200, 'HTTPHeaders': {'transfer-encoding': 'chunked'}, 'RetryAttempts': 0}, 'results': []}\",\"level\":\"INFO\",\"location\":\"query:26\",\"timestamp\":\"2024-10-01 11:42:08,396+0100\",\"service\":\"dassie\"}\n",
      "{\"message\":\"Neptune query response: {'ResponseMetadata': {'HTTPStatusCode': 200, 'HTTPHeaders': {'transfer-encoding': 'chunked'}, 'RetryAttempts': 0}, 'results': []}\",\"level\":\"INFO\",\"location\":\"query:26\",\"timestamp\":\"2024-10-01 11:42:08,450+0100\",\"service\":\"dassie\"}\n",
      "{\"message\":\"Neptune query response: {'ResponseMetadata': {'HTTPStatusCode': 200, 'HTTPHeaders': {'transfer-encoding': 'chunked'}, 'RetryAttempts': 0}, 'results': []}\",\"level\":\"INFO\",\"location\":\"query:26\",\"timestamp\":\"2024-10-01 11:42:08,513+0100\",\"service\":\"dassie\"}\n",
      "{\"message\":\"Neptune query response: {'ResponseMetadata': {'HTTPStatusCode': 200, 'HTTPHeaders': {'transfer-encoding': 'chunked'}, 'RetryAttempts': 0}, 'results': []}\",\"level\":\"INFO\",\"location\":\"query:26\",\"timestamp\":\"2024-10-01 11:42:08,574+0100\",\"service\":\"dassie\"}\n",
      "[[], [], [], [], [], [], []]\n"
     ]
    },
    {
     "name": "stderr",
     "output_type": "stream",
     "text": [
      "/Users/davidburke/src/dassie/.venv/lib/python3.9/site-packages/urllib3/connectionpool.py:1063: InsecureRequestWarning: Unverified HTTPS request is being made to host '127.0.0.1'. Adding certificate verification is strongly advised. See: https://urllib3.readthedocs.io/en/1.26.x/advanced-usage.html#ssl-warnings\n",
      "  warnings.warn(\n",
      "/Users/davidburke/src/dassie/.venv/lib/python3.9/site-packages/urllib3/connectionpool.py:1063: InsecureRequestWarning: Unverified HTTPS request is being made to host '127.0.0.1'. Adding certificate verification is strongly advised. See: https://urllib3.readthedocs.io/en/1.26.x/advanced-usage.html#ssl-warnings\n",
      "  warnings.warn(\n",
      "/Users/davidburke/src/dassie/.venv/lib/python3.9/site-packages/urllib3/connectionpool.py:1063: InsecureRequestWarning: Unverified HTTPS request is being made to host '127.0.0.1'. Adding certificate verification is strongly advised. See: https://urllib3.readthedocs.io/en/1.26.x/advanced-usage.html#ssl-warnings\n",
      "  warnings.warn(\n"
     ]
    },
    {
     "name": "stdout",
     "output_type": "stream",
     "text": [
      "\n",
      "MERGE (article:Article {id: '0f19b8a7-28a9-4711-b66b-e6d3ef43db38'})\n",
      "\n",
      "MERGE (valitaCell:Company {name: 'ValitaCell'})\n",
      "ON CREATE SET valitaCell.industry = 'Biotechnology', valitaCell.location = 'Dublin', valitaCell.foundingYear = 2014, valitaCell.product = 'analytical technologies and products for the biopharmaceutical industry'\n",
      "MERGE (valitaCell)-[:MENTIONED_IN]->(article)\n",
      "\n",
      "MERGE (jerryClifford:Person {name: 'Jerry Clifford'})\n",
      "ON CREATE SET jerryClifford.occupation = 'Co-founder and CEO of ValitaCell', jerryClifford.almaMater = 'University College Cork'\n",
      "MERGE (jerryClifford)-[:FOUNDED]->(valitaCell)\n",
      "MERGE (jerryClifford)-[:MENTIONED_IN]->(article)\n",
      "\n",
      "MERGE (valitaCell)-[:HAS_CEO]->(jerryClifford)\n",
      "\n",
      "MERGE (beckmanCoulter:Company {name: 'Beckman Coulter'})\n",
      "ON CREATE SET beckmanCoulter.industry = 'Life sciences', beckmanCoulter.location = 'Brea, California', beckmanCoulter.acquisitionDate = date('2022-09-13')\n",
      "MERGE (beckmanCoulter)-[:ACQUIRED]->(valitaCell)\n",
      "MERGE (beckmanCoulter)-[:MENTIONED_IN]->(article)\n",
      "\n",
      "MERGE (dublin:City {name: 'Dublin'})\n",
      "MERGE (dublin)-[:LOCATED_IN]->(ireland:Country {name: 'Ireland'})\n",
      "MERGE (ireland)-[:HAS_CAPITAL]->(dublin)\n",
      "MERGE (dublin)-[:MENTIONED_IN]->(article)\n",
      "MERGE (ireland)-[:MENTIONED_IN]->(article)\n",
      "\n",
      "{\"message\":\"Neptune query: \\nMERGE (article:Article {id: '0f19b8a7-28a9-4711-b66b-e6d3ef43db38'})\\n\\nMERGE (valitaCell:Company {name: 'ValitaCell'})\\nON CREATE SET valitaCell.industry = 'Biotechnology', valitaCell.location = 'Dublin', valitaCell.foundingYear = 2014, valitaCell.product = 'analytical technologies and products for the biopharmaceutical industry'\\nMERGE (valitaCell)-[:MENTIONED_IN]->(article)\\n\\nMERGE (jerryClifford:Person {name: 'Jerry Clifford'})\\nON CREATE SET jerryClifford.occupation = 'Co-founder and CEO of ValitaCell', jerryClifford.almaMater = 'University College Cork'\\nMERGE (jerryClifford)-[:FOUNDED]->(valitaCell)\\nMERGE (jerryClifford)-[:MENTIONED_IN]->(article)\\n\\nMERGE (valitaCell)-[:HAS_CEO]->(jerryClifford)\\n\\nMERGE (beckmanCoulter:Company {name: 'Beckman Coulter'})\\nON CREATE SET beckmanCoulter.industry = 'Life sciences', beckmanCoulter.location = 'Brea, California', beckmanCoulter.acquisitionDate = '2022-09-13'\\nMERGE (beckmanCoulter)-[:ACQUIRED]->(valitaCell)\\nMERGE (beckmanCoulter)-[:MENTIONED_IN]->(article)\\n\\nMERGE (dublin:City {name: 'Dublin'})\\nMERGE (dublin)-[:LOCATED_IN]->(ireland:Country {name: 'Ireland'})\\nMERGE (ireland)-[:HAS_CAPITAL]->(dublin)\\nMERGE (dublin)-[:MENTIONED_IN]->(article)\\nMERGE (ireland)-[:MENTIONED_IN]->(article)\\n\",\"level\":\"INFO\",\"location\":\"query:21\",\"timestamp\":\"2024-10-01 11:42:19,657+0100\",\"service\":\"dassie\"}\n",
      "{\"message\":\"Neptune query response: {'ResponseMetadata': {'HTTPStatusCode': 200, 'HTTPHeaders': {'transfer-encoding': 'chunked'}, 'RetryAttempts': 0}, 'results': []}\",\"level\":\"INFO\",\"location\":\"query:26\",\"timestamp\":\"2024-10-01 11:42:19,726+0100\",\"service\":\"dassie\"}\n",
      "{\"message\":\"Neptune query response: {'ResponseMetadata': {'HTTPStatusCode': 200, 'HTTPHeaders': {'transfer-encoding': 'chunked'}, 'RetryAttempts': 0}, 'results': []}\",\"level\":\"INFO\",\"location\":\"query:26\",\"timestamp\":\"2024-10-01 11:42:19,798+0100\",\"service\":\"dassie\"}\n"
     ]
    },
    {
     "name": "stderr",
     "output_type": "stream",
     "text": [
      "/Users/davidburke/src/dassie/.venv/lib/python3.9/site-packages/urllib3/connectionpool.py:1063: InsecureRequestWarning: Unverified HTTPS request is being made to host '127.0.0.1'. Adding certificate verification is strongly advised. See: https://urllib3.readthedocs.io/en/1.26.x/advanced-usage.html#ssl-warnings\n",
      "  warnings.warn(\n",
      "/Users/davidburke/src/dassie/.venv/lib/python3.9/site-packages/urllib3/connectionpool.py:1063: InsecureRequestWarning: Unverified HTTPS request is being made to host '127.0.0.1'. Adding certificate verification is strongly advised. See: https://urllib3.readthedocs.io/en/1.26.x/advanced-usage.html#ssl-warnings\n",
      "  warnings.warn(\n",
      "/Users/davidburke/src/dassie/.venv/lib/python3.9/site-packages/urllib3/connectionpool.py:1063: InsecureRequestWarning: Unverified HTTPS request is being made to host '127.0.0.1'. Adding certificate verification is strongly advised. See: https://urllib3.readthedocs.io/en/1.26.x/advanced-usage.html#ssl-warnings\n",
      "  warnings.warn(\n"
     ]
    },
    {
     "name": "stdout",
     "output_type": "stream",
     "text": [
      "{\"message\":\"Neptune query response: {'ResponseMetadata': {'HTTPStatusCode': 200, 'HTTPHeaders': {'transfer-encoding': 'chunked'}, 'RetryAttempts': 0}, 'results': []}\",\"level\":\"INFO\",\"location\":\"query:26\",\"timestamp\":\"2024-10-01 11:42:19,875+0100\",\"service\":\"dassie\"}\n",
      "{\"message\":\"Neptune query response: {'ResponseMetadata': {'HTTPStatusCode': 200, 'HTTPHeaders': {'transfer-encoding': 'chunked'}, 'RetryAttempts': 0}, 'results': []}\",\"level\":\"INFO\",\"location\":\"query:26\",\"timestamp\":\"2024-10-01 11:42:19,928+0100\",\"service\":\"dassie\"}\n",
      "{\"message\":\"Neptune query response: {'ResponseMetadata': {'HTTPStatusCode': 200, 'HTTPHeaders': {'transfer-encoding': 'chunked'}, 'RetryAttempts': 0}, 'results': []}\",\"level\":\"INFO\",\"location\":\"query:26\",\"timestamp\":\"2024-10-01 11:42:20,040+0100\",\"service\":\"dassie\"}\n"
     ]
    },
    {
     "name": "stderr",
     "output_type": "stream",
     "text": [
      "/Users/davidburke/src/dassie/.venv/lib/python3.9/site-packages/urllib3/connectionpool.py:1063: InsecureRequestWarning: Unverified HTTPS request is being made to host '127.0.0.1'. Adding certificate verification is strongly advised. See: https://urllib3.readthedocs.io/en/1.26.x/advanced-usage.html#ssl-warnings\n",
      "  warnings.warn(\n",
      "/Users/davidburke/src/dassie/.venv/lib/python3.9/site-packages/urllib3/connectionpool.py:1063: InsecureRequestWarning: Unverified HTTPS request is being made to host '127.0.0.1'. Adding certificate verification is strongly advised. See: https://urllib3.readthedocs.io/en/1.26.x/advanced-usage.html#ssl-warnings\n",
      "  warnings.warn(\n",
      "/Users/davidburke/src/dassie/.venv/lib/python3.9/site-packages/urllib3/connectionpool.py:1063: InsecureRequestWarning: Unverified HTTPS request is being made to host '127.0.0.1'. Adding certificate verification is strongly advised. See: https://urllib3.readthedocs.io/en/1.26.x/advanced-usage.html#ssl-warnings\n",
      "  warnings.warn(\n"
     ]
    },
    {
     "name": "stdout",
     "output_type": "stream",
     "text": [
      "{\"message\":\"Neptune query response: {'ResponseMetadata': {'HTTPStatusCode': 200, 'HTTPHeaders': {'transfer-encoding': 'chunked'}, 'RetryAttempts': 0}, 'results': []}\",\"level\":\"INFO\",\"location\":\"query:26\",\"timestamp\":\"2024-10-01 11:42:20,149+0100\",\"service\":\"dassie\"}\n",
      "[[], [], [], [], [], []]\n",
      "---\n",
      "\n",
      "\n",
      "\n",
      "cf5cc2a7-0f66-40e0-8bb2-62c14b284ed0\n",
      "5474196e-1a15-4f8d-a787-b77402730c88\n",
      "{\"message\":\"Neptune query: \\nMERGE (a:Article {id: 'a670cc87-bc07-4ac6-b943-658e7063a087})\\n\\nMERGE (p1:Place {name: 'Bray, County Wicklow'})\\nON CREATE SET p1.country = 'Ireland', p1.latitude = '53.2009', p1.longitude = '-6.1111'\\nMERGE (a)-[:MENTIONS]->(p1)\\n\\nMERGE (r1:Restaurant {name: 'Platform Pizza Bar Bray'})\\nON CREATE SET r1.location = 'Bray, County Wicklow', r1.cuisine = 'Pizza', r1.servesCuisine = 'Cocktails', r1.website = 'https://www.platformpizzabar.ie', r1.openingHours = 'Monday - Thursday: 4pm - 9pm', r1.rating = '4.5', r1.priceRange = '€20–30', r1.reviewCount = '2.6K'\\nMERGE (a)-[:MENTIONS]->(r1)\\n\\nMERGE (p2:Place {name: 'Dublin'})\\nON CREATE SET p2.country = 'Ireland', p2.latitude = '53.3498', p2.longitude = '-6.2603'\\nMERGE (a)-[:MENTIONS]->(p2)\\n\\nMERGE (r2:Restaurant {name: 'Platform 61'})\\nON CREATE SET r2.location = 'Dublin', r2.cuisine = 'Modern European', r2.website = 'http://www.platform61.ie', r2.openingHours = 'Opens 12 p.m. Wed', r2.rating = '4.5', r2.reviewCount = '835'\\nMERGE (a)-[:MENTIONS]->(r2)\\n\\nMERGE (c:Company {name: 'Doddl - Digital Mortgage Platform'})\\nON CREATE SET c.location = 'Dublin', c.industry = 'Mortgage broker', c.website = 'http://www.doddl.ie', c.openingHours = 'Open ⋅ Closes 5:30 p.m.', c.rating = '4.8', c.reviewCount = '303'\\nMERGE (a)-[:MENTIONS]->(c)\\n\\nMERGE (f:Film {name: 'The Platform'})\\nON CREATE SET f.director = 'Galder Gaztelu-Urrutia', f.releaseYear = '2019', f.genre = 'Dystopian thriller', f.country = 'Spain', f.rating = '7/10', f.reviewCount = '283,743'\\nMERGE (a)-[:MENTIONS]->(f)\\n\\nMERGE (d:Person {name: 'Galder Gaztelu-Urrutia'})\\nON CREATE SET d.occupation = 'Film director', d.nationality = 'Spain'\\nMERGE (a)-[:MENTIONS]->(d)\\n\",\"level\":\"INFO\",\"location\":\"query:21\",\"timestamp\":\"2024-10-01 11:42:20,666+0100\",\"service\":\"dassie\"}\n",
      "{\"message\":\"Error querying Neptune: An error occurred (MalformedQueryException) when calling the ExecuteOpenCypherQuery operation: Unexpected end of input: expected '\\\\', ANY or ''' (line 2, column 62 (offset: 62))\",\"level\":\"ERROR\",\"location\":\"query:34\",\"timestamp\":\"2024-10-01 11:42:20,708+0100\",\"service\":\"dassie\"}\n",
      "An error occurred (MalformedQueryException) when calling the ExecuteOpenCypherQuery operation: Unexpected end of input: expected '\\', ANY or ''' (line 2, column 62 (offset: 62))\n",
      "---\n",
      "\n",
      "\n",
      "\n"
     ]
    },
    {
     "name": "stderr",
     "output_type": "stream",
     "text": [
      "/Users/davidburke/src/dassie/.venv/lib/python3.9/site-packages/urllib3/connectionpool.py:1063: InsecureRequestWarning: Unverified HTTPS request is being made to host '127.0.0.1'. Adding certificate verification is strongly advised. See: https://urllib3.readthedocs.io/en/1.26.x/advanced-usage.html#ssl-warnings\n",
      "  warnings.warn(\n"
     ]
    },
    {
     "name": "stdout",
     "output_type": "stream",
     "text": [
      "7a99b41c-a522-427c-824f-d9c79fb0b849\n",
      "1da63e65-3fe4-4318-81e9-4783b056d39f\n",
      "{\"message\":\"Neptune query: \\nMERGE (a:Article {id: 'a6b093b1-bbe2-498b-bc56-0204a9dfab25'})\\n\\nMERGE (neptune:Software {name: 'Amazon Neptune'})\\nMERGE (aws:Company {name: 'Amazon Web Services'})\\nMERGE (opencypher:QueryLanguage {name: 'OpenCypher'})\\nMERGE (sparql:QueryLanguage {name: 'SPARQL'})\\nMERGE (gremlin:QueryLanguage {name: 'Gremlin'})\\n\\nMERGE (doc1:Document {url: 'https://docs.aws.amazon.com/neptune/latest/userguide'})\\nMERGE (doc2:WebPage {url: 'https://repost.aws/questions/neptune-not-supporting-duration', date: '2022-07-04'})\\nMERGE (doc3:WebPage {url: 'https://stackoverflow.com/questions/how-do-you-upload-opencypher-formatted-data-to'})\\nMERGE (doc4:Document {url: 'https://github.com/aws-samples/blob/master/Cheatsheet.md'})\\nMERGE (doc5:WebPage {url: 'https://stackoverflow.com/questions/does-aws-neptune-support-multiple-opencypher'})\\nMERGE (doc6:WebPage {url: 'https://www.amazonaws.cn/new/amazon-neptune-supports-opencypher'})\\nMERGE (doc7:WebPage {url: 'https://repost.aws/questions/neptune-takes-forever-to-create-5000-nodes-with-opencypher', date: '2023-11-10'})\\nMERGE (doc8:WebPage {url: 'https://careers.klika-tech.com/blog/comparing-query-languages-for-aws-neptune', date: '2023-12-01'})\\nMERGE (doc9:Document {url: 'https://boto3.amazonaws.com/api/neptunedata/client'})\\n\\nMERGE (neptune)-[:DEVELOPER]->(aws)\\nMERGE (neptune)-[:SUPPORTS]->(opencypher)\\nMERGE (neptune)-[:QUERY_LANGUAGE]->(sparql)\\nMERGE (neptune)-[:QUERY_LANGUAGE]->(gremlin)\\nMERGE (neptune)-[:QUERY_LANGUAGE]->(opencypher)\\nMERGE (neptune)-[:DOCUMENTATION]->(doc1)\\nMERGE (opencypher)-[:USED_BY]->(neptune)\\nMERGE (opencypher)-[:DOCUMENTATION]->(doc1)\\nMERGE (opencypher)-[:EXAMPLE]->(doc4)\\nMERGE (doc1)-[:ABOUT]->(neptune)\\nMERGE (doc1)-[:ABOUT]->(opencypher)\\nMERGE (doc2)-[:ABOUT]->(neptune)\\nMERGE (doc2)-[:ABOUT]->(opencypher)\\nMERGE (doc3)-[:ABOUT]->(neptune)\\nMERGE (doc3)-[:ABOUT]->(opencypher)\\nMERGE (doc4)-[:ABOUT]->(opencypher)\\nMERGE (doc5)-[:ABOUT]->(neptune)\\nMERGE (doc5)-[:ABOUT]->(opencypher)\\nMERGE (doc6)-[:ABOUT]->(neptune)\\nMERGE (doc6)-[:ABOUT]->(opencypher)\\nMERGE (doc7)-[:ABOUT]->(neptune)\\nMERGE (doc7)-[:ABOUT]->(opencypher)\\nMERGE (doc8)-[:ABOUT]->(neptune)\\nMERGE (doc8)-[:ABOUT]->(sparql)\\nMERGE (doc8)-[:ABOUT]->(gremlin)\\nMERGE (doc8)-[:ABOUT]->(opencypher)\\nMERGE (doc9)-[:ABOUT]->(neptune)\\nMERGE (doc9)-[:ABOUT]->(opencypher)\\n\\nMERGE (a)-[:SOURCE]->(neptune)\\nMERGE (a)-[:SOURCE]->(aws)\\nMERGE (a)-[:SOURCE]->(opencypher)\\nMERGE (a)-[:SOURCE]->(sparql)\\nMERGE (a)-[:SOURCE]->(gremlin)\\nMERGE (a)-[:SOURCE]->(doc1)\\nMERGE (a)-[:SOURCE]->(doc2)\\nMERGE (a)-[:SOURCE]->(doc3)\\nMERGE (a)-[:SOURCE]->(doc4)\\nMERGE (a)-[:SOURCE]->(doc5)\\nMERGE (a)-[:SOURCE]->(doc6)\\nMERGE (a)-[:SOURCE]->(doc7)\\nMERGE (a)-[:SOURCE]->(doc8)\\nMERGE (a)-[:SOURCE]->(doc9)\\n\",\"level\":\"INFO\",\"location\":\"query:21\",\"timestamp\":\"2024-10-01 11:42:21,167+0100\",\"service\":\"dassie\"}\n",
      "{\"message\":\"Neptune query response: {'ResponseMetadata': {'HTTPStatusCode': 200, 'HTTPHeaders': {'transfer-encoding': 'chunked'}, 'RetryAttempts': 0}, 'results': []}\",\"level\":\"INFO\",\"location\":\"query:26\",\"timestamp\":\"2024-10-01 11:42:21,208+0100\",\"service\":\"dassie\"}\n",
      "{\"message\":\"Neptune query response: {'ResponseMetadata': {'HTTPStatusCode': 200, 'HTTPHeaders': {'transfer-encoding': 'chunked'}, 'RetryAttempts': 0}, 'results': []}\",\"level\":\"INFO\",\"location\":\"query:26\",\"timestamp\":\"2024-10-01 11:42:21,291+0100\",\"service\":\"dassie\"}\n"
     ]
    },
    {
     "name": "stderr",
     "output_type": "stream",
     "text": [
      "/Users/davidburke/src/dassie/.venv/lib/python3.9/site-packages/urllib3/connectionpool.py:1063: InsecureRequestWarning: Unverified HTTPS request is being made to host '127.0.0.1'. Adding certificate verification is strongly advised. See: https://urllib3.readthedocs.io/en/1.26.x/advanced-usage.html#ssl-warnings\n",
      "  warnings.warn(\n",
      "/Users/davidburke/src/dassie/.venv/lib/python3.9/site-packages/urllib3/connectionpool.py:1063: InsecureRequestWarning: Unverified HTTPS request is being made to host '127.0.0.1'. Adding certificate verification is strongly advised. See: https://urllib3.readthedocs.io/en/1.26.x/advanced-usage.html#ssl-warnings\n",
      "  warnings.warn(\n",
      "/Users/davidburke/src/dassie/.venv/lib/python3.9/site-packages/urllib3/connectionpool.py:1063: InsecureRequestWarning: Unverified HTTPS request is being made to host '127.0.0.1'. Adding certificate verification is strongly advised. See: https://urllib3.readthedocs.io/en/1.26.x/advanced-usage.html#ssl-warnings\n",
      "  warnings.warn(\n"
     ]
    },
    {
     "name": "stdout",
     "output_type": "stream",
     "text": [
      "{\"message\":\"Neptune query response: {'ResponseMetadata': {'HTTPStatusCode': 200, 'HTTPHeaders': {'transfer-encoding': 'chunked'}, 'RetryAttempts': 0}, 'results': []}\",\"level\":\"INFO\",\"location\":\"query:26\",\"timestamp\":\"2024-10-01 11:42:21,427+0100\",\"service\":\"dassie\"}\n"
     ]
    },
    {
     "name": "stderr",
     "output_type": "stream",
     "text": [
      "/Users/davidburke/src/dassie/.venv/lib/python3.9/site-packages/urllib3/connectionpool.py:1063: InsecureRequestWarning: Unverified HTTPS request is being made to host '127.0.0.1'. Adding certificate verification is strongly advised. See: https://urllib3.readthedocs.io/en/1.26.x/advanced-usage.html#ssl-warnings\n",
      "  warnings.warn(\n",
      "/Users/davidburke/src/dassie/.venv/lib/python3.9/site-packages/urllib3/connectionpool.py:1063: InsecureRequestWarning: Unverified HTTPS request is being made to host '127.0.0.1'. Adding certificate verification is strongly advised. See: https://urllib3.readthedocs.io/en/1.26.x/advanced-usage.html#ssl-warnings\n",
      "  warnings.warn(\n",
      "/Users/davidburke/src/dassie/.venv/lib/python3.9/site-packages/urllib3/connectionpool.py:1063: InsecureRequestWarning: Unverified HTTPS request is being made to host '127.0.0.1'. Adding certificate verification is strongly advised. See: https://urllib3.readthedocs.io/en/1.26.x/advanced-usage.html#ssl-warnings\n",
      "  warnings.warn(\n",
      "/Users/davidburke/src/dassie/.venv/lib/python3.9/site-packages/urllib3/connectionpool.py:1063: InsecureRequestWarning: Unverified HTTPS request is being made to host '127.0.0.1'. Adding certificate verification is strongly advised. See: https://urllib3.readthedocs.io/en/1.26.x/advanced-usage.html#ssl-warnings\n",
      "  warnings.warn(\n",
      "/Users/davidburke/src/dassie/.venv/lib/python3.9/site-packages/urllib3/connectionpool.py:1063: InsecureRequestWarning: Unverified HTTPS request is being made to host '127.0.0.1'. Adding certificate verification is strongly advised. See: https://urllib3.readthedocs.io/en/1.26.x/advanced-usage.html#ssl-warnings\n",
      "  warnings.warn(\n"
     ]
    },
    {
     "name": "stdout",
     "output_type": "stream",
     "text": [
      "{\"message\":\"Error querying Neptune: Read timeout on endpoint URL: \\\"https://127.0.0.1:8182/opencypher\\\"\",\"level\":\"ERROR\",\"location\":\"query:34\",\"timestamp\":\"2024-10-01 11:47:23,907+0100\",\"service\":\"dassie\"}\n",
      "Read timeout on endpoint URL: \"https://127.0.0.1:8182/opencypher\"\n",
      "---\n",
      "\n",
      "\n",
      "\n",
      "fcb2616f-841f-4176-9f4e-7719f46ff474\n",
      "148ee01f-9969-4d5a-8374-6714083a6895\n",
      "'NoneType' object has no attribute 'startswith'\n",
      "---\n",
      "\n",
      "\n",
      "\n",
      "19604f20-9903-4492-a4f0-1d7b71915a28\n",
      "aa445cac-c684-4a0e-901e-68709bd4e20c\n",
      "'NoneType' object has no attribute 'startswith'\n",
      "---\n",
      "\n",
      "\n",
      "\n",
      "e88406c9-a196-4ac7-99ee-9939e641421a\n",
      "69fcef15-f4d0-41f5-909a-f8bcd64a700a\n",
      "'NoneType' object has no attribute 'startswith'\n",
      "---\n",
      "\n",
      "\n",
      "\n",
      "d9cd85bb-07fe-4498-aadf-a40a6d8e247c\n",
      "d4a6d4e6-d757-4ec9-9448-bc3c85a38d4f\n",
      "'NoneType' object has no attribute 'startswith'\n",
      "---\n",
      "\n",
      "\n",
      "\n",
      "87a368da-6326-4ca0-995c-9647808d55e0\n",
      "abda6bff-a132-4f4d-8472-1708bb8f4b7d\n",
      "{\"message\":\"Neptune query: \\nMERGE (a:Article {id: '452f57c0-f334-4d5d-8103-c79130b762ab})\\n\\nMERGE (neptune:Software {name: 'Amazon Neptune'})\\nON CREATE SET neptune.description = 'A fully managed, highly available, and scalable graph database service offered by AWS.'\\nMERGE (a)-[:MENTIONS]->(neptune)\\n\\nMERGE (reset:SoftwareFeature {name: 'Database Reset Capability'})\\nON CREATE SET reset.description = 'With the new database reset capability in Neptune, you can remove all data from the graph database using REST APIs or built-in commands.'\\nMERGE (neptune)-[:FEATURE]->(reset)\\nMERGE (a)-[:MENTIONS]->(reset)\\n\\nMERGE (bulkDelete:SoftwareFeature {name: 'Bulk Delete Data'})\\nON CREATE SET bulkDelete.description = 'AWS Neptune bulk delete data using a curl operation or multi-threaded Python.'\\nMERGE (neptune)-[:FEATURE]->(bulkDelete)\\nMERGE (a)-[:MENTIONS]->(bulkDelete)\\n\\nMERGE (sparqlUnload:SoftwareFeature {name: 'SPARQL Update Unload'})\\nON CREATE SET sparqlUnload.description = 'Use SPARQL UPDATE UNLOAD to delete data from AWS Neptune.'\\nMERGE (neptune)-[:FEATURE]->(sparqlUnload)\\nMERGE (a)-[:MENTIONS]->(sparqlUnload)\\n\\nMERGE (deleteInstance:SoftwareFeature {name: 'DeleteDBInstance'})\\nON CREATE SET deleteInstance.description = 'The DeleteDBInstance action deletes a previously provisioned DB instance. When you delete a DB instance, all automated backups for that instance are deleted.'\\nMERGE (neptune)-[:FEATURE]->(deleteInstance)\\nMERGE (a)-[:MENTIONS]->(deleteInstance)\\n\\nMERGE (deleteCluster:SoftwareFeature {name: 'DeleteDBCluster'})\\nON CREATE SET deleteCluster.description = 'The DeleteDBCluster action deletes a previously provisioned DB cluster. When you delete a DB cluster, all automated backups for that DB cluster are deleted.'\\nMERGE (neptune)-[:FEATURE]->(deleteCluster)\\nMERGE (a)-[:MENTIONS]->(deleteCluster)\\n\",\"level\":\"INFO\",\"location\":\"query:21\",\"timestamp\":\"2024-10-01 11:47:25,143+0100\",\"service\":\"dassie\"}\n",
      "{\"message\":\"Error querying Neptune: An error occurred (MalformedQueryException) when calling the ExecuteOpenCypherQuery operation: Unexpected end of input: expected '\\\\', ANY or ''' (line 2, column 62 (offset: 62))\",\"level\":\"ERROR\",\"location\":\"query:34\",\"timestamp\":\"2024-10-01 11:47:25,271+0100\",\"service\":\"dassie\"}\n",
      "An error occurred (MalformedQueryException) when calling the ExecuteOpenCypherQuery operation: Unexpected end of input: expected '\\', ANY or ''' (line 2, column 62 (offset: 62))\n",
      "---\n",
      "\n",
      "\n",
      "\n"
     ]
    },
    {
     "name": "stderr",
     "output_type": "stream",
     "text": [
      "/Users/davidburke/src/dassie/.venv/lib/python3.9/site-packages/urllib3/connectionpool.py:1063: InsecureRequestWarning: Unverified HTTPS request is being made to host '127.0.0.1'. Adding certificate verification is strongly advised. See: https://urllib3.readthedocs.io/en/1.26.x/advanced-usage.html#ssl-warnings\n",
      "  warnings.warn(\n"
     ]
    },
    {
     "name": "stdout",
     "output_type": "stream",
     "text": [
      "713f83db-7cd3-4343-a8ee-53386b6ccf70\n",
      "bc4b5a90-d1ba-45b9-ba06-3cdcb2a6156f\n",
      "{\"message\":\"Neptune query: \\nMERGE (a:Article {id: '9e9e911d-9758-4fa6-b497-fe247ae6d896'})\\n\\nMERGE (awsNeptune:Software {name: 'AWS Neptune Analytics API'})\\nON CREATE SET awsNeptune.developer = 'Amazon Web Services', awsNeptune.documentation = 'https://docs.aws.amazon.com/neptune/latest/userguide/analytics-api.html'\\nMERGE (awsNeptune)-[:MENTIONED_IN]->(a)\\n\\nMERGE (resetGraph:Function {name: 'ResetGraph'})\\nON CREATE SET resetGraph.description = 'Empties the data from a specified Neptune Analytics graph.'\\nMERGE (resetGraph)-[:PART_OF]->(awsNeptune)\\nMERGE (resetGraph)-[:MENTIONED_IN]->(a)\\n\\nMERGE (graph:Dataset {identifier: 'graphIdentifier'})\\nON CREATE SET graph.pattern = 'g-[a-z0-9]{10}'\\nMERGE (graph)-[:MENTIONED_IN]->(a)\\n\\nMERGE (responseElements:Response {name: 'Response Elements'})\\nON CREATE SET responseElements.statusCode = '200', responseElements.contentType = 'application/json'\\nMERGE (responseElements)-[:PART_OF]->(resetGraph)\\nMERGE (responseElements)-[:MENTIONED_IN]->(a)\\n\\nMERGE (errors:Error {name: 'Errors'})\\nMERGE (errors)-[:PART_OF]->(resetGraph)\\nMERGE (errors)-[:MENTIONED_IN]->(a)\\n\\nWITH responseElements\\nUNWIND [\\n  {property: 'arn', type: 'String'},\\n  {property: 'buildNumber', type: 'String'},\\n  {property: 'createTime', type: 'Timestamp'},\\n  {property: 'deletionProtection', type: 'Boolean'},\\n  {property: 'endpoint', type: 'String'},\\n  {property: 'id', type: 'String', pattern: 'g-[a-z0-9]{10}'},\\n  {property: 'kmsKeyIdentifier', type: 'String', pattern: 'arn:aws(|-cn|-us-gov):kms:[a-zA-Z0-9-]*:[0-9]{12}:key/[a-zA-Z0-9-]{36}'},\\n  {property: 'name', type: 'String', pattern: '(?!g-)[a-z][a-z0-9]*(-[a-z0-9]+)*'},\\n  {property: 'provisionedMemory', type: 'Integer', validRange: '32-24576'},\\n  {property: 'publicConnectivity', type: 'Boolean'},\\n  {property: 'replicaCount', type: 'Integer', validRange: '0-2'},\\n  {property: 'sourceSnapshotId', type: 'String', pattern: 'gs-[a-z0-9]{10}'},\\n  {property: 'status', type: 'String', validValues: 'CREATING, AVAILABLE, DELETING, RESETTING, UPDATING, SNAPSHOTTING, FAILED, IMPORTING'},\\n  {property: 'statusReason', type: 'String'},\\n  {property: 'vectorSearchConfiguration', type: 'VectorSearchConfiguration', maxDimensions: '65535'}\\n] AS element\\nMERGE (prop:Property {name: element.property})\\nON CREATE SET prop.type = element.type, prop.pattern = element.pattern, prop.validRange = element.validRange, prop.validValues = element.validValues, prop.maxDimensions = element.maxDimensions\\nMERGE (responseElements)-[:CONTAINS]->(prop)\\n\\nWITH errors\\nUNWIND [\\n  {property: 'ConflictException', statusCode: '409'},\\n  {property: 'InternalServerException', statusCode: '500'},\\n  {property: 'ResourceNotFoundException', statusCode: '404'},\\n  {property: 'ThrottlingException', statusCode: '429'},\\n  {property: 'ValidationException', statusCode: '400'}\\n] AS error\\nMERGE (err:ErrorProperty {name: error.property})\\nON CREATE SET err.statusCode = error.statusCode\\nMERGE (errors)-[:CONTAINS]->(err)\\n\",\"level\":\"INFO\",\"location\":\"query:21\",\"timestamp\":\"2024-10-01 11:47:26,127+0100\",\"service\":\"dassie\"}\n",
      "{\"message\":\"Neptune query response: {'ResponseMetadata': {'HTTPStatusCode': 200, 'HTTPHeaders': {'transfer-encoding': 'chunked'}, 'RetryAttempts': 0}, 'results': []}\",\"level\":\"INFO\",\"location\":\"query:26\",\"timestamp\":\"2024-10-01 11:47:26,183+0100\",\"service\":\"dassie\"}\n",
      "{\"message\":\"Neptune query response: {'ResponseMetadata': {'HTTPStatusCode': 200, 'HTTPHeaders': {'transfer-encoding': 'chunked'}, 'RetryAttempts': 0}, 'results': []}\",\"level\":\"INFO\",\"location\":\"query:26\",\"timestamp\":\"2024-10-01 11:47:26,245+0100\",\"service\":\"dassie\"}\n"
     ]
    },
    {
     "name": "stderr",
     "output_type": "stream",
     "text": [
      "/Users/davidburke/src/dassie/.venv/lib/python3.9/site-packages/urllib3/connectionpool.py:1063: InsecureRequestWarning: Unverified HTTPS request is being made to host '127.0.0.1'. Adding certificate verification is strongly advised. See: https://urllib3.readthedocs.io/en/1.26.x/advanced-usage.html#ssl-warnings\n",
      "  warnings.warn(\n",
      "/Users/davidburke/src/dassie/.venv/lib/python3.9/site-packages/urllib3/connectionpool.py:1063: InsecureRequestWarning: Unverified HTTPS request is being made to host '127.0.0.1'. Adding certificate verification is strongly advised. See: https://urllib3.readthedocs.io/en/1.26.x/advanced-usage.html#ssl-warnings\n",
      "  warnings.warn(\n",
      "/Users/davidburke/src/dassie/.venv/lib/python3.9/site-packages/urllib3/connectionpool.py:1063: InsecureRequestWarning: Unverified HTTPS request is being made to host '127.0.0.1'. Adding certificate verification is strongly advised. See: https://urllib3.readthedocs.io/en/1.26.x/advanced-usage.html#ssl-warnings\n",
      "  warnings.warn(\n"
     ]
    },
    {
     "name": "stdout",
     "output_type": "stream",
     "text": [
      "{\"message\":\"Neptune query response: {'ResponseMetadata': {'HTTPStatusCode': 200, 'HTTPHeaders': {'transfer-encoding': 'chunked'}, 'RetryAttempts': 0}, 'results': []}\",\"level\":\"INFO\",\"location\":\"query:26\",\"timestamp\":\"2024-10-01 11:47:26,357+0100\",\"service\":\"dassie\"}\n",
      "{\"message\":\"Neptune query response: {'ResponseMetadata': {'HTTPStatusCode': 200, 'HTTPHeaders': {'transfer-encoding': 'chunked'}, 'RetryAttempts': 0}, 'results': []}\",\"level\":\"INFO\",\"location\":\"query:26\",\"timestamp\":\"2024-10-01 11:47:26,449+0100\",\"service\":\"dassie\"}\n",
      "{\"message\":\"Neptune query response: {'ResponseMetadata': {'HTTPStatusCode': 200, 'HTTPHeaders': {'transfer-encoding': 'chunked'}, 'RetryAttempts': 0}, 'results': []}\",\"level\":\"INFO\",\"location\":\"query:26\",\"timestamp\":\"2024-10-01 11:47:26,531+0100\",\"service\":\"dassie\"}\n"
     ]
    },
    {
     "name": "stderr",
     "output_type": "stream",
     "text": [
      "/Users/davidburke/src/dassie/.venv/lib/python3.9/site-packages/urllib3/connectionpool.py:1063: InsecureRequestWarning: Unverified HTTPS request is being made to host '127.0.0.1'. Adding certificate verification is strongly advised. See: https://urllib3.readthedocs.io/en/1.26.x/advanced-usage.html#ssl-warnings\n",
      "  warnings.warn(\n",
      "/Users/davidburke/src/dassie/.venv/lib/python3.9/site-packages/urllib3/connectionpool.py:1063: InsecureRequestWarning: Unverified HTTPS request is being made to host '127.0.0.1'. Adding certificate verification is strongly advised. See: https://urllib3.readthedocs.io/en/1.26.x/advanced-usage.html#ssl-warnings\n",
      "  warnings.warn(\n",
      "/Users/davidburke/src/dassie/.venv/lib/python3.9/site-packages/urllib3/connectionpool.py:1063: InsecureRequestWarning: Unverified HTTPS request is being made to host '127.0.0.1'. Adding certificate verification is strongly advised. See: https://urllib3.readthedocs.io/en/1.26.x/advanced-usage.html#ssl-warnings\n",
      "  warnings.warn(\n"
     ]
    },
    {
     "name": "stdout",
     "output_type": "stream",
     "text": [
      "{\"message\":\"Neptune query response: {'ResponseMetadata': {'HTTPStatusCode': 200, 'HTTPHeaders': {'transfer-encoding': 'chunked'}, 'RetryAttempts': 0}, 'results': []}\",\"level\":\"INFO\",\"location\":\"query:26\",\"timestamp\":\"2024-10-01 11:47:26,604+0100\",\"service\":\"dassie\"}\n",
      "{\"message\":\"Error querying Neptune: An error occurred (MalformedQueryException) when calling the ExecuteOpenCypherQuery operation: Variable `responseElements` not defined (line 1, column 6 (offset: 5))\",\"level\":\"ERROR\",\"location\":\"query:34\",\"timestamp\":\"2024-10-01 11:47:26,647+0100\",\"service\":\"dassie\"}\n",
      "An error occurred (MalformedQueryException) when calling the ExecuteOpenCypherQuery operation: Variable `responseElements` not defined (line 1, column 6 (offset: 5))\n",
      "---\n",
      "\n",
      "\n",
      "\n",
      "3799cee5-b9dc-4515-9f6b-2f8fa949bfc4\n",
      "f7f62fe9-7ceb-4dd4-bbd3-00f28b38ef47\n",
      "'NoneType' object has no attribute 'startswith'\n",
      "---\n",
      "\n",
      "\n",
      "\n"
     ]
    },
    {
     "name": "stderr",
     "output_type": "stream",
     "text": [
      "/Users/davidburke/src/dassie/.venv/lib/python3.9/site-packages/urllib3/connectionpool.py:1063: InsecureRequestWarning: Unverified HTTPS request is being made to host '127.0.0.1'. Adding certificate verification is strongly advised. See: https://urllib3.readthedocs.io/en/1.26.x/advanced-usage.html#ssl-warnings\n",
      "  warnings.warn(\n"
     ]
    },
    {
     "name": "stdout",
     "output_type": "stream",
     "text": [
      "28a4944f-c1b4-4aac-b8ae-a742b7c53b66\n",
      "f15d7687-6959-421d-a203-9b0162719bcc\n",
      "{\"message\":\"Neptune query: \\nMERGE (article:Article {id: 'e6347f41-1561-47e2-a40e-1d42039347f3'})\\n\\nMERGE (foaf:Ontology {name: 'FOAF'})\\nON CREATE SET foaf.description = 'FOAF (an acronym of friend of a friend) is a machine-readable ontology describing persons, their activities and their relations to other people and objects.',\\n              foaf.acronym = 'FOAF',\\n              foaf.firstPublished = '2005-06-03',\\n              foaf.latestVersion = '0.99',\\n              foaf.latestVersionDate = '2014-01-14',\\n              foaf.status = 'Published'\\nMERGE (article)-[:DESCRIBES]->(foaf)\\n\\nMERGE (rdf:Standard {name: 'Resource Description Framework'})\\nMERGE (article)-[:MENTIONS]->(rdf)\\nMERGE (foaf)-[:BASE_STANDARD]->(rdf)\\n\\nMERGE (owl:Standard {name: 'Web Ontology Language'})\\nMERGE (article)-[:MENTIONS]->(owl)\\nMERGE (foaf)-[:BASE_STANDARD]->(owl)\\n\\nMERGE (semanticWeb:Domain {name: 'Semantic Web'})\\nMERGE (article)-[:MENTIONS]->(semanticWeb)\\nMERGE (foaf)-[:DOMAIN]->(semanticWeb)\\n\\nMERGE (ccLicense:License {name: 'Creative Commons License'})\\nMERGE (article)-[:MENTIONS]->(ccLicense)\\nMERGE (foaf)-[:LICENSE]->(ccLicense)\\n\",\"level\":\"INFO\",\"location\":\"query:21\",\"timestamp\":\"2024-10-01 11:47:27,232+0100\",\"service\":\"dassie\"}\n",
      "{\"message\":\"Neptune query response: {'ResponseMetadata': {'HTTPStatusCode': 200, 'HTTPHeaders': {'transfer-encoding': 'chunked'}, 'RetryAttempts': 0}, 'results': []}\",\"level\":\"INFO\",\"location\":\"query:26\",\"timestamp\":\"2024-10-01 11:47:27,285+0100\",\"service\":\"dassie\"}\n",
      "{\"message\":\"Neptune query response: {'ResponseMetadata': {'HTTPStatusCode': 200, 'HTTPHeaders': {'transfer-encoding': 'chunked'}, 'RetryAttempts': 0}, 'results': []}\",\"level\":\"INFO\",\"location\":\"query:26\",\"timestamp\":\"2024-10-01 11:47:27,370+0100\",\"service\":\"dassie\"}\n"
     ]
    },
    {
     "name": "stderr",
     "output_type": "stream",
     "text": [
      "/Users/davidburke/src/dassie/.venv/lib/python3.9/site-packages/urllib3/connectionpool.py:1063: InsecureRequestWarning: Unverified HTTPS request is being made to host '127.0.0.1'. Adding certificate verification is strongly advised. See: https://urllib3.readthedocs.io/en/1.26.x/advanced-usage.html#ssl-warnings\n",
      "  warnings.warn(\n",
      "/Users/davidburke/src/dassie/.venv/lib/python3.9/site-packages/urllib3/connectionpool.py:1063: InsecureRequestWarning: Unverified HTTPS request is being made to host '127.0.0.1'. Adding certificate verification is strongly advised. See: https://urllib3.readthedocs.io/en/1.26.x/advanced-usage.html#ssl-warnings\n",
      "  warnings.warn(\n",
      "/Users/davidburke/src/dassie/.venv/lib/python3.9/site-packages/urllib3/connectionpool.py:1063: InsecureRequestWarning: Unverified HTTPS request is being made to host '127.0.0.1'. Adding certificate verification is strongly advised. See: https://urllib3.readthedocs.io/en/1.26.x/advanced-usage.html#ssl-warnings\n",
      "  warnings.warn(\n"
     ]
    },
    {
     "name": "stdout",
     "output_type": "stream",
     "text": [
      "{\"message\":\"Neptune query response: {'ResponseMetadata': {'HTTPStatusCode': 200, 'HTTPHeaders': {'transfer-encoding': 'chunked'}, 'RetryAttempts': 0}, 'results': []}\",\"level\":\"INFO\",\"location\":\"query:26\",\"timestamp\":\"2024-10-01 11:47:27,440+0100\",\"service\":\"dassie\"}\n",
      "{\"message\":\"Neptune query response: {'ResponseMetadata': {'HTTPStatusCode': 200, 'HTTPHeaders': {'transfer-encoding': 'chunked'}, 'RetryAttempts': 0}, 'results': []}\",\"level\":\"INFO\",\"location\":\"query:26\",\"timestamp\":\"2024-10-01 11:47:27,540+0100\",\"service\":\"dassie\"}\n",
      "{\"message\":\"Neptune query response: {'ResponseMetadata': {'HTTPStatusCode': 200, 'HTTPHeaders': {'transfer-encoding': 'chunked'}, 'RetryAttempts': 0}, 'results': []}\",\"level\":\"INFO\",\"location\":\"query:26\",\"timestamp\":\"2024-10-01 11:47:27,616+0100\",\"service\":\"dassie\"}\n"
     ]
    },
    {
     "name": "stderr",
     "output_type": "stream",
     "text": [
      "/Users/davidburke/src/dassie/.venv/lib/python3.9/site-packages/urllib3/connectionpool.py:1063: InsecureRequestWarning: Unverified HTTPS request is being made to host '127.0.0.1'. Adding certificate verification is strongly advised. See: https://urllib3.readthedocs.io/en/1.26.x/advanced-usage.html#ssl-warnings\n",
      "  warnings.warn(\n",
      "/Users/davidburke/src/dassie/.venv/lib/python3.9/site-packages/urllib3/connectionpool.py:1063: InsecureRequestWarning: Unverified HTTPS request is being made to host '127.0.0.1'. Adding certificate verification is strongly advised. See: https://urllib3.readthedocs.io/en/1.26.x/advanced-usage.html#ssl-warnings\n",
      "  warnings.warn(\n",
      "/Users/davidburke/src/dassie/.venv/lib/python3.9/site-packages/urllib3/connectionpool.py:1063: InsecureRequestWarning: Unverified HTTPS request is being made to host '127.0.0.1'. Adding certificate verification is strongly advised. See: https://urllib3.readthedocs.io/en/1.26.x/advanced-usage.html#ssl-warnings\n",
      "  warnings.warn(\n"
     ]
    },
    {
     "name": "stdout",
     "output_type": "stream",
     "text": [
      "{\"message\":\"Neptune query response: {'ResponseMetadata': {'HTTPStatusCode': 200, 'HTTPHeaders': {'transfer-encoding': 'chunked'}, 'RetryAttempts': 0}, 'results': []}\",\"level\":\"INFO\",\"location\":\"query:26\",\"timestamp\":\"2024-10-01 11:47:27,703+0100\",\"service\":\"dassie\"}\n",
      "[[], [], [], [], [], []]\n",
      "\n",
      "MERGE (article:Article {id: 'e6347f41-1561-47e2-a40e-1d42039347f3'})\n",
      "MERGE (foaf:Ontology {name: 'FOAF'})\n",
      "ON CREATE SET foaf.description = 'FOAF (an acronym of friend of a friend) is a machine-readable ontology describing persons, their activities and their relations to other people and objects.',\n",
      "              foaf.title = 'FOAF',\n",
      "              foaf.abbreviation = 'FOAF',\n",
      "              foaf.issued = date('2005-06-03'),\n",
      "              foaf.modified = date('2014-01-14'),\n",
      "              foaf.license = 'http://creativecommons.org/licenses/by/1.0/',\n",
      "              foaf.status = 'Published',\n",
      "              foaf.homepages = [\n",
      "                'https://en.wikipedia.org/wiki/FOAF',\n",
      "                'http://xmlns.com/foaf',\n",
      "                'https://www.w3.org/wiki/Good_Ontologies',\n",
      "                'https://lov.linkeddata.es/dataset/lov/vocabs/foaf',\n",
      "                'https://sparontologies.github.io/foaf/current/foaf',\n",
      "                'https://www.researchgate.net/publication/22078317',\n",
      "                'https://www.npmjs.com/package/foaf',\n",
      "                'https://dbpedia.org/page/FOAF',\n",
      "                'https://stackoverflow.com/questions/how-to-use-foaf',\n",
      "                'https://ieeexplore.ieee.org/document'\n",
      "              ]\n",
      "MERGE (semanticWeb:Domain {name: 'Semantic Web'})\n",
      "ON CREATE SET semanticWeb.description = 'The Semantic Web is an extension of the World Wide Web through standards by the World Wide Web Consortium (W3C). The standards promote common data formats and exchange protocols on the Web, most fundamentally the Resource Description Framework (RDF).'\n",
      "MERGE (foaf)-[:HAS_SUBJECT]->(semanticWeb)\n",
      "MERGE (foaf)-[:HAS_BASE_STANDARD]->(:Standard {name: 'RDF'})\n",
      "MERGE (foaf)-[:HAS_BASE_STANDARD]->(:Standard {name: 'OWL'})\n",
      "MERGE (foaf)-[:HAS_DOMAIN]->(semanticWeb)\n",
      "MERGE (semanticWeb)-[:HAS_SUBJECT]->(foaf)\n",
      "MERGE (article)-[:SOURCE_OF]->(foaf)\n",
      "MERGE (article)-[:SOURCE_OF]->(semanticWeb)\n",
      "\n",
      "{\"message\":\"Neptune query: \\nMERGE (article:Article {id: 'e6347f41-1561-47e2-a40e-1d42039347f3'})\\nMERGE (foaf:Ontology {name: 'FOAF'})\\nON CREATE SET foaf.description = 'FOAF (an acronym of friend of a friend) is a machine-readable ontology describing persons, their activities and their relations to other people and objects.',\\n              foaf.title = 'FOAF',\\n              foaf.abbreviation = 'FOAF',\\n              foaf.issued = '2005-06-03',\\n              foaf.modified = '2014-01-14',\\n              foaf.license = 'http://creativecommons.org/licenses/by/1.0/',\\n              foaf.status = 'Published',\\n              foaf.homepages = [\\n                'https://en.wikipedia.org/wiki/FOAF',\\n                'http://xmlns.com/foaf',\\n                'https://www.w3.org/wiki/Good_Ontologies',\\n                'https://lov.linkeddata.es/dataset/lov/vocabs/foaf',\\n                'https://sparontologies.github.io/foaf/current/foaf',\\n                'https://www.researchgate.net/publication/22078317',\\n                'https://www.npmjs.com/package/foaf',\\n                'https://dbpedia.org/page/FOAF',\\n                'https://stackoverflow.com/questions/how-to-use-foaf',\\n                'https://ieeexplore.ieee.org/document'\\n              ]\\nMERGE (semanticWeb:Domain {name: 'Semantic Web'})\\nON CREATE SET semanticWeb.description = 'The Semantic Web is an extension of the World Wide Web through standards by the World Wide Web Consortium (W3C). The standards promote common data formats and exchange protocols on the Web, most fundamentally the Resource Description Framework (RDF).'\\nMERGE (foaf)-[:HAS_SUBJECT]->(semanticWeb)\\nMERGE (foaf)-[:HAS_BASE_STANDARD]->(:Standard {name: 'RDF'})\\nMERGE (foaf)-[:HAS_BASE_STANDARD]->(:Standard {name: 'OWL'})\\nMERGE (foaf)-[:HAS_DOMAIN]->(semanticWeb)\\nMERGE (semanticWeb)-[:HAS_SUBJECT]->(foaf)\\nMERGE (article)-[:SOURCE_OF]->(foaf)\\nMERGE (article)-[:SOURCE_OF]->(semanticWeb)\\n\",\"level\":\"INFO\",\"location\":\"query:21\",\"timestamp\":\"2024-10-01 11:47:43,963+0100\",\"service\":\"dassie\"}\n",
      "{\"message\":\"Error querying Neptune: An error occurred (BadRequestException) when calling the ExecuteOpenCypherQuery operation: Expected a simple literal but found CType.\",\"level\":\"ERROR\",\"location\":\"query:34\",\"timestamp\":\"2024-10-01 11:47:44,132+0100\",\"service\":\"dassie\"}\n",
      "An error occurred (BadRequestException) when calling the ExecuteOpenCypherQuery operation: Expected a simple literal but found CType.\n"
     ]
    },
    {
     "name": "stderr",
     "output_type": "stream",
     "text": [
      "/Users/davidburke/src/dassie/.venv/lib/python3.9/site-packages/urllib3/connectionpool.py:1063: InsecureRequestWarning: Unverified HTTPS request is being made to host '127.0.0.1'. Adding certificate verification is strongly advised. See: https://urllib3.readthedocs.io/en/1.26.x/advanced-usage.html#ssl-warnings\n",
      "  warnings.warn(\n"
     ]
    },
    {
     "name": "stdout",
     "output_type": "stream",
     "text": [
      "---\n",
      "\n",
      "\n",
      "\n",
      "d033c29c-df1f-46c3-b811-6067db5b0fe3\n",
      "3d9e38c8-1617-4863-87cb-2f2e2b8dd31c\n",
      "{\"message\":\"Neptune query: \\nMERGE (a:Article {id: '4f2f6b42-7428-4d51-bd74-229255a84f6c'})\\n\\nMERGE (wp1:WebPage {url: 'https://www.w3.org/wiki/Good_Ontologies'})\\nON CREATE SET wp1.title = 'Good Ontologies - W3C Wiki', wp1.publisher = 'World_Wide_Web_Consortium', wp1.date = '2015-05-07', wp1.description = 'Technicalities: DC is a moderately small ontology divided into 2 vocabularies: DC elements and DC terms. DC elements contain 15 properties.'\\nMERGE (a)-[:MENTIONS]->(wp1)\\n\\nMERGE (wp2:WebPage {url: 'https://www.dublincore.org/specifications/dublin-core'})\\nON CREATE SET wp2.title = 'DCMI Metadata Terms', wp2.publisher = 'Dublin_Core_Metadata_Initiative', wp2.date = '2020-01-20', wp2.description = 'The /dcmitype/ namespace was created in 2001 for the DCMI Type Vocabulary, which defines classes for basic types of resources.'\\nMERGE (a)-[:MENTIONS]->(wp2)\\n\\nMERGE (wp3:WebPage {url: 'https://www.ebi.ac.uk/ols4/ontologies/dc'})\\nON CREATE SET wp3.title = 'DC - Ontology Lookup Service', wp3.publisher = 'European_Bioinformatics_Institute', wp3.description = 'OLS is a repository for biomedical ontologies that aims to provide a single point of access to the latest ontology versions.'\\nMERGE (a)-[:MENTIONS]->(wp3)\\n\\nMERGE (wp4:WebPage {url: 'http://www.opencaesar.io/core-vocabularies/elements'})\\nON CREATE SET wp4.title = 'openCAESAR', wp4.description = 'The DC vocabulary is a subset of the vocabulary maintained by the Dublin Core Metadata Initiative.'\\nMERGE (a)-[:MENTIONS]->(wp4)\\n\\nMERGE (wp5:WebPage {url: 'https://github.com/OBO-Dashboard/issues'})\\nON CREATE SET wp5.title = 'Use of http://purl.org/dc/elements/1.1/ vs ...', wp5.date = '2021-05-09', wp5.description = 'We need to make things easier for end-users that do not know what dce and dcterms is - they should be able to query ontologies in a unified way.'\\nMERGE (a)-[:MENTIONS]->(wp5)\\n\\nMERGE (wp6:WebPage {url: 'https://dcevents.dublincore.org/dcmi-asiapac'})\\nON CREATE SET wp6.title = 'Ontologies', wp6.publisher = 'Dublin_Core_Metadata_Initiative', wp6.description = 'ONTOLOGY is the formal term for VOCABULARY, which is a fancier term for TERM.'\\nMERGE (a)-[:MENTIONS]->(wp6)\\n\\nMERGE (wp7:WebPage {url: 'https://protege.stanford.edu/plugins/owl/dc/dublincore.owl'})\\nON CREATE SET wp7.title = 'protégé', wp7.description = 'Ontology rdf:about=\\\"http://purl.org/dc/elements/1.1/\\\">'\\nMERGE (a)-[:MENTIONS]->(wp7)\\n\\nMERGE (wp8:WebPage {url: 'https://stackoverflow.com/questions/protégé-5-2-importing-dublin-core-elements'})\\nON CREATE SET wp8.title = 'import Dublin Core elements ontology does not display 15 ...', wp8.description = 'I am importing the Dublin Core elements inside protégé with this URL: http://purl.org/dc/elements/1.1 I was expecting to get access to the 15 properties.'\\nMERGE (a)-[:MENTIONS]->(wp8)\\n\\nMERGE (wp9:WebPage {url: 'https://oboacademy.github.io/obook/formatting-license'})\\nON CREATE SET wp9.title = 'Formatting your ontology annotations correctly - OBO ...', wp9.description = 'The new OBO Foundry guidelines encourage the annotation of ontologies with an appropriately formatted description, title and license.'\\nMERGE (a)-[:MENTIONS]->(wp9)\\n\\nMERGE (wp10:WebPage {url: 'https://purl.dataone.org/odo/SENSO_00000002'})\\nON CREATE SET wp10.title = 'Sensitive Data Ontology (SENSO)', wp10.date = '2021-09-28', wp10.description = 'Sensitive data has been de-identified, anonymized, aggregated, or summarized to remove sensitivities and enable safe data distribution.'\\nMERGE (a)-[:MENTIONS]->(wp10)\\n\",\"level\":\"INFO\",\"location\":\"query:21\",\"timestamp\":\"2024-10-01 11:47:44,487+0100\",\"service\":\"dassie\"}\n",
      "{\"message\":\"Neptune query response: {'ResponseMetadata': {'HTTPStatusCode': 200, 'HTTPHeaders': {'transfer-encoding': 'chunked'}, 'RetryAttempts': 0}, 'results': []}\",\"level\":\"INFO\",\"location\":\"query:26\",\"timestamp\":\"2024-10-01 11:47:44,530+0100\",\"service\":\"dassie\"}\n",
      "{\"message\":\"Neptune query response: {'ResponseMetadata': {'HTTPStatusCode': 200, 'HTTPHeaders': {'transfer-encoding': 'chunked'}, 'RetryAttempts': 0}, 'results': []}\",\"level\":\"INFO\",\"location\":\"query:26\",\"timestamp\":\"2024-10-01 11:47:44,595+0100\",\"service\":\"dassie\"}\n",
      "{\"message\":\"Neptune query response: {'ResponseMetadata': {'HTTPStatusCode': 200, 'HTTPHeaders': {'transfer-encoding': 'chunked'}, 'RetryAttempts': 0}, 'results': []}\",\"level\":\"INFO\",\"location\":\"query:26\",\"timestamp\":\"2024-10-01 11:47:44,667+0100\",\"service\":\"dassie\"}\n"
     ]
    },
    {
     "name": "stderr",
     "output_type": "stream",
     "text": [
      "/Users/davidburke/src/dassie/.venv/lib/python3.9/site-packages/urllib3/connectionpool.py:1063: InsecureRequestWarning: Unverified HTTPS request is being made to host '127.0.0.1'. Adding certificate verification is strongly advised. See: https://urllib3.readthedocs.io/en/1.26.x/advanced-usage.html#ssl-warnings\n",
      "  warnings.warn(\n",
      "/Users/davidburke/src/dassie/.venv/lib/python3.9/site-packages/urllib3/connectionpool.py:1063: InsecureRequestWarning: Unverified HTTPS request is being made to host '127.0.0.1'. Adding certificate verification is strongly advised. See: https://urllib3.readthedocs.io/en/1.26.x/advanced-usage.html#ssl-warnings\n",
      "  warnings.warn(\n",
      "/Users/davidburke/src/dassie/.venv/lib/python3.9/site-packages/urllib3/connectionpool.py:1063: InsecureRequestWarning: Unverified HTTPS request is being made to host '127.0.0.1'. Adding certificate verification is strongly advised. See: https://urllib3.readthedocs.io/en/1.26.x/advanced-usage.html#ssl-warnings\n",
      "  warnings.warn(\n",
      "/Users/davidburke/src/dassie/.venv/lib/python3.9/site-packages/urllib3/connectionpool.py:1063: InsecureRequestWarning: Unverified HTTPS request is being made to host '127.0.0.1'. Adding certificate verification is strongly advised. See: https://urllib3.readthedocs.io/en/1.26.x/advanced-usage.html#ssl-warnings\n",
      "  warnings.warn(\n"
     ]
    },
    {
     "name": "stdout",
     "output_type": "stream",
     "text": [
      "{\"message\":\"Neptune query response: {'ResponseMetadata': {'HTTPStatusCode': 200, 'HTTPHeaders': {'transfer-encoding': 'chunked'}, 'RetryAttempts': 0}, 'results': []}\",\"level\":\"INFO\",\"location\":\"query:26\",\"timestamp\":\"2024-10-01 11:47:44,742+0100\",\"service\":\"dassie\"}\n",
      "{\"message\":\"Neptune query response: {'ResponseMetadata': {'HTTPStatusCode': 200, 'HTTPHeaders': {'transfer-encoding': 'chunked'}, 'RetryAttempts': 0}, 'results': []}\",\"level\":\"INFO\",\"location\":\"query:26\",\"timestamp\":\"2024-10-01 11:47:44,799+0100\",\"service\":\"dassie\"}\n",
      "{\"message\":\"Neptune query response: {'ResponseMetadata': {'HTTPStatusCode': 200, 'HTTPHeaders': {'transfer-encoding': 'chunked'}, 'RetryAttempts': 0}, 'results': []}\",\"level\":\"INFO\",\"location\":\"query:26\",\"timestamp\":\"2024-10-01 11:47:44,863+0100\",\"service\":\"dassie\"}\n",
      "{\"message\":\"Neptune query response: {'ResponseMetadata': {'HTTPStatusCode': 200, 'HTTPHeaders': {'transfer-encoding': 'chunked'}, 'RetryAttempts': 0}, 'results': []}\",\"level\":\"INFO\",\"location\":\"query:26\",\"timestamp\":\"2024-10-01 11:47:44,926+0100\",\"service\":\"dassie\"}\n"
     ]
    },
    {
     "name": "stderr",
     "output_type": "stream",
     "text": [
      "/Users/davidburke/src/dassie/.venv/lib/python3.9/site-packages/urllib3/connectionpool.py:1063: InsecureRequestWarning: Unverified HTTPS request is being made to host '127.0.0.1'. Adding certificate verification is strongly advised. See: https://urllib3.readthedocs.io/en/1.26.x/advanced-usage.html#ssl-warnings\n",
      "  warnings.warn(\n",
      "/Users/davidburke/src/dassie/.venv/lib/python3.9/site-packages/urllib3/connectionpool.py:1063: InsecureRequestWarning: Unverified HTTPS request is being made to host '127.0.0.1'. Adding certificate verification is strongly advised. See: https://urllib3.readthedocs.io/en/1.26.x/advanced-usage.html#ssl-warnings\n",
      "  warnings.warn(\n",
      "/Users/davidburke/src/dassie/.venv/lib/python3.9/site-packages/urllib3/connectionpool.py:1063: InsecureRequestWarning: Unverified HTTPS request is being made to host '127.0.0.1'. Adding certificate verification is strongly advised. See: https://urllib3.readthedocs.io/en/1.26.x/advanced-usage.html#ssl-warnings\n",
      "  warnings.warn(\n",
      "/Users/davidburke/src/dassie/.venv/lib/python3.9/site-packages/urllib3/connectionpool.py:1063: InsecureRequestWarning: Unverified HTTPS request is being made to host '127.0.0.1'. Adding certificate verification is strongly advised. See: https://urllib3.readthedocs.io/en/1.26.x/advanced-usage.html#ssl-warnings\n",
      "  warnings.warn(\n"
     ]
    },
    {
     "name": "stdout",
     "output_type": "stream",
     "text": [
      "{\"message\":\"Neptune query response: {'ResponseMetadata': {'HTTPStatusCode': 200, 'HTTPHeaders': {'transfer-encoding': 'chunked'}, 'RetryAttempts': 0}, 'results': []}\",\"level\":\"INFO\",\"location\":\"query:26\",\"timestamp\":\"2024-10-01 11:47:44,997+0100\",\"service\":\"dassie\"}\n"
     ]
    },
    {
     "name": "stderr",
     "output_type": "stream",
     "text": [
      "/Users/davidburke/src/dassie/.venv/lib/python3.9/site-packages/urllib3/connectionpool.py:1063: InsecureRequestWarning: Unverified HTTPS request is being made to host '127.0.0.1'. Adding certificate verification is strongly advised. See: https://urllib3.readthedocs.io/en/1.26.x/advanced-usage.html#ssl-warnings\n",
      "  warnings.warn(\n"
     ]
    },
    {
     "name": "stdout",
     "output_type": "stream",
     "text": [
      "{\"message\":\"Neptune query response: {'ResponseMetadata': {'HTTPStatusCode': 200, 'HTTPHeaders': {'transfer-encoding': 'chunked'}, 'RetryAttempts': 0}, 'results': []}\",\"level\":\"INFO\",\"location\":\"query:26\",\"timestamp\":\"2024-10-01 11:47:45,280+0100\",\"service\":\"dassie\"}\n",
      "{\"message\":\"Neptune query response: {'ResponseMetadata': {'HTTPStatusCode': 200, 'HTTPHeaders': {'transfer-encoding': 'chunked'}, 'RetryAttempts': 0}, 'results': []}\",\"level\":\"INFO\",\"location\":\"query:26\",\"timestamp\":\"2024-10-01 11:47:45,375+0100\",\"service\":\"dassie\"}\n"
     ]
    },
    {
     "name": "stderr",
     "output_type": "stream",
     "text": [
      "/Users/davidburke/src/dassie/.venv/lib/python3.9/site-packages/urllib3/connectionpool.py:1063: InsecureRequestWarning: Unverified HTTPS request is being made to host '127.0.0.1'. Adding certificate verification is strongly advised. See: https://urllib3.readthedocs.io/en/1.26.x/advanced-usage.html#ssl-warnings\n",
      "  warnings.warn(\n",
      "/Users/davidburke/src/dassie/.venv/lib/python3.9/site-packages/urllib3/connectionpool.py:1063: InsecureRequestWarning: Unverified HTTPS request is being made to host '127.0.0.1'. Adding certificate verification is strongly advised. See: https://urllib3.readthedocs.io/en/1.26.x/advanced-usage.html#ssl-warnings\n",
      "  warnings.warn(\n"
     ]
    },
    {
     "name": "stdout",
     "output_type": "stream",
     "text": [
      "{\"message\":\"Neptune query response: {'ResponseMetadata': {'HTTPStatusCode': 200, 'HTTPHeaders': {'transfer-encoding': 'chunked'}, 'RetryAttempts': 0}, 'results': []}\",\"level\":\"INFO\",\"location\":\"query:26\",\"timestamp\":\"2024-10-01 11:47:45,493+0100\",\"service\":\"dassie\"}\n",
      "[[], [], [], [], [], [], [], [], [], [], []]\n",
      "\n",
      "MERGE (a:Article {id: '4f2f6b42-7428-4d51-bd74-229255a84f6c'})\n",
      "\n",
      "MERGE (e1:WebPage {url: 'https://www.w3.org/wiki/Good_Ontologies'})\n",
      "ON CREATE SET e1.title = 'Good Ontologies - W3C Wiki', e1.date = date('2015-05-07'), e1.description = 'Technicalities: DC is a moderately small ontology divided into 2 vocabularies: DC elements and DC terms. DC elements contain 15 properties.'\n",
      "MERGE (a)-[:MENTIONS]->(e1)\n",
      "\n",
      "MERGE (e2:WebPage {url: 'https://www.dublincore.org/specifications/dublin-core'})\n",
      "ON CREATE SET e2.title = 'DCMI Metadata Terms', e2.date = date('2020-01-20'), e2.description = 'The /dcmitype/ namespace was created in 2001 for the DCMI Type Vocabulary, which defines classes for basic types of resources.'\n",
      "MERGE (a)-[:MENTIONS]->(e2)\n",
      "\n",
      "MERGE (e3:WebPage {url: 'https://www.ebi.ac.uk/ols4/ontologies/dc'})\n",
      "ON CREATE SET e3.title = 'DC - Ontology Lookup Service', e3.description = 'OLS is a repository for biomedical ontologies that aims to provide a single point of access to the latest ontology versions.'\n",
      "MERGE (a)-[:MENTIONS]->(e3)\n",
      "\n",
      "MERGE (e4:WebPage {url: 'http://purl.org/dc/elements/1.1'})\n",
      "ON CREATE SET e4.title = 'Dublin Core elements ontology', e4.description = 'The DC vocabulary is a subset of the vocabulary maintained by the Dublin Core Metadata Initiative.'\n",
      "MERGE (a)-[:MENTIONS]->(e4)\n",
      "\n",
      "MERGE (e5:WebPage {url: 'https://github.com/OBO-Dashboard/issues'})\n",
      "ON CREATE SET e5.title = 'Use of http://purl.org/dc/elements/1.1/ vs ...', e5.date = date('2021-05-09'), e5.description = 'We need to make things easier for end-users that do not know what dce and dcterms is - they should be able to query ontologies in a unified way.'\n",
      "MERGE (a)-[:MENTIONS]->(e5)\n",
      "\n",
      "MERGE (e6:WebPage {url: 'https://dcevents.dublincore.org/dcmi-asiapac'})\n",
      "ON CREATE SET e6.title = 'Ontologies', e6.description = 'ONTOLOGY is the formal term for VOCABULARY, which is a fancier term for TERM.'\n",
      "MERGE (a)-[:MENTIONS]->(e6)\n",
      "\n",
      "MERGE (e7:WebPage {url: 'https://protege.stanford.edu/plugins/owl/dc/dublincore.owl'})\n",
      "ON CREATE SET e7.title = 'protégé', e7.description = 'Import Dublin Core elements ontology does not display 15 properties.'\n",
      "MERGE (a)-[:MENTIONS]->(e7)\n",
      "\n",
      "MERGE (e8:WebPage {url: 'https://stackoverflow.com/questions/protégé-5-2-importing-dublin-core-elements'})\n",
      "ON CREATE SET e8.title = 'import Dublin Core elements ontology does not display 15 properties', e8.description = 'I am importing the Dublin Core elements inside protégé with this URL: http://purl.org/dc/elements/1.1 I was expecting to get access to the 15 properties.'\n",
      "MERGE (a)-[:MENTIONS]->(e8)\n",
      "\n",
      "MERGE (e9:WebPage {url: 'https://oboacademy.github.io/obook/formatting-license'})\n",
      "ON CREATE SET e9.title = 'Formatting your ontology annotations correctly', e9.description = 'The new OBO Foundry guidelines encourage the annotation of ontologies with an appropriately formatted description, title and license.'\n",
      "MERGE (a)-[:MENTIONS]->(e9)\n",
      "\n",
      "MERGE (e10:WebPage {url: 'https://purl.dataone.org/odo/SENSO_00000002'})\n",
      "ON CREATE SET e10.title = 'Sensitive Data Ontology (SENSO)', e10.date = date('2021-09-28'), e10.description = 'Sensitive data has been de-identified, anonymized, aggregated, or summarized to remove sensitivities and enable safe data distribution.'\n",
      "MERGE (a)-[:MENTIONS]->(e10)\n",
      "\n",
      "{\"message\":\"Neptune query: \\nMERGE (a:Article {id: '4f2f6b42-7428-4d51-bd74-229255a84f6c'})\\n\\nMERGE (e1:WebPage {url: 'https://www.w3.org/wiki/Good_Ontologies'})\\nON CREATE SET e1.title = 'Good Ontologies - W3C Wiki', e1.date = '2015-05-07', e1.description = 'Technicalities: DC is a moderately small ontology divided into 2 vocabularies: DC elements and DC terms. DC elements contain 15 properties.'\\nMERGE (a)-[:MENTIONS]->(e1)\\n\\nMERGE (e2:WebPage {url: 'https://www.dublincore.org/specifications/dublin-core'})\\nON CREATE SET e2.title = 'DCMI Metadata Terms', e2.date = '2020-01-20', e2.description = 'The /dcmitype/ namespace was created in 2001 for the DCMI Type Vocabulary, which defines classes for basic types of resources.'\\nMERGE (a)-[:MENTIONS]->(e2)\\n\\nMERGE (e3:WebPage {url: 'https://www.ebi.ac.uk/ols4/ontologies/dc'})\\nON CREATE SET e3.title = 'DC - Ontology Lookup Service', e3.description = 'OLS is a repository for biomedical ontologies that aims to provide a single point of access to the latest ontology versions.'\\nMERGE (a)-[:MENTIONS]->(e3)\\n\\nMERGE (e4:WebPage {url: 'http://purl.org/dc/elements/1.1'})\\nON CREATE SET e4.title = 'Dublin Core elements ontology', e4.description = 'The DC vocabulary is a subset of the vocabulary maintained by the Dublin Core Metadata Initiative.'\\nMERGE (a)-[:MENTIONS]->(e4)\\n\\nMERGE (e5:WebPage {url: 'https://github.com/OBO-Dashboard/issues'})\\nON CREATE SET e5.title = 'Use of http://purl.org/dc/elements/1.1/ vs ...', e5.date = '2021-05-09', e5.description = 'We need to make things easier for end-users that do not know what dce and dcterms is - they should be able to query ontologies in a unified way.'\\nMERGE (a)-[:MENTIONS]->(e5)\\n\\nMERGE (e6:WebPage {url: 'https://dcevents.dublincore.org/dcmi-asiapac'})\\nON CREATE SET e6.title = 'Ontologies', e6.description = 'ONTOLOGY is the formal term for VOCABULARY, which is a fancier term for TERM.'\\nMERGE (a)-[:MENTIONS]->(e6)\\n\\nMERGE (e7:WebPage {url: 'https://protege.stanford.edu/plugins/owl/dc/dublincore.owl'})\\nON CREATE SET e7.title = 'protégé', e7.description = 'Import Dublin Core elements ontology does not display 15 properties.'\\nMERGE (a)-[:MENTIONS]->(e7)\\n\\nMERGE (e8:WebPage {url: 'https://stackoverflow.com/questions/protégé-5-2-importing-dublin-core-elements'})\\nON CREATE SET e8.title = 'import Dublin Core elements ontology does not display 15 properties', e8.description = 'I am importing the Dublin Core elements inside protégé with this URL: http://purl.org/dc/elements/1.1 I was expecting to get access to the 15 properties.'\\nMERGE (a)-[:MENTIONS]->(e8)\\n\\nMERGE (e9:WebPage {url: 'https://oboacademy.github.io/obook/formatting-license'})\\nON CREATE SET e9.title = 'Formatting your ontology annotations correctly', e9.description = 'The new OBO Foundry guidelines encourage the annotation of ontologies with an appropriately formatted description, title and license.'\\nMERGE (a)-[:MENTIONS]->(e9)\\n\\nMERGE (e10:WebPage {url: 'https://purl.dataone.org/odo/SENSO_00000002'})\\nON CREATE SET e10.title = 'Sensitive Data Ontology (SENSO)', e10.date = '2021-09-28', e10.description = 'Sensitive data has been de-identified, anonymized, aggregated, or summarized to remove sensitivities and enable safe data distribution.'\\nMERGE (a)-[:MENTIONS]->(e10)\\n\",\"level\":\"INFO\",\"location\":\"query:21\",\"timestamp\":\"2024-10-01 11:48:12,516+0100\",\"service\":\"dassie\"}\n",
      "{\"message\":\"Neptune query response: {'ResponseMetadata': {'HTTPStatusCode': 200, 'HTTPHeaders': {'transfer-encoding': 'chunked'}, 'RetryAttempts': 0}, 'results': []}\",\"level\":\"INFO\",\"location\":\"query:26\",\"timestamp\":\"2024-10-01 11:48:12,568+0100\",\"service\":\"dassie\"}\n",
      "{\"message\":\"Neptune query response: {'ResponseMetadata': {'HTTPStatusCode': 200, 'HTTPHeaders': {'transfer-encoding': 'chunked'}, 'RetryAttempts': 0}, 'results': []}\",\"level\":\"INFO\",\"location\":\"query:26\",\"timestamp\":\"2024-10-01 11:48:12,644+0100\",\"service\":\"dassie\"}\n",
      "{\"message\":\"Neptune query response: {'ResponseMetadata': {'HTTPStatusCode': 200, 'HTTPHeaders': {'transfer-encoding': 'chunked'}, 'RetryAttempts': 0}, 'results': []}\",\"level\":\"INFO\",\"location\":\"query:26\",\"timestamp\":\"2024-10-01 11:48:12,711+0100\",\"service\":\"dassie\"}\n"
     ]
    },
    {
     "name": "stderr",
     "output_type": "stream",
     "text": [
      "/Users/davidburke/src/dassie/.venv/lib/python3.9/site-packages/urllib3/connectionpool.py:1063: InsecureRequestWarning: Unverified HTTPS request is being made to host '127.0.0.1'. Adding certificate verification is strongly advised. See: https://urllib3.readthedocs.io/en/1.26.x/advanced-usage.html#ssl-warnings\n",
      "  warnings.warn(\n",
      "/Users/davidburke/src/dassie/.venv/lib/python3.9/site-packages/urllib3/connectionpool.py:1063: InsecureRequestWarning: Unverified HTTPS request is being made to host '127.0.0.1'. Adding certificate verification is strongly advised. See: https://urllib3.readthedocs.io/en/1.26.x/advanced-usage.html#ssl-warnings\n",
      "  warnings.warn(\n",
      "/Users/davidburke/src/dassie/.venv/lib/python3.9/site-packages/urllib3/connectionpool.py:1063: InsecureRequestWarning: Unverified HTTPS request is being made to host '127.0.0.1'. Adding certificate verification is strongly advised. See: https://urllib3.readthedocs.io/en/1.26.x/advanced-usage.html#ssl-warnings\n",
      "  warnings.warn(\n",
      "/Users/davidburke/src/dassie/.venv/lib/python3.9/site-packages/urllib3/connectionpool.py:1063: InsecureRequestWarning: Unverified HTTPS request is being made to host '127.0.0.1'. Adding certificate verification is strongly advised. See: https://urllib3.readthedocs.io/en/1.26.x/advanced-usage.html#ssl-warnings\n",
      "  warnings.warn(\n"
     ]
    },
    {
     "name": "stdout",
     "output_type": "stream",
     "text": [
      "{\"message\":\"Neptune query response: {'ResponseMetadata': {'HTTPStatusCode': 200, 'HTTPHeaders': {'transfer-encoding': 'chunked'}, 'RetryAttempts': 0}, 'results': []}\",\"level\":\"INFO\",\"location\":\"query:26\",\"timestamp\":\"2024-10-01 11:48:12,764+0100\",\"service\":\"dassie\"}\n",
      "{\"message\":\"Neptune query response: {'ResponseMetadata': {'HTTPStatusCode': 200, 'HTTPHeaders': {'transfer-encoding': 'chunked'}, 'RetryAttempts': 0}, 'results': []}\",\"level\":\"INFO\",\"location\":\"query:26\",\"timestamp\":\"2024-10-01 11:48:12,847+0100\",\"service\":\"dassie\"}\n",
      "{\"message\":\"Neptune query response: {'ResponseMetadata': {'HTTPStatusCode': 200, 'HTTPHeaders': {'transfer-encoding': 'chunked'}, 'RetryAttempts': 0}, 'results': []}\",\"level\":\"INFO\",\"location\":\"query:26\",\"timestamp\":\"2024-10-01 11:48:12,925+0100\",\"service\":\"dassie\"}\n"
     ]
    },
    {
     "name": "stderr",
     "output_type": "stream",
     "text": [
      "/Users/davidburke/src/dassie/.venv/lib/python3.9/site-packages/urllib3/connectionpool.py:1063: InsecureRequestWarning: Unverified HTTPS request is being made to host '127.0.0.1'. Adding certificate verification is strongly advised. See: https://urllib3.readthedocs.io/en/1.26.x/advanced-usage.html#ssl-warnings\n",
      "  warnings.warn(\n",
      "/Users/davidburke/src/dassie/.venv/lib/python3.9/site-packages/urllib3/connectionpool.py:1063: InsecureRequestWarning: Unverified HTTPS request is being made to host '127.0.0.1'. Adding certificate verification is strongly advised. See: https://urllib3.readthedocs.io/en/1.26.x/advanced-usage.html#ssl-warnings\n",
      "  warnings.warn(\n",
      "/Users/davidburke/src/dassie/.venv/lib/python3.9/site-packages/urllib3/connectionpool.py:1063: InsecureRequestWarning: Unverified HTTPS request is being made to host '127.0.0.1'. Adding certificate verification is strongly advised. See: https://urllib3.readthedocs.io/en/1.26.x/advanced-usage.html#ssl-warnings\n",
      "  warnings.warn(\n"
     ]
    },
    {
     "name": "stdout",
     "output_type": "stream",
     "text": [
      "{\"message\":\"Neptune query response: {'ResponseMetadata': {'HTTPStatusCode': 200, 'HTTPHeaders': {'transfer-encoding': 'chunked'}, 'RetryAttempts': 0}, 'results': []}\",\"level\":\"INFO\",\"location\":\"query:26\",\"timestamp\":\"2024-10-01 11:48:13,001+0100\",\"service\":\"dassie\"}\n",
      "{\"message\":\"Neptune query response: {'ResponseMetadata': {'HTTPStatusCode': 200, 'HTTPHeaders': {'transfer-encoding': 'chunked'}, 'RetryAttempts': 0}, 'results': []}\",\"level\":\"INFO\",\"location\":\"query:26\",\"timestamp\":\"2024-10-01 11:48:13,079+0100\",\"service\":\"dassie\"}\n",
      "{\"message\":\"Neptune query response: {'ResponseMetadata': {'HTTPStatusCode': 200, 'HTTPHeaders': {'transfer-encoding': 'chunked'}, 'RetryAttempts': 0}, 'results': []}\",\"level\":\"INFO\",\"location\":\"query:26\",\"timestamp\":\"2024-10-01 11:48:13,134+0100\",\"service\":\"dassie\"}\n",
      "{\"message\":\"Neptune query response: {'ResponseMetadata': {'HTTPStatusCode': 200, 'HTTPHeaders': {'transfer-encoding': 'chunked'}, 'RetryAttempts': 0}, 'results': []}\",\"level\":\"INFO\",\"location\":\"query:26\",\"timestamp\":\"2024-10-01 11:48:13,196+0100\",\"service\":\"dassie\"}\n"
     ]
    },
    {
     "name": "stderr",
     "output_type": "stream",
     "text": [
      "/Users/davidburke/src/dassie/.venv/lib/python3.9/site-packages/urllib3/connectionpool.py:1063: InsecureRequestWarning: Unverified HTTPS request is being made to host '127.0.0.1'. Adding certificate verification is strongly advised. See: https://urllib3.readthedocs.io/en/1.26.x/advanced-usage.html#ssl-warnings\n",
      "  warnings.warn(\n",
      "/Users/davidburke/src/dassie/.venv/lib/python3.9/site-packages/urllib3/connectionpool.py:1063: InsecureRequestWarning: Unverified HTTPS request is being made to host '127.0.0.1'. Adding certificate verification is strongly advised. See: https://urllib3.readthedocs.io/en/1.26.x/advanced-usage.html#ssl-warnings\n",
      "  warnings.warn(\n",
      "/Users/davidburke/src/dassie/.venv/lib/python3.9/site-packages/urllib3/connectionpool.py:1063: InsecureRequestWarning: Unverified HTTPS request is being made to host '127.0.0.1'. Adding certificate verification is strongly advised. See: https://urllib3.readthedocs.io/en/1.26.x/advanced-usage.html#ssl-warnings\n",
      "  warnings.warn(\n",
      "/Users/davidburke/src/dassie/.venv/lib/python3.9/site-packages/urllib3/connectionpool.py:1063: InsecureRequestWarning: Unverified HTTPS request is being made to host '127.0.0.1'. Adding certificate verification is strongly advised. See: https://urllib3.readthedocs.io/en/1.26.x/advanced-usage.html#ssl-warnings\n",
      "  warnings.warn(\n"
     ]
    },
    {
     "name": "stdout",
     "output_type": "stream",
     "text": [
      "{\"message\":\"Neptune query response: {'ResponseMetadata': {'HTTPStatusCode': 200, 'HTTPHeaders': {'transfer-encoding': 'chunked'}, 'RetryAttempts': 0}, 'results': []}\",\"level\":\"INFO\",\"location\":\"query:26\",\"timestamp\":\"2024-10-01 11:48:13,250+0100\",\"service\":\"dassie\"}\n",
      "[[], [], [], [], [], [], [], [], [], [], []]\n",
      "---\n",
      "\n",
      "\n",
      "\n",
      "440499e8-daa3-43bb-a84e-b7a41b958bf0\n",
      "6ed3e97a-48bb-40df-8e8b-bbebf022494a\n",
      "{\"message\":\"Neptune query: \\nMERGE (article:Article {id: 'e6389c98-77ed-48e0-8f0d-6717635f0e64'})\\n\\nMERGE (gremlinInc:Company {name: 'Gremlin Inc.'})\\nMERGE (stackOverflow:Website {name: 'Stack Overflow'})\\nMERGE (janusGraph:Software {name: 'JanusGraph'})\\nMERGE (apacheTinkerPop:Software {name: 'Apache TinkerPop'})\\nMERGE (amazonWebServices:Company {name: 'Amazon Web Services'})\\nMERGE (googleGroups:Website {name: 'Google Groups'})\\n\\nMERGE (gremlinQueryLanguage:ProgrammingLanguage {name: 'Gremlin'})\\nMERGE (azureCosmosDB:Database {name: 'Azure Cosmos DB'})\\nMERGE (kubernetes:Software {name: 'Kubernetes'})\\nMERGE (chaosEngineering:EngineeringDiscipline {name: 'Chaos engineering'})\\nMERGE (devOps:EngineeringDiscipline {name: 'DevOps'})\\n\\nMERGE (webPage1:WebPage {url: 'https://www.gremlin.com/getting-started-authentication', title: 'Getting Started > Authenticating the Gremlin Agent'})\\nMERGE (webPage1)-[:PUBLISHED_BY]->(gremlinInc)\\nMERGE (article)-[:MENTIONS]->(webPage1)\\n\\nMERGE (webPage2:WebPage {url: 'https://stackoverflow.com/questions/gremlin-schema-validation', title: 'Gremlin schema validation - azure cosmosdb'})\\nMERGE (webPage2)-[:PUBLISHED_BY]->(stackOverflow)\\nMERGE (webPage2)-[:SUBJECT]->(gremlinQueryLanguage)\\nMERGE (webPage2)-[:SUBJECT]->(azureCosmosDB)\\nMERGE (article)-[:MENTIONS]->(webPage2)\\n\\nMERGE (webPage3:WebPage {url: 'https://www.gremlin.com/community/tutorials/how-to-validate-your-kubernetes-liveness-probes-using-gremlin', title: 'How to validate your Kubernetes liveness probes using Gremlin'})\\nMERGE (webPage3)-[:PUBLISHED_BY]->(gremlinInc)\\nMERGE (webPage3)-[:SUBJECT]->(kubernetes)\\nMERGE (article)-[:MENTIONS]->(webPage3)\\n\\nMERGE (webPage4:WebPage {url: 'https://docs.janusgraph.org/getting-started/gremlin', title: 'Gremlin Query Language'})\\nMERGE (webPage4)-[:PUBLISHED_BY]->(janusGraph)\\nMERGE (webPage4)-[:SUBJECT]->(gremlinQueryLanguage)\\nMERGE (article)-[:MENTIONS]->(webPage4)\\n\\nMERGE (webPage5:WebPage {url: 'https://tinkerpop.apache.org/gremlin', title: 'Gremlin - Apache TinkerPop'})\\nMERGE (webPage5)-[:PUBLISHED_BY]->(apacheTinkerPop)\\nMERGE (webPage5)-[:SUBJECT]->(gremlinQueryLanguage)\\nMERGE (article)-[:MENTIONS]->(webPage5)\\n\\nMERGE (webPage6:WebPage {url: 'https://gremlin.awsworkshop.io/36_first_experiment', title: 'Experiment #1: Validate Autoscaling :: MP DevOps Series'})\\nMERGE (webPage6)-[:PUBLISHED_BY]->(amazonWebServices)\\nMERGE (webPage6)-[:SUBJECT]->(devOps)\\nMERGE (article)-[:MENTIONS]->(webPage6)\\n\\nMERGE (webPage7:WebPage {url: 'https://tinkerpop.apache.org/docs/current/tutorials', title: 'The Gremlin Console'})\\nMERGE (webPage7)-[:PUBLISHED_BY]->(apacheTinkerPop)\\nMERGE (webPage7)-[:SUBJECT]->(gremlinQueryLanguage)\\nMERGE (article)-[:MENTIONS]->(webPage7)\\n\\nMERGE (webPage8:WebPage {url: 'https://aws.amazon.com/blogs/apn/how-gremlins-chaos-engineering-platform-validates', title: 'How Gremlin's Chaos Engineering Platform Validates'})\\nMERGE (webPage8)-[:PUBLISHED_BY]->(amazonWebServices)\\nMERGE (webPage8)-[:SUBJECT]->(chaosEngineering)\\nMERGE (article)-[:MENTIONS]->(webPage8)\\n\\nMERGE (webPage9:WebPage {url: 'https://gremlin.awsworkshop.io/36_first_experiment', title: '6.5 Validate Action Items :: MP DevOps Series'})\\nMERGE (webPage9)-[:PUBLISHED_BY]->(amazonWebServices)\\nMERGE (webPage9)-[:SUBJECT]->(devOps)\\nMERGE (article)-[:MENTIONS]->(webPage9)\\n\\nMERGE (webPage10:WebPage {url: 'https://groups.google.com/YFseUTsuHY8', title: 'How to verify a remote graph connection?'})\\nMERGE (webPage10)-[:PUBLISHED_BY]->(googleGroups)\\nMERGE (webPage10)-[:SUBJECT]->(gremlinQueryLanguage)\\nMERGE (article)-[:MENTIONS]->(webPage10)\\n\",\"level\":\"INFO\",\"location\":\"query:21\",\"timestamp\":\"2024-10-01 11:48:13,869+0100\",\"service\":\"dassie\"}\n",
      "{\"message\":\"Neptune query response: {'ResponseMetadata': {'HTTPStatusCode': 200, 'HTTPHeaders': {'transfer-encoding': 'chunked'}, 'RetryAttempts': 0}, 'results': []}\",\"level\":\"INFO\",\"location\":\"query:26\",\"timestamp\":\"2024-10-01 11:48:13,926+0100\",\"service\":\"dassie\"}\n",
      "{\"message\":\"Neptune query response: {'ResponseMetadata': {'HTTPStatusCode': 200, 'HTTPHeaders': {'transfer-encoding': 'chunked'}, 'RetryAttempts': 0}, 'results': []}\",\"level\":\"INFO\",\"location\":\"query:26\",\"timestamp\":\"2024-10-01 11:48:14,030+0100\",\"service\":\"dassie\"}\n"
     ]
    },
    {
     "name": "stderr",
     "output_type": "stream",
     "text": [
      "/Users/davidburke/src/dassie/.venv/lib/python3.9/site-packages/urllib3/connectionpool.py:1063: InsecureRequestWarning: Unverified HTTPS request is being made to host '127.0.0.1'. Adding certificate verification is strongly advised. See: https://urllib3.readthedocs.io/en/1.26.x/advanced-usage.html#ssl-warnings\n",
      "  warnings.warn(\n",
      "/Users/davidburke/src/dassie/.venv/lib/python3.9/site-packages/urllib3/connectionpool.py:1063: InsecureRequestWarning: Unverified HTTPS request is being made to host '127.0.0.1'. Adding certificate verification is strongly advised. See: https://urllib3.readthedocs.io/en/1.26.x/advanced-usage.html#ssl-warnings\n",
      "  warnings.warn(\n",
      "/Users/davidburke/src/dassie/.venv/lib/python3.9/site-packages/urllib3/connectionpool.py:1063: InsecureRequestWarning: Unverified HTTPS request is being made to host '127.0.0.1'. Adding certificate verification is strongly advised. See: https://urllib3.readthedocs.io/en/1.26.x/advanced-usage.html#ssl-warnings\n",
      "  warnings.warn(\n"
     ]
    },
    {
     "name": "stdout",
     "output_type": "stream",
     "text": [
      "{\"message\":\"Neptune query response: {'ResponseMetadata': {'HTTPStatusCode': 200, 'HTTPHeaders': {'transfer-encoding': 'chunked'}, 'RetryAttempts': 0}, 'results': []}\",\"level\":\"INFO\",\"location\":\"query:26\",\"timestamp\":\"2024-10-01 11:48:14,109+0100\",\"service\":\"dassie\"}\n",
      "{\"message\":\"Neptune query response: {'ResponseMetadata': {'HTTPStatusCode': 200, 'HTTPHeaders': {'transfer-encoding': 'chunked'}, 'RetryAttempts': 0}, 'results': []}\",\"level\":\"INFO\",\"location\":\"query:26\",\"timestamp\":\"2024-10-01 11:48:14,180+0100\",\"service\":\"dassie\"}\n",
      "{\"message\":\"Neptune query response: {'ResponseMetadata': {'HTTPStatusCode': 200, 'HTTPHeaders': {'transfer-encoding': 'chunked'}, 'RetryAttempts': 0}, 'results': []}\",\"level\":\"INFO\",\"location\":\"query:26\",\"timestamp\":\"2024-10-01 11:48:14,282+0100\",\"service\":\"dassie\"}\n"
     ]
    },
    {
     "name": "stderr",
     "output_type": "stream",
     "text": [
      "/Users/davidburke/src/dassie/.venv/lib/python3.9/site-packages/urllib3/connectionpool.py:1063: InsecureRequestWarning: Unverified HTTPS request is being made to host '127.0.0.1'. Adding certificate verification is strongly advised. See: https://urllib3.readthedocs.io/en/1.26.x/advanced-usage.html#ssl-warnings\n",
      "  warnings.warn(\n",
      "/Users/davidburke/src/dassie/.venv/lib/python3.9/site-packages/urllib3/connectionpool.py:1063: InsecureRequestWarning: Unverified HTTPS request is being made to host '127.0.0.1'. Adding certificate verification is strongly advised. See: https://urllib3.readthedocs.io/en/1.26.x/advanced-usage.html#ssl-warnings\n",
      "  warnings.warn(\n",
      "/Users/davidburke/src/dassie/.venv/lib/python3.9/site-packages/urllib3/connectionpool.py:1063: InsecureRequestWarning: Unverified HTTPS request is being made to host '127.0.0.1'. Adding certificate verification is strongly advised. See: https://urllib3.readthedocs.io/en/1.26.x/advanced-usage.html#ssl-warnings\n",
      "  warnings.warn(\n"
     ]
    },
    {
     "name": "stdout",
     "output_type": "stream",
     "text": [
      "{\"message\":\"Neptune query response: {'ResponseMetadata': {'HTTPStatusCode': 200, 'HTTPHeaders': {'transfer-encoding': 'chunked'}, 'RetryAttempts': 0}, 'results': []}\",\"level\":\"INFO\",\"location\":\"query:26\",\"timestamp\":\"2024-10-01 11:48:14,359+0100\",\"service\":\"dassie\"}\n",
      "{\"message\":\"Neptune query response: {'ResponseMetadata': {'HTTPStatusCode': 200, 'HTTPHeaders': {'transfer-encoding': 'chunked'}, 'RetryAttempts': 0}, 'results': []}\",\"level\":\"INFO\",\"location\":\"query:26\",\"timestamp\":\"2024-10-01 11:48:14,433+0100\",\"service\":\"dassie\"}\n",
      "{\"message\":\"Neptune query response: {'ResponseMetadata': {'HTTPStatusCode': 200, 'HTTPHeaders': {'transfer-encoding': 'chunked'}, 'RetryAttempts': 0}, 'results': []}\",\"level\":\"INFO\",\"location\":\"query:26\",\"timestamp\":\"2024-10-01 11:48:14,518+0100\",\"service\":\"dassie\"}\n"
     ]
    },
    {
     "name": "stderr",
     "output_type": "stream",
     "text": [
      "/Users/davidburke/src/dassie/.venv/lib/python3.9/site-packages/urllib3/connectionpool.py:1063: InsecureRequestWarning: Unverified HTTPS request is being made to host '127.0.0.1'. Adding certificate verification is strongly advised. See: https://urllib3.readthedocs.io/en/1.26.x/advanced-usage.html#ssl-warnings\n",
      "  warnings.warn(\n",
      "/Users/davidburke/src/dassie/.venv/lib/python3.9/site-packages/urllib3/connectionpool.py:1063: InsecureRequestWarning: Unverified HTTPS request is being made to host '127.0.0.1'. Adding certificate verification is strongly advised. See: https://urllib3.readthedocs.io/en/1.26.x/advanced-usage.html#ssl-warnings\n",
      "  warnings.warn(\n",
      "/Users/davidburke/src/dassie/.venv/lib/python3.9/site-packages/urllib3/connectionpool.py:1063: InsecureRequestWarning: Unverified HTTPS request is being made to host '127.0.0.1'. Adding certificate verification is strongly advised. See: https://urllib3.readthedocs.io/en/1.26.x/advanced-usage.html#ssl-warnings\n",
      "  warnings.warn(\n"
     ]
    },
    {
     "name": "stdout",
     "output_type": "stream",
     "text": [
      "{\"message\":\"Neptune query response: {'ResponseMetadata': {'HTTPStatusCode': 200, 'HTTPHeaders': {'transfer-encoding': 'chunked'}, 'RetryAttempts': 0}, 'results': []}\",\"level\":\"INFO\",\"location\":\"query:26\",\"timestamp\":\"2024-10-01 11:48:14,596+0100\",\"service\":\"dassie\"}\n",
      "{\"message\":\"Neptune query response: {'ResponseMetadata': {'HTTPStatusCode': 200, 'HTTPHeaders': {'transfer-encoding': 'chunked'}, 'RetryAttempts': 0}, 'results': []}\",\"level\":\"INFO\",\"location\":\"query:26\",\"timestamp\":\"2024-10-01 11:48:14,679+0100\",\"service\":\"dassie\"}\n",
      "{\"message\":\"Error querying Neptune: An error occurred (MalformedQueryException) when calling the ExecuteOpenCypherQuery operation: Invalid input ' ': expected 't/T' (line 1, column 138 (offset: 137))\",\"level\":\"ERROR\",\"location\":\"query:34\",\"timestamp\":\"2024-10-01 11:48:14,711+0100\",\"service\":\"dassie\"}\n",
      "An error occurred (MalformedQueryException) when calling the ExecuteOpenCypherQuery operation: Invalid input ' ': expected 't/T' (line 1, column 138 (offset: 137))\n",
      "---\n",
      "\n",
      "\n",
      "\n"
     ]
    },
    {
     "name": "stderr",
     "output_type": "stream",
     "text": [
      "/Users/davidburke/src/dassie/.venv/lib/python3.9/site-packages/urllib3/connectionpool.py:1063: InsecureRequestWarning: Unverified HTTPS request is being made to host '127.0.0.1'. Adding certificate verification is strongly advised. See: https://urllib3.readthedocs.io/en/1.26.x/advanced-usage.html#ssl-warnings\n",
      "  warnings.warn(\n",
      "/Users/davidburke/src/dassie/.venv/lib/python3.9/site-packages/urllib3/connectionpool.py:1063: InsecureRequestWarning: Unverified HTTPS request is being made to host '127.0.0.1'. Adding certificate verification is strongly advised. See: https://urllib3.readthedocs.io/en/1.26.x/advanced-usage.html#ssl-warnings\n",
      "  warnings.warn(\n"
     ]
    },
    {
     "name": "stdout",
     "output_type": "stream",
     "text": [
      "400b5a98-f9dc-4def-8eff-8dba10c33105\n",
      "a29d95c7-00d7-4e2e-8186-79e1a202a1ae\n",
      "{\"message\":\"Neptune query: \\n\",\"level\":\"INFO\",\"location\":\"query:21\",\"timestamp\":\"2024-10-01 11:48:15,465+0100\",\"service\":\"dassie\"}\n",
      "{\"message\":\"Error querying Neptune: An error occurred (MalformedQueryException) when calling the ExecuteOpenCypherQuery operation: Unexpected end of input: expected whitespace, comment, EXPLAIN or Query (line 2, column 1 (offset: 1))\",\"level\":\"ERROR\",\"location\":\"query:34\",\"timestamp\":\"2024-10-01 11:48:15,512+0100\",\"service\":\"dassie\"}\n",
      "An error occurred (MalformedQueryException) when calling the ExecuteOpenCypherQuery operation: Unexpected end of input: expected whitespace, comment, EXPLAIN or Query (line 2, column 1 (offset: 1))\n",
      "---\n",
      "\n",
      "\n",
      "\n"
     ]
    },
    {
     "name": "stderr",
     "output_type": "stream",
     "text": [
      "/Users/davidburke/src/dassie/.venv/lib/python3.9/site-packages/urllib3/connectionpool.py:1063: InsecureRequestWarning: Unverified HTTPS request is being made to host '127.0.0.1'. Adding certificate verification is strongly advised. See: https://urllib3.readthedocs.io/en/1.26.x/advanced-usage.html#ssl-warnings\n",
      "  warnings.warn(\n"
     ]
    },
    {
     "name": "stdout",
     "output_type": "stream",
     "text": [
      "a678af52-b1e8-442a-becf-1b0291461d6d\n",
      "b2263e98-f750-4d78-b24d-0850cc24f8a4\n",
      "'NoneType' object has no attribute 'startswith'\n",
      "---\n",
      "\n",
      "\n",
      "\n",
      "abf54253-487b-4281-935c-c033b1922cd6\n",
      "526a55df-5443-4754-aa8d-0e50ab4cfe3a\n",
      "'NoneType' object has no attribute 'startswith'\n",
      "---\n",
      "\n",
      "\n",
      "\n",
      "0f2aa06b-2ab3-47ee-ae16-19428e58a73d\n",
      "fdc3f724-23e1-470e-8114-4c2b7583ef77\n",
      "{\"message\":\"Neptune query: \\nMERGE (a:Article {id: 'f31c0308-a8ba-4f25-b910-42e6bfcab614'})\\n\\nMERGE (jz1:Person {name: 'John Zhou'})\\nSET jz1.occupation = 'Engineering Manager'\\nMERGE (meta:Company {name: 'Meta'})\\nMERGE (jz1)-[:EMPLOYED_BY]->(meta)\\nMERGE (ucb:University {name: 'University of California, Berkeley'})\\nMERGE (jz1)-[:ALUMNUS_OF]->(ucb)\\nMERGE (sfba:Location {name: 'San Francisco Bay Area'})\\nMERGE (jz1)-[:LOCATED_IN]->(sfba)\\nMERGE (jz1)-[:MENTIONED_IN]->(a)\\n\\nMERGE (jz2:Person {name: 'John Zhou'})\\nSET jz2.occupation = 'Sourcing and Supply Chain Manager'\\nSET jz2.occupation2 = 'Product Development Manager'\\nSET jz2.occupation3 = 'Engineering Program Manager'\\nMERGE (ddh:Company {name: 'Drive DeVilbiss Healthcare'})\\nMERGE (jz2)-[:EMPLOYED_BY]->(ddh)\\nMERGE (shenzhen:Location {name: 'Shenzhen'})\\nMERGE (jz2)-[:LOCATED_IN]->(shenzhen)\\nMERGE (jz2)-[:MENTIONED_IN]->(a)\\n\\nMERGE (jz3:Person {name: 'John Zhou'})\\nSET jz3.occupation = 'Senior Engineering Manager'\\nMERGE (lifeline:Company {name: 'Lifeline'})\\nMERGE (jz3)-[:EMPLOYED_BY]->(lifeline)\\nMERGE (philips:Company {name: 'Philips Lifeline'})\\nMERGE (jz3)-[:FORMERLY_EMPLOYED_BY]->(philips)\\nMERGE (jz3)-[:MENTIONED_IN]->(a)\\n\\nMERGE (jzz:Person {name: 'John Zeyang Zhou'})\\nSET jzz.occupation = 'PhD Student'\\nMERGE (uts:University {name: 'University of Technology Sydney'})\\nMERGE (jzz)-[:ALUMNUS_OF]->(uts)\\nMERGE (ai:Field {name: 'Artificial Intelligence'})\\nMERGE (jzz)-[:SPECIALIZES_IN]->(ai)\\nMERGE (da:Field {name: 'Data Analytics'})\\nMERGE (jzz)-[:SPECIALIZES_IN]->(da)\\nMERGE (jzz)-[:MENTIONED_IN]->(a)\\n\\nMERGE (jlz:Person {name: 'John L. Zhou'})\\nSET jlz.occupation = 'Environmental Engineer'\\nMERGE (uts2:University {name: 'University of Technology Sydney'})\\nMERGE (jlz)-[:ALUMNUS_OF]->(uts2)\\nMERGE (ec:Field {name: 'Environmental Chemistry'})\\nMERGE (jlz)-[:SPECIALIZES_IN]->(ec)\\nMERGE (wt:Field {name: 'Water Technology'})\\nMERGE (jlz)-[:SPECIALIZES_IN]->(wt)\\nMERGE (ve:Field {name: 'Vehicle Emissions'})\\nMERGE (jlz)-[:SPECIALIZES_IN]->(ve)\\nMERGE (jlz)-[:MENTIONED_IN]->(a)\\n\",\"level\":\"INFO\",\"location\":\"query:21\",\"timestamp\":\"2024-10-01 11:48:16,713+0100\",\"service\":\"dassie\"}\n",
      "{\"message\":\"Neptune query response: {'ResponseMetadata': {'HTTPStatusCode': 200, 'HTTPHeaders': {'transfer-encoding': 'chunked'}, 'RetryAttempts': 0}, 'results': []}\",\"level\":\"INFO\",\"location\":\"query:26\",\"timestamp\":\"2024-10-01 11:48:16,767+0100\",\"service\":\"dassie\"}\n",
      "{\"message\":\"Neptune query response: {'ResponseMetadata': {'HTTPStatusCode': 200, 'HTTPHeaders': {'transfer-encoding': 'chunked'}, 'RetryAttempts': 0}, 'results': []}\",\"level\":\"INFO\",\"location\":\"query:26\",\"timestamp\":\"2024-10-01 11:48:16,904+0100\",\"service\":\"dassie\"}\n"
     ]
    },
    {
     "name": "stderr",
     "output_type": "stream",
     "text": [
      "/Users/davidburke/src/dassie/.venv/lib/python3.9/site-packages/urllib3/connectionpool.py:1063: InsecureRequestWarning: Unverified HTTPS request is being made to host '127.0.0.1'. Adding certificate verification is strongly advised. See: https://urllib3.readthedocs.io/en/1.26.x/advanced-usage.html#ssl-warnings\n",
      "  warnings.warn(\n",
      "/Users/davidburke/src/dassie/.venv/lib/python3.9/site-packages/urllib3/connectionpool.py:1063: InsecureRequestWarning: Unverified HTTPS request is being made to host '127.0.0.1'. Adding certificate verification is strongly advised. See: https://urllib3.readthedocs.io/en/1.26.x/advanced-usage.html#ssl-warnings\n",
      "  warnings.warn(\n",
      "/Users/davidburke/src/dassie/.venv/lib/python3.9/site-packages/urllib3/connectionpool.py:1063: InsecureRequestWarning: Unverified HTTPS request is being made to host '127.0.0.1'. Adding certificate verification is strongly advised. See: https://urllib3.readthedocs.io/en/1.26.x/advanced-usage.html#ssl-warnings\n",
      "  warnings.warn(\n"
     ]
    },
    {
     "name": "stdout",
     "output_type": "stream",
     "text": [
      "{\"message\":\"Neptune query response: {'ResponseMetadata': {'HTTPStatusCode': 200, 'HTTPHeaders': {'transfer-encoding': 'chunked'}, 'RetryAttempts': 0}, 'results': []}\",\"level\":\"INFO\",\"location\":\"query:26\",\"timestamp\":\"2024-10-01 11:48:17,001+0100\",\"service\":\"dassie\"}\n",
      "{\"message\":\"Neptune query response: {'ResponseMetadata': {'HTTPStatusCode': 200, 'HTTPHeaders': {'transfer-encoding': 'chunked'}, 'RetryAttempts': 0}, 'results': []}\",\"level\":\"INFO\",\"location\":\"query:26\",\"timestamp\":\"2024-10-01 11:48:17,101+0100\",\"service\":\"dassie\"}\n"
     ]
    },
    {
     "name": "stderr",
     "output_type": "stream",
     "text": [
      "/Users/davidburke/src/dassie/.venv/lib/python3.9/site-packages/urllib3/connectionpool.py:1063: InsecureRequestWarning: Unverified HTTPS request is being made to host '127.0.0.1'. Adding certificate verification is strongly advised. See: https://urllib3.readthedocs.io/en/1.26.x/advanced-usage.html#ssl-warnings\n",
      "  warnings.warn(\n",
      "/Users/davidburke/src/dassie/.venv/lib/python3.9/site-packages/urllib3/connectionpool.py:1063: InsecureRequestWarning: Unverified HTTPS request is being made to host '127.0.0.1'. Adding certificate verification is strongly advised. See: https://urllib3.readthedocs.io/en/1.26.x/advanced-usage.html#ssl-warnings\n",
      "  warnings.warn(\n"
     ]
    },
    {
     "name": "stdout",
     "output_type": "stream",
     "text": [
      "{\"message\":\"Neptune query response: {'ResponseMetadata': {'HTTPStatusCode': 200, 'HTTPHeaders': {'transfer-encoding': 'chunked'}, 'RetryAttempts': 0}, 'results': []}\",\"level\":\"INFO\",\"location\":\"query:26\",\"timestamp\":\"2024-10-01 11:48:17,251+0100\",\"service\":\"dassie\"}\n",
      "{\"message\":\"Neptune query response: {'ResponseMetadata': {'HTTPStatusCode': 200, 'HTTPHeaders': {'transfer-encoding': 'chunked'}, 'RetryAttempts': 0}, 'results': []}\",\"level\":\"INFO\",\"location\":\"query:26\",\"timestamp\":\"2024-10-01 11:48:17,395+0100\",\"service\":\"dassie\"}\n",
      "[[], [], [], [], [], []]\n"
     ]
    },
    {
     "name": "stderr",
     "output_type": "stream",
     "text": [
      "/Users/davidburke/src/dassie/.venv/lib/python3.9/site-packages/urllib3/connectionpool.py:1063: InsecureRequestWarning: Unverified HTTPS request is being made to host '127.0.0.1'. Adding certificate verification is strongly advised. See: https://urllib3.readthedocs.io/en/1.26.x/advanced-usage.html#ssl-warnings\n",
      "  warnings.warn(\n"
     ]
    },
    {
     "name": "stdout",
     "output_type": "stream",
     "text": [
      "\n",
      "MERGE (a:Article {id: 'f31c0308-a8ba-4f25-b910-42e6bfcab614'})\n",
      "\n",
      "MERGE (jz1:Person {name: 'John Zhou'})\n",
      "MERGE (meta:Company {name: 'Meta'})\n",
      "MERGE (ucb:University {name: 'University of California, Berkeley'})\n",
      "MERGE (sfba:Location {name: 'San Francisco Bay Area'})\n",
      "MERGE (jz1)-[:EMPLOYED_BY]->(meta)\n",
      "MERGE (jz1)-[:ALUMNUS_OF]->(ucb)\n",
      "MERGE (jz1)-[:LOCATED_IN]->(sfba)\n",
      "MERGE (jz1)-[:MENTIONED_IN]->(a)\n",
      "\n",
      "MERGE (jz2:Person {name: 'John Zhou'})\n",
      "MERGE (ddh:Company {name: 'Drive DeVilbiss Healthcare'})\n",
      "MERGE (sz:Location {name: 'Shenzhen'})\n",
      "MERGE (jz2)-[:EMPLOYED_BY]->(ddh)\n",
      "MERGE (jz2)-[:LOCATED_IN]->(sz)\n",
      "MERGE (jz2)-[:HAS_OCCUPATION]->(:Occupation {title: 'Sourcing and Supply Chain Manager'})\n",
      "MERGE (jz2)-[:HAS_OCCUPATION]->(:Occupation {title: 'Product Development Manager'})\n",
      "MERGE (jz2)-[:HAS_OCCUPATION]->(:Occupation {title: 'Engineering Program Manager'})\n",
      "MERGE (jz2)-[:MENTIONED_IN]->(a)\n",
      "\n",
      "MERGE (jz3:Person {name: 'John Zhou'})\n",
      "MERGE (lifeline:Company {name: 'Lifeline'})\n",
      "MERGE (philips:Company {name: 'Philips Lifeline'})\n",
      "MERGE (jz3)-[:EMPLOYED_BY]->(lifeline)\n",
      "MERGE (jz3)-[:FORMERLY_EMPLOYED_BY]->(philips)\n",
      "MERGE (jz3)-[:HAS_OCCUPATION]->(:Occupation {title: 'Senior Engineering Manager'})\n",
      "MERGE (jz3)-[:MENTIONED_IN]->(a)\n",
      "\n",
      "MERGE (jzz:Person {name: 'John Zeyang Zhou'})\n",
      "MERGE (uts:University {name: 'University of Technology Sydney'})\n",
      "MERGE (jzz)-[:ALUMNUS_OF]->(uts)\n",
      "MERGE (jzz)-[:HAS_OCCUPATION]->(:Occupation {title: 'PhD Student'})\n",
      "MERGE (jzz)-[:HAS_FIELD]->(:Field {name: 'Artificial Intelligence'})\n",
      "MERGE (jzz)-[:HAS_FIELD]->(:Field {name: 'Data Analytics'})\n",
      "MERGE (jzz)-[:MENTIONED_IN]->(a)\n",
      "\n",
      "MERGE (jlz:Person {name: 'John L. Zhou'})\n",
      "MERGE (jlz)-[:ALUMNUS_OF]->(uts)\n",
      "MERGE (jlz)-[:HAS_OCCUPATION]->(:Occupation {title: 'Environmental Engineer'})\n",
      "MERGE (jlz)-[:HAS_FIELD]->(:Field {name: 'Environmental Chemistry'})\n",
      "MERGE (jlz)-[:HAS_FIELD]->(:Field {name: 'Water Technology'})\n",
      "MERGE (jlz)-[:HAS_FIELD]->(:Field {name: 'Vehicle Emissions'})\n",
      "MERGE (jlz)-[:MENTIONED_IN]->(a)\n",
      "\n",
      "{\"message\":\"Neptune query: \\nMERGE (a:Article {id: 'f31c0308-a8ba-4f25-b910-42e6bfcab614'})\\n\\nMERGE (jz1:Person {name: 'John Zhou'})\\nMERGE (meta:Company {name: 'Meta'})\\nMERGE (ucb:University {name: 'University of California, Berkeley'})\\nMERGE (sfba:Location {name: 'San Francisco Bay Area'})\\nMERGE (jz1)-[:EMPLOYED_BY]->(meta)\\nMERGE (jz1)-[:ALUMNUS_OF]->(ucb)\\nMERGE (jz1)-[:LOCATED_IN]->(sfba)\\nMERGE (jz1)-[:MENTIONED_IN]->(a)\\n\\nMERGE (jz2:Person {name: 'John Zhou'})\\nMERGE (ddh:Company {name: 'Drive DeVilbiss Healthcare'})\\nMERGE (sz:Location {name: 'Shenzhen'})\\nMERGE (jz2)-[:EMPLOYED_BY]->(ddh)\\nMERGE (jz2)-[:LOCATED_IN]->(sz)\\nMERGE (jz2)-[:HAS_OCCUPATION]->(:Occupation {title: 'Sourcing and Supply Chain Manager'})\\nMERGE (jz2)-[:HAS_OCCUPATION]->(:Occupation {title: 'Product Development Manager'})\\nMERGE (jz2)-[:HAS_OCCUPATION]->(:Occupation {title: 'Engineering Program Manager'})\\nMERGE (jz2)-[:MENTIONED_IN]->(a)\\n\\nMERGE (jz3:Person {name: 'John Zhou'})\\nMERGE (lifeline:Company {name: 'Lifeline'})\\nMERGE (philips:Company {name: 'Philips Lifeline'})\\nMERGE (jz3)-[:EMPLOYED_BY]->(lifeline)\\nMERGE (jz3)-[:FORMERLY_EMPLOYED_BY]->(philips)\\nMERGE (jz3)-[:HAS_OCCUPATION]->(:Occupation {title: 'Senior Engineering Manager'})\\nMERGE (jz3)-[:MENTIONED_IN]->(a)\\n\\nMERGE (jzz:Person {name: 'John Zeyang Zhou'})\\nMERGE (uts:University {name: 'University of Technology Sydney'})\\nMERGE (jzz)-[:ALUMNUS_OF]->(uts)\\nMERGE (jzz)-[:HAS_OCCUPATION]->(:Occupation {title: 'PhD Student'})\\nMERGE (jzz)-[:HAS_FIELD]->(:Field {name: 'Artificial Intelligence'})\\nMERGE (jzz)-[:HAS_FIELD]->(:Field {name: 'Data Analytics'})\\nMERGE (jzz)-[:MENTIONED_IN]->(a)\\n\\nMERGE (jlz:Person {name: 'John L. Zhou'})\\nMERGE (jlz)-[:ALUMNUS_OF]->(uts)\\nMERGE (jlz)-[:HAS_OCCUPATION]->(:Occupation {title: 'Environmental Engineer'})\\nMERGE (jlz)-[:HAS_FIELD]->(:Field {name: 'Environmental Chemistry'})\\nMERGE (jlz)-[:HAS_FIELD]->(:Field {name: 'Water Technology'})\\nMERGE (jlz)-[:HAS_FIELD]->(:Field {name: 'Vehicle Emissions'})\\nMERGE (jlz)-[:MENTIONED_IN]->(a)\\n\",\"level\":\"INFO\",\"location\":\"query:21\",\"timestamp\":\"2024-10-01 11:48:34,549+0100\",\"service\":\"dassie\"}\n",
      "{\"message\":\"Neptune query response: {'ResponseMetadata': {'HTTPStatusCode': 200, 'HTTPHeaders': {'transfer-encoding': 'chunked'}, 'RetryAttempts': 0}, 'results': []}\",\"level\":\"INFO\",\"location\":\"query:26\",\"timestamp\":\"2024-10-01 11:48:34,623+0100\",\"service\":\"dassie\"}\n",
      "{\"message\":\"Neptune query response: {'ResponseMetadata': {'HTTPStatusCode': 200, 'HTTPHeaders': {'transfer-encoding': 'chunked'}, 'RetryAttempts': 0}, 'results': []}\",\"level\":\"INFO\",\"location\":\"query:26\",\"timestamp\":\"2024-10-01 11:48:34,741+0100\",\"service\":\"dassie\"}\n"
     ]
    },
    {
     "name": "stderr",
     "output_type": "stream",
     "text": [
      "/Users/davidburke/src/dassie/.venv/lib/python3.9/site-packages/urllib3/connectionpool.py:1063: InsecureRequestWarning: Unverified HTTPS request is being made to host '127.0.0.1'. Adding certificate verification is strongly advised. See: https://urllib3.readthedocs.io/en/1.26.x/advanced-usage.html#ssl-warnings\n",
      "  warnings.warn(\n",
      "/Users/davidburke/src/dassie/.venv/lib/python3.9/site-packages/urllib3/connectionpool.py:1063: InsecureRequestWarning: Unverified HTTPS request is being made to host '127.0.0.1'. Adding certificate verification is strongly advised. See: https://urllib3.readthedocs.io/en/1.26.x/advanced-usage.html#ssl-warnings\n",
      "  warnings.warn(\n",
      "/Users/davidburke/src/dassie/.venv/lib/python3.9/site-packages/urllib3/connectionpool.py:1063: InsecureRequestWarning: Unverified HTTPS request is being made to host '127.0.0.1'. Adding certificate verification is strongly advised. See: https://urllib3.readthedocs.io/en/1.26.x/advanced-usage.html#ssl-warnings\n",
      "  warnings.warn(\n"
     ]
    },
    {
     "name": "stdout",
     "output_type": "stream",
     "text": [
      "{\"message\":\"Neptune query response: {'ResponseMetadata': {'HTTPStatusCode': 200, 'HTTPHeaders': {'transfer-encoding': 'chunked'}, 'RetryAttempts': 0}, 'results': []}\",\"level\":\"INFO\",\"location\":\"query:26\",\"timestamp\":\"2024-10-01 11:48:34,896+0100\",\"service\":\"dassie\"}\n",
      "{\"message\":\"Neptune query response: {'ResponseMetadata': {'HTTPStatusCode': 200, 'HTTPHeaders': {'transfer-encoding': 'chunked'}, 'RetryAttempts': 0}, 'results': []}\",\"level\":\"INFO\",\"location\":\"query:26\",\"timestamp\":\"2024-10-01 11:48:35,011+0100\",\"service\":\"dassie\"}\n"
     ]
    },
    {
     "name": "stderr",
     "output_type": "stream",
     "text": [
      "/Users/davidburke/src/dassie/.venv/lib/python3.9/site-packages/urllib3/connectionpool.py:1063: InsecureRequestWarning: Unverified HTTPS request is being made to host '127.0.0.1'. Adding certificate verification is strongly advised. See: https://urllib3.readthedocs.io/en/1.26.x/advanced-usage.html#ssl-warnings\n",
      "  warnings.warn(\n",
      "/Users/davidburke/src/dassie/.venv/lib/python3.9/site-packages/urllib3/connectionpool.py:1063: InsecureRequestWarning: Unverified HTTPS request is being made to host '127.0.0.1'. Adding certificate verification is strongly advised. See: https://urllib3.readthedocs.io/en/1.26.x/advanced-usage.html#ssl-warnings\n",
      "  warnings.warn(\n"
     ]
    },
    {
     "name": "stdout",
     "output_type": "stream",
     "text": [
      "{\"message\":\"Neptune query response: {'ResponseMetadata': {'HTTPStatusCode': 200, 'HTTPHeaders': {'transfer-encoding': 'chunked'}, 'RetryAttempts': 0}, 'results': []}\",\"level\":\"INFO\",\"location\":\"query:26\",\"timestamp\":\"2024-10-01 11:48:35,152+0100\",\"service\":\"dassie\"}\n",
      "{\"message\":\"Neptune query response: {'ResponseMetadata': {'HTTPStatusCode': 200, 'HTTPHeaders': {'transfer-encoding': 'chunked'}, 'RetryAttempts': 0}, 'results': []}\",\"level\":\"INFO\",\"location\":\"query:26\",\"timestamp\":\"2024-10-01 11:48:35,308+0100\",\"service\":\"dassie\"}\n",
      "[[], [], [], [], [], []]\n",
      "---\n",
      "\n",
      "\n",
      "\n"
     ]
    },
    {
     "name": "stderr",
     "output_type": "stream",
     "text": [
      "/Users/davidburke/src/dassie/.venv/lib/python3.9/site-packages/urllib3/connectionpool.py:1063: InsecureRequestWarning: Unverified HTTPS request is being made to host '127.0.0.1'. Adding certificate verification is strongly advised. See: https://urllib3.readthedocs.io/en/1.26.x/advanced-usage.html#ssl-warnings\n",
      "  warnings.warn(\n"
     ]
    },
    {
     "name": "stdout",
     "output_type": "stream",
     "text": [
      "f14b06dc-ed13-4176-a0a7-e387caf0dbb8\n",
      "65aca93f-54d5-47c7-a7c5-02dbeca42a8c\n",
      "'NoneType' object has no attribute 'startswith'\n",
      "---\n",
      "\n",
      "\n",
      "\n",
      "1f57e286-22da-45c5-b495-bb7d45771ecc\n",
      "95b7b28b-96a0-4786-8fc3-81f3f59cb42c\n",
      "{\"message\":\"Neptune query: \\nMERGE (a:Article {id: 'c2bb9b72-a6fd-437d-bf7a-5654d359c732'})\\n\\nMERGE (johnZhou:Person {name: 'John Zhou'})\\nSET johnZhou.occupation = 'Engineer', johnZhou.followers = '460+', johnZhou.connections = '459', johnZhou.experience = '15+ years in the industry and 10+ years at Meta'\\nMERGE (meta:Company {name: 'Meta'})\\nMERGE (sfBayArea:Location {name: 'San Francisco Bay Area'})\\nMERGE (johnZhou)-[:EMPLOYER]->(meta)\\nMERGE (johnZhou)-[:LOCATION]->(sfBayArea)\\nMERGE (a)-[:MENTIONS]->(johnZhou)\\n\\nMERGE (dgraph:Company {name: 'Dgraph'})\\nSET dgraph.funding = '6M in Seed Round'\\nMERGE (djPatil:Person {name: 'DJ Patil'})\\nSET djPatil.occupation = 'Chief Data Scientist'\\nMERGE (usGov:Organization {name: 'United States Government'})\\nMERGE (djPatil)-[:EMPLOYER]->(usGov)\\nMERGE (dgraph)-[:EXECUTIVE]->(djPatil)\\nMERGE (a)-[:MENTIONS]->(dgraph)\\nMERGE (a)-[:MENTIONS]->(djPatil)\\n\\nMERGE (lifeline:Company {name: 'Lifeline'})\\nSET lifeline.formerName = 'Philips Lifeline'\\nMERGE (lifeline)-[:EMPLOYEE]->(johnZhou)\\nMERGE (a)-[:MENTIONS]->(lifeline)\\n\\nMERGE (uts:University {name: 'University of Technology Sydney'})\\nMERGE (sydney:Location {name: 'Sydney'})\\nMERGE (uts)-[:LOCATION]->(sydney)\\nMERGE (johnZeyangZhou:Person {name: 'John Zeyang Zhou'})\\nSET johnZeyangZhou.occupation = 'PhD Student', johnZeyangZhou.expertise = 'machine learning (ML) and deep learning'\\nMERGE (ai:Field {name: 'Artificial Intelligence'})\\nMERGE (dataAnalytics:Field {name: 'Data Analytics'})\\nMERGE (johnZeyangZhou)-[:FIELD]->(ai)\\nMERGE (johnZeyangZhou)-[:FIELD]->(dataAnalytics)\\nMERGE (johnZeyangZhou)-[:UNIVERSITY]->(uts)\\nMERGE (a)-[:MENTIONS]->(johnZeyangZhou)\\nMERGE (a)-[:MENTIONS]->(uts)\\n\\nMERGE (apexLegends:VideoGame {name: 'Apex Legends'})\\nMERGE (keithRawls:Person {name: 'Keith Rawls'})\\nSET keithRawls.occupation = 'Business Analyst'\\nMERGE (ea:Company {name: 'Electronic Arts'})\\nMERGE (keithRawls)-[:EMPLOYER]->(ea)\\nMERGE (apexLegends)-[:BUSINESS_ANALYST]->(keithRawls)\\nMERGE (a)-[:MENTIONS]->(apexLegends)\\nMERGE (a)-[:MENTIONS]->(keithRawls)\\n\\nMERGE (mattDoerner:Person {name: 'Matt Doerner'})\\nSET mattDoerner.occupation = 'Manager'\\nMERGE (mattDoerner)-[:EMPLOYER]->(ea)\\nMERGE (apexLegends)-[:MANAGER]->(mattDoerner)\\nMERGE (a)-[:MENTIONS]->(mattDoerner)\\n\\nMERGE (ninaZhou:Person {name: 'Nina Zhou'})\\nSET ninaZhou.occupation = 'Data Scientist'\\nMERGE (ninaZhou)-[:EMPLOYER]->(ea)\\nMERGE (apexLegends)-[:DATA_SCIENTIST]->(ninaZhou)\\nMERGE (a)-[:MENTIONS]->(ninaZhou)\\n\\nMERGE (prestonStringham:Person {name: 'Preston Stringham'})\\nSET prestonStringham.occupation = 'Product Analyst'\\nMERGE (prestonStringham)-[:EMPLOYER]->(ea)\\nMERGE (apexLegends)-[:PRODUCT_ANALYST]->(prestonStringham)\\nMERGE (a)-[:MENTIONS]->(prestonStringham)\\n\\nMERGE (biEngineer:Person {name: 'BI Engineer'})\\nSET biEngineer.occupation = 'Engineer'\\nMERGE (biEngineer)-[:EMPLOYER]->(ea)\\nMERGE (apexLegends)-[:ENGINEER]->(biEngineer)\\nMERGE (a)-[:MENTIONS]->(biEngineer)\\n\",\"level\":\"INFO\",\"location\":\"query:21\",\"timestamp\":\"2024-10-01 11:48:35,970+0100\",\"service\":\"dassie\"}\n",
      "{\"message\":\"Neptune query response: {'ResponseMetadata': {'HTTPStatusCode': 200, 'HTTPHeaders': {'transfer-encoding': 'chunked'}, 'RetryAttempts': 0}, 'results': []}\",\"level\":\"INFO\",\"location\":\"query:26\",\"timestamp\":\"2024-10-01 11:48:36,024+0100\",\"service\":\"dassie\"}\n",
      "{\"message\":\"Neptune query response: {'ResponseMetadata': {'HTTPStatusCode': 200, 'HTTPHeaders': {'transfer-encoding': 'chunked'}, 'RetryAttempts': 0}, 'results': []}\",\"level\":\"INFO\",\"location\":\"query:26\",\"timestamp\":\"2024-10-01 11:48:36,133+0100\",\"service\":\"dassie\"}\n"
     ]
    },
    {
     "name": "stderr",
     "output_type": "stream",
     "text": [
      "/Users/davidburke/src/dassie/.venv/lib/python3.9/site-packages/urllib3/connectionpool.py:1063: InsecureRequestWarning: Unverified HTTPS request is being made to host '127.0.0.1'. Adding certificate verification is strongly advised. See: https://urllib3.readthedocs.io/en/1.26.x/advanced-usage.html#ssl-warnings\n",
      "  warnings.warn(\n",
      "/Users/davidburke/src/dassie/.venv/lib/python3.9/site-packages/urllib3/connectionpool.py:1063: InsecureRequestWarning: Unverified HTTPS request is being made to host '127.0.0.1'. Adding certificate verification is strongly advised. See: https://urllib3.readthedocs.io/en/1.26.x/advanced-usage.html#ssl-warnings\n",
      "  warnings.warn(\n",
      "/Users/davidburke/src/dassie/.venv/lib/python3.9/site-packages/urllib3/connectionpool.py:1063: InsecureRequestWarning: Unverified HTTPS request is being made to host '127.0.0.1'. Adding certificate verification is strongly advised. See: https://urllib3.readthedocs.io/en/1.26.x/advanced-usage.html#ssl-warnings\n",
      "  warnings.warn(\n"
     ]
    },
    {
     "name": "stdout",
     "output_type": "stream",
     "text": [
      "{\"message\":\"Neptune query response: {'ResponseMetadata': {'HTTPStatusCode': 200, 'HTTPHeaders': {'transfer-encoding': 'chunked'}, 'RetryAttempts': 0}, 'results': []}\",\"level\":\"INFO\",\"location\":\"query:26\",\"timestamp\":\"2024-10-01 11:48:36,246+0100\",\"service\":\"dassie\"}\n",
      "{\"message\":\"Neptune query response: {'ResponseMetadata': {'HTTPStatusCode': 200, 'HTTPHeaders': {'transfer-encoding': 'chunked'}, 'RetryAttempts': 0}, 'results': []}\",\"level\":\"INFO\",\"location\":\"query:26\",\"timestamp\":\"2024-10-01 11:48:36,331+0100\",\"service\":\"dassie\"}\n"
     ]
    },
    {
     "name": "stderr",
     "output_type": "stream",
     "text": [
      "/Users/davidburke/src/dassie/.venv/lib/python3.9/site-packages/urllib3/connectionpool.py:1063: InsecureRequestWarning: Unverified HTTPS request is being made to host '127.0.0.1'. Adding certificate verification is strongly advised. See: https://urllib3.readthedocs.io/en/1.26.x/advanced-usage.html#ssl-warnings\n",
      "  warnings.warn(\n",
      "/Users/davidburke/src/dassie/.venv/lib/python3.9/site-packages/urllib3/connectionpool.py:1063: InsecureRequestWarning: Unverified HTTPS request is being made to host '127.0.0.1'. Adding certificate verification is strongly advised. See: https://urllib3.readthedocs.io/en/1.26.x/advanced-usage.html#ssl-warnings\n",
      "  warnings.warn(\n"
     ]
    },
    {
     "name": "stdout",
     "output_type": "stream",
     "text": [
      "{\"message\":\"Neptune query response: {'ResponseMetadata': {'HTTPStatusCode': 200, 'HTTPHeaders': {'transfer-encoding': 'chunked'}, 'RetryAttempts': 0}, 'results': []}\",\"level\":\"INFO\",\"location\":\"query:26\",\"timestamp\":\"2024-10-01 11:48:36,535+0100\",\"service\":\"dassie\"}\n",
      "{\"message\":\"Neptune query response: {'ResponseMetadata': {'HTTPStatusCode': 200, 'HTTPHeaders': {'transfer-encoding': 'chunked'}, 'RetryAttempts': 0}, 'results': []}\",\"level\":\"INFO\",\"location\":\"query:26\",\"timestamp\":\"2024-10-01 11:48:36,632+0100\",\"service\":\"dassie\"}\n",
      "{\"message\":\"Neptune query response: {'ResponseMetadata': {'HTTPStatusCode': 200, 'HTTPHeaders': {'transfer-encoding': 'chunked'}, 'RetryAttempts': 0}, 'results': []}\",\"level\":\"INFO\",\"location\":\"query:26\",\"timestamp\":\"2024-10-01 11:48:36,715+0100\",\"service\":\"dassie\"}\n"
     ]
    },
    {
     "name": "stderr",
     "output_type": "stream",
     "text": [
      "/Users/davidburke/src/dassie/.venv/lib/python3.9/site-packages/urllib3/connectionpool.py:1063: InsecureRequestWarning: Unverified HTTPS request is being made to host '127.0.0.1'. Adding certificate verification is strongly advised. See: https://urllib3.readthedocs.io/en/1.26.x/advanced-usage.html#ssl-warnings\n",
      "  warnings.warn(\n",
      "/Users/davidburke/src/dassie/.venv/lib/python3.9/site-packages/urllib3/connectionpool.py:1063: InsecureRequestWarning: Unverified HTTPS request is being made to host '127.0.0.1'. Adding certificate verification is strongly advised. See: https://urllib3.readthedocs.io/en/1.26.x/advanced-usage.html#ssl-warnings\n",
      "  warnings.warn(\n",
      "/Users/davidburke/src/dassie/.venv/lib/python3.9/site-packages/urllib3/connectionpool.py:1063: InsecureRequestWarning: Unverified HTTPS request is being made to host '127.0.0.1'. Adding certificate verification is strongly advised. See: https://urllib3.readthedocs.io/en/1.26.x/advanced-usage.html#ssl-warnings\n",
      "  warnings.warn(\n"
     ]
    },
    {
     "name": "stdout",
     "output_type": "stream",
     "text": [
      "{\"message\":\"Neptune query response: {'ResponseMetadata': {'HTTPStatusCode': 200, 'HTTPHeaders': {'transfer-encoding': 'chunked'}, 'RetryAttempts': 0}, 'results': []}\",\"level\":\"INFO\",\"location\":\"query:26\",\"timestamp\":\"2024-10-01 11:48:36,816+0100\",\"service\":\"dassie\"}\n",
      "{\"message\":\"Neptune query response: {'ResponseMetadata': {'HTTPStatusCode': 200, 'HTTPHeaders': {'transfer-encoding': 'chunked'}, 'RetryAttempts': 0}, 'results': []}\",\"level\":\"INFO\",\"location\":\"query:26\",\"timestamp\":\"2024-10-01 11:48:36,891+0100\",\"service\":\"dassie\"}\n",
      "{\"message\":\"Neptune query response: {'ResponseMetadata': {'HTTPStatusCode': 200, 'HTTPHeaders': {'transfer-encoding': 'chunked'}, 'RetryAttempts': 0}, 'results': []}\",\"level\":\"INFO\",\"location\":\"query:26\",\"timestamp\":\"2024-10-01 11:48:36,969+0100\",\"service\":\"dassie\"}\n",
      "[[], [], [], [], [], [], [], [], [], []]\n"
     ]
    },
    {
     "name": "stderr",
     "output_type": "stream",
     "text": [
      "/Users/davidburke/src/dassie/.venv/lib/python3.9/site-packages/urllib3/connectionpool.py:1063: InsecureRequestWarning: Unverified HTTPS request is being made to host '127.0.0.1'. Adding certificate verification is strongly advised. See: https://urllib3.readthedocs.io/en/1.26.x/advanced-usage.html#ssl-warnings\n",
      "  warnings.warn(\n",
      "/Users/davidburke/src/dassie/.venv/lib/python3.9/site-packages/urllib3/connectionpool.py:1063: InsecureRequestWarning: Unverified HTTPS request is being made to host '127.0.0.1'. Adding certificate verification is strongly advised. See: https://urllib3.readthedocs.io/en/1.26.x/advanced-usage.html#ssl-warnings\n",
      "  warnings.warn(\n"
     ]
    },
    {
     "name": "stdout",
     "output_type": "stream",
     "text": [
      "\n",
      "MERGE (article:Article {id: 'c2bb9b72-a6fd-437d-bf7a-5654d359c732'})\n",
      "\n",
      "MERGE (johnZhou:Person {name: 'John Zhou'})\n",
      "SET johnZhou.occupation = 'Engineer',\n",
      "    johnZhou.employer = 'Meta',\n",
      "    johnZhou.location = 'San Francisco Bay Area',\n",
      "    johnZhou.followers = '460+',\n",
      "    johnZhou.connections = '459'\n",
      "MERGE (johnZhou)-[:MENTIONED_IN]->(article)\n",
      "\n",
      "MERGE (johnZhou2:Person {name: 'John Zhou 2'})\n",
      "SET johnZhou2.occupation = 'Senior Engineering Manager',\n",
      "    johnZhou2.employer = 'Lifeline',\n",
      "    johnZhou2.formerEmployer = 'Philips Lifeline'\n",
      "MERGE (johnZhou2)-[:MENTIONED_IN]->(article)\n",
      "\n",
      "MERGE (johnZhou3:Person {name: 'John Zhou 3'})\n",
      "SET johnZhou3.occupation = 'PhD Student',\n",
      "    johnZhou3.employer = 'University of Technology Sydney',\n",
      "    johnZhou3.field1 = 'Artificial Intelligence',\n",
      "    johnZhou3.field2 = 'Data Analytics',\n",
      "    johnZhou3.expertise1 = 'Machine Learning',\n",
      "    johnZhou3.expertise2 = 'Deep Learning'\n",
      "MERGE (johnZhou3)-[:MENTIONED_IN]->(article)\n",
      "\n",
      "MERGE (dgraph:Company {name: 'Dgraph'})\n",
      "SET dgraph.funding = '6M',\n",
      "    dgraph.fundingRound = 'Seed'\n",
      "MERGE (dgraph)-[:HAS_EXECUTIVE]->(johnZhou2)\n",
      "MERGE (dgraph)-[:HAS_EXECUTIVE]->(djPatil)\n",
      "MERGE (dgraph)-[:MENTIONED_IN]->(article)\n",
      "\n",
      "MERGE (djPatil:Person {name: 'DJ Patil'})\n",
      "SET djPatil.occupation = 'Chief Data Scientist',\n",
      "    djPatil.formerEmployer = 'United States Government'\n",
      "MERGE (djPatil)-[:MENTIONED_IN]->(article)\n",
      "\n",
      "{\"message\":\"Neptune query: \\nMERGE (article:Article {id: 'c2bb9b72-a6fd-437d-bf7a-5654d359c732'})\\n\\nMERGE (johnZhou:Person {name: 'John Zhou'})\\nSET johnZhou.occupation = 'Engineer',\\n    johnZhou.employer = 'Meta',\\n    johnZhou.location = 'San Francisco Bay Area',\\n    johnZhou.followers = '460+',\\n    johnZhou.connections = '459'\\nMERGE (johnZhou)-[:MENTIONED_IN]->(article)\\n\\nMERGE (johnZhou2:Person {name: 'John Zhou 2'})\\nSET johnZhou2.occupation = 'Senior Engineering Manager',\\n    johnZhou2.employer = 'Lifeline',\\n    johnZhou2.formerEmployer = 'Philips Lifeline'\\nMERGE (johnZhou2)-[:MENTIONED_IN]->(article)\\n\\nMERGE (johnZhou3:Person {name: 'John Zhou 3'})\\nSET johnZhou3.occupation = 'PhD Student',\\n    johnZhou3.employer = 'University of Technology Sydney',\\n    johnZhou3.field1 = 'Artificial Intelligence',\\n    johnZhou3.field2 = 'Data Analytics',\\n    johnZhou3.expertise1 = 'Machine Learning',\\n    johnZhou3.expertise2 = 'Deep Learning'\\nMERGE (johnZhou3)-[:MENTIONED_IN]->(article)\\n\\nMERGE (dgraph:Company {name: 'Dgraph'})\\nSET dgraph.funding = '6M',\\n    dgraph.fundingRound = 'Seed'\\nMERGE (dgraph)-[:HAS_EXECUTIVE]->(johnZhou2)\\nMERGE (dgraph)-[:HAS_EXECUTIVE]->(djPatil)\\nMERGE (dgraph)-[:MENTIONED_IN]->(article)\\n\\nMERGE (djPatil:Person {name: 'DJ Patil'})\\nSET djPatil.occupation = 'Chief Data Scientist',\\n    djPatil.formerEmployer = 'United States Government'\\nMERGE (djPatil)-[:MENTIONED_IN]->(article)\\n\",\"level\":\"INFO\",\"location\":\"query:21\",\"timestamp\":\"2024-10-01 11:48:49,080+0100\",\"service\":\"dassie\"}\n",
      "{\"message\":\"Neptune query response: {'ResponseMetadata': {'HTTPStatusCode': 200, 'HTTPHeaders': {'transfer-encoding': 'chunked'}, 'RetryAttempts': 0}, 'results': []}\",\"level\":\"INFO\",\"location\":\"query:26\",\"timestamp\":\"2024-10-01 11:48:49,145+0100\",\"service\":\"dassie\"}\n",
      "{\"message\":\"Neptune query response: {'ResponseMetadata': {'HTTPStatusCode': 200, 'HTTPHeaders': {'transfer-encoding': 'chunked'}, 'RetryAttempts': 0}, 'results': []}\",\"level\":\"INFO\",\"location\":\"query:26\",\"timestamp\":\"2024-10-01 11:48:49,211+0100\",\"service\":\"dassie\"}\n",
      "{\"message\":\"Neptune query response: {'ResponseMetadata': {'HTTPStatusCode': 200, 'HTTPHeaders': {'transfer-encoding': 'chunked'}, 'RetryAttempts': 0}, 'results': []}\",\"level\":\"INFO\",\"location\":\"query:26\",\"timestamp\":\"2024-10-01 11:48:49,277+0100\",\"service\":\"dassie\"}\n"
     ]
    },
    {
     "name": "stderr",
     "output_type": "stream",
     "text": [
      "/Users/davidburke/src/dassie/.venv/lib/python3.9/site-packages/urllib3/connectionpool.py:1063: InsecureRequestWarning: Unverified HTTPS request is being made to host '127.0.0.1'. Adding certificate verification is strongly advised. See: https://urllib3.readthedocs.io/en/1.26.x/advanced-usage.html#ssl-warnings\n",
      "  warnings.warn(\n",
      "/Users/davidburke/src/dassie/.venv/lib/python3.9/site-packages/urllib3/connectionpool.py:1063: InsecureRequestWarning: Unverified HTTPS request is being made to host '127.0.0.1'. Adding certificate verification is strongly advised. See: https://urllib3.readthedocs.io/en/1.26.x/advanced-usage.html#ssl-warnings\n",
      "  warnings.warn(\n",
      "/Users/davidburke/src/dassie/.venv/lib/python3.9/site-packages/urllib3/connectionpool.py:1063: InsecureRequestWarning: Unverified HTTPS request is being made to host '127.0.0.1'. Adding certificate verification is strongly advised. See: https://urllib3.readthedocs.io/en/1.26.x/advanced-usage.html#ssl-warnings\n",
      "  warnings.warn(\n",
      "/Users/davidburke/src/dassie/.venv/lib/python3.9/site-packages/urllib3/connectionpool.py:1063: InsecureRequestWarning: Unverified HTTPS request is being made to host '127.0.0.1'. Adding certificate verification is strongly advised. See: https://urllib3.readthedocs.io/en/1.26.x/advanced-usage.html#ssl-warnings\n",
      "  warnings.warn(\n"
     ]
    },
    {
     "name": "stdout",
     "output_type": "stream",
     "text": [
      "{\"message\":\"Neptune query response: {'ResponseMetadata': {'HTTPStatusCode': 200, 'HTTPHeaders': {'transfer-encoding': 'chunked'}, 'RetryAttempts': 0}, 'results': []}\",\"level\":\"INFO\",\"location\":\"query:26\",\"timestamp\":\"2024-10-01 11:48:49,353+0100\",\"service\":\"dassie\"}\n",
      "{\"message\":\"Neptune query response: {'ResponseMetadata': {'HTTPStatusCode': 200, 'HTTPHeaders': {'transfer-encoding': 'chunked'}, 'RetryAttempts': 0}, 'results': []}\",\"level\":\"INFO\",\"location\":\"query:26\",\"timestamp\":\"2024-10-01 11:48:49,440+0100\",\"service\":\"dassie\"}\n",
      "{\"message\":\"Neptune query response: {'ResponseMetadata': {'HTTPStatusCode': 200, 'HTTPHeaders': {'transfer-encoding': 'chunked'}, 'RetryAttempts': 0}, 'results': []}\",\"level\":\"INFO\",\"location\":\"query:26\",\"timestamp\":\"2024-10-01 11:48:49,527+0100\",\"service\":\"dassie\"}\n",
      "[[], [], [], [], [], []]\n",
      "---\n",
      "\n",
      "\n",
      "\n"
     ]
    },
    {
     "name": "stderr",
     "output_type": "stream",
     "text": [
      "/Users/davidburke/src/dassie/.venv/lib/python3.9/site-packages/urllib3/connectionpool.py:1063: InsecureRequestWarning: Unverified HTTPS request is being made to host '127.0.0.1'. Adding certificate verification is strongly advised. See: https://urllib3.readthedocs.io/en/1.26.x/advanced-usage.html#ssl-warnings\n",
      "  warnings.warn(\n",
      "/Users/davidburke/src/dassie/.venv/lib/python3.9/site-packages/urllib3/connectionpool.py:1063: InsecureRequestWarning: Unverified HTTPS request is being made to host '127.0.0.1'. Adding certificate verification is strongly advised. See: https://urllib3.readthedocs.io/en/1.26.x/advanced-usage.html#ssl-warnings\n",
      "  warnings.warn(\n"
     ]
    },
    {
     "name": "stdout",
     "output_type": "stream",
     "text": [
      "0b0e5749-96b5-4157-a251-b876e28bc4f2\n",
      "39291a7d-c06c-45d6-914e-60cdff1cc458\n",
      "'NoneType' object has no attribute 'startswith'\n",
      "---\n",
      "\n",
      "\n",
      "\n",
      "fe198a42-a0bf-43af-a8f9-e905e322f023\n",
      "64074220-46a3-4e32-862f-e4c640e5e1f7\n",
      "{\"message\":\"Neptune query: \\nMERGE (a:Article {id: 'f7229f5c-63fa-48bb-932d-a8324a15061f'})\\n\\nMERGE (p:Suhabe_Bugrara {name: 'Suhabe Bugrara'})\\nMERGE (a)-[:MENTIONS]->(p)\\nSET p.occupation = 'Chief Technology Officer',\\n    p.email = 's.bugrara@northeastern.edu',\\n    p.position = 'Associate Teaching Professor',\\n    p.homepage = 'https://suhabe.net/about'\\n\\nMERGE (c:Company {name: 'State Space, Inc.'})\\nMERGE (a)-[:MENTIONS]->(c)\\nMERGE (p)-[:EMPLOYED_BY]->(c)\\n\\nMERGE (u:University {name: 'Stanford University'})\\nMERGE (a)-[:MENTIONS]->(u)\\nMERGE (p)-[:ALUMNUS_OF]->(u)\\n\\nMERGE (n:University {name: 'Northeastern University in Silicon Valley'})\\nMERGE (a)-[:MENTIONS]->(n)\\nMERGE (p)-[:AFFILIATED_WITH]->(n)\\n\\nMERGE (l:Place {name: 'San Francisco Bay Area'})\\nMERGE (a)-[:MENTIONS]->(l)\\nMERGE (p)-[:LOCATED_IN]->(l)\\n\\nMERGE (r1:ResearchInterest {name: 'Cryptocurrency'})\\nMERGE (a)-[:MENTIONS]->(r1)\\nMERGE (p)-[:HAS_RESEARCH_INTEREST]->(r1)\\n\\nMERGE (r2:ResearchInterest {name: 'Smart Contract Security'})\\nMERGE (a)-[:MENTIONS]->(r2)\\nMERGE (p)-[:HAS_RESEARCH_INTEREST]->(r2)\\n\",\"level\":\"INFO\",\"location\":\"query:21\",\"timestamp\":\"2024-10-01 11:48:50,111+0100\",\"service\":\"dassie\"}\n",
      "{\"message\":\"Neptune query response: {'ResponseMetadata': {'HTTPStatusCode': 200, 'HTTPHeaders': {'transfer-encoding': 'chunked'}, 'RetryAttempts': 0}, 'results': []}\",\"level\":\"INFO\",\"location\":\"query:26\",\"timestamp\":\"2024-10-01 11:48:50,158+0100\",\"service\":\"dassie\"}\n",
      "{\"message\":\"Neptune query response: {'ResponseMetadata': {'HTTPStatusCode': 200, 'HTTPHeaders': {'transfer-encoding': 'chunked'}, 'RetryAttempts': 0}, 'results': []}\",\"level\":\"INFO\",\"location\":\"query:26\",\"timestamp\":\"2024-10-01 11:48:50,225+0100\",\"service\":\"dassie\"}\n",
      "{\"message\":\"Neptune query response: {'ResponseMetadata': {'HTTPStatusCode': 200, 'HTTPHeaders': {'transfer-encoding': 'chunked'}, 'RetryAttempts': 0}, 'results': []}\",\"level\":\"INFO\",\"location\":\"query:26\",\"timestamp\":\"2024-10-01 11:48:50,286+0100\",\"service\":\"dassie\"}\n"
     ]
    },
    {
     "name": "stderr",
     "output_type": "stream",
     "text": [
      "/Users/davidburke/src/dassie/.venv/lib/python3.9/site-packages/urllib3/connectionpool.py:1063: InsecureRequestWarning: Unverified HTTPS request is being made to host '127.0.0.1'. Adding certificate verification is strongly advised. See: https://urllib3.readthedocs.io/en/1.26.x/advanced-usage.html#ssl-warnings\n",
      "  warnings.warn(\n",
      "/Users/davidburke/src/dassie/.venv/lib/python3.9/site-packages/urllib3/connectionpool.py:1063: InsecureRequestWarning: Unverified HTTPS request is being made to host '127.0.0.1'. Adding certificate verification is strongly advised. See: https://urllib3.readthedocs.io/en/1.26.x/advanced-usage.html#ssl-warnings\n",
      "  warnings.warn(\n",
      "/Users/davidburke/src/dassie/.venv/lib/python3.9/site-packages/urllib3/connectionpool.py:1063: InsecureRequestWarning: Unverified HTTPS request is being made to host '127.0.0.1'. Adding certificate verification is strongly advised. See: https://urllib3.readthedocs.io/en/1.26.x/advanced-usage.html#ssl-warnings\n",
      "  warnings.warn(\n",
      "/Users/davidburke/src/dassie/.venv/lib/python3.9/site-packages/urllib3/connectionpool.py:1063: InsecureRequestWarning: Unverified HTTPS request is being made to host '127.0.0.1'. Adding certificate verification is strongly advised. See: https://urllib3.readthedocs.io/en/1.26.x/advanced-usage.html#ssl-warnings\n",
      "  warnings.warn(\n"
     ]
    },
    {
     "name": "stdout",
     "output_type": "stream",
     "text": [
      "{\"message\":\"Neptune query response: {'ResponseMetadata': {'HTTPStatusCode': 200, 'HTTPHeaders': {'transfer-encoding': 'chunked'}, 'RetryAttempts': 0}, 'results': []}\",\"level\":\"INFO\",\"location\":\"query:26\",\"timestamp\":\"2024-10-01 11:48:50,358+0100\",\"service\":\"dassie\"}\n",
      "{\"message\":\"Neptune query response: {'ResponseMetadata': {'HTTPStatusCode': 200, 'HTTPHeaders': {'transfer-encoding': 'chunked'}, 'RetryAttempts': 0}, 'results': []}\",\"level\":\"INFO\",\"location\":\"query:26\",\"timestamp\":\"2024-10-01 11:48:50,425+0100\",\"service\":\"dassie\"}\n",
      "{\"message\":\"Neptune query response: {'ResponseMetadata': {'HTTPStatusCode': 200, 'HTTPHeaders': {'transfer-encoding': 'chunked'}, 'RetryAttempts': 0}, 'results': []}\",\"level\":\"INFO\",\"location\":\"query:26\",\"timestamp\":\"2024-10-01 11:48:50,492+0100\",\"service\":\"dassie\"}\n",
      "{\"message\":\"Neptune query response: {'ResponseMetadata': {'HTTPStatusCode': 200, 'HTTPHeaders': {'transfer-encoding': 'chunked'}, 'RetryAttempts': 0}, 'results': []}\",\"level\":\"INFO\",\"location\":\"query:26\",\"timestamp\":\"2024-10-01 11:48:50,556+0100\",\"service\":\"dassie\"}\n"
     ]
    },
    {
     "name": "stderr",
     "output_type": "stream",
     "text": [
      "/Users/davidburke/src/dassie/.venv/lib/python3.9/site-packages/urllib3/connectionpool.py:1063: InsecureRequestWarning: Unverified HTTPS request is being made to host '127.0.0.1'. Adding certificate verification is strongly advised. See: https://urllib3.readthedocs.io/en/1.26.x/advanced-usage.html#ssl-warnings\n",
      "  warnings.warn(\n",
      "/Users/davidburke/src/dassie/.venv/lib/python3.9/site-packages/urllib3/connectionpool.py:1063: InsecureRequestWarning: Unverified HTTPS request is being made to host '127.0.0.1'. Adding certificate verification is strongly advised. See: https://urllib3.readthedocs.io/en/1.26.x/advanced-usage.html#ssl-warnings\n",
      "  warnings.warn(\n",
      "/Users/davidburke/src/dassie/.venv/lib/python3.9/site-packages/urllib3/connectionpool.py:1063: InsecureRequestWarning: Unverified HTTPS request is being made to host '127.0.0.1'. Adding certificate verification is strongly advised. See: https://urllib3.readthedocs.io/en/1.26.x/advanced-usage.html#ssl-warnings\n",
      "  warnings.warn(\n",
      "/Users/davidburke/src/dassie/.venv/lib/python3.9/site-packages/urllib3/connectionpool.py:1063: InsecureRequestWarning: Unverified HTTPS request is being made to host '127.0.0.1'. Adding certificate verification is strongly advised. See: https://urllib3.readthedocs.io/en/1.26.x/advanced-usage.html#ssl-warnings\n",
      "  warnings.warn(\n"
     ]
    },
    {
     "name": "stdout",
     "output_type": "stream",
     "text": [
      "{\"message\":\"Neptune query response: {'ResponseMetadata': {'HTTPStatusCode': 200, 'HTTPHeaders': {'transfer-encoding': 'chunked'}, 'RetryAttempts': 0}, 'results': []}\",\"level\":\"INFO\",\"location\":\"query:26\",\"timestamp\":\"2024-10-01 11:48:50,619+0100\",\"service\":\"dassie\"}\n",
      "[[], [], [], [], [], [], [], []]\n",
      "\n",
      "MERGE (a:Article {id: 'f7229f5c-63fa-48bb-932d-a8324a15061f'})\n",
      "\n",
      "MERGE (s:Person {name: 'Suhabe Bugrara'})\n",
      "MERGE (a)-[:MENTIONS]->(s)\n",
      "SET s.occupation = 'Chief Technology Officer',\n",
      "    s.birthPlace = 'San Francisco Bay Area',\n",
      "    s.education = 'Stanford University',\n",
      "    s.position = 'Associate Teaching Professor',\n",
      "    s.email = 's.bugrara@northeastern.edu',\n",
      "    s.publicationCount = 7,\n",
      "    s.citationCount = 357,\n",
      "    s.readCount = 360,\n",
      "    s.linkedinProfile = 'https://www.linkedin.com/in/suhabe-bugrara',\n",
      "    s.personalWebsite = 'https://suhabe.net/about',\n",
      "    s.researchInterests = ['cryptocurrency', 'smart contract security', 'formal verification', 'program analysis', 'software security'],\n",
      "    s.doctoralThesis = 'State space reduction for dynamic symbolic execution'\n",
      "\n",
      "MERGE (ss:Company {name: 'State Space, Inc.'})\n",
      "MERGE (a)-[:MENTIONS]->(ss)\n",
      "SET ss.location = 'San Francisco Bay Area'\n",
      "MERGE (ss)-[:CHIEF_TECHNOLOGY_OFFICER]->(s)\n",
      "\n",
      "MERGE (su:University {name: 'Stanford University'})\n",
      "MERGE (a)-[:MENTIONS]->(su)\n",
      "SET su.location = 'California'\n",
      "MERGE (su)-[:ALUMNI]->(s)\n",
      "\n",
      "MERGE (nu:University {name: 'Northeastern University in Silicon Valley'})\n",
      "MERGE (a)-[:MENTIONS]->(nu)\n",
      "SET nu.location = 'Silicon Valley'\n",
      "MERGE (nu)-[:FACULTY]->(s)\n",
      "\n",
      "MERGE (nuce:College {name: 'Northeastern University College of Engineering'})\n",
      "MERGE (a)-[:MENTIONS]->(nuce)\n",
      "SET nuce.location = 'Silicon Valley'\n",
      "MERGE (nuce)-[:FACULTY]->(s)\n",
      "\n",
      "{\"message\":\"Neptune query: \\nMERGE (a:Article {id: 'f7229f5c-63fa-48bb-932d-a8324a15061f'})\\n\\nMERGE (s:Person {name: 'Suhabe Bugrara'})\\nMERGE (a)-[:MENTIONS]->(s)\\nSET s.occupation = 'Chief Technology Officer',\\n    s.birthPlace = 'San Francisco Bay Area',\\n    s.education = 'Stanford University',\\n    s.position = 'Associate Teaching Professor',\\n    s.email = 's.bugrara@northeastern.edu',\\n    s.publicationCount = 7,\\n    s.citationCount = 357,\\n    s.readCount = 360,\\n    s.linkedinProfile = 'https://www.linkedin.com/in/suhabe-bugrara',\\n    s.personalWebsite = 'https://suhabe.net/about',\\n    s.researchInterests = ['cryptocurrency', 'smart contract security', 'formal verification', 'program analysis', 'software security'],\\n    s.doctoralThesis = 'State space reduction for dynamic symbolic execution'\\n\\nMERGE (ss:Company {name: 'State Space, Inc.'})\\nMERGE (a)-[:MENTIONS]->(ss)\\nSET ss.location = 'San Francisco Bay Area'\\nMERGE (ss)-[:CHIEF_TECHNOLOGY_OFFICER]->(s)\\n\\nMERGE (su:University {name: 'Stanford University'})\\nMERGE (a)-[:MENTIONS]->(su)\\nSET su.location = 'California'\\nMERGE (su)-[:ALUMNI]->(s)\\n\\nMERGE (nu:University {name: 'Northeastern University in Silicon Valley'})\\nMERGE (a)-[:MENTIONS]->(nu)\\nSET nu.location = 'Silicon Valley'\\nMERGE (nu)-[:FACULTY]->(s)\\n\\nMERGE (nuce:College {name: 'Northeastern University College of Engineering'})\\nMERGE (a)-[:MENTIONS]->(nuce)\\nSET nuce.location = 'Silicon Valley'\\nMERGE (nuce)-[:FACULTY]->(s)\\n\",\"level\":\"INFO\",\"location\":\"query:21\",\"timestamp\":\"2024-10-01 11:49:06,914+0100\",\"service\":\"dassie\"}\n",
      "{\"message\":\"Neptune query response: {'ResponseMetadata': {'HTTPStatusCode': 200, 'HTTPHeaders': {'transfer-encoding': 'chunked'}, 'RetryAttempts': 0}, 'results': []}\",\"level\":\"INFO\",\"location\":\"query:26\",\"timestamp\":\"2024-10-01 11:49:06,965+0100\",\"service\":\"dassie\"}\n",
      "{\"message\":\"Error querying Neptune: An error occurred (BadRequestException) when calling the ExecuteOpenCypherQuery operation: Expected a simple literal but found CType.\",\"level\":\"ERROR\",\"location\":\"query:34\",\"timestamp\":\"2024-10-01 11:49:07,113+0100\",\"service\":\"dassie\"}\n",
      "An error occurred (BadRequestException) when calling the ExecuteOpenCypherQuery operation: Expected a simple literal but found CType.\n"
     ]
    },
    {
     "name": "stderr",
     "output_type": "stream",
     "text": [
      "/Users/davidburke/src/dassie/.venv/lib/python3.9/site-packages/urllib3/connectionpool.py:1063: InsecureRequestWarning: Unverified HTTPS request is being made to host '127.0.0.1'. Adding certificate verification is strongly advised. See: https://urllib3.readthedocs.io/en/1.26.x/advanced-usage.html#ssl-warnings\n",
      "  warnings.warn(\n",
      "/Users/davidburke/src/dassie/.venv/lib/python3.9/site-packages/urllib3/connectionpool.py:1063: InsecureRequestWarning: Unverified HTTPS request is being made to host '127.0.0.1'. Adding certificate verification is strongly advised. See: https://urllib3.readthedocs.io/en/1.26.x/advanced-usage.html#ssl-warnings\n",
      "  warnings.warn(\n"
     ]
    },
    {
     "name": "stdout",
     "output_type": "stream",
     "text": [
      "---\n",
      "\n",
      "\n",
      "\n",
      "1fb17447-2969-432e-89b9-9abc41d7f20f\n",
      "62d0009d-143b-43c6-a409-0cb0e29ddb76\n",
      "{\"message\":\"Neptune query: \\nMERGE (a:Article {id: 'a31280bf-609b-41e6-a3e6-b66dd2b6ec00'})\\n\\nMERGE (o:Concept {name: 'Ontology'})\\nON CREATE SET o.description = 'A formal description of knowledge as a set of concepts within a domain and the relationships that hold between them.'\\nMERGE (o)-[:SOURCE]->(a)\\n\\nMERGE (c:Concept {name: 'Concepts'})\\nON CREATE SET c.description = \\\"Represents a set or class of entities or 'things' within a domain.\\\"\\nMERGE (c)-[:SOURCE]->(a)\\n\\nMERGE (r:Concept {name: 'Relationships'})\\nON CREATE SET r.description = \\\"Defines how concepts are related to each other within an ontology.\\\"\\nMERGE (r)-[:SOURCE]->(a)\\n\\nMERGE (f:Concept {name: 'Functions'})\\nON CREATE SET f.description = \\\"Represents operations or mappings within the ontology.\\\"\\nMERGE (f)-[:SOURCE]->(a)\\n\\nMERGE (i:Concept {name: 'Individuals'})\\nON CREATE SET i.description = \\\"The basic, 'ground level' components of an ontology, also known as instances.\\\"\\nMERGE (i)-[:SOURCE]->(a)\\n\\nMERGE (x:Concept {name: 'Axioms'})\\nON CREATE SET x.description = \\\"Statements or rules that are always true within the ontology.\\\"\\nMERGE (x)-[:SOURCE]->(a)\\n\\nMERGE (oc:Concept {name: 'Ontology_Components'})\\nON CREATE SET oc.description = \\\"The main components of an ontology are concepts, relations, instances, and axioms.\\\"\\nMERGE (oc)-[:SOURCE]->(a)\\n\\nMERGE (soa:Concept {name: 'Service-Oriented_Architecture'})\\nON CREATE SET soa.description = \\\"A core concept of SOA where services can be composed of other services.\\\"\\nMERGE (soa)-[:SOURCE]->(a)\\n\\nMERGE (os:Concept {name: 'Ontological_Structure'})\\nON CREATE SET os.description = \\\"A framework that captures the dynamic or behavioral characteristics of a domain.\\\"\\nMERGE (os)-[:SOURCE]->(a)\\n\\nMERGE (o)-[:COMPONENT]->(c)\\nMERGE (o)-[:COMPONENT]->(r)\\nMERGE (o)-[:COMPONENT]->(f)\\nMERGE (o)-[:COMPONENT]->(i)\\nMERGE (o)-[:COMPONENT]->(x)\\n\",\"level\":\"INFO\",\"location\":\"query:21\",\"timestamp\":\"2024-10-01 11:49:07,640+0100\",\"service\":\"dassie\"}\n",
      "{\"message\":\"Neptune query response: {'ResponseMetadata': {'HTTPStatusCode': 200, 'HTTPHeaders': {'transfer-encoding': 'chunked'}, 'RetryAttempts': 0}, 'results': []}\",\"level\":\"INFO\",\"location\":\"query:26\",\"timestamp\":\"2024-10-01 11:49:07,694+0100\",\"service\":\"dassie\"}\n",
      "{\"message\":\"Neptune query response: {'ResponseMetadata': {'HTTPStatusCode': 200, 'HTTPHeaders': {'transfer-encoding': 'chunked'}, 'RetryAttempts': 0}, 'results': []}\",\"level\":\"INFO\",\"location\":\"query:26\",\"timestamp\":\"2024-10-01 11:49:07,749+0100\",\"service\":\"dassie\"}\n",
      "{\"message\":\"Neptune query response: {'ResponseMetadata': {'HTTPStatusCode': 200, 'HTTPHeaders': {'transfer-encoding': 'chunked'}, 'RetryAttempts': 0}, 'results': []}\",\"level\":\"INFO\",\"location\":\"query:26\",\"timestamp\":\"2024-10-01 11:49:07,820+0100\",\"service\":\"dassie\"}\n"
     ]
    },
    {
     "name": "stderr",
     "output_type": "stream",
     "text": [
      "/Users/davidburke/src/dassie/.venv/lib/python3.9/site-packages/urllib3/connectionpool.py:1063: InsecureRequestWarning: Unverified HTTPS request is being made to host '127.0.0.1'. Adding certificate verification is strongly advised. See: https://urllib3.readthedocs.io/en/1.26.x/advanced-usage.html#ssl-warnings\n",
      "  warnings.warn(\n",
      "/Users/davidburke/src/dassie/.venv/lib/python3.9/site-packages/urllib3/connectionpool.py:1063: InsecureRequestWarning: Unverified HTTPS request is being made to host '127.0.0.1'. Adding certificate verification is strongly advised. See: https://urllib3.readthedocs.io/en/1.26.x/advanced-usage.html#ssl-warnings\n",
      "  warnings.warn(\n",
      "/Users/davidburke/src/dassie/.venv/lib/python3.9/site-packages/urllib3/connectionpool.py:1063: InsecureRequestWarning: Unverified HTTPS request is being made to host '127.0.0.1'. Adding certificate verification is strongly advised. See: https://urllib3.readthedocs.io/en/1.26.x/advanced-usage.html#ssl-warnings\n",
      "  warnings.warn(\n",
      "/Users/davidburke/src/dassie/.venv/lib/python3.9/site-packages/urllib3/connectionpool.py:1063: InsecureRequestWarning: Unverified HTTPS request is being made to host '127.0.0.1'. Adding certificate verification is strongly advised. See: https://urllib3.readthedocs.io/en/1.26.x/advanced-usage.html#ssl-warnings\n",
      "  warnings.warn(\n"
     ]
    },
    {
     "name": "stdout",
     "output_type": "stream",
     "text": [
      "{\"message\":\"Neptune query response: {'ResponseMetadata': {'HTTPStatusCode': 200, 'HTTPHeaders': {'transfer-encoding': 'chunked'}, 'RetryAttempts': 0}, 'results': []}\",\"level\":\"INFO\",\"location\":\"query:26\",\"timestamp\":\"2024-10-01 11:49:07,874+0100\",\"service\":\"dassie\"}\n",
      "{\"message\":\"Neptune query response: {'ResponseMetadata': {'HTTPStatusCode': 200, 'HTTPHeaders': {'transfer-encoding': 'chunked'}, 'RetryAttempts': 0}, 'results': []}\",\"level\":\"INFO\",\"location\":\"query:26\",\"timestamp\":\"2024-10-01 11:49:07,931+0100\",\"service\":\"dassie\"}\n",
      "{\"message\":\"Neptune query response: {'ResponseMetadata': {'HTTPStatusCode': 200, 'HTTPHeaders': {'transfer-encoding': 'chunked'}, 'RetryAttempts': 0}, 'results': []}\",\"level\":\"INFO\",\"location\":\"query:26\",\"timestamp\":\"2024-10-01 11:49:07,987+0100\",\"service\":\"dassie\"}\n",
      "{\"message\":\"Neptune query response: {'ResponseMetadata': {'HTTPStatusCode': 200, 'HTTPHeaders': {'transfer-encoding': 'chunked'}, 'RetryAttempts': 0}, 'results': []}\",\"level\":\"INFO\",\"location\":\"query:26\",\"timestamp\":\"2024-10-01 11:49:08,045+0100\",\"service\":\"dassie\"}\n"
     ]
    },
    {
     "name": "stderr",
     "output_type": "stream",
     "text": [
      "/Users/davidburke/src/dassie/.venv/lib/python3.9/site-packages/urllib3/connectionpool.py:1063: InsecureRequestWarning: Unverified HTTPS request is being made to host '127.0.0.1'. Adding certificate verification is strongly advised. See: https://urllib3.readthedocs.io/en/1.26.x/advanced-usage.html#ssl-warnings\n",
      "  warnings.warn(\n",
      "/Users/davidburke/src/dassie/.venv/lib/python3.9/site-packages/urllib3/connectionpool.py:1063: InsecureRequestWarning: Unverified HTTPS request is being made to host '127.0.0.1'. Adding certificate verification is strongly advised. See: https://urllib3.readthedocs.io/en/1.26.x/advanced-usage.html#ssl-warnings\n",
      "  warnings.warn(\n",
      "/Users/davidburke/src/dassie/.venv/lib/python3.9/site-packages/urllib3/connectionpool.py:1063: InsecureRequestWarning: Unverified HTTPS request is being made to host '127.0.0.1'. Adding certificate verification is strongly advised. See: https://urllib3.readthedocs.io/en/1.26.x/advanced-usage.html#ssl-warnings\n",
      "  warnings.warn(\n",
      "/Users/davidburke/src/dassie/.venv/lib/python3.9/site-packages/urllib3/connectionpool.py:1063: InsecureRequestWarning: Unverified HTTPS request is being made to host '127.0.0.1'. Adding certificate verification is strongly advised. See: https://urllib3.readthedocs.io/en/1.26.x/advanced-usage.html#ssl-warnings\n",
      "  warnings.warn(\n"
     ]
    },
    {
     "name": "stdout",
     "output_type": "stream",
     "text": [
      "{\"message\":\"Neptune query response: {'ResponseMetadata': {'HTTPStatusCode': 200, 'HTTPHeaders': {'transfer-encoding': 'chunked'}, 'RetryAttempts': 0}, 'results': []}\",\"level\":\"INFO\",\"location\":\"query:26\",\"timestamp\":\"2024-10-01 11:49:08,110+0100\",\"service\":\"dassie\"}\n",
      "{\"message\":\"Neptune query response: {'ResponseMetadata': {'HTTPStatusCode': 200, 'HTTPHeaders': {'transfer-encoding': 'chunked'}, 'RetryAttempts': 0}, 'results': []}\",\"level\":\"INFO\",\"location\":\"query:26\",\"timestamp\":\"2024-10-01 11:49:08,177+0100\",\"service\":\"dassie\"}\n",
      "{\"message\":\"Neptune query response: {'ResponseMetadata': {'HTTPStatusCode': 200, 'HTTPHeaders': {'transfer-encoding': 'chunked'}, 'RetryAttempts': 0}, 'results': []}\",\"level\":\"INFO\",\"location\":\"query:26\",\"timestamp\":\"2024-10-01 11:49:08,236+0100\",\"service\":\"dassie\"}\n"
     ]
    },
    {
     "name": "stderr",
     "output_type": "stream",
     "text": [
      "/Users/davidburke/src/dassie/.venv/lib/python3.9/site-packages/urllib3/connectionpool.py:1063: InsecureRequestWarning: Unverified HTTPS request is being made to host '127.0.0.1'. Adding certificate verification is strongly advised. See: https://urllib3.readthedocs.io/en/1.26.x/advanced-usage.html#ssl-warnings\n",
      "  warnings.warn(\n",
      "/Users/davidburke/src/dassie/.venv/lib/python3.9/site-packages/urllib3/connectionpool.py:1063: InsecureRequestWarning: Unverified HTTPS request is being made to host '127.0.0.1'. Adding certificate verification is strongly advised. See: https://urllib3.readthedocs.io/en/1.26.x/advanced-usage.html#ssl-warnings\n",
      "  warnings.warn(\n",
      "/Users/davidburke/src/dassie/.venv/lib/python3.9/site-packages/urllib3/connectionpool.py:1063: InsecureRequestWarning: Unverified HTTPS request is being made to host '127.0.0.1'. Adding certificate verification is strongly advised. See: https://urllib3.readthedocs.io/en/1.26.x/advanced-usage.html#ssl-warnings\n",
      "  warnings.warn(\n"
     ]
    },
    {
     "name": "stdout",
     "output_type": "stream",
     "text": [
      "{\"message\":\"Neptune query response: {'ResponseMetadata': {'HTTPStatusCode': 200, 'HTTPHeaders': {'transfer-encoding': 'chunked'}, 'RetryAttempts': 0}, 'results': []}\",\"level\":\"INFO\",\"location\":\"query:26\",\"timestamp\":\"2024-10-01 11:49:08,341+0100\",\"service\":\"dassie\"}\n",
      "[[], [], [], [], [], [], [], [], [], [], []]\n",
      "\n",
      "MERGE (a:Article {id: 'a31280bf-609b-41e6-a3e6-b66dd2b6ec00'})\n",
      "\n",
      "MERGE (ontology:Concept {name: 'Ontology'})\n",
      "ON CREATE SET ontology.abstract = \"An ontology is a formal description of knowledge as a set of concepts within a domain and the relationships that hold between them.\"\n",
      "MERGE (a)-[:DESCRIBES]->(ontology)\n",
      "\n",
      "MERGE (concepts:Concept {name: 'Concepts'})\n",
      "ON CREATE SET concepts.definition = \"A concept represents a set or class of entities or 'things' within a domain.\"\n",
      "MERGE (a)-[:DESCRIBES]->(concepts)\n",
      "\n",
      "MERGE (relationships:Concept {name: 'Relationships'})\n",
      "ON CREATE SET relationships.definition = \"Relationships describe how concepts are related to each other within an ontology.\"\n",
      "MERGE (a)-[:DESCRIBES]->(relationships)\n",
      "\n",
      "MERGE (functions:Concept {name: 'Functions'})\n",
      "ON CREATE SET functions.definition = \"Functions are operations that can be performed within the ontology.\"\n",
      "MERGE (a)-[:DESCRIBES]->(functions)\n",
      "\n",
      "MERGE (individuals:Concept {name: 'Individuals'})\n",
      "ON CREATE SET individuals.definition = \"Individuals (instances) are the basic, 'ground level' components of an ontology.\"\n",
      "MERGE (a)-[:DESCRIBES]->(individuals)\n",
      "\n",
      "MERGE (axioms:Concept {name: 'Axioms'})\n",
      "ON CREATE SET axioms.definition = \"Axioms are assertions or rules that are always true within the ontology.\"\n",
      "MERGE (a)-[:DESCRIBES]->(axioms)\n",
      "\n",
      "MERGE (ontology)-[:HAS_COMPONENT]->(concepts)\n",
      "MERGE (ontology)-[:HAS_COMPONENT]->(relationships)\n",
      "MERGE (ontology)-[:HAS_COMPONENT]->(functions)\n",
      "MERGE (ontology)-[:HAS_COMPONENT]->(individuals)\n",
      "MERGE (ontology)-[:HAS_COMPONENT]->(axioms)\n",
      "\n",
      "{\"message\":\"Neptune query: \\nMERGE (a:Article {id: 'a31280bf-609b-41e6-a3e6-b66dd2b6ec00'})\\n\\nMERGE (ontology:Concept {name: 'Ontology'})\\nON CREATE SET ontology.abstract = \\\"An ontology is a formal description of knowledge as a set of concepts within a domain and the relationships that hold between them.\\\"\\nMERGE (a)-[:DESCRIBES]->(ontology)\\n\\nMERGE (concepts:Concept {name: 'Concepts'})\\nON CREATE SET concepts.definition = \\\"A concept represents a set or class of entities or 'things' within a domain.\\\"\\nMERGE (a)-[:DESCRIBES]->(concepts)\\n\\nMERGE (relationships:Concept {name: 'Relationships'})\\nON CREATE SET relationships.definition = \\\"Relationships describe how concepts are related to each other within an ontology.\\\"\\nMERGE (a)-[:DESCRIBES]->(relationships)\\n\\nMERGE (functions:Concept {name: 'Functions'})\\nON CREATE SET functions.definition = \\\"Functions are operations that can be performed within the ontology.\\\"\\nMERGE (a)-[:DESCRIBES]->(functions)\\n\\nMERGE (individuals:Concept {name: 'Individuals'})\\nON CREATE SET individuals.definition = \\\"Individuals (instances) are the basic, 'ground level' components of an ontology.\\\"\\nMERGE (a)-[:DESCRIBES]->(individuals)\\n\\nMERGE (axioms:Concept {name: 'Axioms'})\\nON CREATE SET axioms.definition = \\\"Axioms are assertions or rules that are always true within the ontology.\\\"\\nMERGE (a)-[:DESCRIBES]->(axioms)\\n\\nMERGE (ontology)-[:HAS_COMPONENT]->(concepts)\\nMERGE (ontology)-[:HAS_COMPONENT]->(relationships)\\nMERGE (ontology)-[:HAS_COMPONENT]->(functions)\\nMERGE (ontology)-[:HAS_COMPONENT]->(individuals)\\nMERGE (ontology)-[:HAS_COMPONENT]->(axioms)\\n\",\"level\":\"INFO\",\"location\":\"query:21\",\"timestamp\":\"2024-10-01 11:49:18,074+0100\",\"service\":\"dassie\"}\n",
      "{\"message\":\"Neptune query response: {'ResponseMetadata': {'HTTPStatusCode': 200, 'HTTPHeaders': {'transfer-encoding': 'chunked'}, 'RetryAttempts': 0}, 'results': []}\",\"level\":\"INFO\",\"location\":\"query:26\",\"timestamp\":\"2024-10-01 11:49:18,144+0100\",\"service\":\"dassie\"}\n",
      "{\"message\":\"Neptune query response: {'ResponseMetadata': {'HTTPStatusCode': 200, 'HTTPHeaders': {'transfer-encoding': 'chunked'}, 'RetryAttempts': 0}, 'results': []}\",\"level\":\"INFO\",\"location\":\"query:26\",\"timestamp\":\"2024-10-01 11:49:18,217+0100\",\"service\":\"dassie\"}\n"
     ]
    },
    {
     "name": "stderr",
     "output_type": "stream",
     "text": [
      "/Users/davidburke/src/dassie/.venv/lib/python3.9/site-packages/urllib3/connectionpool.py:1063: InsecureRequestWarning: Unverified HTTPS request is being made to host '127.0.0.1'. Adding certificate verification is strongly advised. See: https://urllib3.readthedocs.io/en/1.26.x/advanced-usage.html#ssl-warnings\n",
      "  warnings.warn(\n",
      "/Users/davidburke/src/dassie/.venv/lib/python3.9/site-packages/urllib3/connectionpool.py:1063: InsecureRequestWarning: Unverified HTTPS request is being made to host '127.0.0.1'. Adding certificate verification is strongly advised. See: https://urllib3.readthedocs.io/en/1.26.x/advanced-usage.html#ssl-warnings\n",
      "  warnings.warn(\n",
      "/Users/davidburke/src/dassie/.venv/lib/python3.9/site-packages/urllib3/connectionpool.py:1063: InsecureRequestWarning: Unverified HTTPS request is being made to host '127.0.0.1'. Adding certificate verification is strongly advised. See: https://urllib3.readthedocs.io/en/1.26.x/advanced-usage.html#ssl-warnings\n",
      "  warnings.warn(\n"
     ]
    },
    {
     "name": "stdout",
     "output_type": "stream",
     "text": [
      "{\"message\":\"Neptune query response: {'ResponseMetadata': {'HTTPStatusCode': 200, 'HTTPHeaders': {'transfer-encoding': 'chunked'}, 'RetryAttempts': 0}, 'results': []}\",\"level\":\"INFO\",\"location\":\"query:26\",\"timestamp\":\"2024-10-01 11:49:18,304+0100\",\"service\":\"dassie\"}\n",
      "{\"message\":\"Neptune query response: {'ResponseMetadata': {'HTTPStatusCode': 200, 'HTTPHeaders': {'transfer-encoding': 'chunked'}, 'RetryAttempts': 0}, 'results': []}\",\"level\":\"INFO\",\"location\":\"query:26\",\"timestamp\":\"2024-10-01 11:49:18,374+0100\",\"service\":\"dassie\"}\n",
      "{\"message\":\"Neptune query response: {'ResponseMetadata': {'HTTPStatusCode': 200, 'HTTPHeaders': {'transfer-encoding': 'chunked'}, 'RetryAttempts': 0}, 'results': []}\",\"level\":\"INFO\",\"location\":\"query:26\",\"timestamp\":\"2024-10-01 11:49:18,435+0100\",\"service\":\"dassie\"}\n",
      "{\"message\":\"Neptune query response: {'ResponseMetadata': {'HTTPStatusCode': 200, 'HTTPHeaders': {'transfer-encoding': 'chunked'}, 'RetryAttempts': 0}, 'results': []}\",\"level\":\"INFO\",\"location\":\"query:26\",\"timestamp\":\"2024-10-01 11:49:18,495+0100\",\"service\":\"dassie\"}\n"
     ]
    },
    {
     "name": "stderr",
     "output_type": "stream",
     "text": [
      "/Users/davidburke/src/dassie/.venv/lib/python3.9/site-packages/urllib3/connectionpool.py:1063: InsecureRequestWarning: Unverified HTTPS request is being made to host '127.0.0.1'. Adding certificate verification is strongly advised. See: https://urllib3.readthedocs.io/en/1.26.x/advanced-usage.html#ssl-warnings\n",
      "  warnings.warn(\n",
      "/Users/davidburke/src/dassie/.venv/lib/python3.9/site-packages/urllib3/connectionpool.py:1063: InsecureRequestWarning: Unverified HTTPS request is being made to host '127.0.0.1'. Adding certificate verification is strongly advised. See: https://urllib3.readthedocs.io/en/1.26.x/advanced-usage.html#ssl-warnings\n",
      "  warnings.warn(\n",
      "/Users/davidburke/src/dassie/.venv/lib/python3.9/site-packages/urllib3/connectionpool.py:1063: InsecureRequestWarning: Unverified HTTPS request is being made to host '127.0.0.1'. Adding certificate verification is strongly advised. See: https://urllib3.readthedocs.io/en/1.26.x/advanced-usage.html#ssl-warnings\n",
      "  warnings.warn(\n",
      "/Users/davidburke/src/dassie/.venv/lib/python3.9/site-packages/urllib3/connectionpool.py:1063: InsecureRequestWarning: Unverified HTTPS request is being made to host '127.0.0.1'. Adding certificate verification is strongly advised. See: https://urllib3.readthedocs.io/en/1.26.x/advanced-usage.html#ssl-warnings\n",
      "  warnings.warn(\n"
     ]
    },
    {
     "name": "stdout",
     "output_type": "stream",
     "text": [
      "{\"message\":\"Neptune query response: {'ResponseMetadata': {'HTTPStatusCode': 200, 'HTTPHeaders': {'transfer-encoding': 'chunked'}, 'RetryAttempts': 0}, 'results': []}\",\"level\":\"INFO\",\"location\":\"query:26\",\"timestamp\":\"2024-10-01 11:49:18,559+0100\",\"service\":\"dassie\"}\n",
      "{\"message\":\"Neptune query response: {'ResponseMetadata': {'HTTPStatusCode': 200, 'HTTPHeaders': {'transfer-encoding': 'chunked'}, 'RetryAttempts': 0}, 'results': []}\",\"level\":\"INFO\",\"location\":\"query:26\",\"timestamp\":\"2024-10-01 11:49:18,660+0100\",\"service\":\"dassie\"}\n",
      "[[], [], [], [], [], [], [], []]\n",
      "---\n",
      "\n",
      "\n",
      "\n"
     ]
    },
    {
     "name": "stderr",
     "output_type": "stream",
     "text": [
      "/Users/davidburke/src/dassie/.venv/lib/python3.9/site-packages/urllib3/connectionpool.py:1063: InsecureRequestWarning: Unverified HTTPS request is being made to host '127.0.0.1'. Adding certificate verification is strongly advised. See: https://urllib3.readthedocs.io/en/1.26.x/advanced-usage.html#ssl-warnings\n",
      "  warnings.warn(\n"
     ]
    },
    {
     "name": "stdout",
     "output_type": "stream",
     "text": [
      "81299718-7d1a-4db1-81e5-ef3c6577f220\n",
      "218ef7fc-ad56-4253-93d7-002a5e86f269\n",
      "'NoneType' object has no attribute 'startswith'\n",
      "---\n",
      "\n",
      "\n",
      "\n",
      "d6299e0b-1d4e-420c-8841-acdb927001fb\n",
      "0afed18f-8911-4935-9eb9-aedfcb12982e\n",
      "'NoneType' object has no attribute 'startswith'\n",
      "---\n",
      "\n",
      "\n",
      "\n",
      "570a5652-0b55-4ee1-87b2-5e3ef9a11699\n",
      "22585c5e-b0d7-4f97-bde1-05431d02240c\n",
      "{\"message\":\"Neptune query: \\nMERGE (a:Article {id: 'dd988a7a-3f2e-4e4c-9f7b-4a3f0b47adfd'})\\n\\nMERGE (so:Website {name: 'Stack Overflow'})\\nON CREATE SET so.feature = 'AI features where you work: search, IDE, and chat'\\nMERGE (so)-[:MENTIONED_IN]->(a)\\n\\nMERGE (mrCoder:Person {name: 'MrCoder74'})\\nMERGE (mrCoder)-[:ASKED]->(q1:Question {id: 'Question_1', date: '2023-08-21', views: 306, score: -1})\\nMERGE (q1)-[:MENTIONED_IN]->(a)\\n\\nMERGE (js:ProgrammingLanguage {name: 'JavaScript'})\\nMERGE (q1)-[:TOPIC]->(js)\\n\\nMERGE (openai:API {name: 'OpenAI_API'})\\nMERGE (q1)-[:TOPIC]->(openai)\\n\\nMERGE (backticks:Topic {name: 'Backticks'})\\nMERGE (q1)-[:TOPIC]->(backticks)\\n\\nMERGE (ans1:Answer {id: 'Answer_1', date: '2023-08-21', score: 0})\\nMERGE (ans1)-[:AUTHORED_BY]->(mrCoder)\\nMERGE (q1)-[:HAS_ANSWER]->(ans1)\\n\\nMERGE (davi:Person {name: 'Davi'})\\nMERGE (ans2:Answer {id: 'Answer_2', date: '2023-08-21', score: -1})\\nMERGE (ans2)-[:AUTHORED_BY]->(davi)\\nMERGE (q1)-[:HAS_ANSWER]->(ans2)\\n\\nMERGE (bronzeBadge:Badge {name: 'Bronze_Badge', count: 5})\\nMERGE (davi)-[:HAS_BADGE]->(bronzeBadge)\\n\",\"level\":\"INFO\",\"location\":\"query:21\",\"timestamp\":\"2024-10-01 11:49:19,791+0100\",\"service\":\"dassie\"}\n",
      "{\"message\":\"Neptune query response: {'ResponseMetadata': {'HTTPStatusCode': 200, 'HTTPHeaders': {'transfer-encoding': 'chunked'}, 'RetryAttempts': 0}, 'results': []}\",\"level\":\"INFO\",\"location\":\"query:26\",\"timestamp\":\"2024-10-01 11:49:19,835+0100\",\"service\":\"dassie\"}\n",
      "{\"message\":\"Neptune query response: {'ResponseMetadata': {'HTTPStatusCode': 200, 'HTTPHeaders': {'transfer-encoding': 'chunked'}, 'RetryAttempts': 0}, 'results': []}\",\"level\":\"INFO\",\"location\":\"query:26\",\"timestamp\":\"2024-10-01 11:49:19,892+0100\",\"service\":\"dassie\"}\n",
      "{\"message\":\"Neptune query response: {'ResponseMetadata': {'HTTPStatusCode': 200, 'HTTPHeaders': {'transfer-encoding': 'chunked'}, 'RetryAttempts': 0}, 'results': []}\",\"level\":\"INFO\",\"location\":\"query:26\",\"timestamp\":\"2024-10-01 11:49:19,962+0100\",\"service\":\"dassie\"}\n"
     ]
    },
    {
     "name": "stderr",
     "output_type": "stream",
     "text": [
      "/Users/davidburke/src/dassie/.venv/lib/python3.9/site-packages/urllib3/connectionpool.py:1063: InsecureRequestWarning: Unverified HTTPS request is being made to host '127.0.0.1'. Adding certificate verification is strongly advised. See: https://urllib3.readthedocs.io/en/1.26.x/advanced-usage.html#ssl-warnings\n",
      "  warnings.warn(\n",
      "/Users/davidburke/src/dassie/.venv/lib/python3.9/site-packages/urllib3/connectionpool.py:1063: InsecureRequestWarning: Unverified HTTPS request is being made to host '127.0.0.1'. Adding certificate verification is strongly advised. See: https://urllib3.readthedocs.io/en/1.26.x/advanced-usage.html#ssl-warnings\n",
      "  warnings.warn(\n",
      "/Users/davidburke/src/dassie/.venv/lib/python3.9/site-packages/urllib3/connectionpool.py:1063: InsecureRequestWarning: Unverified HTTPS request is being made to host '127.0.0.1'. Adding certificate verification is strongly advised. See: https://urllib3.readthedocs.io/en/1.26.x/advanced-usage.html#ssl-warnings\n",
      "  warnings.warn(\n",
      "/Users/davidburke/src/dassie/.venv/lib/python3.9/site-packages/urllib3/connectionpool.py:1063: InsecureRequestWarning: Unverified HTTPS request is being made to host '127.0.0.1'. Adding certificate verification is strongly advised. See: https://urllib3.readthedocs.io/en/1.26.x/advanced-usage.html#ssl-warnings\n",
      "  warnings.warn(\n"
     ]
    },
    {
     "name": "stdout",
     "output_type": "stream",
     "text": [
      "{\"message\":\"Neptune query response: {'ResponseMetadata': {'HTTPStatusCode': 200, 'HTTPHeaders': {'transfer-encoding': 'chunked'}, 'RetryAttempts': 0}, 'results': []}\",\"level\":\"INFO\",\"location\":\"query:26\",\"timestamp\":\"2024-10-01 11:49:20,025+0100\",\"service\":\"dassie\"}\n",
      "{\"message\":\"Neptune query response: {'ResponseMetadata': {'HTTPStatusCode': 200, 'HTTPHeaders': {'transfer-encoding': 'chunked'}, 'RetryAttempts': 0}, 'results': []}\",\"level\":\"INFO\",\"location\":\"query:26\",\"timestamp\":\"2024-10-01 11:49:20,111+0100\",\"service\":\"dassie\"}\n",
      "{\"message\":\"Neptune query response: {'ResponseMetadata': {'HTTPStatusCode': 200, 'HTTPHeaders': {'transfer-encoding': 'chunked'}, 'RetryAttempts': 0}, 'results': []}\",\"level\":\"INFO\",\"location\":\"query:26\",\"timestamp\":\"2024-10-01 11:49:20,191+0100\",\"service\":\"dassie\"}\n"
     ]
    },
    {
     "name": "stderr",
     "output_type": "stream",
     "text": [
      "/Users/davidburke/src/dassie/.venv/lib/python3.9/site-packages/urllib3/connectionpool.py:1063: InsecureRequestWarning: Unverified HTTPS request is being made to host '127.0.0.1'. Adding certificate verification is strongly advised. See: https://urllib3.readthedocs.io/en/1.26.x/advanced-usage.html#ssl-warnings\n",
      "  warnings.warn(\n",
      "/Users/davidburke/src/dassie/.venv/lib/python3.9/site-packages/urllib3/connectionpool.py:1063: InsecureRequestWarning: Unverified HTTPS request is being made to host '127.0.0.1'. Adding certificate verification is strongly advised. See: https://urllib3.readthedocs.io/en/1.26.x/advanced-usage.html#ssl-warnings\n",
      "  warnings.warn(\n",
      "/Users/davidburke/src/dassie/.venv/lib/python3.9/site-packages/urllib3/connectionpool.py:1063: InsecureRequestWarning: Unverified HTTPS request is being made to host '127.0.0.1'. Adding certificate verification is strongly advised. See: https://urllib3.readthedocs.io/en/1.26.x/advanced-usage.html#ssl-warnings\n",
      "  warnings.warn(\n"
     ]
    },
    {
     "name": "stdout",
     "output_type": "stream",
     "text": [
      "{\"message\":\"Neptune query response: {'ResponseMetadata': {'HTTPStatusCode': 200, 'HTTPHeaders': {'transfer-encoding': 'chunked'}, 'RetryAttempts': 0}, 'results': []}\",\"level\":\"INFO\",\"location\":\"query:26\",\"timestamp\":\"2024-10-01 11:49:20,324+0100\",\"service\":\"dassie\"}\n",
      "{\"message\":\"Neptune query response: {'ResponseMetadata': {'HTTPStatusCode': 200, 'HTTPHeaders': {'transfer-encoding': 'chunked'}, 'RetryAttempts': 0}, 'results': []}\",\"level\":\"INFO\",\"location\":\"query:26\",\"timestamp\":\"2024-10-01 11:49:20,416+0100\",\"service\":\"dassie\"}\n",
      "{\"message\":\"Neptune query response: {'ResponseMetadata': {'HTTPStatusCode': 200, 'HTTPHeaders': {'transfer-encoding': 'chunked'}, 'RetryAttempts': 0}, 'results': []}\",\"level\":\"INFO\",\"location\":\"query:26\",\"timestamp\":\"2024-10-01 11:49:20,499+0100\",\"service\":\"dassie\"}\n",
      "[[], [], [], [], [], [], [], [], []]\n"
     ]
    },
    {
     "name": "stderr",
     "output_type": "stream",
     "text": [
      "/Users/davidburke/src/dassie/.venv/lib/python3.9/site-packages/urllib3/connectionpool.py:1063: InsecureRequestWarning: Unverified HTTPS request is being made to host '127.0.0.1'. Adding certificate verification is strongly advised. See: https://urllib3.readthedocs.io/en/1.26.x/advanced-usage.html#ssl-warnings\n",
      "  warnings.warn(\n",
      "/Users/davidburke/src/dassie/.venv/lib/python3.9/site-packages/urllib3/connectionpool.py:1063: InsecureRequestWarning: Unverified HTTPS request is being made to host '127.0.0.1'. Adding certificate verification is strongly advised. See: https://urllib3.readthedocs.io/en/1.26.x/advanced-usage.html#ssl-warnings\n",
      "  warnings.warn(\n"
     ]
    },
    {
     "name": "stdout",
     "output_type": "stream",
     "text": [
      "\n",
      "MERGE (a:Article {id: 'dd988a7a-3f2e-4e4c-9f7b-4a3f0b47adfd'})\n",
      "\n",
      "MERGE (so:Website {name: 'Stack Overflow'})\n",
      "MERGE (a)-[:MENTIONS]->(so)\n",
      "\n",
      "MERGE (openai:Company {name: 'OpenAI', foundingYear: 2015})\n",
      "MERGE (a)-[:MENTIONS]->(openai)\n",
      "\n",
      "MERGE (js:ProgrammingLanguage {name: 'JavaScript', paradigm: 'Event-driven, functional, imperative'})\n",
      "MERGE (a)-[:MENTIONS]->(js)\n",
      "\n",
      "MERGE (css:ProgrammingLanguage {name: 'CSS', paradigm: 'Declarative'})\n",
      "MERGE (a)-[:MENTIONS]->(css)\n",
      "\n",
      "MERGE (html:MarkupLanguage {name: 'HTML', paradigm: 'Declarative'})\n",
      "MERGE (a)-[:MENTIONS]->(html)\n",
      "\n",
      "MERGE (mrcoder:Person {username: 'MrCoder74'})\n",
      "MERGE (mrcoder)-[:MEMBER_OF]->(so)\n",
      "MERGE (a)-[:MENTIONS]->(mrcoder)\n",
      "\n",
      "MERGE (bergi:Person {username: 'Bergi'})\n",
      "MERGE (bergi)-[:MEMBER_OF]->(so)\n",
      "MERGE (a)-[:MENTIONS]->(bergi)\n",
      "\n",
      "MERGE (davi:Person {username: 'Davi'})\n",
      "MERGE (davi)-[:MEMBER_OF]->(so)\n",
      "MERGE (a)-[:MENTIONS]->(davi)\n",
      "\n",
      "MERGE (q1:Question {id: 'Question_1', date: date('2023-08-21')})\n",
      "MERGE (q1)-[:ASKED_BY]->(mrcoder)\n",
      "MERGE (q1)-[:TOPIC]->(js)\n",
      "MERGE (q1)-[:TOPIC]->(openai)\n",
      "MERGE (a)-[:MENTIONS]->(q1)\n",
      "\n",
      "MERGE (ans1:Answer {id: 'Answer_1', date: date('2023-08-21'), score: 0})\n",
      "MERGE (ans1)-[:ANSWERED_BY]->(mrcoder)\n",
      "MERGE (q1)-[:HAS_ANSWER]->(ans1)\n",
      "MERGE (a)-[:MENTIONS]->(ans1)\n",
      "\n",
      "MERGE (ans2:Answer {id: 'Answer_2', date: date('2023-08-21'), score: -1})\n",
      "MERGE (ans2)-[:ANSWERED_BY]->(davi)\n",
      "MERGE (q1)-[:HAS_ANSWER]->(ans2)\n",
      "MERGE (a)-[:MENTIONS]->(ans2)\n",
      "\n",
      "MERGE (c2:Comment {id: 'Comment_2', date: date('2023-08-21'), content: 'Why do you use \"```\" instead of /```/ or /```/g? The first is not a regex!'})\n",
      "MERGE (c2)-[:COMMENTED_BY]->(bergi)\n",
      "MERGE (a)-[:MENTIONS]->(c2)\n",
      "\n",
      "MERGE (c3:Comment {id: 'Comment_3', date: date('2023-08-21'), content: 'shame on me, it was so obvious :( thank you i guess my mind was so dizzy after 3 hours spent arranging the functions, and i got lost in a glass of water :-\\\\'})\n",
      "MERGE (c3)-[:COMMENTED_BY]->(mrcoder)\n",
      "MERGE (a)-[:MENTIONS]->(c3)\n",
      "\n",
      "{\"message\":\"Neptune query: \\nMERGE (a:Article {id: 'dd988a7a-3f2e-4e4c-9f7b-4a3f0b47adfd'})\\n\\nMERGE (so:Website {name: 'Stack Overflow'})\\nMERGE (a)-[:MENTIONS]->(so)\\n\\nMERGE (openai:Company {name: 'OpenAI', foundingYear: 2015})\\nMERGE (a)-[:MENTIONS]->(openai)\\n\\nMERGE (js:ProgrammingLanguage {name: 'JavaScript', paradigm: 'Event-driven, functional, imperative'})\\nMERGE (a)-[:MENTIONS]->(js)\\n\\nMERGE (css:ProgrammingLanguage {name: 'CSS', paradigm: 'Declarative'})\\nMERGE (a)-[:MENTIONS]->(css)\\n\\nMERGE (html:MarkupLanguage {name: 'HTML', paradigm: 'Declarative'})\\nMERGE (a)-[:MENTIONS]->(html)\\n\\nMERGE (mrcoder:Person {username: 'MrCoder74'})\\nMERGE (mrcoder)-[:MEMBER_OF]->(so)\\nMERGE (a)-[:MENTIONS]->(mrcoder)\\n\\nMERGE (bergi:Person {username: 'Bergi'})\\nMERGE (bergi)-[:MEMBER_OF]->(so)\\nMERGE (a)-[:MENTIONS]->(bergi)\\n\\nMERGE (davi:Person {username: 'Davi'})\\nMERGE (davi)-[:MEMBER_OF]->(so)\\nMERGE (a)-[:MENTIONS]->(davi)\\n\\nMERGE (q1:Question {id: 'Question_1', date: '2023-08-21'})\\nMERGE (q1)-[:ASKED_BY]->(mrcoder)\\nMERGE (q1)-[:TOPIC]->(js)\\nMERGE (q1)-[:TOPIC]->(openai)\\nMERGE (a)-[:MENTIONS]->(q1)\\n\\nMERGE (ans1:Answer {id: 'Answer_1', date: '2023-08-21', score: 0})\\nMERGE (ans1)-[:ANSWERED_BY]->(mrcoder)\\nMERGE (q1)-[:HAS_ANSWER]->(ans1)\\nMERGE (a)-[:MENTIONS]->(ans1)\\n\\nMERGE (ans2:Answer {id: 'Answer_2', date: '2023-08-21', score: -1})\\nMERGE (ans2)-[:ANSWERED_BY]->(davi)\\nMERGE (q1)-[:HAS_ANSWER]->(ans2)\\nMERGE (a)-[:MENTIONS]->(ans2)\\n\\nMERGE (c2:Comment {id: 'Comment_2', date: '2023-08-21', content: 'Why do you use \\\"```\\\" instead of /```/ or /```/g? The first is not a regex!'})\\nMERGE (c2)-[:COMMENTED_BY]->(bergi)\\nMERGE (a)-[:MENTIONS]->(c2)\\n\\nMERGE (c3:Comment {id: 'Comment_3', date: '2023-08-21', content: 'shame on me, it was so obvious :( thank you i guess my mind was so dizzy after 3 hours spent arranging the functions, and i got lost in a glass of water :-\\\\\\\\'})\\nMERGE (c3)-[:COMMENTED_BY]->(mrcoder)\\nMERGE (a)-[:MENTIONS]->(c3)\\n\",\"level\":\"INFO\",\"location\":\"query:21\",\"timestamp\":\"2024-10-01 11:49:40,491+0100\",\"service\":\"dassie\"}\n",
      "{\"message\":\"Neptune query response: {'ResponseMetadata': {'HTTPStatusCode': 200, 'HTTPHeaders': {'transfer-encoding': 'chunked'}, 'RetryAttempts': 0}, 'results': []}\",\"level\":\"INFO\",\"location\":\"query:26\",\"timestamp\":\"2024-10-01 11:49:40,562+0100\",\"service\":\"dassie\"}\n",
      "{\"message\":\"Neptune query response: {'ResponseMetadata': {'HTTPStatusCode': 200, 'HTTPHeaders': {'transfer-encoding': 'chunked'}, 'RetryAttempts': 0}, 'results': []}\",\"level\":\"INFO\",\"location\":\"query:26\",\"timestamp\":\"2024-10-01 11:49:40,617+0100\",\"service\":\"dassie\"}\n",
      "{\"message\":\"Neptune query response: {'ResponseMetadata': {'HTTPStatusCode': 200, 'HTTPHeaders': {'transfer-encoding': 'chunked'}, 'RetryAttempts': 0}, 'results': []}\",\"level\":\"INFO\",\"location\":\"query:26\",\"timestamp\":\"2024-10-01 11:49:40,676+0100\",\"service\":\"dassie\"}\n"
     ]
    },
    {
     "name": "stderr",
     "output_type": "stream",
     "text": [
      "/Users/davidburke/src/dassie/.venv/lib/python3.9/site-packages/urllib3/connectionpool.py:1063: InsecureRequestWarning: Unverified HTTPS request is being made to host '127.0.0.1'. Adding certificate verification is strongly advised. See: https://urllib3.readthedocs.io/en/1.26.x/advanced-usage.html#ssl-warnings\n",
      "  warnings.warn(\n",
      "/Users/davidburke/src/dassie/.venv/lib/python3.9/site-packages/urllib3/connectionpool.py:1063: InsecureRequestWarning: Unverified HTTPS request is being made to host '127.0.0.1'. Adding certificate verification is strongly advised. See: https://urllib3.readthedocs.io/en/1.26.x/advanced-usage.html#ssl-warnings\n",
      "  warnings.warn(\n",
      "/Users/davidburke/src/dassie/.venv/lib/python3.9/site-packages/urllib3/connectionpool.py:1063: InsecureRequestWarning: Unverified HTTPS request is being made to host '127.0.0.1'. Adding certificate verification is strongly advised. See: https://urllib3.readthedocs.io/en/1.26.x/advanced-usage.html#ssl-warnings\n",
      "  warnings.warn(\n",
      "/Users/davidburke/src/dassie/.venv/lib/python3.9/site-packages/urllib3/connectionpool.py:1063: InsecureRequestWarning: Unverified HTTPS request is being made to host '127.0.0.1'. Adding certificate verification is strongly advised. See: https://urllib3.readthedocs.io/en/1.26.x/advanced-usage.html#ssl-warnings\n",
      "  warnings.warn(\n"
     ]
    },
    {
     "name": "stdout",
     "output_type": "stream",
     "text": [
      "{\"message\":\"Neptune query response: {'ResponseMetadata': {'HTTPStatusCode': 200, 'HTTPHeaders': {'transfer-encoding': 'chunked'}, 'RetryAttempts': 0}, 'results': []}\",\"level\":\"INFO\",\"location\":\"query:26\",\"timestamp\":\"2024-10-01 11:49:40,740+0100\",\"service\":\"dassie\"}\n",
      "{\"message\":\"Neptune query response: {'ResponseMetadata': {'HTTPStatusCode': 200, 'HTTPHeaders': {'transfer-encoding': 'chunked'}, 'RetryAttempts': 0}, 'results': []}\",\"level\":\"INFO\",\"location\":\"query:26\",\"timestamp\":\"2024-10-01 11:49:40,806+0100\",\"service\":\"dassie\"}\n",
      "{\"message\":\"Neptune query response: {'ResponseMetadata': {'HTTPStatusCode': 200, 'HTTPHeaders': {'transfer-encoding': 'chunked'}, 'RetryAttempts': 0}, 'results': []}\",\"level\":\"INFO\",\"location\":\"query:26\",\"timestamp\":\"2024-10-01 11:49:40,866+0100\",\"service\":\"dassie\"}\n",
      "{\"message\":\"Neptune query response: {'ResponseMetadata': {'HTTPStatusCode': 200, 'HTTPHeaders': {'transfer-encoding': 'chunked'}, 'RetryAttempts': 0}, 'results': []}\",\"level\":\"INFO\",\"location\":\"query:26\",\"timestamp\":\"2024-10-01 11:49:40,939+0100\",\"service\":\"dassie\"}\n"
     ]
    },
    {
     "name": "stderr",
     "output_type": "stream",
     "text": [
      "/Users/davidburke/src/dassie/.venv/lib/python3.9/site-packages/urllib3/connectionpool.py:1063: InsecureRequestWarning: Unverified HTTPS request is being made to host '127.0.0.1'. Adding certificate verification is strongly advised. See: https://urllib3.readthedocs.io/en/1.26.x/advanced-usage.html#ssl-warnings\n",
      "  warnings.warn(\n",
      "/Users/davidburke/src/dassie/.venv/lib/python3.9/site-packages/urllib3/connectionpool.py:1063: InsecureRequestWarning: Unverified HTTPS request is being made to host '127.0.0.1'. Adding certificate verification is strongly advised. See: https://urllib3.readthedocs.io/en/1.26.x/advanced-usage.html#ssl-warnings\n",
      "  warnings.warn(\n",
      "/Users/davidburke/src/dassie/.venv/lib/python3.9/site-packages/urllib3/connectionpool.py:1063: InsecureRequestWarning: Unverified HTTPS request is being made to host '127.0.0.1'. Adding certificate verification is strongly advised. See: https://urllib3.readthedocs.io/en/1.26.x/advanced-usage.html#ssl-warnings\n",
      "  warnings.warn(\n",
      "/Users/davidburke/src/dassie/.venv/lib/python3.9/site-packages/urllib3/connectionpool.py:1063: InsecureRequestWarning: Unverified HTTPS request is being made to host '127.0.0.1'. Adding certificate verification is strongly advised. See: https://urllib3.readthedocs.io/en/1.26.x/advanced-usage.html#ssl-warnings\n",
      "  warnings.warn(\n"
     ]
    },
    {
     "name": "stdout",
     "output_type": "stream",
     "text": [
      "{\"message\":\"Neptune query response: {'ResponseMetadata': {'HTTPStatusCode': 200, 'HTTPHeaders': {'transfer-encoding': 'chunked'}, 'RetryAttempts': 0}, 'results': []}\",\"level\":\"INFO\",\"location\":\"query:26\",\"timestamp\":\"2024-10-01 11:49:41,017+0100\",\"service\":\"dassie\"}\n",
      "{\"message\":\"Neptune query response: {'ResponseMetadata': {'HTTPStatusCode': 200, 'HTTPHeaders': {'transfer-encoding': 'chunked'}, 'RetryAttempts': 0}, 'results': []}\",\"level\":\"INFO\",\"location\":\"query:26\",\"timestamp\":\"2024-10-01 11:49:41,097+0100\",\"service\":\"dassie\"}\n",
      "{\"message\":\"Neptune query response: {'ResponseMetadata': {'HTTPStatusCode': 200, 'HTTPHeaders': {'transfer-encoding': 'chunked'}, 'RetryAttempts': 0}, 'results': []}\",\"level\":\"INFO\",\"location\":\"query:26\",\"timestamp\":\"2024-10-01 11:49:41,196+0100\",\"service\":\"dassie\"}\n"
     ]
    },
    {
     "name": "stderr",
     "output_type": "stream",
     "text": [
      "/Users/davidburke/src/dassie/.venv/lib/python3.9/site-packages/urllib3/connectionpool.py:1063: InsecureRequestWarning: Unverified HTTPS request is being made to host '127.0.0.1'. Adding certificate verification is strongly advised. See: https://urllib3.readthedocs.io/en/1.26.x/advanced-usage.html#ssl-warnings\n",
      "  warnings.warn(\n",
      "/Users/davidburke/src/dassie/.venv/lib/python3.9/site-packages/urllib3/connectionpool.py:1063: InsecureRequestWarning: Unverified HTTPS request is being made to host '127.0.0.1'. Adding certificate verification is strongly advised. See: https://urllib3.readthedocs.io/en/1.26.x/advanced-usage.html#ssl-warnings\n",
      "  warnings.warn(\n",
      "/Users/davidburke/src/dassie/.venv/lib/python3.9/site-packages/urllib3/connectionpool.py:1063: InsecureRequestWarning: Unverified HTTPS request is being made to host '127.0.0.1'. Adding certificate verification is strongly advised. See: https://urllib3.readthedocs.io/en/1.26.x/advanced-usage.html#ssl-warnings\n",
      "  warnings.warn(\n"
     ]
    },
    {
     "name": "stdout",
     "output_type": "stream",
     "text": [
      "{\"message\":\"Neptune query response: {'ResponseMetadata': {'HTTPStatusCode': 200, 'HTTPHeaders': {'transfer-encoding': 'chunked'}, 'RetryAttempts': 0}, 'results': []}\",\"level\":\"INFO\",\"location\":\"query:26\",\"timestamp\":\"2024-10-01 11:49:41,284+0100\",\"service\":\"dassie\"}\n",
      "{\"message\":\"Neptune query response: {'ResponseMetadata': {'HTTPStatusCode': 200, 'HTTPHeaders': {'transfer-encoding': 'chunked'}, 'RetryAttempts': 0}, 'results': []}\",\"level\":\"INFO\",\"location\":\"query:26\",\"timestamp\":\"2024-10-01 11:49:41,377+0100\",\"service\":\"dassie\"}\n",
      "{\"message\":\"Neptune query response: {'ResponseMetadata': {'HTTPStatusCode': 200, 'HTTPHeaders': {'transfer-encoding': 'chunked'}, 'RetryAttempts': 0}, 'results': []}\",\"level\":\"INFO\",\"location\":\"query:26\",\"timestamp\":\"2024-10-01 11:49:41,466+0100\",\"service\":\"dassie\"}\n"
     ]
    },
    {
     "name": "stderr",
     "output_type": "stream",
     "text": [
      "/Users/davidburke/src/dassie/.venv/lib/python3.9/site-packages/urllib3/connectionpool.py:1063: InsecureRequestWarning: Unverified HTTPS request is being made to host '127.0.0.1'. Adding certificate verification is strongly advised. See: https://urllib3.readthedocs.io/en/1.26.x/advanced-usage.html#ssl-warnings\n",
      "  warnings.warn(\n",
      "/Users/davidburke/src/dassie/.venv/lib/python3.9/site-packages/urllib3/connectionpool.py:1063: InsecureRequestWarning: Unverified HTTPS request is being made to host '127.0.0.1'. Adding certificate verification is strongly advised. See: https://urllib3.readthedocs.io/en/1.26.x/advanced-usage.html#ssl-warnings\n",
      "  warnings.warn(\n",
      "/Users/davidburke/src/dassie/.venv/lib/python3.9/site-packages/urllib3/connectionpool.py:1063: InsecureRequestWarning: Unverified HTTPS request is being made to host '127.0.0.1'. Adding certificate verification is strongly advised. See: https://urllib3.readthedocs.io/en/1.26.x/advanced-usage.html#ssl-warnings\n",
      "  warnings.warn(\n"
     ]
    },
    {
     "name": "stdout",
     "output_type": "stream",
     "text": [
      "{\"message\":\"Neptune query response: {'ResponseMetadata': {'HTTPStatusCode': 200, 'HTTPHeaders': {'transfer-encoding': 'chunked'}, 'RetryAttempts': 0}, 'results': []}\",\"level\":\"INFO\",\"location\":\"query:26\",\"timestamp\":\"2024-10-01 11:49:41,552+0100\",\"service\":\"dassie\"}\n",
      "[[], [], [], [], [], [], [], [], [], [], [], [], [], []]\n",
      "---\n",
      "\n",
      "\n",
      "\n",
      "003db669-8907-4dec-8b76-f64b594e1cce\n",
      "96335b4b-483f-49f1-8239-7c540cffe78e\n",
      "{\"message\":\"Neptune query: \\nMERGE (a:Article {id: '209be2f0-49fc-45e2-bf47-aaf45d351ab7'})\\n\\nMERGE (p:ProgrammingLanguage {name: 'Python_(programming_language)'})\\nMERGE (a)-[:MENTIONS]->(p)\\n\\nMERGE (w1:WebPage {url: 'https://www.w3schools.com/python/python_json', title: 'Python JSON', publisher: 'W3Schools'})\\nMERGE (p)-[:HAS_EXTERNAL_LINK]->(w1)\\nMERGE (a)-[:MENTIONS]->(w1)\\n\\nMERGE (w2:WebPage {url: 'https://www.w3schools.com/python/gloss_python_j', title: 'Python - Parse JSON', publisher: 'W3Schools'})\\nMERGE (p)-[:HAS_EXTERNAL_LINK]->(w2)\\nMERGE (a)-[:MENTIONS]->(w2)\\n\\nMERGE (w3:WebPage {url: 'https://docs.python.org/library/json', title: 'JSON encoder and decoder — Python 3.12.6 documentation', publisher: 'Python_Software_Foundation'})\\nMERGE (p)-[:HAS_EXTERNAL_LINK]->(w3)\\nMERGE (a)-[:MENTIONS]->(w3)\\n\\nMERGE (w4:WebPage {url: 'https://www.freecodecamp.org/news/python-parse-j', title: 'Python Parse JSON – How to Read a JSON File', publisher: 'freeCodeCamp'})\\nMERGE (p)-[:HAS_EXTERNAL_LINK]->(w4)\\nMERGE (a)-[:MENTIONS]->(w4)\\n\\nMERGE (w5:WebPage {url: 'https://www.programiz.com/python-programming/j', title: 'Python JSON: Read, Write, Parse JSON (With Examples)', publisher: 'Programiz'})\\nMERGE (p)-[:HAS_EXTERNAL_LINK]->(w5)\\nMERGE (a)-[:MENTIONS]->(w5)\\n\\nMERGE (w6:WebPage {url: 'https://stackoverflow.com/questions/how-can-i-pars', title: 'How can I parse (read) and use JSON in Python?', publisher: 'Stack_Overflow'})\\nMERGE (p)-[:HAS_EXTERNAL_LINK]->(w6)\\nMERGE (a)-[:MENTIONS]->(w6)\\n\\nMERGE (w7:WebPage {url: 'https://www.geeksforgeeks.org/read-write-and-parse-j', title: 'Read, Write and Parse JSON using Python', publisher: 'GeeksforGeeks'})\\nMERGE (p)-[:HAS_EXTERNAL_LINK]->(w7)\\nMERGE (a)-[:MENTIONS]->(w7)\\n\\nMERGE (w8:WebPage {url: 'https://www.zyte.com/blog/json-parsing-with-python', title: 'JSON Parsing with Python [Practical Guide]', publisher: 'Zyte'})\\nMERGE (p)-[:HAS_EXTERNAL_LINK]->(w8)\\nMERGE (a)-[:MENTIONS]->(w8)\\n\\nMERGE (w9:WebPage {url: 'https://realpython.com/python-json', title: 'Working With JSON Data in Python', publisher: 'Real_Python'})\\nMERGE (p)-[:HAS_EXTERNAL_LINK]->(w9)\\nMERGE (a)-[:MENTIONS]->(w9)\\n\",\"level\":\"INFO\",\"location\":\"query:21\",\"timestamp\":\"2024-10-01 11:49:42,532+0100\",\"service\":\"dassie\"}\n",
      "{\"message\":\"Neptune query response: {'ResponseMetadata': {'HTTPStatusCode': 200, 'HTTPHeaders': {'transfer-encoding': 'chunked'}, 'RetryAttempts': 0}, 'results': []}\",\"level\":\"INFO\",\"location\":\"query:26\",\"timestamp\":\"2024-10-01 11:49:42,585+0100\",\"service\":\"dassie\"}\n",
      "{\"message\":\"Neptune query response: {'ResponseMetadata': {'HTTPStatusCode': 200, 'HTTPHeaders': {'transfer-encoding': 'chunked'}, 'RetryAttempts': 0}, 'results': []}\",\"level\":\"INFO\",\"location\":\"query:26\",\"timestamp\":\"2024-10-01 11:49:42,658+0100\",\"service\":\"dassie\"}\n",
      "{\"message\":\"Neptune query response: {'ResponseMetadata': {'HTTPStatusCode': 200, 'HTTPHeaders': {'transfer-encoding': 'chunked'}, 'RetryAttempts': 0}, 'results': []}\",\"level\":\"INFO\",\"location\":\"query:26\",\"timestamp\":\"2024-10-01 11:49:42,723+0100\",\"service\":\"dassie\"}\n"
     ]
    },
    {
     "name": "stderr",
     "output_type": "stream",
     "text": [
      "/Users/davidburke/src/dassie/.venv/lib/python3.9/site-packages/urllib3/connectionpool.py:1063: InsecureRequestWarning: Unverified HTTPS request is being made to host '127.0.0.1'. Adding certificate verification is strongly advised. See: https://urllib3.readthedocs.io/en/1.26.x/advanced-usage.html#ssl-warnings\n",
      "  warnings.warn(\n",
      "/Users/davidburke/src/dassie/.venv/lib/python3.9/site-packages/urllib3/connectionpool.py:1063: InsecureRequestWarning: Unverified HTTPS request is being made to host '127.0.0.1'. Adding certificate verification is strongly advised. See: https://urllib3.readthedocs.io/en/1.26.x/advanced-usage.html#ssl-warnings\n",
      "  warnings.warn(\n",
      "/Users/davidburke/src/dassie/.venv/lib/python3.9/site-packages/urllib3/connectionpool.py:1063: InsecureRequestWarning: Unverified HTTPS request is being made to host '127.0.0.1'. Adding certificate verification is strongly advised. See: https://urllib3.readthedocs.io/en/1.26.x/advanced-usage.html#ssl-warnings\n",
      "  warnings.warn(\n",
      "/Users/davidburke/src/dassie/.venv/lib/python3.9/site-packages/urllib3/connectionpool.py:1063: InsecureRequestWarning: Unverified HTTPS request is being made to host '127.0.0.1'. Adding certificate verification is strongly advised. See: https://urllib3.readthedocs.io/en/1.26.x/advanced-usage.html#ssl-warnings\n",
      "  warnings.warn(\n"
     ]
    },
    {
     "name": "stdout",
     "output_type": "stream",
     "text": [
      "{\"message\":\"Neptune query response: {'ResponseMetadata': {'HTTPStatusCode': 200, 'HTTPHeaders': {'transfer-encoding': 'chunked'}, 'RetryAttempts': 0}, 'results': []}\",\"level\":\"INFO\",\"location\":\"query:26\",\"timestamp\":\"2024-10-01 11:49:42,788+0100\",\"service\":\"dassie\"}\n",
      "{\"message\":\"Neptune query response: {'ResponseMetadata': {'HTTPStatusCode': 200, 'HTTPHeaders': {'transfer-encoding': 'chunked'}, 'RetryAttempts': 0}, 'results': []}\",\"level\":\"INFO\",\"location\":\"query:26\",\"timestamp\":\"2024-10-01 11:49:42,863+0100\",\"service\":\"dassie\"}\n",
      "{\"message\":\"Neptune query response: {'ResponseMetadata': {'HTTPStatusCode': 200, 'HTTPHeaders': {'transfer-encoding': 'chunked'}, 'RetryAttempts': 0}, 'results': []}\",\"level\":\"INFO\",\"location\":\"query:26\",\"timestamp\":\"2024-10-01 11:49:42,933+0100\",\"service\":\"dassie\"}\n"
     ]
    },
    {
     "name": "stderr",
     "output_type": "stream",
     "text": [
      "/Users/davidburke/src/dassie/.venv/lib/python3.9/site-packages/urllib3/connectionpool.py:1063: InsecureRequestWarning: Unverified HTTPS request is being made to host '127.0.0.1'. Adding certificate verification is strongly advised. See: https://urllib3.readthedocs.io/en/1.26.x/advanced-usage.html#ssl-warnings\n",
      "  warnings.warn(\n",
      "/Users/davidburke/src/dassie/.venv/lib/python3.9/site-packages/urllib3/connectionpool.py:1063: InsecureRequestWarning: Unverified HTTPS request is being made to host '127.0.0.1'. Adding certificate verification is strongly advised. See: https://urllib3.readthedocs.io/en/1.26.x/advanced-usage.html#ssl-warnings\n",
      "  warnings.warn(\n",
      "/Users/davidburke/src/dassie/.venv/lib/python3.9/site-packages/urllib3/connectionpool.py:1063: InsecureRequestWarning: Unverified HTTPS request is being made to host '127.0.0.1'. Adding certificate verification is strongly advised. See: https://urllib3.readthedocs.io/en/1.26.x/advanced-usage.html#ssl-warnings\n",
      "  warnings.warn(\n"
     ]
    },
    {
     "name": "stdout",
     "output_type": "stream",
     "text": [
      "{\"message\":\"Neptune query response: {'ResponseMetadata': {'HTTPStatusCode': 200, 'HTTPHeaders': {'transfer-encoding': 'chunked'}, 'RetryAttempts': 0}, 'results': []}\",\"level\":\"INFO\",\"location\":\"query:26\",\"timestamp\":\"2024-10-01 11:49:43,008+0100\",\"service\":\"dassie\"}\n",
      "{\"message\":\"Neptune query response: {'ResponseMetadata': {'HTTPStatusCode': 200, 'HTTPHeaders': {'transfer-encoding': 'chunked'}, 'RetryAttempts': 0}, 'results': []}\",\"level\":\"INFO\",\"location\":\"query:26\",\"timestamp\":\"2024-10-01 11:49:43,072+0100\",\"service\":\"dassie\"}\n",
      "{\"message\":\"Neptune query response: {'ResponseMetadata': {'HTTPStatusCode': 200, 'HTTPHeaders': {'transfer-encoding': 'chunked'}, 'RetryAttempts': 0}, 'results': []}\",\"level\":\"INFO\",\"location\":\"query:26\",\"timestamp\":\"2024-10-01 11:49:43,136+0100\",\"service\":\"dassie\"}\n",
      "{\"message\":\"Neptune query response: {'ResponseMetadata': {'HTTPStatusCode': 200, 'HTTPHeaders': {'transfer-encoding': 'chunked'}, 'RetryAttempts': 0}, 'results': []}\",\"level\":\"INFO\",\"location\":\"query:26\",\"timestamp\":\"2024-10-01 11:49:43,206+0100\",\"service\":\"dassie\"}\n"
     ]
    },
    {
     "name": "stderr",
     "output_type": "stream",
     "text": [
      "/Users/davidburke/src/dassie/.venv/lib/python3.9/site-packages/urllib3/connectionpool.py:1063: InsecureRequestWarning: Unverified HTTPS request is being made to host '127.0.0.1'. Adding certificate verification is strongly advised. See: https://urllib3.readthedocs.io/en/1.26.x/advanced-usage.html#ssl-warnings\n",
      "  warnings.warn(\n",
      "/Users/davidburke/src/dassie/.venv/lib/python3.9/site-packages/urllib3/connectionpool.py:1063: InsecureRequestWarning: Unverified HTTPS request is being made to host '127.0.0.1'. Adding certificate verification is strongly advised. See: https://urllib3.readthedocs.io/en/1.26.x/advanced-usage.html#ssl-warnings\n",
      "  warnings.warn(\n",
      "/Users/davidburke/src/dassie/.venv/lib/python3.9/site-packages/urllib3/connectionpool.py:1063: InsecureRequestWarning: Unverified HTTPS request is being made to host '127.0.0.1'. Adding certificate verification is strongly advised. See: https://urllib3.readthedocs.io/en/1.26.x/advanced-usage.html#ssl-warnings\n",
      "  warnings.warn(\n",
      "/Users/davidburke/src/dassie/.venv/lib/python3.9/site-packages/urllib3/connectionpool.py:1063: InsecureRequestWarning: Unverified HTTPS request is being made to host '127.0.0.1'. Adding certificate verification is strongly advised. See: https://urllib3.readthedocs.io/en/1.26.x/advanced-usage.html#ssl-warnings\n",
      "  warnings.warn(\n"
     ]
    },
    {
     "name": "stdout",
     "output_type": "stream",
     "text": [
      "{\"message\":\"Neptune query response: {'ResponseMetadata': {'HTTPStatusCode': 200, 'HTTPHeaders': {'transfer-encoding': 'chunked'}, 'RetryAttempts': 0}, 'results': []}\",\"level\":\"INFO\",\"location\":\"query:26\",\"timestamp\":\"2024-10-01 11:49:43,271+0100\",\"service\":\"dassie\"}\n",
      "[[], [], [], [], [], [], [], [], [], [], []]\n",
      "\n",
      "MERGE (a:Article {id: '209be2f0-49fc-45e2-bf47-aaf45d351ab7'})\n",
      "\n",
      "MERGE (e1:WebPage {url: 'https://www.w3schools.com/python/python_json'})\n",
      "ON CREATE SET e1.title = 'Python JSON'\n",
      "MERGE (p1:Publisher {name: 'W3Schools'})\n",
      "MERGE (e1)-[:PUBLISHED_BY]->(p1)\n",
      "MERGE (a)-[:MENTIONS]->(e1)\n",
      "\n",
      "MERGE (e2:WebPage {url: 'https://www.w3schools.com/python/gloss_python_j'})\n",
      "ON CREATE SET e2.title = 'Python - Parse JSON'\n",
      "MERGE (e2)-[:PUBLISHED_BY]->(p1)\n",
      "MERGE (a)-[:MENTIONS]->(e2)\n",
      "\n",
      "MERGE (e3:WebPage {url: 'https://docs.python.org/library/json'})\n",
      "ON CREATE SET e3.title = 'JSON encoder and decoder — Python 3.12.6 documentation'\n",
      "MERGE (p2:Publisher {name: 'Python_Software_Foundation'})\n",
      "MERGE (e3)-[:PUBLISHED_BY]->(p2)\n",
      "MERGE (a)-[:MENTIONS]->(e3)\n",
      "\n",
      "MERGE (e4:WebPage {url: 'https://www.freecodecamp.org/news/python-parse-j'})\n",
      "ON CREATE SET e4.title = 'Python Parse JSON – How to Read a JSON File', e4.date = date('2022-02-07')\n",
      "MERGE (p3:Publisher {name: 'freeCodeCamp'})\n",
      "MERGE (e4)-[:PUBLISHED_BY]->(p3)\n",
      "MERGE (a)-[:MENTIONS]->(e4)\n",
      "\n",
      "MERGE (e5:WebPage {url: 'https://www.programiz.com/python-programming/j'})\n",
      "ON CREATE SET e5.title = 'Python JSON: Read, Write, Parse JSON (With Examples)'\n",
      "MERGE (p4:Publisher {name: 'Programiz'})\n",
      "MERGE (e5)-[:PUBLISHED_BY]->(p4)\n",
      "MERGE (a)-[:MENTIONS]->(e5)\n",
      "\n",
      "MERGE (e6:WebPage {url: 'https://stackoverflow.com/questions/how-can-i-pars'})\n",
      "ON CREATE SET e6.title = 'How can I parse (read) and use JSON in Python?'\n",
      "MERGE (p5:Publisher {name: 'Stack_Overflow'})\n",
      "MERGE (e6)-[:PUBLISHED_BY]->(p5)\n",
      "MERGE (a)-[:MENTIONS]->(e6)\n",
      "\n",
      "MERGE (e7:WebPage {url: 'https://www.geeksforgeeks.org/read-write-and-parse-j'})\n",
      "ON CREATE SET e7.title = 'Read, Write and Parse JSON using Python', e7.date = date('2023-08-07')\n",
      "MERGE (p6:Publisher {name: 'GeeksforGeeks'})\n",
      "MERGE (e7)-[:PUBLISHED_BY]->(p6)\n",
      "MERGE (a)-[:MENTIONS]->(e7)\n",
      "\n",
      "MERGE (e8:WebPage {url: 'https://www.zyte.com/blog/json-parsing-with-python'})\n",
      "ON CREATE SET e8.title = 'JSON Parsing with Python [Practical Guide]', e8.date = date('2024-04-24')\n",
      "MERGE (p7:Publisher {name: 'Zyte'})\n",
      "MERGE (e8)-[:PUBLISHED_BY]->(p7)\n",
      "MERGE (a)-[:MENTIONS]->(e8)\n",
      "\n",
      "MERGE (e9:WebPage {url: 'https://realpython.com/python-json'})\n",
      "ON CREATE SET e9.title = 'Working With JSON Data in Python', e9.date = date('2024-07-03')\n",
      "MERGE (p8:Publisher {name: 'Real_Python'})\n",
      "MERGE (e9)-[:PUBLISHED_BY]->(p8)\n",
      "MERGE (a)-[:MENTIONS]->(e9)\n",
      "\n",
      "{\"message\":\"Neptune query: \\nMERGE (a:Article {id: '209be2f0-49fc-45e2-bf47-aaf45d351ab7'})\\n\\nMERGE (e1:WebPage {url: 'https://www.w3schools.com/python/python_json'})\\nON CREATE SET e1.title = 'Python JSON'\\nMERGE (p1:Publisher {name: 'W3Schools'})\\nMERGE (e1)-[:PUBLISHED_BY]->(p1)\\nMERGE (a)-[:MENTIONS]->(e1)\\n\\nMERGE (e2:WebPage {url: 'https://www.w3schools.com/python/gloss_python_j'})\\nON CREATE SET e2.title = 'Python - Parse JSON'\\nMERGE (e2)-[:PUBLISHED_BY]->(p1)\\nMERGE (a)-[:MENTIONS]->(e2)\\n\\nMERGE (e3:WebPage {url: 'https://docs.python.org/library/json'})\\nON CREATE SET e3.title = 'JSON encoder and decoder — Python 3.12.6 documentation'\\nMERGE (p2:Publisher {name: 'Python_Software_Foundation'})\\nMERGE (e3)-[:PUBLISHED_BY]->(p2)\\nMERGE (a)-[:MENTIONS]->(e3)\\n\\nMERGE (e4:WebPage {url: 'https://www.freecodecamp.org/news/python-parse-j'})\\nON CREATE SET e4.title = 'Python Parse JSON – How to Read a JSON File', e4.date = '2022-02-07'\\nMERGE (p3:Publisher {name: 'freeCodeCamp'})\\nMERGE (e4)-[:PUBLISHED_BY]->(p3)\\nMERGE (a)-[:MENTIONS]->(e4)\\n\\nMERGE (e5:WebPage {url: 'https://www.programiz.com/python-programming/j'})\\nON CREATE SET e5.title = 'Python JSON: Read, Write, Parse JSON (With Examples)'\\nMERGE (p4:Publisher {name: 'Programiz'})\\nMERGE (e5)-[:PUBLISHED_BY]->(p4)\\nMERGE (a)-[:MENTIONS]->(e5)\\n\\nMERGE (e6:WebPage {url: 'https://stackoverflow.com/questions/how-can-i-pars'})\\nON CREATE SET e6.title = 'How can I parse (read) and use JSON in Python?'\\nMERGE (p5:Publisher {name: 'Stack_Overflow'})\\nMERGE (e6)-[:PUBLISHED_BY]->(p5)\\nMERGE (a)-[:MENTIONS]->(e6)\\n\\nMERGE (e7:WebPage {url: 'https://www.geeksforgeeks.org/read-write-and-parse-j'})\\nON CREATE SET e7.title = 'Read, Write and Parse JSON using Python', e7.date = '2023-08-07'\\nMERGE (p6:Publisher {name: 'GeeksforGeeks'})\\nMERGE (e7)-[:PUBLISHED_BY]->(p6)\\nMERGE (a)-[:MENTIONS]->(e7)\\n\\nMERGE (e8:WebPage {url: 'https://www.zyte.com/blog/json-parsing-with-python'})\\nON CREATE SET e8.title = 'JSON Parsing with Python [Practical Guide]', e8.date = '2024-04-24'\\nMERGE (p7:Publisher {name: 'Zyte'})\\nMERGE (e8)-[:PUBLISHED_BY]->(p7)\\nMERGE (a)-[:MENTIONS]->(e8)\\n\\nMERGE (e9:WebPage {url: 'https://realpython.com/python-json'})\\nON CREATE SET e9.title = 'Working With JSON Data in Python', e9.date = '2024-07-03'\\nMERGE (p8:Publisher {name: 'Real_Python'})\\nMERGE (e9)-[:PUBLISHED_BY]->(p8)\\nMERGE (a)-[:MENTIONS]->(e9)\\n\",\"level\":\"INFO\",\"location\":\"query:21\",\"timestamp\":\"2024-10-01 11:50:08,447+0100\",\"service\":\"dassie\"}\n",
      "{\"message\":\"Neptune query response: {'ResponseMetadata': {'HTTPStatusCode': 200, 'HTTPHeaders': {'transfer-encoding': 'chunked'}, 'RetryAttempts': 0}, 'results': []}\",\"level\":\"INFO\",\"location\":\"query:26\",\"timestamp\":\"2024-10-01 11:50:08,527+0100\",\"service\":\"dassie\"}\n",
      "{\"message\":\"Neptune query response: {'ResponseMetadata': {'HTTPStatusCode': 200, 'HTTPHeaders': {'transfer-encoding': 'chunked'}, 'RetryAttempts': 0}, 'results': []}\",\"level\":\"INFO\",\"location\":\"query:26\",\"timestamp\":\"2024-10-01 11:50:08,623+0100\",\"service\":\"dassie\"}\n"
     ]
    },
    {
     "name": "stderr",
     "output_type": "stream",
     "text": [
      "/Users/davidburke/src/dassie/.venv/lib/python3.9/site-packages/urllib3/connectionpool.py:1063: InsecureRequestWarning: Unverified HTTPS request is being made to host '127.0.0.1'. Adding certificate verification is strongly advised. See: https://urllib3.readthedocs.io/en/1.26.x/advanced-usage.html#ssl-warnings\n",
      "  warnings.warn(\n",
      "/Users/davidburke/src/dassie/.venv/lib/python3.9/site-packages/urllib3/connectionpool.py:1063: InsecureRequestWarning: Unverified HTTPS request is being made to host '127.0.0.1'. Adding certificate verification is strongly advised. See: https://urllib3.readthedocs.io/en/1.26.x/advanced-usage.html#ssl-warnings\n",
      "  warnings.warn(\n",
      "/Users/davidburke/src/dassie/.venv/lib/python3.9/site-packages/urllib3/connectionpool.py:1063: InsecureRequestWarning: Unverified HTTPS request is being made to host '127.0.0.1'. Adding certificate verification is strongly advised. See: https://urllib3.readthedocs.io/en/1.26.x/advanced-usage.html#ssl-warnings\n",
      "  warnings.warn(\n"
     ]
    },
    {
     "name": "stdout",
     "output_type": "stream",
     "text": [
      "{\"message\":\"Neptune query response: {'ResponseMetadata': {'HTTPStatusCode': 200, 'HTTPHeaders': {'transfer-encoding': 'chunked'}, 'RetryAttempts': 0}, 'results': []}\",\"level\":\"INFO\",\"location\":\"query:26\",\"timestamp\":\"2024-10-01 11:50:08,700+0100\",\"service\":\"dassie\"}\n",
      "{\"message\":\"Neptune query response: {'ResponseMetadata': {'HTTPStatusCode': 200, 'HTTPHeaders': {'transfer-encoding': 'chunked'}, 'RetryAttempts': 0}, 'results': []}\",\"level\":\"INFO\",\"location\":\"query:26\",\"timestamp\":\"2024-10-01 11:50:08,783+0100\",\"service\":\"dassie\"}\n",
      "{\"message\":\"Neptune query response: {'ResponseMetadata': {'HTTPStatusCode': 200, 'HTTPHeaders': {'transfer-encoding': 'chunked'}, 'RetryAttempts': 0}, 'results': []}\",\"level\":\"INFO\",\"location\":\"query:26\",\"timestamp\":\"2024-10-01 11:50:08,861+0100\",\"service\":\"dassie\"}\n"
     ]
    },
    {
     "name": "stderr",
     "output_type": "stream",
     "text": [
      "/Users/davidburke/src/dassie/.venv/lib/python3.9/site-packages/urllib3/connectionpool.py:1063: InsecureRequestWarning: Unverified HTTPS request is being made to host '127.0.0.1'. Adding certificate verification is strongly advised. See: https://urllib3.readthedocs.io/en/1.26.x/advanced-usage.html#ssl-warnings\n",
      "  warnings.warn(\n",
      "/Users/davidburke/src/dassie/.venv/lib/python3.9/site-packages/urllib3/connectionpool.py:1063: InsecureRequestWarning: Unverified HTTPS request is being made to host '127.0.0.1'. Adding certificate verification is strongly advised. See: https://urllib3.readthedocs.io/en/1.26.x/advanced-usage.html#ssl-warnings\n",
      "  warnings.warn(\n",
      "/Users/davidburke/src/dassie/.venv/lib/python3.9/site-packages/urllib3/connectionpool.py:1063: InsecureRequestWarning: Unverified HTTPS request is being made to host '127.0.0.1'. Adding certificate verification is strongly advised. See: https://urllib3.readthedocs.io/en/1.26.x/advanced-usage.html#ssl-warnings\n",
      "  warnings.warn(\n"
     ]
    },
    {
     "name": "stdout",
     "output_type": "stream",
     "text": [
      "{\"message\":\"Neptune query response: {'ResponseMetadata': {'HTTPStatusCode': 200, 'HTTPHeaders': {'transfer-encoding': 'chunked'}, 'RetryAttempts': 0}, 'results': []}\",\"level\":\"INFO\",\"location\":\"query:26\",\"timestamp\":\"2024-10-01 11:50:08,940+0100\",\"service\":\"dassie\"}\n",
      "{\"message\":\"Neptune query response: {'ResponseMetadata': {'HTTPStatusCode': 200, 'HTTPHeaders': {'transfer-encoding': 'chunked'}, 'RetryAttempts': 0}, 'results': []}\",\"level\":\"INFO\",\"location\":\"query:26\",\"timestamp\":\"2024-10-01 11:50:09,028+0100\",\"service\":\"dassie\"}\n",
      "{\"message\":\"Neptune query response: {'ResponseMetadata': {'HTTPStatusCode': 200, 'HTTPHeaders': {'transfer-encoding': 'chunked'}, 'RetryAttempts': 0}, 'results': []}\",\"level\":\"INFO\",\"location\":\"query:26\",\"timestamp\":\"2024-10-01 11:50:09,119+0100\",\"service\":\"dassie\"}\n"
     ]
    },
    {
     "name": "stderr",
     "output_type": "stream",
     "text": [
      "/Users/davidburke/src/dassie/.venv/lib/python3.9/site-packages/urllib3/connectionpool.py:1063: InsecureRequestWarning: Unverified HTTPS request is being made to host '127.0.0.1'. Adding certificate verification is strongly advised. See: https://urllib3.readthedocs.io/en/1.26.x/advanced-usage.html#ssl-warnings\n",
      "  warnings.warn(\n",
      "/Users/davidburke/src/dassie/.venv/lib/python3.9/site-packages/urllib3/connectionpool.py:1063: InsecureRequestWarning: Unverified HTTPS request is being made to host '127.0.0.1'. Adding certificate verification is strongly advised. See: https://urllib3.readthedocs.io/en/1.26.x/advanced-usage.html#ssl-warnings\n",
      "  warnings.warn(\n",
      "/Users/davidburke/src/dassie/.venv/lib/python3.9/site-packages/urllib3/connectionpool.py:1063: InsecureRequestWarning: Unverified HTTPS request is being made to host '127.0.0.1'. Adding certificate verification is strongly advised. See: https://urllib3.readthedocs.io/en/1.26.x/advanced-usage.html#ssl-warnings\n",
      "  warnings.warn(\n"
     ]
    },
    {
     "name": "stdout",
     "output_type": "stream",
     "text": [
      "{\"message\":\"Neptune query response: {'ResponseMetadata': {'HTTPStatusCode': 200, 'HTTPHeaders': {'transfer-encoding': 'chunked'}, 'RetryAttempts': 0}, 'results': []}\",\"level\":\"INFO\",\"location\":\"query:26\",\"timestamp\":\"2024-10-01 11:50:09,202+0100\",\"service\":\"dassie\"}\n",
      "{\"message\":\"Neptune query response: {'ResponseMetadata': {'HTTPStatusCode': 200, 'HTTPHeaders': {'transfer-encoding': 'chunked'}, 'RetryAttempts': 0}, 'results': []}\",\"level\":\"INFO\",\"location\":\"query:26\",\"timestamp\":\"2024-10-01 11:50:09,288+0100\",\"service\":\"dassie\"}\n",
      "[[], [], [], [], [], [], [], [], [], []]\n",
      "---\n",
      "\n",
      "\n",
      "\n"
     ]
    },
    {
     "name": "stderr",
     "output_type": "stream",
     "text": [
      "/Users/davidburke/src/dassie/.venv/lib/python3.9/site-packages/urllib3/connectionpool.py:1063: InsecureRequestWarning: Unverified HTTPS request is being made to host '127.0.0.1'. Adding certificate verification is strongly advised. See: https://urllib3.readthedocs.io/en/1.26.x/advanced-usage.html#ssl-warnings\n",
      "  warnings.warn(\n"
     ]
    },
    {
     "name": "stdout",
     "output_type": "stream",
     "text": [
      "934d1f11-4b1c-4f2e-9ec3-e3d3f937e1cb\n",
      "f6b7999a-a040-45fb-8438-d6f05813ee16\n",
      "{\"message\":\"Neptune query: \\nMERGE (article:Article {id: '1ed52f7d-de48-4fee-9a34-ea320fc251b9'})\\nON CREATE SET article.title = \\\"Extract markdown blocks in Python from any large language model’s response using `mdextractor`\\\",\\n              article.date = \\\"2024-03-09\\\",\\n              article.abstract = \\\"In the realm of programming and documentation, Markdown has become a widely adopted format due to its simplicity and versatility. Particularly for Python developers, extracting specific segments, like code blocks, from Markdown files can be invaluable for various applications, from documentation to code analysis. This is where `mdextractor`, a Python package, steps in, offering a streamlined approach to parsing and extracting code blocks from Markdown text.\\\"\\n\\nMERGE (author:Eugene_Evstafev {name: 'Eugene Evstafev'})\\nON CREATE SET author.homepage = \\\"https://www.linkedin.com/in/eugene-evstafev-716669181/\\\"\\n\\nMERGE (author)-[:CREATED]->(article)\\n\\nMERGE (software:Software {title: 'mdextractor'})\\nON CREATE SET software.description = \\\"A Python library tailored for the efficient extraction of code blocks encapsulated within triple backticks (\",\"level\":\"INFO\",\"location\":\"query:21\",\"timestamp\":\"2024-10-01 11:50:10,208+0100\",\"service\":\"dassie\"}\n",
      "{\"message\":\"Neptune query response: {'ResponseMetadata': {'HTTPStatusCode': 200, 'HTTPHeaders': {'transfer-encoding': 'chunked'}, 'RetryAttempts': 0}, 'results': []}\",\"level\":\"INFO\",\"location\":\"query:26\",\"timestamp\":\"2024-10-01 11:50:10,268+0100\",\"service\":\"dassie\"}\n",
      "{\"message\":\"Neptune query response: {'ResponseMetadata': {'HTTPStatusCode': 200, 'HTTPHeaders': {'transfer-encoding': 'chunked'}, 'RetryAttempts': 0}, 'results': []}\",\"level\":\"INFO\",\"location\":\"query:26\",\"timestamp\":\"2024-10-01 11:50:10,326+0100\",\"service\":\"dassie\"}\n",
      "{\"message\":\"Neptune query response: {'ResponseMetadata': {'HTTPStatusCode': 200, 'HTTPHeaders': {'transfer-encoding': 'chunked'}, 'RetryAttempts': 0}, 'results': []}\",\"level\":\"INFO\",\"location\":\"query:26\",\"timestamp\":\"2024-10-01 11:50:10,370+0100\",\"service\":\"dassie\"}\n",
      "{\"message\":\"Error querying Neptune: An error occurred (MalformedQueryException) when calling the ExecuteOpenCypherQuery operation: Unexpected end of input: expected '\\\\', ANY or '\\\"' (line 2, column 147 (offset: 195))\",\"level\":\"ERROR\",\"location\":\"query:34\",\"timestamp\":\"2024-10-01 11:50:10,403+0100\",\"service\":\"dassie\"}\n",
      "An error occurred (MalformedQueryException) when calling the ExecuteOpenCypherQuery operation: Unexpected end of input: expected '\\', ANY or '\"' (line 2, column 147 (offset: 195))\n",
      "---\n",
      "\n",
      "\n",
      "\n"
     ]
    },
    {
     "name": "stderr",
     "output_type": "stream",
     "text": [
      "/Users/davidburke/src/dassie/.venv/lib/python3.9/site-packages/urllib3/connectionpool.py:1063: InsecureRequestWarning: Unverified HTTPS request is being made to host '127.0.0.1'. Adding certificate verification is strongly advised. See: https://urllib3.readthedocs.io/en/1.26.x/advanced-usage.html#ssl-warnings\n",
      "  warnings.warn(\n",
      "/Users/davidburke/src/dassie/.venv/lib/python3.9/site-packages/urllib3/connectionpool.py:1063: InsecureRequestWarning: Unverified HTTPS request is being made to host '127.0.0.1'. Adding certificate verification is strongly advised. See: https://urllib3.readthedocs.io/en/1.26.x/advanced-usage.html#ssl-warnings\n",
      "  warnings.warn(\n",
      "/Users/davidburke/src/dassie/.venv/lib/python3.9/site-packages/urllib3/connectionpool.py:1063: InsecureRequestWarning: Unverified HTTPS request is being made to host '127.0.0.1'. Adding certificate verification is strongly advised. See: https://urllib3.readthedocs.io/en/1.26.x/advanced-usage.html#ssl-warnings\n",
      "  warnings.warn(\n",
      "/Users/davidburke/src/dassie/.venv/lib/python3.9/site-packages/urllib3/connectionpool.py:1063: InsecureRequestWarning: Unverified HTTPS request is being made to host '127.0.0.1'. Adding certificate verification is strongly advised. See: https://urllib3.readthedocs.io/en/1.26.x/advanced-usage.html#ssl-warnings\n",
      "  warnings.warn(\n"
     ]
    },
    {
     "name": "stdout",
     "output_type": "stream",
     "text": [
      "ed4a83e3-f77f-4c90-8666-a9c03458f4f3\n",
      "3ecb3a52-322c-4439-8acc-9989bea0734a\n",
      "{\"message\":\"Neptune query: \\nMERGE (article:Article {id: 'e8c51450-1184-4c2e-83a6-22d40b0a124b'})\\n\\nMERGE (software:Software {id: 'https://gist.github.com/palevell/d366a21b4477bc18c1a56c218cd7cc93'})\\nON CREATE SET \\n    software.title = 'markdown_parser.py',\\n    software.description = 'A Python script that parses a Markdown file to extract code blocks and save them with appropriate file extensions.',\\n    software.date = '2023-05-07'\\nMERGE (article)-[:MENTIONS]->(software)\\n\\nMERGE (github:Website {id: 'http://dbpedia.org/resource/GitHub'})\\nON CREATE SET \\n    github.title = 'GitHub',\\n    github.description = 'A web-based platform used for version control and collaborative software development.'\\nMERGE (software)-[:CREATOR]->(github)\\nMERGE (article)-[:MENTIONS]->(github)\\n\\nMERGE (chatgpt:Software {id: 'http://dbpedia.org/resource/ChatGPT'})\\nON CREATE SET \\n    chatgpt.title = 'ChatGPT',\\n    chatgpt.description = 'An AI language model developed by OpenAI, used for generating human-like text based on input prompts.'\\nMERGE (software)-[:CONTRIBUTOR]->(chatgpt)\\nMERGE (article)-[:MENTIONS]->(chatgpt)\\n\\nMERGE (python:ProgrammingLanguage {id: 'http://dbpedia.org/resource/Python_(programming_language)'})\\nMERGE (software)-[:USES_LANGUAGE]->(python)\\nMERGE (article)-[:MENTIONS]->(python)\\n\\nMERGE (beautifulsoup:Software {id: 'http://dbpedia.org/resource/BeautifulSoup'})\\nON CREATE SET \\n    beautifulsoup.title = 'BeautifulSoup',\\n    beautifulsoup.description = 'A Python library used for parsing HTML and XML documents.'\\nMERGE (software)-[:USES_LIBRARY]->(beautifulsoup)\\nMERGE (article)-[:MENTIONS]->(beautifulsoup)\\n\\nMERGE (argparse:Software {id: 'http://dbpedia.org/resource/argparse'})\\nON CREATE SET \\n    argparse.title = 'argparse',\\n    argparse.description = 'A Python module for parsing command-line options, arguments, and sub-commands.'\\nMERGE (software)-[:USES_LIBRARY]->(argparse)\\nMERGE (article)-[:MENTIONS]->(argparse)\\n\\nMERGE (subprocess:Software {id: 'http://dbpedia.org/resource/subprocess'})\\nON CREATE SET \\n    subprocess.title = 'subprocess',\\n    subprocess.description = 'A Python module used to spawn new processes, connect to their input/output/error pipes, and obtain their return codes.'\\nMERGE (software)-[:USES_LIBRARY]->(subprocess)\\nMERGE (article)-[:MENTIONS]->(subprocess)\\n\\nMERGE (re:Software {id: 'http://dbpedia.org/resource/re'})\\nON CREATE SET \\n    re.title = 're',\\n    re.description = 'A Python module for working with regular expressions.'\\nMERGE (software)-[:USES_LIBRARY]->(re)\\nMERGE (article)-[:MENTIONS]->(re)\\n\\nMERGE (os:Software {id: 'http://dbpedia.org/resource/os'})\\nON CREATE SET \\n    os.title = 'os',\\n    os.description = 'A Python module providing a way of using operating system dependent functionality.'\\nMERGE (software)-[:USES_LIBRARY]->(os)\\nMERGE (article)-[:MENTIONS]->(os)\\n\\nMERGE (sys:Software {id: 'http://dbpedia.org/resource/sys'})\\nON CREATE SET \\n    sys.title = 'sys',\\n    sys.description = 'A Python module that provides access to some variables used or maintained by the Python interpreter and to functions that interact strongly with the interpreter.'\\nMERGE (software)-[:USES_LIBRARY]->(sys)\\nMERGE (article)-[:MENTIONS]->(sys)\\n\",\"level\":\"INFO\",\"location\":\"query:21\",\"timestamp\":\"2024-10-01 11:50:10,618+0100\",\"service\":\"dassie\"}\n",
      "{\"message\":\"Neptune query response: {'ResponseMetadata': {'HTTPStatusCode': 200, 'HTTPHeaders': {'transfer-encoding': 'chunked'}, 'RetryAttempts': 0}, 'results': []}\",\"level\":\"INFO\",\"location\":\"query:26\",\"timestamp\":\"2024-10-01 11:50:10,662+0100\",\"service\":\"dassie\"}\n",
      "{\"message\":\"Neptune query response: {'ResponseMetadata': {'HTTPStatusCode': 200, 'HTTPHeaders': {'transfer-encoding': 'chunked'}, 'RetryAttempts': 0}, 'results': []}\",\"level\":\"INFO\",\"location\":\"query:26\",\"timestamp\":\"2024-10-01 11:50:10,728+0100\",\"service\":\"dassie\"}\n",
      "{\"message\":\"Neptune query response: {'ResponseMetadata': {'HTTPStatusCode': 200, 'HTTPHeaders': {'transfer-encoding': 'chunked'}, 'RetryAttempts': 0}, 'results': []}\",\"level\":\"INFO\",\"location\":\"query:26\",\"timestamp\":\"2024-10-01 11:50:10,800+0100\",\"service\":\"dassie\"}\n"
     ]
    },
    {
     "name": "stderr",
     "output_type": "stream",
     "text": [
      "/Users/davidburke/src/dassie/.venv/lib/python3.9/site-packages/urllib3/connectionpool.py:1063: InsecureRequestWarning: Unverified HTTPS request is being made to host '127.0.0.1'. Adding certificate verification is strongly advised. See: https://urllib3.readthedocs.io/en/1.26.x/advanced-usage.html#ssl-warnings\n",
      "  warnings.warn(\n",
      "/Users/davidburke/src/dassie/.venv/lib/python3.9/site-packages/urllib3/connectionpool.py:1063: InsecureRequestWarning: Unverified HTTPS request is being made to host '127.0.0.1'. Adding certificate verification is strongly advised. See: https://urllib3.readthedocs.io/en/1.26.x/advanced-usage.html#ssl-warnings\n",
      "  warnings.warn(\n",
      "/Users/davidburke/src/dassie/.venv/lib/python3.9/site-packages/urllib3/connectionpool.py:1063: InsecureRequestWarning: Unverified HTTPS request is being made to host '127.0.0.1'. Adding certificate verification is strongly advised. See: https://urllib3.readthedocs.io/en/1.26.x/advanced-usage.html#ssl-warnings\n",
      "  warnings.warn(\n",
      "/Users/davidburke/src/dassie/.venv/lib/python3.9/site-packages/urllib3/connectionpool.py:1063: InsecureRequestWarning: Unverified HTTPS request is being made to host '127.0.0.1'. Adding certificate verification is strongly advised. See: https://urllib3.readthedocs.io/en/1.26.x/advanced-usage.html#ssl-warnings\n",
      "  warnings.warn(\n"
     ]
    },
    {
     "name": "stdout",
     "output_type": "stream",
     "text": [
      "{\"message\":\"Neptune query response: {'ResponseMetadata': {'HTTPStatusCode': 200, 'HTTPHeaders': {'transfer-encoding': 'chunked'}, 'RetryAttempts': 0}, 'results': []}\",\"level\":\"INFO\",\"location\":\"query:26\",\"timestamp\":\"2024-10-01 11:50:10,885+0100\",\"service\":\"dassie\"}\n",
      "{\"message\":\"Neptune query response: {'ResponseMetadata': {'HTTPStatusCode': 200, 'HTTPHeaders': {'transfer-encoding': 'chunked'}, 'RetryAttempts': 0}, 'results': []}\",\"level\":\"INFO\",\"location\":\"query:26\",\"timestamp\":\"2024-10-01 11:50:10,997+0100\",\"service\":\"dassie\"}\n"
     ]
    },
    {
     "name": "stderr",
     "output_type": "stream",
     "text": [
      "/Users/davidburke/src/dassie/.venv/lib/python3.9/site-packages/urllib3/connectionpool.py:1063: InsecureRequestWarning: Unverified HTTPS request is being made to host '127.0.0.1'. Adding certificate verification is strongly advised. See: https://urllib3.readthedocs.io/en/1.26.x/advanced-usage.html#ssl-warnings\n",
      "  warnings.warn(\n",
      "/Users/davidburke/src/dassie/.venv/lib/python3.9/site-packages/urllib3/connectionpool.py:1063: InsecureRequestWarning: Unverified HTTPS request is being made to host '127.0.0.1'. Adding certificate verification is strongly advised. See: https://urllib3.readthedocs.io/en/1.26.x/advanced-usage.html#ssl-warnings\n",
      "  warnings.warn(\n"
     ]
    },
    {
     "name": "stdout",
     "output_type": "stream",
     "text": [
      "{\"message\":\"Neptune query response: {'ResponseMetadata': {'HTTPStatusCode': 200, 'HTTPHeaders': {'transfer-encoding': 'chunked'}, 'RetryAttempts': 0}, 'results': []}\",\"level\":\"INFO\",\"location\":\"query:26\",\"timestamp\":\"2024-10-01 11:50:11,123+0100\",\"service\":\"dassie\"}\n",
      "{\"message\":\"Neptune query response: {'ResponseMetadata': {'HTTPStatusCode': 200, 'HTTPHeaders': {'transfer-encoding': 'chunked'}, 'RetryAttempts': 0}, 'results': []}\",\"level\":\"INFO\",\"location\":\"query:26\",\"timestamp\":\"2024-10-01 11:50:11,301+0100\",\"service\":\"dassie\"}\n",
      "{\"message\":\"Neptune query response: {'ResponseMetadata': {'HTTPStatusCode': 200, 'HTTPHeaders': {'transfer-encoding': 'chunked'}, 'RetryAttempts': 0}, 'results': []}\",\"level\":\"INFO\",\"location\":\"query:26\",\"timestamp\":\"2024-10-01 11:50:11,387+0100\",\"service\":\"dassie\"}\n"
     ]
    },
    {
     "name": "stderr",
     "output_type": "stream",
     "text": [
      "/Users/davidburke/src/dassie/.venv/lib/python3.9/site-packages/urllib3/connectionpool.py:1063: InsecureRequestWarning: Unverified HTTPS request is being made to host '127.0.0.1'. Adding certificate verification is strongly advised. See: https://urllib3.readthedocs.io/en/1.26.x/advanced-usage.html#ssl-warnings\n",
      "  warnings.warn(\n",
      "/Users/davidburke/src/dassie/.venv/lib/python3.9/site-packages/urllib3/connectionpool.py:1063: InsecureRequestWarning: Unverified HTTPS request is being made to host '127.0.0.1'. Adding certificate verification is strongly advised. See: https://urllib3.readthedocs.io/en/1.26.x/advanced-usage.html#ssl-warnings\n",
      "  warnings.warn(\n",
      "/Users/davidburke/src/dassie/.venv/lib/python3.9/site-packages/urllib3/connectionpool.py:1063: InsecureRequestWarning: Unverified HTTPS request is being made to host '127.0.0.1'. Adding certificate verification is strongly advised. See: https://urllib3.readthedocs.io/en/1.26.x/advanced-usage.html#ssl-warnings\n",
      "  warnings.warn(\n"
     ]
    },
    {
     "name": "stdout",
     "output_type": "stream",
     "text": [
      "{\"message\":\"Neptune query response: {'ResponseMetadata': {'HTTPStatusCode': 200, 'HTTPHeaders': {'transfer-encoding': 'chunked'}, 'RetryAttempts': 0}, 'results': []}\",\"level\":\"INFO\",\"location\":\"query:26\",\"timestamp\":\"2024-10-01 11:50:11,519+0100\",\"service\":\"dassie\"}\n",
      "{\"message\":\"Neptune query response: {'ResponseMetadata': {'HTTPStatusCode': 200, 'HTTPHeaders': {'transfer-encoding': 'chunked'}, 'RetryAttempts': 0}, 'results': []}\",\"level\":\"INFO\",\"location\":\"query:26\",\"timestamp\":\"2024-10-01 11:50:11,634+0100\",\"service\":\"dassie\"}\n",
      "{\"message\":\"Neptune query response: {'ResponseMetadata': {'HTTPStatusCode': 200, 'HTTPHeaders': {'transfer-encoding': 'chunked'}, 'RetryAttempts': 0}, 'results': []}\",\"level\":\"INFO\",\"location\":\"query:26\",\"timestamp\":\"2024-10-01 11:50:11,721+0100\",\"service\":\"dassie\"}\n"
     ]
    },
    {
     "name": "stderr",
     "output_type": "stream",
     "text": [
      "/Users/davidburke/src/dassie/.venv/lib/python3.9/site-packages/urllib3/connectionpool.py:1063: InsecureRequestWarning: Unverified HTTPS request is being made to host '127.0.0.1'. Adding certificate verification is strongly advised. See: https://urllib3.readthedocs.io/en/1.26.x/advanced-usage.html#ssl-warnings\n",
      "  warnings.warn(\n",
      "/Users/davidburke/src/dassie/.venv/lib/python3.9/site-packages/urllib3/connectionpool.py:1063: InsecureRequestWarning: Unverified HTTPS request is being made to host '127.0.0.1'. Adding certificate verification is strongly advised. See: https://urllib3.readthedocs.io/en/1.26.x/advanced-usage.html#ssl-warnings\n",
      "  warnings.warn(\n"
     ]
    },
    {
     "name": "stdout",
     "output_type": "stream",
     "text": [
      "[[], [], [], [], [], [], [], [], [], [], []]\n",
      "\n",
      "MERGE (article:Article {id: 'e8c51450-1184-4c2e-83a6-22d40b0a124b'})\n",
      "\n",
      "MERGE (software:Software {uri: 'https://gist.github.com/palevell/d366a21b4477bc18c1a56c218cd7cc93'})\n",
      "ON CREATE SET \n",
      "    software.title = 'markdown_parser.py',\n",
      "    software.date = '2023-05-07',\n",
      "    software.description = 'A Python script that parses a Markdown file to extract code blocks and save them with appropriate file extensions.'\n",
      "MERGE (article)-[:MENTIONS]->(software)\n",
      "\n",
      "MERGE (creator:Software {uri: 'http://dbpedia.org/resource/ChatGPT'})\n",
      "ON CREATE SET \n",
      "    creator.description = 'An AI language model developed by OpenAI.'\n",
      "MERGE (software)-[:CREATOR]->(creator)\n",
      "MERGE (article)-[:MENTIONS]->(creator)\n",
      "\n",
      "MERGE (language:ProgrammingLanguage {uri: 'http://dbpedia.org/resource/Python_(programming_language)'})\n",
      "MERGE (software)-[:PROGRAMMING_LANGUAGE]->(language)\n",
      "MERGE (article)-[:MENTIONS]->(language)\n",
      "\n",
      "MERGE (repository:Repository {uri: 'https://gist.github.com/palevell'})\n",
      "MERGE (software)-[:REPOSITORY]->(repository)\n",
      "MERGE (article)-[:MENTIONS]->(repository)\n",
      "\n",
      "MERGE (person:Person {uri: 'http://dbpedia.org/resource/palevell'})\n",
      "MERGE (repository)-[:CREATOR]->(person)\n",
      "MERGE (article)-[:MENTIONS]->(person)\n",
      "\n",
      "MERGE (repository)-[:SUBJECT]->(software)\n",
      "\n",
      "{\"message\":\"Neptune query: \\nMERGE (article:Article {id: 'e8c51450-1184-4c2e-83a6-22d40b0a124b'})\\n\\nMERGE (software:Software {uri: 'https://gist.github.com/palevell/d366a21b4477bc18c1a56c218cd7cc93'})\\nON CREATE SET \\n    software.title = 'markdown_parser.py',\\n    software.date = '2023-05-07',\\n    software.description = 'A Python script that parses a Markdown file to extract code blocks and save them with appropriate file extensions.'\\nMERGE (article)-[:MENTIONS]->(software)\\n\\nMERGE (creator:Software {uri: 'http://dbpedia.org/resource/ChatGPT'})\\nON CREATE SET \\n    creator.description = 'An AI language model developed by OpenAI.'\\nMERGE (software)-[:CREATOR]->(creator)\\nMERGE (article)-[:MENTIONS]->(creator)\\n\\nMERGE (language:ProgrammingLanguage {uri: 'http://dbpedia.org/resource/Python_(programming_language)'})\\nMERGE (software)-[:PROGRAMMING_LANGUAGE]->(language)\\nMERGE (article)-[:MENTIONS]->(language)\\n\\nMERGE (repository:Repository {uri: 'https://gist.github.com/palevell'})\\nMERGE (software)-[:REPOSITORY]->(repository)\\nMERGE (article)-[:MENTIONS]->(repository)\\n\\nMERGE (person:Person {uri: 'http://dbpedia.org/resource/palevell'})\\nMERGE (repository)-[:CREATOR]->(person)\\nMERGE (article)-[:MENTIONS]->(person)\\n\\nMERGE (repository)-[:SUBJECT]->(software)\\n\",\"level\":\"INFO\",\"location\":\"query:21\",\"timestamp\":\"2024-10-01 11:50:23,535+0100\",\"service\":\"dassie\"}\n",
      "{\"message\":\"Neptune query response: {'ResponseMetadata': {'HTTPStatusCode': 200, 'HTTPHeaders': {'transfer-encoding': 'chunked'}, 'RetryAttempts': 0}, 'results': []}\",\"level\":\"INFO\",\"location\":\"query:26\",\"timestamp\":\"2024-10-01 11:50:23,599+0100\",\"service\":\"dassie\"}\n",
      "{\"message\":\"Neptune query response: {'ResponseMetadata': {'HTTPStatusCode': 200, 'HTTPHeaders': {'transfer-encoding': 'chunked'}, 'RetryAttempts': 0}, 'results': []}\",\"level\":\"INFO\",\"location\":\"query:26\",\"timestamp\":\"2024-10-01 11:50:23,673+0100\",\"service\":\"dassie\"}\n"
     ]
    },
    {
     "name": "stderr",
     "output_type": "stream",
     "text": [
      "/Users/davidburke/src/dassie/.venv/lib/python3.9/site-packages/urllib3/connectionpool.py:1063: InsecureRequestWarning: Unverified HTTPS request is being made to host '127.0.0.1'. Adding certificate verification is strongly advised. See: https://urllib3.readthedocs.io/en/1.26.x/advanced-usage.html#ssl-warnings\n",
      "  warnings.warn(\n",
      "/Users/davidburke/src/dassie/.venv/lib/python3.9/site-packages/urllib3/connectionpool.py:1063: InsecureRequestWarning: Unverified HTTPS request is being made to host '127.0.0.1'. Adding certificate verification is strongly advised. See: https://urllib3.readthedocs.io/en/1.26.x/advanced-usage.html#ssl-warnings\n",
      "  warnings.warn(\n",
      "/Users/davidburke/src/dassie/.venv/lib/python3.9/site-packages/urllib3/connectionpool.py:1063: InsecureRequestWarning: Unverified HTTPS request is being made to host '127.0.0.1'. Adding certificate verification is strongly advised. See: https://urllib3.readthedocs.io/en/1.26.x/advanced-usage.html#ssl-warnings\n",
      "  warnings.warn(\n"
     ]
    },
    {
     "name": "stdout",
     "output_type": "stream",
     "text": [
      "{\"message\":\"Neptune query response: {'ResponseMetadata': {'HTTPStatusCode': 200, 'HTTPHeaders': {'transfer-encoding': 'chunked'}, 'RetryAttempts': 0}, 'results': []}\",\"level\":\"INFO\",\"location\":\"query:26\",\"timestamp\":\"2024-10-01 11:50:23,760+0100\",\"service\":\"dassie\"}\n",
      "{\"message\":\"Neptune query response: {'ResponseMetadata': {'HTTPStatusCode': 200, 'HTTPHeaders': {'transfer-encoding': 'chunked'}, 'RetryAttempts': 0}, 'results': []}\",\"level\":\"INFO\",\"location\":\"query:26\",\"timestamp\":\"2024-10-01 11:50:23,830+0100\",\"service\":\"dassie\"}\n",
      "{\"message\":\"Neptune query response: {'ResponseMetadata': {'HTTPStatusCode': 200, 'HTTPHeaders': {'transfer-encoding': 'chunked'}, 'RetryAttempts': 0}, 'results': []}\",\"level\":\"INFO\",\"location\":\"query:26\",\"timestamp\":\"2024-10-01 11:50:23,918+0100\",\"service\":\"dassie\"}\n"
     ]
    },
    {
     "name": "stderr",
     "output_type": "stream",
     "text": [
      "/Users/davidburke/src/dassie/.venv/lib/python3.9/site-packages/urllib3/connectionpool.py:1063: InsecureRequestWarning: Unverified HTTPS request is being made to host '127.0.0.1'. Adding certificate verification is strongly advised. See: https://urllib3.readthedocs.io/en/1.26.x/advanced-usage.html#ssl-warnings\n",
      "  warnings.warn(\n",
      "/Users/davidburke/src/dassie/.venv/lib/python3.9/site-packages/urllib3/connectionpool.py:1063: InsecureRequestWarning: Unverified HTTPS request is being made to host '127.0.0.1'. Adding certificate verification is strongly advised. See: https://urllib3.readthedocs.io/en/1.26.x/advanced-usage.html#ssl-warnings\n",
      "  warnings.warn(\n",
      "/Users/davidburke/src/dassie/.venv/lib/python3.9/site-packages/urllib3/connectionpool.py:1063: InsecureRequestWarning: Unverified HTTPS request is being made to host '127.0.0.1'. Adding certificate verification is strongly advised. See: https://urllib3.readthedocs.io/en/1.26.x/advanced-usage.html#ssl-warnings\n",
      "  warnings.warn(\n"
     ]
    },
    {
     "name": "stdout",
     "output_type": "stream",
     "text": [
      "{\"message\":\"Neptune query response: {'ResponseMetadata': {'HTTPStatusCode': 200, 'HTTPHeaders': {'transfer-encoding': 'chunked'}, 'RetryAttempts': 0}, 'results': []}\",\"level\":\"INFO\",\"location\":\"query:26\",\"timestamp\":\"2024-10-01 11:50:23,998+0100\",\"service\":\"dassie\"}\n",
      "{\"message\":\"Neptune query response: {'ResponseMetadata': {'HTTPStatusCode': 200, 'HTTPHeaders': {'transfer-encoding': 'chunked'}, 'RetryAttempts': 0}, 'results': []}\",\"level\":\"INFO\",\"location\":\"query:26\",\"timestamp\":\"2024-10-01 11:50:24,066+0100\",\"service\":\"dassie\"}\n",
      "[[], [], [], [], [], [], []]\n",
      "---\n",
      "\n",
      "\n",
      "\n"
     ]
    },
    {
     "name": "stderr",
     "output_type": "stream",
     "text": [
      "/Users/davidburke/src/dassie/.venv/lib/python3.9/site-packages/urllib3/connectionpool.py:1063: InsecureRequestWarning: Unverified HTTPS request is being made to host '127.0.0.1'. Adding certificate verification is strongly advised. See: https://urllib3.readthedocs.io/en/1.26.x/advanced-usage.html#ssl-warnings\n",
      "  warnings.warn(\n"
     ]
    },
    {
     "name": "stdout",
     "output_type": "stream",
     "text": [
      "b3367bd7-db2a-48fc-aa4b-5b77f9bfdfd3\n",
      "e300b906-dd2e-42e0-a8ca-35b18282788b\n",
      "{\"message\":\"Neptune query: \\nMERGE (article:Article {id: 'c28b9929-62a6-465f-b68e-a282e4cab4a8'})\\n\\nMERGE (question:Question {id: 'http://example.org/question/1'})\\nON CREATE SET question.dateAsked = datetime('2009-03-19T17:29:00Z'), question.dateModified = datetime('2023-10-04T00:00:00Z'), question.views = 3900000, question.score = 2682, question.comment = \\\"I want to get a new string from the third character to the end of the string, e.g. myString[2:end]. If omitting the second part means 'to the end', and if you omit the first part, does it start from the start?\\\"\\n\\nMERGE (answer1:Answer {id: 'http://example.org/answer/1'})\\nON CREATE SET answer1.dateAnswered = datetime('2009-03-19T17:30:00Z'), answer1.score = 3766, answer1.comment = \\\"Python calls this concept 'slicing' and it works on more than just strings. Take a look here for a comprehensive introduction.\\\"\\n\\nMERGE (answer2:Answer {id: 'http://example.org/answer/2'})\\nON CREATE SET answer2.dateAnswered = datetime('2012-03-20T00:58:00Z'), answer2.score = 494, answer2.comment = \\\"Just for completeness as nobody else has mentioned it. The third parameter to an array slice is a step. So reversing a string is as simple as: some_string[::-1] Or selecting alternate characters would be: 'H-e-l-l-o- -W-o-r-l-d'[::2] # outputs 'Hello World' The ability to step forwards and backwards through the string maintains consistency with being able to array slice from the start or end.\\\"\\n\\nMERGE (joan:Person {id: 'http://example.org/user/Joan_Venge'})\\nON CREATE SET joan.name = 'Joan Venge'\\n\\nMERGE (john:Person {id: 'http://example.org/user/John_Smith'})\\nON CREATE SET john.name = 'John Smith'\\n\\nMERGE (paolo:Person {id: 'http://example.org/user/Paolo_Bergantino'})\\nON CREATE SET paolo.name = 'Paolo Bergantino'\\n\\nMERGE (endophage:Person {id: 'http://example.org/user/Endophage'})\\nON CREATE SET endophage.name = 'Endophage'\\n\\nMERGE (stackOverflow:Organization {id: 'http://example.org/Stack_Overflow'})\\nON CREATE SET stackOverflow.name = 'Stack Overflow'\\n\\nMERGE (overflowAI:Product {id: 'http://example.org/product/OverflowAI'})\\nON CREATE SET overflowAI.name = 'OverflowAI'\\n\\nMERGE (stackTeams:Product {id: 'http://example.org/product/Stack_Overflow_for_Teams'})\\nON CREATE SET stackTeams.name = 'Stack Overflow for Teams'\\n\\nMERGE (question)-[:HAS_ANSWER]->(answer1)\\nMERGE (question)-[:HAS_ANSWER]->(answer2)\\nMERGE (question)-[:HAS_TAG]->(:Tag {name: 'Python (programming language)'})\\nMERGE (question)-[:HAS_TAG]->(:Tag {name: 'String (computer science)'})\\nMERGE (question)-[:HAS_TAG]->(:Tag {name: 'Substring'})\\nMERGE (question)-[:PRIMARY_TOPIC]->(:Topic {name: 'Python (programming language)'})\\nMERGE (question)-[:AUTHOR]->(joan)\\nMERGE (question)-[:EDITOR]->(john)\\nMERGE (answer1)-[:AUTHOR]->(paolo)\\nMERGE (answer2)-[:AUTHOR]->(endophage)\\nMERGE (joan)-[:MEMBER_OF]->(stackOverflow)\\nMERGE (john)-[:MEMBER_OF]->(stackOverflow)\\nMERGE (paolo)-[:MEMBER_OF]->(stackOverflow)\\nMERGE (endophage)-[:MEMBER_OF]->(stackOverflow)\\nMERGE (stackOverflow)-[:PRODUCT]->(overflowAI)\\nMERGE (stackOverflow)-[:PRODUCT]->(stackTeams)\\n\\nMERGE (article)-[:SOURCE_OF]->(question)\\nMERGE (article)-[:SOURCE_OF]->(answer1)\\nMERGE (article)-[:SOURCE_OF]->(answer2)\\nMERGE (article)-[:SOURCE_OF]->(joan)\\nMERGE (article)-[:SOURCE_OF]->(john)\\nMERGE (article)-[:SOURCE_OF]->(paolo)\\nMERGE (article)-[:SOURCE_OF]->(endophage)\\nMERGE (article)-[:SOURCE_OF]->(stackOverflow)\\nMERGE (article)-[:SOURCE_OF]->(overflowAI)\\nMERGE (article)-[:SOURCE_OF]->(stackTeams)\\n\",\"level\":\"INFO\",\"location\":\"query:21\",\"timestamp\":\"2024-10-01 11:50:24,855+0100\",\"service\":\"dassie\"}\n",
      "{\"message\":\"Neptune query response: {'ResponseMetadata': {'HTTPStatusCode': 200, 'HTTPHeaders': {'transfer-encoding': 'chunked'}, 'RetryAttempts': 0}, 'results': []}\",\"level\":\"INFO\",\"location\":\"query:26\",\"timestamp\":\"2024-10-01 11:50:24,894+0100\",\"service\":\"dassie\"}\n",
      "{\"message\":\"Neptune query response: {'ResponseMetadata': {'HTTPStatusCode': 200, 'HTTPHeaders': {'transfer-encoding': 'chunked'}, 'RetryAttempts': 0}, 'results': []}\",\"level\":\"INFO\",\"location\":\"query:26\",\"timestamp\":\"2024-10-01 11:50:24,957+0100\",\"service\":\"dassie\"}\n",
      "{\"message\":\"Neptune query response: {'ResponseMetadata': {'HTTPStatusCode': 200, 'HTTPHeaders': {'transfer-encoding': 'chunked'}, 'RetryAttempts': 0}, 'results': []}\",\"level\":\"INFO\",\"location\":\"query:26\",\"timestamp\":\"2024-10-01 11:50:25,024+0100\",\"service\":\"dassie\"}\n"
     ]
    },
    {
     "name": "stderr",
     "output_type": "stream",
     "text": [
      "/Users/davidburke/src/dassie/.venv/lib/python3.9/site-packages/urllib3/connectionpool.py:1063: InsecureRequestWarning: Unverified HTTPS request is being made to host '127.0.0.1'. Adding certificate verification is strongly advised. See: https://urllib3.readthedocs.io/en/1.26.x/advanced-usage.html#ssl-warnings\n",
      "  warnings.warn(\n",
      "/Users/davidburke/src/dassie/.venv/lib/python3.9/site-packages/urllib3/connectionpool.py:1063: InsecureRequestWarning: Unverified HTTPS request is being made to host '127.0.0.1'. Adding certificate verification is strongly advised. See: https://urllib3.readthedocs.io/en/1.26.x/advanced-usage.html#ssl-warnings\n",
      "  warnings.warn(\n",
      "/Users/davidburke/src/dassie/.venv/lib/python3.9/site-packages/urllib3/connectionpool.py:1063: InsecureRequestWarning: Unverified HTTPS request is being made to host '127.0.0.1'. Adding certificate verification is strongly advised. See: https://urllib3.readthedocs.io/en/1.26.x/advanced-usage.html#ssl-warnings\n",
      "  warnings.warn(\n",
      "/Users/davidburke/src/dassie/.venv/lib/python3.9/site-packages/urllib3/connectionpool.py:1063: InsecureRequestWarning: Unverified HTTPS request is being made to host '127.0.0.1'. Adding certificate verification is strongly advised. See: https://urllib3.readthedocs.io/en/1.26.x/advanced-usage.html#ssl-warnings\n",
      "  warnings.warn(\n"
     ]
    },
    {
     "name": "stdout",
     "output_type": "stream",
     "text": [
      "{\"message\":\"Neptune query response: {'ResponseMetadata': {'HTTPStatusCode': 200, 'HTTPHeaders': {'transfer-encoding': 'chunked'}, 'RetryAttempts': 0}, 'results': []}\",\"level\":\"INFO\",\"location\":\"query:26\",\"timestamp\":\"2024-10-01 11:50:25,082+0100\",\"service\":\"dassie\"}\n",
      "{\"message\":\"Neptune query response: {'ResponseMetadata': {'HTTPStatusCode': 200, 'HTTPHeaders': {'transfer-encoding': 'chunked'}, 'RetryAttempts': 0}, 'results': []}\",\"level\":\"INFO\",\"location\":\"query:26\",\"timestamp\":\"2024-10-01 11:50:25,135+0100\",\"service\":\"dassie\"}\n",
      "{\"message\":\"Neptune query response: {'ResponseMetadata': {'HTTPStatusCode': 200, 'HTTPHeaders': {'transfer-encoding': 'chunked'}, 'RetryAttempts': 0}, 'results': []}\",\"level\":\"INFO\",\"location\":\"query:26\",\"timestamp\":\"2024-10-01 11:50:25,180+0100\",\"service\":\"dassie\"}\n",
      "{\"message\":\"Neptune query response: {'ResponseMetadata': {'HTTPStatusCode': 200, 'HTTPHeaders': {'transfer-encoding': 'chunked'}, 'RetryAttempts': 0}, 'results': []}\",\"level\":\"INFO\",\"location\":\"query:26\",\"timestamp\":\"2024-10-01 11:50:25,226+0100\",\"service\":\"dassie\"}\n",
      "{\"message\":\"Neptune query response: {'ResponseMetadata': {'HTTPStatusCode': 200, 'HTTPHeaders': {'transfer-encoding': 'chunked'}, 'RetryAttempts': 0}, 'results': []}\",\"level\":\"INFO\",\"location\":\"query:26\",\"timestamp\":\"2024-10-01 11:50:25,276+0100\",\"service\":\"dassie\"}\n"
     ]
    },
    {
     "name": "stderr",
     "output_type": "stream",
     "text": [
      "/Users/davidburke/src/dassie/.venv/lib/python3.9/site-packages/urllib3/connectionpool.py:1063: InsecureRequestWarning: Unverified HTTPS request is being made to host '127.0.0.1'. Adding certificate verification is strongly advised. See: https://urllib3.readthedocs.io/en/1.26.x/advanced-usage.html#ssl-warnings\n",
      "  warnings.warn(\n",
      "/Users/davidburke/src/dassie/.venv/lib/python3.9/site-packages/urllib3/connectionpool.py:1063: InsecureRequestWarning: Unverified HTTPS request is being made to host '127.0.0.1'. Adding certificate verification is strongly advised. See: https://urllib3.readthedocs.io/en/1.26.x/advanced-usage.html#ssl-warnings\n",
      "  warnings.warn(\n",
      "/Users/davidburke/src/dassie/.venv/lib/python3.9/site-packages/urllib3/connectionpool.py:1063: InsecureRequestWarning: Unverified HTTPS request is being made to host '127.0.0.1'. Adding certificate verification is strongly advised. See: https://urllib3.readthedocs.io/en/1.26.x/advanced-usage.html#ssl-warnings\n",
      "  warnings.warn(\n",
      "/Users/davidburke/src/dassie/.venv/lib/python3.9/site-packages/urllib3/connectionpool.py:1063: InsecureRequestWarning: Unverified HTTPS request is being made to host '127.0.0.1'. Adding certificate verification is strongly advised. See: https://urllib3.readthedocs.io/en/1.26.x/advanced-usage.html#ssl-warnings\n",
      "  warnings.warn(\n",
      "/Users/davidburke/src/dassie/.venv/lib/python3.9/site-packages/urllib3/connectionpool.py:1063: InsecureRequestWarning: Unverified HTTPS request is being made to host '127.0.0.1'. Adding certificate verification is strongly advised. See: https://urllib3.readthedocs.io/en/1.26.x/advanced-usage.html#ssl-warnings\n",
      "  warnings.warn(\n"
     ]
    },
    {
     "name": "stdout",
     "output_type": "stream",
     "text": [
      "{\"message\":\"Neptune query response: {'ResponseMetadata': {'HTTPStatusCode': 200, 'HTTPHeaders': {'transfer-encoding': 'chunked'}, 'RetryAttempts': 0}, 'results': []}\",\"level\":\"INFO\",\"location\":\"query:26\",\"timestamp\":\"2024-10-01 11:50:25,322+0100\",\"service\":\"dassie\"}\n",
      "{\"message\":\"Neptune query response: {'ResponseMetadata': {'HTTPStatusCode': 200, 'HTTPHeaders': {'transfer-encoding': 'chunked'}, 'RetryAttempts': 0}, 'results': []}\",\"level\":\"INFO\",\"location\":\"query:26\",\"timestamp\":\"2024-10-01 11:50:25,364+0100\",\"service\":\"dassie\"}\n",
      "{\"message\":\"Neptune query response: {'ResponseMetadata': {'HTTPStatusCode': 200, 'HTTPHeaders': {'transfer-encoding': 'chunked'}, 'RetryAttempts': 0}, 'results': []}\",\"level\":\"INFO\",\"location\":\"query:26\",\"timestamp\":\"2024-10-01 11:50:25,405+0100\",\"service\":\"dassie\"}\n"
     ]
    },
    {
     "name": "stderr",
     "output_type": "stream",
     "text": [
      "/Users/davidburke/src/dassie/.venv/lib/python3.9/site-packages/urllib3/connectionpool.py:1063: InsecureRequestWarning: Unverified HTTPS request is being made to host '127.0.0.1'. Adding certificate verification is strongly advised. See: https://urllib3.readthedocs.io/en/1.26.x/advanced-usage.html#ssl-warnings\n",
      "  warnings.warn(\n",
      "/Users/davidburke/src/dassie/.venv/lib/python3.9/site-packages/urllib3/connectionpool.py:1063: InsecureRequestWarning: Unverified HTTPS request is being made to host '127.0.0.1'. Adding certificate verification is strongly advised. See: https://urllib3.readthedocs.io/en/1.26.x/advanced-usage.html#ssl-warnings\n",
      "  warnings.warn(\n",
      "/Users/davidburke/src/dassie/.venv/lib/python3.9/site-packages/urllib3/connectionpool.py:1063: InsecureRequestWarning: Unverified HTTPS request is being made to host '127.0.0.1'. Adding certificate verification is strongly advised. See: https://urllib3.readthedocs.io/en/1.26.x/advanced-usage.html#ssl-warnings\n",
      "  warnings.warn(\n"
     ]
    },
    {
     "name": "stdout",
     "output_type": "stream",
     "text": [
      "{\"message\":\"Neptune query response: {'ResponseMetadata': {'HTTPStatusCode': 200, 'HTTPHeaders': {'transfer-encoding': 'chunked'}, 'RetryAttempts': 0}, 'results': []}\",\"level\":\"INFO\",\"location\":\"query:26\",\"timestamp\":\"2024-10-01 11:50:25,941+0100\",\"service\":\"dassie\"}\n"
     ]
    },
    {
     "name": "stderr",
     "output_type": "stream",
     "text": [
      "/Users/davidburke/src/dassie/.venv/lib/python3.9/site-packages/urllib3/connectionpool.py:1063: InsecureRequestWarning: Unverified HTTPS request is being made to host '127.0.0.1'. Adding certificate verification is strongly advised. See: https://urllib3.readthedocs.io/en/1.26.x/advanced-usage.html#ssl-warnings\n",
      "  warnings.warn(\n",
      "/Users/davidburke/src/dassie/.venv/lib/python3.9/site-packages/urllib3/connectionpool.py:1063: InsecureRequestWarning: Unverified HTTPS request is being made to host '127.0.0.1'. Adding certificate verification is strongly advised. See: https://urllib3.readthedocs.io/en/1.26.x/advanced-usage.html#ssl-warnings\n",
      "  warnings.warn(\n",
      "/Users/davidburke/src/dassie/.venv/lib/python3.9/site-packages/urllib3/connectionpool.py:1063: InsecureRequestWarning: Unverified HTTPS request is being made to host '127.0.0.1'. Adding certificate verification is strongly advised. See: https://urllib3.readthedocs.io/en/1.26.x/advanced-usage.html#ssl-warnings\n",
      "  warnings.warn(\n",
      "/Users/davidburke/src/dassie/.venv/lib/python3.9/site-packages/urllib3/connectionpool.py:1063: InsecureRequestWarning: Unverified HTTPS request is being made to host '127.0.0.1'. Adding certificate verification is strongly advised. See: https://urllib3.readthedocs.io/en/1.26.x/advanced-usage.html#ssl-warnings\n",
      "  warnings.warn(\n",
      "/Users/davidburke/src/dassie/.venv/lib/python3.9/site-packages/urllib3/connectionpool.py:1063: InsecureRequestWarning: Unverified HTTPS request is being made to host '127.0.0.1'. Adding certificate verification is strongly advised. See: https://urllib3.readthedocs.io/en/1.26.x/advanced-usage.html#ssl-warnings\n",
      "  warnings.warn(\n"
     ]
    },
    {
     "name": "stdout",
     "output_type": "stream",
     "text": [
      "{\"message\":\"Error querying Neptune: An error occurred (MemoryLimitExceededException) when calling the ExecuteOpenCypherQuery operation (reached max retries: 4): Operation terminated (out of memory)\",\"level\":\"ERROR\",\"location\":\"query:34\",\"timestamp\":\"2024-10-01 11:53:34,885+0100\",\"service\":\"dassie\"}\n",
      "An error occurred (MemoryLimitExceededException) when calling the ExecuteOpenCypherQuery operation (reached max retries: 4): Operation terminated (out of memory)\n",
      "---\n",
      "\n",
      "\n",
      "\n",
      "b1523ed1-8346-4cf9-8ea9-74581386ef9b\n",
      "e90d6975-fb85-4863-a6e1-e0132f132253\n",
      "{\"message\":\"Neptune query: \\nMERGE (a:Article {id: 'b3c845a6-60b5-40cc-838a-e86043d41602'})\\n\\nMERGE (openai:Company {name: 'OpenAI'})\\nMERGE (microsoft:Company {name: 'Microsoft'})\\nMERGE (gpt4o:ArtificialIntelligence {name: 'GPT-4o'})\\nMERGE (gpt4turbo:ArtificialIntelligence {name: 'GPT-4_Turbo'})\\nMERGE (gpt4omini:ArtificialIntelligence {name: 'GPT-4o_mini'})\\nMERGE (gpt35turbo:ArtificialIntelligence {name: 'GPT-3.5_Turbo'})\\nMERGE (customModels:Service {name: 'Custom_Models_Program'})\\nMERGE (assistantsAPI:Service {name: 'Assistants_API'})\\nMERGE (dalle3API:Service {name: 'DALL·E_3_API'})\\nMERGE (azureOpenAI:Service {name: 'Azure_OpenAI_Service'})\\n\\nMERGE (openai)-[:HAS_PRODUCT]->(gpt4o)\\nMERGE (openai)-[:HAS_PRODUCT]->(gpt4turbo)\\nMERGE (openai)-[:HAS_PRODUCT]->(gpt4omini)\\nMERGE (openai)-[:HAS_PRODUCT]->(gpt35turbo)\\n\\nMERGE (openai)-[:HAS_SERVICE]->(customModels)\\nMERGE (openai)-[:HAS_SERVICE]->(assistantsAPI)\\nMERGE (openai)-[:HAS_SERVICE]->(dalle3API)\\n\\nMERGE (microsoft)-[:HAS_PRODUCT]->(azureOpenAI)\\n\\nMERGE (gpt4o)-[:DEVELOPED_BY]->(openai)\\nMERGE (gpt4turbo)-[:DEVELOPED_BY]->(openai)\\nMERGE (gpt4omini)-[:DEVELOPED_BY]->(openai)\\nMERGE (gpt35turbo)-[:DEVELOPED_BY]->(openai)\\n\\nMERGE (customModels)-[:PROVIDED_BY]->(openai)\\nMERGE (assistantsAPI)-[:PROVIDED_BY]->(openai)\\nMERGE (dalle3API)-[:PROVIDED_BY]->(openai)\\n\\nMERGE (azureOpenAI)-[:PROVIDED_BY]->(microsoft)\\n\\nMERGE (openai)-[:HAS_WEBSITE]->(:Website {url: 'https://platform.openai.com'})\\nMERGE (microsoft)-[:HAS_WEBSITE]->(:Website {url: 'https://learn.microsoft.com'})\\n\\nMERGE (a)-[:SOURCE_OF]->(openai)\\nMERGE (a)-[:SOURCE_OF]->(microsoft)\\nMERGE (a)-[:SOURCE_OF]->(gpt4o)\\nMERGE (a)-[:SOURCE_OF]->(gpt4turbo)\\nMERGE (a)-[:SOURCE_OF]->(gpt4omini)\\nMERGE (a)-[:SOURCE_OF]->(gpt35turbo)\\nMERGE (a)-[:SOURCE_OF]->(customModels)\\nMERGE (a)-[:SOURCE_OF]->(assistantsAPI)\\nMERGE (a)-[:SOURCE_OF]->(dalle3API)\\nMERGE (a)-[:SOURCE_OF]->(azureOpenAI)\\n\",\"level\":\"INFO\",\"location\":\"query:21\",\"timestamp\":\"2024-10-01 11:53:35,700+0100\",\"service\":\"dassie\"}\n",
      "{\"message\":\"Neptune query response: {'ResponseMetadata': {'HTTPStatusCode': 200, 'HTTPHeaders': {'transfer-encoding': 'chunked'}, 'RetryAttempts': 0}, 'results': []}\",\"level\":\"INFO\",\"location\":\"query:26\",\"timestamp\":\"2024-10-01 11:53:35,760+0100\",\"service\":\"dassie\"}\n"
     ]
    },
    {
     "name": "stderr",
     "output_type": "stream",
     "text": [
      "/Users/davidburke/src/dassie/.venv/lib/python3.9/site-packages/urllib3/connectionpool.py:1063: InsecureRequestWarning: Unverified HTTPS request is being made to host '127.0.0.1'. Adding certificate verification is strongly advised. See: https://urllib3.readthedocs.io/en/1.26.x/advanced-usage.html#ssl-warnings\n",
      "  warnings.warn(\n",
      "/Users/davidburke/src/dassie/.venv/lib/python3.9/site-packages/urllib3/connectionpool.py:1063: InsecureRequestWarning: Unverified HTTPS request is being made to host '127.0.0.1'. Adding certificate verification is strongly advised. See: https://urllib3.readthedocs.io/en/1.26.x/advanced-usage.html#ssl-warnings\n",
      "  warnings.warn(\n"
     ]
    },
    {
     "name": "stdout",
     "output_type": "stream",
     "text": [
      "{\"message\":\"Neptune query response: {'ResponseMetadata': {'HTTPStatusCode': 200, 'HTTPHeaders': {'transfer-encoding': 'chunked'}, 'RetryAttempts': 0}, 'results': []}\",\"level\":\"INFO\",\"location\":\"query:26\",\"timestamp\":\"2024-10-01 11:53:35,965+0100\",\"service\":\"dassie\"}\n"
     ]
    },
    {
     "name": "stderr",
     "output_type": "stream",
     "text": [
      "/Users/davidburke/src/dassie/.venv/lib/python3.9/site-packages/urllib3/connectionpool.py:1063: InsecureRequestWarning: Unverified HTTPS request is being made to host '127.0.0.1'. Adding certificate verification is strongly advised. See: https://urllib3.readthedocs.io/en/1.26.x/advanced-usage.html#ssl-warnings\n",
      "  warnings.warn(\n"
     ]
    },
    {
     "name": "stdout",
     "output_type": "stream",
     "text": [
      "{\"message\":\"Neptune query response: {'ResponseMetadata': {'HTTPStatusCode': 200, 'HTTPHeaders': {'transfer-encoding': 'chunked'}, 'RetryAttempts': 0}, 'results': []}\",\"level\":\"INFO\",\"location\":\"query:26\",\"timestamp\":\"2024-10-01 11:53:36,216+0100\",\"service\":\"dassie\"}\n",
      "{\"message\":\"Neptune query response: {'ResponseMetadata': {'HTTPStatusCode': 200, 'HTTPHeaders': {'transfer-encoding': 'chunked'}, 'RetryAttempts': 0}, 'results': []}\",\"level\":\"INFO\",\"location\":\"query:26\",\"timestamp\":\"2024-10-01 11:53:36,303+0100\",\"service\":\"dassie\"}\n",
      "{\"message\":\"Neptune query response: {'ResponseMetadata': {'HTTPStatusCode': 200, 'HTTPHeaders': {'transfer-encoding': 'chunked'}, 'RetryAttempts': 0}, 'results': []}\",\"level\":\"INFO\",\"location\":\"query:26\",\"timestamp\":\"2024-10-01 11:53:36,352+0100\",\"service\":\"dassie\"}\n"
     ]
    },
    {
     "name": "stderr",
     "output_type": "stream",
     "text": [
      "/Users/davidburke/src/dassie/.venv/lib/python3.9/site-packages/urllib3/connectionpool.py:1063: InsecureRequestWarning: Unverified HTTPS request is being made to host '127.0.0.1'. Adding certificate verification is strongly advised. See: https://urllib3.readthedocs.io/en/1.26.x/advanced-usage.html#ssl-warnings\n",
      "  warnings.warn(\n",
      "/Users/davidburke/src/dassie/.venv/lib/python3.9/site-packages/urllib3/connectionpool.py:1063: InsecureRequestWarning: Unverified HTTPS request is being made to host '127.0.0.1'. Adding certificate verification is strongly advised. See: https://urllib3.readthedocs.io/en/1.26.x/advanced-usage.html#ssl-warnings\n",
      "  warnings.warn(\n",
      "/Users/davidburke/src/dassie/.venv/lib/python3.9/site-packages/urllib3/connectionpool.py:1063: InsecureRequestWarning: Unverified HTTPS request is being made to host '127.0.0.1'. Adding certificate verification is strongly advised. See: https://urllib3.readthedocs.io/en/1.26.x/advanced-usage.html#ssl-warnings\n",
      "  warnings.warn(\n"
     ]
    },
    {
     "name": "stdout",
     "output_type": "stream",
     "text": [
      "{\"message\":\"Neptune query response: {'ResponseMetadata': {'HTTPStatusCode': 200, 'HTTPHeaders': {'transfer-encoding': 'chunked'}, 'RetryAttempts': 0}, 'results': []}\",\"level\":\"INFO\",\"location\":\"query:26\",\"timestamp\":\"2024-10-01 11:53:37,118+0100\",\"service\":\"dassie\"}\n",
      "{\"message\":\"Neptune query response: {'ResponseMetadata': {'HTTPStatusCode': 200, 'HTTPHeaders': {'transfer-encoding': 'chunked'}, 'RetryAttempts': 0}, 'results': []}\",\"level\":\"INFO\",\"location\":\"query:26\",\"timestamp\":\"2024-10-01 11:53:37,204+0100\",\"service\":\"dassie\"}\n",
      "{\"message\":\"Neptune query response: {'ResponseMetadata': {'HTTPStatusCode': 200, 'HTTPHeaders': {'transfer-encoding': 'chunked'}, 'RetryAttempts': 0}, 'results': []}\",\"level\":\"INFO\",\"location\":\"query:26\",\"timestamp\":\"2024-10-01 11:53:37,252+0100\",\"service\":\"dassie\"}\n"
     ]
    },
    {
     "name": "stderr",
     "output_type": "stream",
     "text": [
      "/Users/davidburke/src/dassie/.venv/lib/python3.9/site-packages/urllib3/connectionpool.py:1063: InsecureRequestWarning: Unverified HTTPS request is being made to host '127.0.0.1'. Adding certificate verification is strongly advised. See: https://urllib3.readthedocs.io/en/1.26.x/advanced-usage.html#ssl-warnings\n",
      "  warnings.warn(\n",
      "/Users/davidburke/src/dassie/.venv/lib/python3.9/site-packages/urllib3/connectionpool.py:1063: InsecureRequestWarning: Unverified HTTPS request is being made to host '127.0.0.1'. Adding certificate verification is strongly advised. See: https://urllib3.readthedocs.io/en/1.26.x/advanced-usage.html#ssl-warnings\n",
      "  warnings.warn(\n",
      "/Users/davidburke/src/dassie/.venv/lib/python3.9/site-packages/urllib3/connectionpool.py:1063: InsecureRequestWarning: Unverified HTTPS request is being made to host '127.0.0.1'. Adding certificate verification is strongly advised. See: https://urllib3.readthedocs.io/en/1.26.x/advanced-usage.html#ssl-warnings\n",
      "  warnings.warn(\n"
     ]
    },
    {
     "name": "stdout",
     "output_type": "stream",
     "text": [
      "{\"message\":\"Neptune query response: {'ResponseMetadata': {'HTTPStatusCode': 200, 'HTTPHeaders': {'transfer-encoding': 'chunked'}, 'RetryAttempts': 0}, 'results': []}\",\"level\":\"INFO\",\"location\":\"query:26\",\"timestamp\":\"2024-10-01 11:53:37,328+0100\",\"service\":\"dassie\"}\n"
     ]
    },
    {
     "name": "stderr",
     "output_type": "stream",
     "text": [
      "/Users/davidburke/src/dassie/.venv/lib/python3.9/site-packages/urllib3/connectionpool.py:1063: InsecureRequestWarning: Unverified HTTPS request is being made to host '127.0.0.1'. Adding certificate verification is strongly advised. See: https://urllib3.readthedocs.io/en/1.26.x/advanced-usage.html#ssl-warnings\n",
      "  warnings.warn(\n",
      "/Users/davidburke/src/dassie/.venv/lib/python3.9/site-packages/urllib3/connectionpool.py:1063: InsecureRequestWarning: Unverified HTTPS request is being made to host '127.0.0.1'. Adding certificate verification is strongly advised. See: https://urllib3.readthedocs.io/en/1.26.x/advanced-usage.html#ssl-warnings\n",
      "  warnings.warn(\n",
      "/Users/davidburke/src/dassie/.venv/lib/python3.9/site-packages/urllib3/connectionpool.py:1063: InsecureRequestWarning: Unverified HTTPS request is being made to host '127.0.0.1'. Adding certificate verification is strongly advised. See: https://urllib3.readthedocs.io/en/1.26.x/advanced-usage.html#ssl-warnings\n",
      "  warnings.warn(\n",
      "/Users/davidburke/src/dassie/.venv/lib/python3.9/site-packages/urllib3/connectionpool.py:1063: InsecureRequestWarning: Unverified HTTPS request is being made to host '127.0.0.1'. Adding certificate verification is strongly advised. See: https://urllib3.readthedocs.io/en/1.26.x/advanced-usage.html#ssl-warnings\n",
      "  warnings.warn(\n",
      "/Users/davidburke/src/dassie/.venv/lib/python3.9/site-packages/urllib3/connectionpool.py:1063: InsecureRequestWarning: Unverified HTTPS request is being made to host '127.0.0.1'. Adding certificate verification is strongly advised. See: https://urllib3.readthedocs.io/en/1.26.x/advanced-usage.html#ssl-warnings\n",
      "  warnings.warn(\n"
     ]
    },
    {
     "name": "stdout",
     "output_type": "stream",
     "text": [
      "{\"message\":\"Error querying Neptune: An error occurred (MemoryLimitExceededException) when calling the ExecuteOpenCypherQuery operation (reached max retries: 4): Operation terminated (out of memory)\",\"level\":\"ERROR\",\"location\":\"query:34\",\"timestamp\":\"2024-10-01 11:57:11,820+0100\",\"service\":\"dassie\"}\n",
      "An error occurred (MemoryLimitExceededException) when calling the ExecuteOpenCypherQuery operation (reached max retries: 4): Operation terminated (out of memory)\n",
      "---\n",
      "\n",
      "\n",
      "\n",
      "9d0660b5-b400-4020-a290-c90379ef28f3\n",
      "b02c03c6-85f8-4b7f-900d-6807bc54dcc2\n",
      "{\"message\":\"Neptune query: \\nMERGE (article:Article {id: 'e02dfc9e-26a1-4a30-9517-2dd8c39ad46f'})\\n\\nMERGE (openai:Company {name: 'OpenAI'})\\nMERGE (openai)-[:MENTIONED_IN]->(article)\\n\\nMERGE (gpt35:Software {name: 'GPT-3.5-turbo'})\\nMERGE (gpt35)-[:MENTIONED_IN]->(article)\\nMERGE (openai)-[:PRODUCES]->(gpt35)\\nSET gpt35.price = '0.0005 USD per 1K input tokens'\\n\\nMERGE (gpt4:Software {name: 'GPT-4'})\\nMERGE (gpt4)-[:MENTIONED_IN]->(article)\\nMERGE (openai)-[:PRODUCES]->(gpt4)\\nSET gpt4.price = '10 USD per 1M prompt tokens'\\n\\nMERGE (gpt4o:Software {name: 'GPT-4o'})\\nMERGE (gpt4o)-[:MENTIONED_IN]->(article)\\nMERGE (openai)-[:PRODUCES]->(gpt4o)\\nSET gpt4o.price_input = '5 USD per 1M input tokens', gpt4o.price_output = '15 USD per 1M output tokens'\\n\\nMERGE (gpt4omini:Software {name: 'GPT-4o-mini'})\\nMERGE (gpt4omini)-[:MENTIONED_IN]->(article)\\nMERGE (openai)-[:PRODUCES]->(gpt4omini)\\nSET gpt4omini.price_input = '0.15 USD per 1M input tokens', gpt4omini.price_output = '0.60 USD per 1M output tokens'\\n\\nMERGE (azure:Company {name: 'Microsoft Azure'})\\nMERGE (azure)-[:MENTIONED_IN]->(article)\\n\\nMERGE (azureService:Software {name: 'Azure OpenAI Service'})\\nMERGE (azureService)-[:MENTIONED_IN]->(article)\\nMERGE (azure)-[:PRODUCES]->(azureService)\\nSET azureService.price = 'Pay as you go with no upfront costs'\\n\\nMERGE (stephen:Person {name: 'Stephen Walther'})\\nMERGE (stephen)-[:MENTIONED_IN]->(article)\\n\\nMERGE (webpage1:WebPage {url: 'https://stephenwalther.com/how-much-does-it-cost-to-call-openai-apis'})\\nSET webpage1.title = 'How Much Does It Cost to Call OpenAI APIs?', webpage1.date = '2024-03-12', webpage1.content = 'OpenAI charges you $10 dollars for every million tokens that you pass to GPT-4 Turbo and $30 for every million tokens that GPT-4 Turbo returns.'\\nMERGE (webpage1)-[:AUTHORED_BY]->(stephen)\\nMERGE (webpage1)-[:MENTIONED_IN]->(article)\\n\\nMERGE (webpage2:WebPage {url: 'https://help.openai.com/articles/7127956-how-much-does-gpt-4-cost'})\\nSET webpage2.title = 'How much does GPT-4 cost?', webpage2.content = 'For our models with 128k context lengths (e.g. gpt-4-turbo), the price is: $10.00 / 1 million prompt tokens (or $0.01 / 1K prompt tokens).'\\nMERGE (webpage2)-[:AUTHORED_BY]->(openai)\\nMERGE (webpage2)-[:MENTIONED_IN]->(article)\\n\\nMERGE (webpage3:WebPage {url: 'https://community.openai.com/pricing-of-legacy-models'})\\nSET webpage3.title = 'Pricing of legacy models?', webpage3.content = 'Which gpt-3.5-turbo 16K model\\\\'s pricing is Input $0.0010 / 1K tokens and Output $0.0020 / 1K tokens?'\\nMERGE (webpage3)-[:AUTHORED_BY]->(openai)\\nMERGE (webpage3)-[:MENTIONED_IN]->(article)\\n\\nMERGE (webpage4:WebPage {url: 'https://gptforwork.com/tools/openai-chatgpt-api-pricing-calculator'})\\nSET webpage4.title = 'OpenAI API Pricing Calculator', webpage4.content = 'Provider: OpenAI. Model: gpt-4o, gpt-4o-mini. Input price for 1M tokens: $5.00, $0.15. Output price for 1M tokens: $15.00, $0.60. Price per API call.'\\nMERGE (webpage4)-[:AUTHORED_BY]->(openai)\\nMERGE (webpage4)-[:MENTIONED_IN]->(article)\\n\",\"level\":\"INFO\",\"location\":\"query:21\",\"timestamp\":\"2024-10-01 11:57:12,456+0100\",\"service\":\"dassie\"}\n",
      "{\"message\":\"Neptune query response: {'ResponseMetadata': {'HTTPStatusCode': 200, 'HTTPHeaders': {'transfer-encoding': 'chunked'}, 'RetryAttempts': 0}, 'results': []}\",\"level\":\"INFO\",\"location\":\"query:26\",\"timestamp\":\"2024-10-01 11:57:12,517+0100\",\"service\":\"dassie\"}\n",
      "{\"message\":\"Neptune query response: {'ResponseMetadata': {'HTTPStatusCode': 200, 'HTTPHeaders': {'transfer-encoding': 'chunked'}, 'RetryAttempts': 0}, 'results': []}\",\"level\":\"INFO\",\"location\":\"query:26\",\"timestamp\":\"2024-10-01 11:57:12,575+0100\",\"service\":\"dassie\"}\n"
     ]
    },
    {
     "name": "stderr",
     "output_type": "stream",
     "text": [
      "/Users/davidburke/src/dassie/.venv/lib/python3.9/site-packages/urllib3/connectionpool.py:1063: InsecureRequestWarning: Unverified HTTPS request is being made to host '127.0.0.1'. Adding certificate verification is strongly advised. See: https://urllib3.readthedocs.io/en/1.26.x/advanced-usage.html#ssl-warnings\n",
      "  warnings.warn(\n",
      "/Users/davidburke/src/dassie/.venv/lib/python3.9/site-packages/urllib3/connectionpool.py:1063: InsecureRequestWarning: Unverified HTTPS request is being made to host '127.0.0.1'. Adding certificate verification is strongly advised. See: https://urllib3.readthedocs.io/en/1.26.x/advanced-usage.html#ssl-warnings\n",
      "  warnings.warn(\n",
      "/Users/davidburke/src/dassie/.venv/lib/python3.9/site-packages/urllib3/connectionpool.py:1063: InsecureRequestWarning: Unverified HTTPS request is being made to host '127.0.0.1'. Adding certificate verification is strongly advised. See: https://urllib3.readthedocs.io/en/1.26.x/advanced-usage.html#ssl-warnings\n",
      "  warnings.warn(\n"
     ]
    },
    {
     "name": "stdout",
     "output_type": "stream",
     "text": [
      "{\"message\":\"Neptune query response: {'ResponseMetadata': {'HTTPStatusCode': 200, 'HTTPHeaders': {'transfer-encoding': 'chunked'}, 'RetryAttempts': 0}, 'results': []}\",\"level\":\"INFO\",\"location\":\"query:26\",\"timestamp\":\"2024-10-01 11:57:12,666+0100\",\"service\":\"dassie\"}\n",
      "{\"message\":\"Neptune query response: {'ResponseMetadata': {'HTTPStatusCode': 200, 'HTTPHeaders': {'transfer-encoding': 'chunked'}, 'RetryAttempts': 0}, 'results': []}\",\"level\":\"INFO\",\"location\":\"query:26\",\"timestamp\":\"2024-10-01 11:57:12,745+0100\",\"service\":\"dassie\"}\n",
      "{\"message\":\"Neptune query response: {'ResponseMetadata': {'HTTPStatusCode': 200, 'HTTPHeaders': {'transfer-encoding': 'chunked'}, 'RetryAttempts': 0}, 'results': []}\",\"level\":\"INFO\",\"location\":\"query:26\",\"timestamp\":\"2024-10-01 11:57:12,839+0100\",\"service\":\"dassie\"}\n"
     ]
    },
    {
     "name": "stderr",
     "output_type": "stream",
     "text": [
      "/Users/davidburke/src/dassie/.venv/lib/python3.9/site-packages/urllib3/connectionpool.py:1063: InsecureRequestWarning: Unverified HTTPS request is being made to host '127.0.0.1'. Adding certificate verification is strongly advised. See: https://urllib3.readthedocs.io/en/1.26.x/advanced-usage.html#ssl-warnings\n",
      "  warnings.warn(\n",
      "/Users/davidburke/src/dassie/.venv/lib/python3.9/site-packages/urllib3/connectionpool.py:1063: InsecureRequestWarning: Unverified HTTPS request is being made to host '127.0.0.1'. Adding certificate verification is strongly advised. See: https://urllib3.readthedocs.io/en/1.26.x/advanced-usage.html#ssl-warnings\n",
      "  warnings.warn(\n",
      "/Users/davidburke/src/dassie/.venv/lib/python3.9/site-packages/urllib3/connectionpool.py:1063: InsecureRequestWarning: Unverified HTTPS request is being made to host '127.0.0.1'. Adding certificate verification is strongly advised. See: https://urllib3.readthedocs.io/en/1.26.x/advanced-usage.html#ssl-warnings\n",
      "  warnings.warn(\n"
     ]
    },
    {
     "name": "stdout",
     "output_type": "stream",
     "text": [
      "{\"message\":\"Neptune query response: {'ResponseMetadata': {'HTTPStatusCode': 200, 'HTTPHeaders': {'transfer-encoding': 'chunked'}, 'RetryAttempts': 0}, 'results': []}\",\"level\":\"INFO\",\"location\":\"query:26\",\"timestamp\":\"2024-10-01 11:57:12,915+0100\",\"service\":\"dassie\"}\n",
      "{\"message\":\"Neptune query response: {'ResponseMetadata': {'HTTPStatusCode': 200, 'HTTPHeaders': {'transfer-encoding': 'chunked'}, 'RetryAttempts': 0}, 'results': []}\",\"level\":\"INFO\",\"location\":\"query:26\",\"timestamp\":\"2024-10-01 11:57:13,000+0100\",\"service\":\"dassie\"}\n",
      "{\"message\":\"Neptune query response: {'ResponseMetadata': {'HTTPStatusCode': 200, 'HTTPHeaders': {'transfer-encoding': 'chunked'}, 'RetryAttempts': 0}, 'results': []}\",\"level\":\"INFO\",\"location\":\"query:26\",\"timestamp\":\"2024-10-01 11:57:13,083+0100\",\"service\":\"dassie\"}\n"
     ]
    },
    {
     "name": "stderr",
     "output_type": "stream",
     "text": [
      "/Users/davidburke/src/dassie/.venv/lib/python3.9/site-packages/urllib3/connectionpool.py:1063: InsecureRequestWarning: Unverified HTTPS request is being made to host '127.0.0.1'. Adding certificate verification is strongly advised. See: https://urllib3.readthedocs.io/en/1.26.x/advanced-usage.html#ssl-warnings\n",
      "  warnings.warn(\n",
      "/Users/davidburke/src/dassie/.venv/lib/python3.9/site-packages/urllib3/connectionpool.py:1063: InsecureRequestWarning: Unverified HTTPS request is being made to host '127.0.0.1'. Adding certificate verification is strongly advised. See: https://urllib3.readthedocs.io/en/1.26.x/advanced-usage.html#ssl-warnings\n",
      "  warnings.warn(\n",
      "/Users/davidburke/src/dassie/.venv/lib/python3.9/site-packages/urllib3/connectionpool.py:1063: InsecureRequestWarning: Unverified HTTPS request is being made to host '127.0.0.1'. Adding certificate verification is strongly advised. See: https://urllib3.readthedocs.io/en/1.26.x/advanced-usage.html#ssl-warnings\n",
      "  warnings.warn(\n"
     ]
    },
    {
     "name": "stdout",
     "output_type": "stream",
     "text": [
      "{\"message\":\"Neptune query response: {'ResponseMetadata': {'HTTPStatusCode': 200, 'HTTPHeaders': {'transfer-encoding': 'chunked'}, 'RetryAttempts': 0}, 'results': []}\",\"level\":\"INFO\",\"location\":\"query:26\",\"timestamp\":\"2024-10-01 11:57:13,156+0100\",\"service\":\"dassie\"}\n",
      "{\"message\":\"Neptune query response: {'ResponseMetadata': {'HTTPStatusCode': 200, 'HTTPHeaders': {'transfer-encoding': 'chunked'}, 'RetryAttempts': 0}, 'results': []}\",\"level\":\"INFO\",\"location\":\"query:26\",\"timestamp\":\"2024-10-01 11:57:13,259+0100\",\"service\":\"dassie\"}\n",
      "{\"message\":\"Neptune query response: {'ResponseMetadata': {'HTTPStatusCode': 200, 'HTTPHeaders': {'transfer-encoding': 'chunked'}, 'RetryAttempts': 0}, 'results': []}\",\"level\":\"INFO\",\"location\":\"query:26\",\"timestamp\":\"2024-10-01 11:57:13,348+0100\",\"service\":\"dassie\"}\n"
     ]
    },
    {
     "name": "stderr",
     "output_type": "stream",
     "text": [
      "/Users/davidburke/src/dassie/.venv/lib/python3.9/site-packages/urllib3/connectionpool.py:1063: InsecureRequestWarning: Unverified HTTPS request is being made to host '127.0.0.1'. Adding certificate verification is strongly advised. See: https://urllib3.readthedocs.io/en/1.26.x/advanced-usage.html#ssl-warnings\n",
      "  warnings.warn(\n",
      "/Users/davidburke/src/dassie/.venv/lib/python3.9/site-packages/urllib3/connectionpool.py:1063: InsecureRequestWarning: Unverified HTTPS request is being made to host '127.0.0.1'. Adding certificate verification is strongly advised. See: https://urllib3.readthedocs.io/en/1.26.x/advanced-usage.html#ssl-warnings\n",
      "  warnings.warn(\n",
      "/Users/davidburke/src/dassie/.venv/lib/python3.9/site-packages/urllib3/connectionpool.py:1063: InsecureRequestWarning: Unverified HTTPS request is being made to host '127.0.0.1'. Adding certificate verification is strongly advised. See: https://urllib3.readthedocs.io/en/1.26.x/advanced-usage.html#ssl-warnings\n",
      "  warnings.warn(\n"
     ]
    },
    {
     "name": "stdout",
     "output_type": "stream",
     "text": [
      "{\"message\":\"Neptune query response: {'ResponseMetadata': {'HTTPStatusCode': 200, 'HTTPHeaders': {'transfer-encoding': 'chunked'}, 'RetryAttempts': 0}, 'results': []}\",\"level\":\"INFO\",\"location\":\"query:26\",\"timestamp\":\"2024-10-01 11:57:13,433+0100\",\"service\":\"dassie\"}\n",
      "{\"message\":\"Neptune query response: {'ResponseMetadata': {'HTTPStatusCode': 200, 'HTTPHeaders': {'transfer-encoding': 'chunked'}, 'RetryAttempts': 0}, 'results': []}\",\"level\":\"INFO\",\"location\":\"query:26\",\"timestamp\":\"2024-10-01 11:57:13,511+0100\",\"service\":\"dassie\"}\n",
      "[[], [], [], [], [], [], [], [], [], [], [], [], []]\n"
     ]
    },
    {
     "name": "stderr",
     "output_type": "stream",
     "text": [
      "/Users/davidburke/src/dassie/.venv/lib/python3.9/site-packages/urllib3/connectionpool.py:1063: InsecureRequestWarning: Unverified HTTPS request is being made to host '127.0.0.1'. Adding certificate verification is strongly advised. See: https://urllib3.readthedocs.io/en/1.26.x/advanced-usage.html#ssl-warnings\n",
      "  warnings.warn(\n"
     ]
    },
    {
     "name": "stdout",
     "output_type": "stream",
     "text": [
      "\n",
      "MERGE (article:Article {id: 'e02dfc9e-26a1-4a30-9517-2dd8c39ad46f'})\n",
      "\n",
      "MERGE (openai:Company {name: 'OpenAI'})\n",
      "MERGE (openai)-[:MENTIONED_IN]->(article)\n",
      "\n",
      "MERGE (gpt35:Software {name: 'GPT-3.5-turbo'})\n",
      "MERGE (gpt35)-[:PRICE {amount: '0.0005 USD per 1K input tokens'}]->(article)\n",
      "MERGE (gpt35)-[:PRODUCT_OF]->(openai)\n",
      "MERGE (gpt35)-[:MENTIONED_IN]->(article)\n",
      "\n",
      "MERGE (gpt4:Software {name: 'GPT-4'})\n",
      "MERGE (gpt4)-[:PRICE {amount: '10 USD per 1M prompt tokens'}]->(article)\n",
      "MERGE (gpt4)-[:PRODUCT_OF]->(openai)\n",
      "MERGE (gpt4)-[:MENTIONED_IN]->(article)\n",
      "\n",
      "MERGE (gpt4turbo:Software {name: 'GPT-4-turbo'})\n",
      "MERGE (gpt4turbo)-[:PRICE {amount: '10 USD per 1M prompt tokens'}]->(article)\n",
      "MERGE (gpt4turbo)-[:PRODUCT_OF]->(openai)\n",
      "MERGE (gpt4turbo)-[:MENTIONED_IN]->(article)\n",
      "\n",
      "MERGE (gpt4o:Software {name: 'GPT-4o'})\n",
      "MERGE (gpt4o)-[:PRICE {amount: '5 USD per 1M input tokens'}]->(article)\n",
      "MERGE (gpt4o)-[:PRICE {amount: '15 USD per 1M output tokens'}]->(article)\n",
      "MERGE (gpt4o)-[:PRODUCT_OF]->(openai)\n",
      "MERGE (gpt4o)-[:MENTIONED_IN]->(article)\n",
      "\n",
      "MERGE (gpt4omini:Software {name: 'GPT-4o-mini'})\n",
      "MERGE (gpt4omini)-[:PRICE {amount: '0.15 USD per 1M input tokens'}]->(article)\n",
      "MERGE (gpt4omini)-[:PRICE {amount: '0.60 USD per 1M output tokens'}]->(article)\n",
      "MERGE (gpt4omini)-[:PRODUCT_OF]->(openai)\n",
      "MERGE (gpt4omini)-[:MENTIONED_IN]->(article)\n",
      "\n",
      "MERGE (azure:Company {name: 'Microsoft Azure'})\n",
      "MERGE (azure)-[:MENTIONED_IN]->(article)\n",
      "\n",
      "MERGE (azureService:Software {name: 'Azure OpenAI Service'})\n",
      "MERGE (azureService)-[:PRICE {amount: 'Pay as you go with no upfront costs'}]->(article)\n",
      "MERGE (azureService)-[:PRODUCT_OF]->(azure)\n",
      "MERGE (azureService)-[:MENTIONED_IN]->(article)\n",
      "\n",
      "MERGE (stephen:Person {name: 'Stephen Walther'})\n",
      "MERGE (stephen)-[:MENTIONED_IN]->(article)\n",
      "\n",
      "MERGE (reddit:Website {name: 'Reddit'})\n",
      "MERGE (reddit)-[:MENTIONED_IN]->(article)\n",
      "\n",
      "MERGE (openaiForum:Website {name: 'OpenAI Developer Forum'})\n",
      "MERGE (openaiForum)-[:MENTIONED_IN]->(article)\n",
      "\n",
      "{\"message\":\"Neptune query: \\nMERGE (article:Article {id: 'e02dfc9e-26a1-4a30-9517-2dd8c39ad46f'})\\n\\nMERGE (openai:Company {name: 'OpenAI'})\\nMERGE (openai)-[:MENTIONED_IN]->(article)\\n\\nMERGE (gpt35:Software {name: 'GPT-3.5-turbo'})\\nMERGE (gpt35)-[:PRICE {amount: '0.0005 USD per 1K input tokens'}]->(article)\\nMERGE (gpt35)-[:PRODUCT_OF]->(openai)\\nMERGE (gpt35)-[:MENTIONED_IN]->(article)\\n\\nMERGE (gpt4:Software {name: 'GPT-4'})\\nMERGE (gpt4)-[:PRICE {amount: '10 USD per 1M prompt tokens'}]->(article)\\nMERGE (gpt4)-[:PRODUCT_OF]->(openai)\\nMERGE (gpt4)-[:MENTIONED_IN]->(article)\\n\\nMERGE (gpt4turbo:Software {name: 'GPT-4-turbo'})\\nMERGE (gpt4turbo)-[:PRICE {amount: '10 USD per 1M prompt tokens'}]->(article)\\nMERGE (gpt4turbo)-[:PRODUCT_OF]->(openai)\\nMERGE (gpt4turbo)-[:MENTIONED_IN]->(article)\\n\\nMERGE (gpt4o:Software {name: 'GPT-4o'})\\nMERGE (gpt4o)-[:PRICE {amount: '5 USD per 1M input tokens'}]->(article)\\nMERGE (gpt4o)-[:PRICE {amount: '15 USD per 1M output tokens'}]->(article)\\nMERGE (gpt4o)-[:PRODUCT_OF]->(openai)\\nMERGE (gpt4o)-[:MENTIONED_IN]->(article)\\n\\nMERGE (gpt4omini:Software {name: 'GPT-4o-mini'})\\nMERGE (gpt4omini)-[:PRICE {amount: '0.15 USD per 1M input tokens'}]->(article)\\nMERGE (gpt4omini)-[:PRICE {amount: '0.60 USD per 1M output tokens'}]->(article)\\nMERGE (gpt4omini)-[:PRODUCT_OF]->(openai)\\nMERGE (gpt4omini)-[:MENTIONED_IN]->(article)\\n\\nMERGE (azure:Company {name: 'Microsoft Azure'})\\nMERGE (azure)-[:MENTIONED_IN]->(article)\\n\\nMERGE (azureService:Software {name: 'Azure OpenAI Service'})\\nMERGE (azureService)-[:PRICE {amount: 'Pay as you go with no upfront costs'}]->(article)\\nMERGE (azureService)-[:PRODUCT_OF]->(azure)\\nMERGE (azureService)-[:MENTIONED_IN]->(article)\\n\\nMERGE (stephen:Person {name: 'Stephen Walther'})\\nMERGE (stephen)-[:MENTIONED_IN]->(article)\\n\\nMERGE (reddit:Website {name: 'Reddit'})\\nMERGE (reddit)-[:MENTIONED_IN]->(article)\\n\\nMERGE (openaiForum:Website {name: 'OpenAI Developer Forum'})\\nMERGE (openaiForum)-[:MENTIONED_IN]->(article)\\n\",\"level\":\"INFO\",\"location\":\"query:21\",\"timestamp\":\"2024-10-01 11:57:30,410+0100\",\"service\":\"dassie\"}\n",
      "{\"message\":\"Neptune query response: {'ResponseMetadata': {'HTTPStatusCode': 200, 'HTTPHeaders': {'transfer-encoding': 'chunked'}, 'RetryAttempts': 0}, 'results': []}\",\"level\":\"INFO\",\"location\":\"query:26\",\"timestamp\":\"2024-10-01 11:57:30,463+0100\",\"service\":\"dassie\"}\n",
      "{\"message\":\"Neptune query response: {'ResponseMetadata': {'HTTPStatusCode': 200, 'HTTPHeaders': {'transfer-encoding': 'chunked'}, 'RetryAttempts': 0}, 'results': []}\",\"level\":\"INFO\",\"location\":\"query:26\",\"timestamp\":\"2024-10-01 11:57:30,519+0100\",\"service\":\"dassie\"}\n",
      "{\"message\":\"Neptune query response: {'ResponseMetadata': {'HTTPStatusCode': 200, 'HTTPHeaders': {'transfer-encoding': 'chunked'}, 'RetryAttempts': 0}, 'results': []}\",\"level\":\"INFO\",\"location\":\"query:26\",\"timestamp\":\"2024-10-01 11:57:30,599+0100\",\"service\":\"dassie\"}\n"
     ]
    },
    {
     "name": "stderr",
     "output_type": "stream",
     "text": [
      "/Users/davidburke/src/dassie/.venv/lib/python3.9/site-packages/urllib3/connectionpool.py:1063: InsecureRequestWarning: Unverified HTTPS request is being made to host '127.0.0.1'. Adding certificate verification is strongly advised. See: https://urllib3.readthedocs.io/en/1.26.x/advanced-usage.html#ssl-warnings\n",
      "  warnings.warn(\n",
      "/Users/davidburke/src/dassie/.venv/lib/python3.9/site-packages/urllib3/connectionpool.py:1063: InsecureRequestWarning: Unverified HTTPS request is being made to host '127.0.0.1'. Adding certificate verification is strongly advised. See: https://urllib3.readthedocs.io/en/1.26.x/advanced-usage.html#ssl-warnings\n",
      "  warnings.warn(\n",
      "/Users/davidburke/src/dassie/.venv/lib/python3.9/site-packages/urllib3/connectionpool.py:1063: InsecureRequestWarning: Unverified HTTPS request is being made to host '127.0.0.1'. Adding certificate verification is strongly advised. See: https://urllib3.readthedocs.io/en/1.26.x/advanced-usage.html#ssl-warnings\n",
      "  warnings.warn(\n",
      "/Users/davidburke/src/dassie/.venv/lib/python3.9/site-packages/urllib3/connectionpool.py:1063: InsecureRequestWarning: Unverified HTTPS request is being made to host '127.0.0.1'. Adding certificate verification is strongly advised. See: https://urllib3.readthedocs.io/en/1.26.x/advanced-usage.html#ssl-warnings\n",
      "  warnings.warn(\n"
     ]
    },
    {
     "name": "stdout",
     "output_type": "stream",
     "text": [
      "{\"message\":\"Neptune query response: {'ResponseMetadata': {'HTTPStatusCode': 200, 'HTTPHeaders': {'transfer-encoding': 'chunked'}, 'RetryAttempts': 0}, 'results': []}\",\"level\":\"INFO\",\"location\":\"query:26\",\"timestamp\":\"2024-10-01 11:57:30,685+0100\",\"service\":\"dassie\"}\n",
      "{\"message\":\"Neptune query response: {'ResponseMetadata': {'HTTPStatusCode': 200, 'HTTPHeaders': {'transfer-encoding': 'chunked'}, 'RetryAttempts': 0}, 'results': []}\",\"level\":\"INFO\",\"location\":\"query:26\",\"timestamp\":\"2024-10-01 11:57:30,774+0100\",\"service\":\"dassie\"}\n",
      "{\"message\":\"Neptune query response: {'ResponseMetadata': {'HTTPStatusCode': 200, 'HTTPHeaders': {'transfer-encoding': 'chunked'}, 'RetryAttempts': 0}, 'results': []}\",\"level\":\"INFO\",\"location\":\"query:26\",\"timestamp\":\"2024-10-01 11:57:30,886+0100\",\"service\":\"dassie\"}\n"
     ]
    },
    {
     "name": "stderr",
     "output_type": "stream",
     "text": [
      "/Users/davidburke/src/dassie/.venv/lib/python3.9/site-packages/urllib3/connectionpool.py:1063: InsecureRequestWarning: Unverified HTTPS request is being made to host '127.0.0.1'. Adding certificate verification is strongly advised. See: https://urllib3.readthedocs.io/en/1.26.x/advanced-usage.html#ssl-warnings\n",
      "  warnings.warn(\n",
      "/Users/davidburke/src/dassie/.venv/lib/python3.9/site-packages/urllib3/connectionpool.py:1063: InsecureRequestWarning: Unverified HTTPS request is being made to host '127.0.0.1'. Adding certificate verification is strongly advised. See: https://urllib3.readthedocs.io/en/1.26.x/advanced-usage.html#ssl-warnings\n",
      "  warnings.warn(\n"
     ]
    },
    {
     "name": "stdout",
     "output_type": "stream",
     "text": [
      "{\"message\":\"Neptune query response: {'ResponseMetadata': {'HTTPStatusCode': 200, 'HTTPHeaders': {'transfer-encoding': 'chunked'}, 'RetryAttempts': 0}, 'results': []}\",\"level\":\"INFO\",\"location\":\"query:26\",\"timestamp\":\"2024-10-01 11:57:30,989+0100\",\"service\":\"dassie\"}\n",
      "{\"message\":\"Neptune query response: {'ResponseMetadata': {'HTTPStatusCode': 200, 'HTTPHeaders': {'transfer-encoding': 'chunked'}, 'RetryAttempts': 0}, 'results': []}\",\"level\":\"INFO\",\"location\":\"query:26\",\"timestamp\":\"2024-10-01 11:57:31,038+0100\",\"service\":\"dassie\"}\n"
     ]
    },
    {
     "name": "stderr",
     "output_type": "stream",
     "text": [
      "/Users/davidburke/src/dassie/.venv/lib/python3.9/site-packages/urllib3/connectionpool.py:1063: InsecureRequestWarning: Unverified HTTPS request is being made to host '127.0.0.1'. Adding certificate verification is strongly advised. See: https://urllib3.readthedocs.io/en/1.26.x/advanced-usage.html#ssl-warnings\n",
      "  warnings.warn(\n",
      "/Users/davidburke/src/dassie/.venv/lib/python3.9/site-packages/urllib3/connectionpool.py:1063: InsecureRequestWarning: Unverified HTTPS request is being made to host '127.0.0.1'. Adding certificate verification is strongly advised. See: https://urllib3.readthedocs.io/en/1.26.x/advanced-usage.html#ssl-warnings\n",
      "  warnings.warn(\n",
      "/Users/davidburke/src/dassie/.venv/lib/python3.9/site-packages/urllib3/connectionpool.py:1063: InsecureRequestWarning: Unverified HTTPS request is being made to host '127.0.0.1'. Adding certificate verification is strongly advised. See: https://urllib3.readthedocs.io/en/1.26.x/advanced-usage.html#ssl-warnings\n",
      "  warnings.warn(\n"
     ]
    },
    {
     "name": "stdout",
     "output_type": "stream",
     "text": [
      "{\"message\":\"Neptune query response: {'ResponseMetadata': {'HTTPStatusCode': 200, 'HTTPHeaders': {'transfer-encoding': 'chunked'}, 'RetryAttempts': 0}, 'results': []}\",\"level\":\"INFO\",\"location\":\"query:26\",\"timestamp\":\"2024-10-01 11:57:31,130+0100\",\"service\":\"dassie\"}\n",
      "{\"message\":\"Neptune query response: {'ResponseMetadata': {'HTTPStatusCode': 200, 'HTTPHeaders': {'transfer-encoding': 'chunked'}, 'RetryAttempts': 0}, 'results': []}\",\"level\":\"INFO\",\"location\":\"query:26\",\"timestamp\":\"2024-10-01 11:57:31,181+0100\",\"service\":\"dassie\"}\n",
      "{\"message\":\"Neptune query response: {'ResponseMetadata': {'HTTPStatusCode': 200, 'HTTPHeaders': {'transfer-encoding': 'chunked'}, 'RetryAttempts': 0}, 'results': []}\",\"level\":\"INFO\",\"location\":\"query:26\",\"timestamp\":\"2024-10-01 11:57:31,230+0100\",\"service\":\"dassie\"}\n",
      "{\"message\":\"Neptune query response: {'ResponseMetadata': {'HTTPStatusCode': 200, 'HTTPHeaders': {'transfer-encoding': 'chunked'}, 'RetryAttempts': 0}, 'results': []}\",\"level\":\"INFO\",\"location\":\"query:26\",\"timestamp\":\"2024-10-01 11:57:31,291+0100\",\"service\":\"dassie\"}\n",
      "[[], [], [], [], [], [], [], [], [], [], [], []]\n",
      "---\n",
      "\n",
      "\n",
      "\n"
     ]
    },
    {
     "name": "stderr",
     "output_type": "stream",
     "text": [
      "/Users/davidburke/src/dassie/.venv/lib/python3.9/site-packages/urllib3/connectionpool.py:1063: InsecureRequestWarning: Unverified HTTPS request is being made to host '127.0.0.1'. Adding certificate verification is strongly advised. See: https://urllib3.readthedocs.io/en/1.26.x/advanced-usage.html#ssl-warnings\n",
      "  warnings.warn(\n",
      "/Users/davidburke/src/dassie/.venv/lib/python3.9/site-packages/urllib3/connectionpool.py:1063: InsecureRequestWarning: Unverified HTTPS request is being made to host '127.0.0.1'. Adding certificate verification is strongly advised. See: https://urllib3.readthedocs.io/en/1.26.x/advanced-usage.html#ssl-warnings\n",
      "  warnings.warn(\n",
      "/Users/davidburke/src/dassie/.venv/lib/python3.9/site-packages/urllib3/connectionpool.py:1063: InsecureRequestWarning: Unverified HTTPS request is being made to host '127.0.0.1'. Adding certificate verification is strongly advised. See: https://urllib3.readthedocs.io/en/1.26.x/advanced-usage.html#ssl-warnings\n",
      "  warnings.warn(\n"
     ]
    },
    {
     "name": "stdout",
     "output_type": "stream",
     "text": [
      "bffc11a0-cc69-4ba3-8b2f-c7e8f48e21f7\n",
      "a3a12047-4b10-4db1-8934-5dd331c08620\n",
      "{\"message\":\"Neptune query: \\nMERGE (a:Article {id: '8b1bf5fb-fc04-494c-a445-00e5cb120be9'})\\nMERGE (w:Website {name: 'WolframAlpha'})\\nON CREATE SET w.title = 'Wolfram|Alpha', w.releaseDate = '2011-09-07', w.description = \\\"Get the free 'Solve for X Calculator' widget for your website, blog, Wordpress, Blogger, or iGoogle. Find more Mathematics widgets in...\\\"\\nMERGE (a)-[:MENTIONS]->(w)\\nMERGE (p:Website {name: 'PercentageCal'})\\nON CREATE SET p.title = 'PercentageCal.com', p.description = \\\"Solution for What is .08 percent of 4000: .08 percent *4000 = (.08:100)*4000 = (.08*4000):100 = 320:100 = 3.2. Now we have: .08 percent of 4000 = 3.2.\\\"\\nMERGE (a)-[:MENTIONS]->(p)\\nMERGE (c:Website {name: 'CalculatIO'})\\nON CREATE SET c.title = 'Calculatio', c.description = \\\"This calculator will help you to calculate percent of a given number. For example, it can help you find out what's 8 percent of 4000? (The answer is: 320).\\\"\\nMERGE (a)-[:MENTIONS]->(c)\\nMERGE (d:Website {name: 'DJ_Solutions'})\\nON CREATE SET d.title = 'DJ Solutions', d.description = \\\"DJ-designed turntable with upper-torque direct-drive mechanism. Powerful drive design for accurate start/stop time. Suits many professional applications.\\\"\\nMERGE (a)-[:MENTIONS]->(d)\\nMERGE (pc:Website {name: 'Practical_Components'})\\nON CREATE SET pc.title = 'Practical Components', pc.description = \\\"The molded Inductor construction provides increased strength and moisture resistance. The multilayer Inductor resembles SMD Capacitors. The design of the...\\\"\\nMERGE (a)-[:MENTIONS]->(pc)\\nMERGE (h:EducationalInstitution {name: 'Harvard_University'})\\nON CREATE SET h.title = 'Harvard University', h.description = \\\"On the Continuous Absorption Coefficient of the Negative Hydrogen Ion\\\"\\nMERGE (a)-[:MENTIONS]->(h)\\nMERGE (n:GovernmentAgency {name: 'National_Institutes_of_Health'})\\nON CREATE SET n.title = 'National Institutes of Health (NIH)', n.description = \\\"Number Converter and Risk Charts - Know Your Chances\\\"\\nMERGE (a)-[:MENTIONS]->(n)\\nMERGE (k:EducationalInstitution {name: 'Khan_Academy'})\\nON CREATE SET k.title = 'Khan Academy', k.description = \\\"Multiplying challenging decimals (video)\\\"\\nMERGE (a)-[:MENTIONS]->(k)\\nMERGE (pw:Website {name: 'P_W_Mall'})\\nON CREATE SET pw.title = 'P. W. Mall', pw.description = \\\"Piranha® 3/8\\\\\\\" x 100' Sewer Jetter Hose 4,000 PSI Green (MxM)\\\"\\nMERGE (a)-[:MENTIONS]->(pw)\\nMERGE (hy:Company {name: 'Huyett'})\\nON CREATE SET hy.title = 'Huyett', hy.description = \\\"Lock Pins\\\"\\nMERGE (a)-[:MENTIONS]->(hy)\\n\",\"level\":\"INFO\",\"location\":\"query:21\",\"timestamp\":\"2024-10-01 11:57:31,925+0100\",\"service\":\"dassie\"}\n"
     ]
    },
    {
     "name": "stderr",
     "output_type": "stream",
     "text": [
      "/Users/davidburke/src/dassie/.venv/lib/python3.9/site-packages/urllib3/connectionpool.py:1063: InsecureRequestWarning: Unverified HTTPS request is being made to host '127.0.0.1'. Adding certificate verification is strongly advised. See: https://urllib3.readthedocs.io/en/1.26.x/advanced-usage.html#ssl-warnings\n",
      "  warnings.warn(\n"
     ]
    },
    {
     "name": "stdout",
     "output_type": "stream",
     "text": [
      "{\"message\":\"Neptune query response: {'ResponseMetadata': {'HTTPStatusCode': 200, 'HTTPHeaders': {'transfer-encoding': 'chunked'}, 'RetryAttempts': 0}, 'results': []}\",\"level\":\"INFO\",\"location\":\"query:26\",\"timestamp\":\"2024-10-01 11:57:32,970+0100\",\"service\":\"dassie\"}\n",
      "[[]]\n",
      "\n",
      "MERGE (a:Article {id: '8b1bf5fb-fc04-494c-a445-00e5cb120be9'})\n",
      "\n",
      "MERGE (wa:Entity {name: 'WolframAlpha'})\n",
      "MERGE (wa)-[:MENTIONED_IN]->(a)\n",
      "MERGE (wa)-[:HAS_RELEASE_DATE]->(rd:Date {value: '2011-09-07'})\n",
      "MERGE (rd)-[:MENTIONED_IN]->(a)\n",
      "\n",
      "MERGE (pc:Entity {name: 'PercentageCal'})\n",
      "MERGE (pc)-[:MENTIONED_IN]->(a)\n",
      "MERGE (pc)-[:HAS_CALCULATION]->(calc1:Calculation {value: 'What is .08 percent of 4000? = 3.2'})\n",
      "MERGE (calc1)-[:MENTIONED_IN]->(a)\n",
      "\n",
      "MERGE (ci:Entity {name: 'CalculatIO'})\n",
      "MERGE (ci)-[:MENTIONED_IN]->(a)\n",
      "MERGE (ci)-[:HAS_CALCULATION]->(calc2:Calculation {value: 'What is 8 percent of 4000? = 320'})\n",
      "MERGE (calc2)-[:MENTIONED_IN]->(a)\n",
      "\n",
      "MERGE (djs:Entity {name: 'DJ Solutions'})\n",
      "MERGE (djs)-[:MENTIONED_IN]->(a)\n",
      "MERGE (djs)-[:HAS_PRODUCT]->(rp:Product {name: 'Reloop RP-4000 MK2 Turntable'})\n",
      "MERGE (rp)-[:MENTIONED_IN]->(a)\n",
      "MERGE (rp)-[:HAS_PRICE]->(price:Price {value: '€339.00'})\n",
      "MERGE (price)-[:MENTIONED_IN]->(a)\n",
      "MERGE (rp)-[:HAS_AVAILABILITY]->(availability:Availability {value: 'In stock'})\n",
      "MERGE (availability)-[:MENTIONED_IN]->(a)\n",
      "\n",
      "MERGE (pc:Entity {name: 'Practical Components'})\n",
      "MERGE (pc)-[:MENTIONED_IN]->(a)\n",
      "MERGE (pc)-[:HAS_PRODUCT]->(ci:Product {name: 'Chip Inductors'})\n",
      "MERGE (ci)-[:MENTIONED_IN]->(a)\n",
      "MERGE (ci)-[:HAS_FEATURE]->(feature1:Feature {value: 'Increased strength and moisture resistance'})\n",
      "MERGE (feature1)-[:MENTIONED_IN]->(a)\n",
      "MERGE (ci)-[:HAS_FEATURE]->(feature2:Feature {value: 'Multilayer resembling SMD Capacitors'})\n",
      "MERGE (feature2)-[:MENTIONED_IN]->(a)\n",
      "\n",
      "MERGE (hu:Entity {name: 'Harvard University'})\n",
      "MERGE (hu)-[:MENTIONED_IN]->(a)\n",
      "MERGE (hu)-[:HAS_PUBLICATION]->(pub:Publication {name: 'Continuous Absorption Coefficient of the Negative Hydrogen Ion'})\n",
      "MERGE (pub)-[:MENTIONED_IN]->(a)\n",
      "MERGE (pub)-[:HAS_AUTHOR]->(author:Author {name: 'Subrahmanyan Chandrasekhar'})\n",
      "MERGE (author)-[:MENTIONED_IN]->(a)\n",
      "MERGE (pub)-[:HAS_PUBLICATION_DATE]->(pubDate:Date {value: '1946'})\n",
      "MERGE (pubDate)-[:MENTIONED_IN]->(a)\n",
      "\n",
      "MERGE (nih:Entity {name: 'National Institutes of Health'})\n",
      "MERGE (nih)-[:MENTIONED_IN]->(a)\n",
      "MERGE (nih)-[:HAS_WEBSITE]->(website1:Website {url: 'https://www.ncbi.nlm.nih.gov'})\n",
      "MERGE (website1)-[:MENTIONED_IN]->(a)\n",
      "\n",
      "MERGE (ka:Entity {name: 'Khan Academy'})\n",
      "MERGE (ka)-[:MENTIONED_IN]->(a)\n",
      "MERGE (ka)-[:HAS_WEBSITE]->(website2:Website {url: 'https://www.khanacademy.org'})\n",
      "MERGE (website2)-[:MENTIONED_IN]->(a)\n",
      "MERGE (ka)-[:HAS_VIDEO]->(video:Video {name: 'Multiplying Challenging Decimals'})\n",
      "MERGE (video)-[:MENTIONED_IN]->(a)\n",
      "MERGE (video)-[:HAS_DURATION]->(duration:Duration {value: '4:25'})\n",
      "MERGE (duration)-[:MENTIONED_IN]->(a)\n",
      "MERGE (video)-[:HAS_PUBLICATION_DATE]->(videoDate:Date {value: '2013-12-29'})\n",
      "MERGE (videoDate)-[:MENTIONED_IN]->(a)\n",
      "\n",
      "{\"message\":\"Neptune query: \\nMERGE (a:Article {id: '8b1bf5fb-fc04-494c-a445-00e5cb120be9'})\\n\\nMERGE (wa:Entity {name: 'WolframAlpha'})\\nMERGE (wa)-[:MENTIONED_IN]->(a)\\nMERGE (wa)-[:HAS_RELEASE_DATE]->(rd:Date {value: '2011-09-07'})\\nMERGE (rd)-[:MENTIONED_IN]->(a)\\n\\nMERGE (pc:Entity {name: 'PercentageCal'})\\nMERGE (pc)-[:MENTIONED_IN]->(a)\\nMERGE (pc)-[:HAS_CALCULATION]->(calc1:Calculation {value: 'What is .08 percent of 4000? = 3.2'})\\nMERGE (calc1)-[:MENTIONED_IN]->(a)\\n\\nMERGE (ci:Entity {name: 'CalculatIO'})\\nMERGE (ci)-[:MENTIONED_IN]->(a)\\nMERGE (ci)-[:HAS_CALCULATION]->(calc2:Calculation {value: 'What is 8 percent of 4000? = 320'})\\nMERGE (calc2)-[:MENTIONED_IN]->(a)\\n\\nMERGE (djs:Entity {name: 'DJ Solutions'})\\nMERGE (djs)-[:MENTIONED_IN]->(a)\\nMERGE (djs)-[:HAS_PRODUCT]->(rp:Product {name: 'Reloop RP-4000 MK2 Turntable'})\\nMERGE (rp)-[:MENTIONED_IN]->(a)\\nMERGE (rp)-[:HAS_PRICE]->(price:Price {value: '€339.00'})\\nMERGE (price)-[:MENTIONED_IN]->(a)\\nMERGE (rp)-[:HAS_AVAILABILITY]->(availability:Availability {value: 'In stock'})\\nMERGE (availability)-[:MENTIONED_IN]->(a)\\n\\nMERGE (pc:Entity {name: 'Practical Components'})\\nMERGE (pc)-[:MENTIONED_IN]->(a)\\nMERGE (pc)-[:HAS_PRODUCT]->(ci:Product {name: 'Chip Inductors'})\\nMERGE (ci)-[:MENTIONED_IN]->(a)\\nMERGE (ci)-[:HAS_FEATURE]->(feature1:Feature {value: 'Increased strength and moisture resistance'})\\nMERGE (feature1)-[:MENTIONED_IN]->(a)\\nMERGE (ci)-[:HAS_FEATURE]->(feature2:Feature {value: 'Multilayer resembling SMD Capacitors'})\\nMERGE (feature2)-[:MENTIONED_IN]->(a)\\n\\nMERGE (hu:Entity {name: 'Harvard University'})\\nMERGE (hu)-[:MENTIONED_IN]->(a)\\nMERGE (hu)-[:HAS_PUBLICATION]->(pub:Publication {name: 'Continuous Absorption Coefficient of the Negative Hydrogen Ion'})\\nMERGE (pub)-[:MENTIONED_IN]->(a)\\nMERGE (pub)-[:HAS_AUTHOR]->(author:Author {name: 'Subrahmanyan Chandrasekhar'})\\nMERGE (author)-[:MENTIONED_IN]->(a)\\nMERGE (pub)-[:HAS_PUBLICATION_DATE]->(pubDate:Date {value: '1946'})\\nMERGE (pubDate)-[:MENTIONED_IN]->(a)\\n\\nMERGE (nih:Entity {name: 'National Institutes of Health'})\\nMERGE (nih)-[:MENTIONED_IN]->(a)\\nMERGE (nih)-[:HAS_WEBSITE]->(website1:Website {url: 'https://www.ncbi.nlm.nih.gov'})\\nMERGE (website1)-[:MENTIONED_IN]->(a)\\n\\nMERGE (ka:Entity {name: 'Khan Academy'})\\nMERGE (ka)-[:MENTIONED_IN]->(a)\\nMERGE (ka)-[:HAS_WEBSITE]->(website2:Website {url: 'https://www.khanacademy.org'})\\nMERGE (website2)-[:MENTIONED_IN]->(a)\\nMERGE (ka)-[:HAS_VIDEO]->(video:Video {name: 'Multiplying Challenging Decimals'})\\nMERGE (video)-[:MENTIONED_IN]->(a)\\nMERGE (video)-[:HAS_DURATION]->(duration:Duration {value: '4:25'})\\nMERGE (duration)-[:MENTIONED_IN]->(a)\\nMERGE (video)-[:HAS_PUBLICATION_DATE]->(videoDate:Date {value: '2013-12-29'})\\nMERGE (videoDate)-[:MENTIONED_IN]->(a)\\n\",\"level\":\"INFO\",\"location\":\"query:21\",\"timestamp\":\"2024-10-01 11:58:01,448+0100\",\"service\":\"dassie\"}\n",
      "{\"message\":\"Neptune query response: {'ResponseMetadata': {'HTTPStatusCode': 200, 'HTTPHeaders': {'transfer-encoding': 'chunked'}, 'RetryAttempts': 0}, 'results': []}\",\"level\":\"INFO\",\"location\":\"query:26\",\"timestamp\":\"2024-10-01 11:58:01,508+0100\",\"service\":\"dassie\"}\n",
      "{\"message\":\"Neptune query response: {'ResponseMetadata': {'HTTPStatusCode': 200, 'HTTPHeaders': {'transfer-encoding': 'chunked'}, 'RetryAttempts': 0}, 'results': []}\",\"level\":\"INFO\",\"location\":\"query:26\",\"timestamp\":\"2024-10-01 11:58:01,597+0100\",\"service\":\"dassie\"}\n"
     ]
    },
    {
     "name": "stderr",
     "output_type": "stream",
     "text": [
      "/Users/davidburke/src/dassie/.venv/lib/python3.9/site-packages/urllib3/connectionpool.py:1063: InsecureRequestWarning: Unverified HTTPS request is being made to host '127.0.0.1'. Adding certificate verification is strongly advised. See: https://urllib3.readthedocs.io/en/1.26.x/advanced-usage.html#ssl-warnings\n",
      "  warnings.warn(\n",
      "/Users/davidburke/src/dassie/.venv/lib/python3.9/site-packages/urllib3/connectionpool.py:1063: InsecureRequestWarning: Unverified HTTPS request is being made to host '127.0.0.1'. Adding certificate verification is strongly advised. See: https://urllib3.readthedocs.io/en/1.26.x/advanced-usage.html#ssl-warnings\n",
      "  warnings.warn(\n",
      "/Users/davidburke/src/dassie/.venv/lib/python3.9/site-packages/urllib3/connectionpool.py:1063: InsecureRequestWarning: Unverified HTTPS request is being made to host '127.0.0.1'. Adding certificate verification is strongly advised. See: https://urllib3.readthedocs.io/en/1.26.x/advanced-usage.html#ssl-warnings\n",
      "  warnings.warn(\n"
     ]
    },
    {
     "name": "stdout",
     "output_type": "stream",
     "text": [
      "{\"message\":\"Neptune query response: {'ResponseMetadata': {'HTTPStatusCode': 200, 'HTTPHeaders': {'transfer-encoding': 'chunked'}, 'RetryAttempts': 0}, 'results': []}\",\"level\":\"INFO\",\"location\":\"query:26\",\"timestamp\":\"2024-10-01 11:58:01,695+0100\",\"service\":\"dassie\"}\n",
      "{\"message\":\"Neptune query response: {'ResponseMetadata': {'HTTPStatusCode': 200, 'HTTPHeaders': {'transfer-encoding': 'chunked'}, 'RetryAttempts': 0}, 'results': []}\",\"level\":\"INFO\",\"location\":\"query:26\",\"timestamp\":\"2024-10-01 11:58:01,786+0100\",\"service\":\"dassie\"}\n"
     ]
    },
    {
     "name": "stderr",
     "output_type": "stream",
     "text": [
      "/Users/davidburke/src/dassie/.venv/lib/python3.9/site-packages/urllib3/connectionpool.py:1063: InsecureRequestWarning: Unverified HTTPS request is being made to host '127.0.0.1'. Adding certificate verification is strongly advised. See: https://urllib3.readthedocs.io/en/1.26.x/advanced-usage.html#ssl-warnings\n",
      "  warnings.warn(\n",
      "/Users/davidburke/src/dassie/.venv/lib/python3.9/site-packages/urllib3/connectionpool.py:1063: InsecureRequestWarning: Unverified HTTPS request is being made to host '127.0.0.1'. Adding certificate verification is strongly advised. See: https://urllib3.readthedocs.io/en/1.26.x/advanced-usage.html#ssl-warnings\n",
      "  warnings.warn(\n"
     ]
    },
    {
     "name": "stdout",
     "output_type": "stream",
     "text": [
      "{\"message\":\"Neptune query response: {'ResponseMetadata': {'HTTPStatusCode': 200, 'HTTPHeaders': {'transfer-encoding': 'chunked'}, 'RetryAttempts': 0}, 'results': []}\",\"level\":\"INFO\",\"location\":\"query:26\",\"timestamp\":\"2024-10-01 11:58:01,960+0100\",\"service\":\"dassie\"}\n",
      "{\"message\":\"Neptune query response: {'ResponseMetadata': {'HTTPStatusCode': 200, 'HTTPHeaders': {'transfer-encoding': 'chunked'}, 'RetryAttempts': 0}, 'results': []}\",\"level\":\"INFO\",\"location\":\"query:26\",\"timestamp\":\"2024-10-01 11:58:02,133+0100\",\"service\":\"dassie\"}\n"
     ]
    },
    {
     "name": "stderr",
     "output_type": "stream",
     "text": [
      "/Users/davidburke/src/dassie/.venv/lib/python3.9/site-packages/urllib3/connectionpool.py:1063: InsecureRequestWarning: Unverified HTTPS request is being made to host '127.0.0.1'. Adding certificate verification is strongly advised. See: https://urllib3.readthedocs.io/en/1.26.x/advanced-usage.html#ssl-warnings\n",
      "  warnings.warn(\n",
      "/Users/davidburke/src/dassie/.venv/lib/python3.9/site-packages/urllib3/connectionpool.py:1063: InsecureRequestWarning: Unverified HTTPS request is being made to host '127.0.0.1'. Adding certificate verification is strongly advised. See: https://urllib3.readthedocs.io/en/1.26.x/advanced-usage.html#ssl-warnings\n",
      "  warnings.warn(\n"
     ]
    },
    {
     "name": "stdout",
     "output_type": "stream",
     "text": [
      "{\"message\":\"Neptune query response: {'ResponseMetadata': {'HTTPStatusCode': 200, 'HTTPHeaders': {'transfer-encoding': 'chunked'}, 'RetryAttempts': 0}, 'results': []}\",\"level\":\"INFO\",\"location\":\"query:26\",\"timestamp\":\"2024-10-01 11:58:02,313+0100\",\"service\":\"dassie\"}\n",
      "{\"message\":\"Neptune query response: {'ResponseMetadata': {'HTTPStatusCode': 200, 'HTTPHeaders': {'transfer-encoding': 'chunked'}, 'RetryAttempts': 0}, 'results': []}\",\"level\":\"INFO\",\"location\":\"query:26\",\"timestamp\":\"2024-10-01 11:58:02,404+0100\",\"service\":\"dassie\"}\n"
     ]
    },
    {
     "name": "stderr",
     "output_type": "stream",
     "text": [
      "/Users/davidburke/src/dassie/.venv/lib/python3.9/site-packages/urllib3/connectionpool.py:1063: InsecureRequestWarning: Unverified HTTPS request is being made to host '127.0.0.1'. Adding certificate verification is strongly advised. See: https://urllib3.readthedocs.io/en/1.26.x/advanced-usage.html#ssl-warnings\n",
      "  warnings.warn(\n",
      "/Users/davidburke/src/dassie/.venv/lib/python3.9/site-packages/urllib3/connectionpool.py:1063: InsecureRequestWarning: Unverified HTTPS request is being made to host '127.0.0.1'. Adding certificate verification is strongly advised. See: https://urllib3.readthedocs.io/en/1.26.x/advanced-usage.html#ssl-warnings\n",
      "  warnings.warn(\n"
     ]
    },
    {
     "name": "stdout",
     "output_type": "stream",
     "text": [
      "{\"message\":\"Neptune query response: {'ResponseMetadata': {'HTTPStatusCode': 200, 'HTTPHeaders': {'transfer-encoding': 'chunked'}, 'RetryAttempts': 0}, 'results': []}\",\"level\":\"INFO\",\"location\":\"query:26\",\"timestamp\":\"2024-10-01 11:58:02,657+0100\",\"service\":\"dassie\"}\n",
      "[[], [], [], [], [], [], [], [], []]\n",
      "---\n",
      "\n",
      "\n",
      "\n",
      "a84325c3-8ce0-4fcd-8f05-ab93d7d5ae4a\n",
      "7c46a642-2634-46b0-9b0b-73f9b787ffc4\n",
      "{\"message\":\"Neptune query: \\nMERGE (article:Article {id: 'b8206f17-b948-42e9-a3d2-6898e0ac4122'})\\n\\nMERGE (python:ProgrammingLanguage {name: 'Python_(programming_language)'})\\nON CREATE SET python.abstract = \\\"Python is a high-level, interpreted programming language known for its readability and versatility.\\\"\\nMERGE (article)-[:MENTIONS]->(python)\\n\\nMERGE (google:Product {name: 'Google_for_Education'})\\nMERGE (google)-[:RELATED_TO]->(python)\\nMERGE (article)-[:MENTIONS]->(google)\\n\\nMERGE (regex:ProgrammingLanguageFeature {name: 'Regular_expression'})\\nON CREATE SET regex.abstract = \\\"Regular expressions are a powerful language for matching text patterns.\\\"\\nON CREATE SET regex.example = \\\"match = re.search(pat, str)\\\"\\nON CREATE SET regex.feature = [\\\"Basic Patterns\\\", \\\"Repetition\\\"]\\nMERGE (article)-[:MENTIONS]->(regex)\\n\\nMERGE (python_re:SoftwareModule {name: 'Python_re_module'})\\nON CREATE SET python_re.example = \\\"match = re.search(pat, str)\\\"\\nON CREATE SET python_re.usage = \\\"The re.search() method takes a regular expression pattern and a string and searches for that pattern within the string.\\\"\\nMERGE (python_re)-[:PROVIDES_FEATURE]->(regex)\\nMERGE (article)-[:MENTIONS]->(python_re)\\n\\nMERGE (exercises:EducationalResource {name: 'Python_Exercises'})\\nON CREATE SET exercises.exerciseType = [\\\"Basic Exercises\\\", \\\"Baby Names Exercise\\\", \\\"Copy Special Exercise\\\", \\\"Log Puzzle Exercise\\\"]\\nMERGE (exercises)-[:RELATED_TO]->(python)\\nMERGE (article)-[:MENTIONS]->(exercises)\\n\",\"level\":\"INFO\",\"location\":\"query:21\",\"timestamp\":\"2024-10-01 11:58:02,980+0100\",\"service\":\"dassie\"}\n",
      "{\"message\":\"Neptune query response: {'ResponseMetadata': {'HTTPStatusCode': 200, 'HTTPHeaders': {'transfer-encoding': 'chunked'}, 'RetryAttempts': 0}, 'results': []}\",\"level\":\"INFO\",\"location\":\"query:26\",\"timestamp\":\"2024-10-01 11:58:03,030+0100\",\"service\":\"dassie\"}\n",
      "{\"message\":\"Neptune query response: {'ResponseMetadata': {'HTTPStatusCode': 200, 'HTTPHeaders': {'transfer-encoding': 'chunked'}, 'RetryAttempts': 0}, 'results': []}\",\"level\":\"INFO\",\"location\":\"query:26\",\"timestamp\":\"2024-10-01 11:58:03,088+0100\",\"service\":\"dassie\"}\n",
      "{\"message\":\"Neptune query response: {'ResponseMetadata': {'HTTPStatusCode': 200, 'HTTPHeaders': {'transfer-encoding': 'chunked'}, 'RetryAttempts': 0}, 'results': []}\",\"level\":\"INFO\",\"location\":\"query:26\",\"timestamp\":\"2024-10-01 11:58:03,149+0100\",\"service\":\"dassie\"}\n"
     ]
    },
    {
     "name": "stderr",
     "output_type": "stream",
     "text": [
      "/Users/davidburke/src/dassie/.venv/lib/python3.9/site-packages/urllib3/connectionpool.py:1063: InsecureRequestWarning: Unverified HTTPS request is being made to host '127.0.0.1'. Adding certificate verification is strongly advised. See: https://urllib3.readthedocs.io/en/1.26.x/advanced-usage.html#ssl-warnings\n",
      "  warnings.warn(\n",
      "/Users/davidburke/src/dassie/.venv/lib/python3.9/site-packages/urllib3/connectionpool.py:1063: InsecureRequestWarning: Unverified HTTPS request is being made to host '127.0.0.1'. Adding certificate verification is strongly advised. See: https://urllib3.readthedocs.io/en/1.26.x/advanced-usage.html#ssl-warnings\n",
      "  warnings.warn(\n",
      "/Users/davidburke/src/dassie/.venv/lib/python3.9/site-packages/urllib3/connectionpool.py:1063: InsecureRequestWarning: Unverified HTTPS request is being made to host '127.0.0.1'. Adding certificate verification is strongly advised. See: https://urllib3.readthedocs.io/en/1.26.x/advanced-usage.html#ssl-warnings\n",
      "  warnings.warn(\n",
      "/Users/davidburke/src/dassie/.venv/lib/python3.9/site-packages/urllib3/connectionpool.py:1063: InsecureRequestWarning: Unverified HTTPS request is being made to host '127.0.0.1'. Adding certificate verification is strongly advised. See: https://urllib3.readthedocs.io/en/1.26.x/advanced-usage.html#ssl-warnings\n",
      "  warnings.warn(\n"
     ]
    },
    {
     "name": "stdout",
     "output_type": "stream",
     "text": [
      "{\"message\":\"Error querying Neptune: An error occurred (BadRequestException) when calling the ExecuteOpenCypherQuery operation: Expected a simple literal but found CType.\",\"level\":\"ERROR\",\"location\":\"query:34\",\"timestamp\":\"2024-10-01 11:58:03,221+0100\",\"service\":\"dassie\"}\n",
      "An error occurred (BadRequestException) when calling the ExecuteOpenCypherQuery operation: Expected a simple literal but found CType.\n",
      "---\n",
      "\n",
      "\n",
      "\n"
     ]
    }
   ],
   "source": [
    "\n",
    "traces = langfuse.fetch_traces(name=\"article_graph_test\",tags=[\"neptune_exception\"],limit=100)\n",
    "for trace in traces.data:\n",
    "    for obs in trace.observations:\n",
    "        obs = langfuse.fetch_observation(obs)\n",
    "        if obs.data.name == \"get_article_graph\":\n",
    "            print(obs.data.trace_id)\n",
    "            print(obs.data.id)\n",
    "            try:\n",
    "                query = obs.data.output\n",
    "                if query.startswith(\" provided text\"):\n",
    "                    query = openai_client._get_opencypher_code_block(query)\n",
    "                res = neptune_client.query(query)\n",
    "                print(res)\n",
    "                article_id = obs.data.input['kwargs']['article_id']\n",
    "                article = articles_service._article_repo.get_by_id(article_id)\n",
    "                article_graph_test(article,article_id,\"neptune_exception_fixed\")\n",
    "            except Exception as e:\n",
    "                print(e)\n",
    "            print(\"---\\n\\n\\n\")\n",
    "\n",
    "\n",
    "\n",
    "\n"
   ]
  },
  {
   "cell_type": "code",
   "execution_count": 5,
   "id": "c7134ead",
   "metadata": {},
   "outputs": [
    {
     "name": "stdout",
     "output_type": "stream",
     "text": [
      "9e9e911d-9758-4fa6-b497-fe247ae6d896\n"
     ]
    }
   ],
   "source": [
    "obs = langfuse.fetch_observation('bc4b5a90-d1ba-45b9-ba06-3cdcb2a6156f')\n",
    "print(obs.data.input['kwargs']['article_id'])"
   ]
  },
  {
   "cell_type": "code",
   "execution_count": 4,
   "id": "5a16a42f",
   "metadata": {},
   "outputs": [
    {
     "name": "stdout",
     "output_type": "stream",
     "text": [
      "713f83db-7cd3-4343-a8ee-53386b6ccf70\n",
      "\n",
      "MERGE (a:Article {id: '9e9e911d-9758-4fa6-b497-fe247ae6d896'})\n",
      "\n",
      "MERGE (awsNeptune:Software {name: 'AWS Neptune Analytics API'})\n",
      "ON CREATE SET awsNeptune.developer = 'Amazon Web Services', awsNeptune.documentation = 'https://docs.aws.amazon.com/neptune/latest/userguide/analytics-api.html'\n",
      "MERGE (awsNeptune)-[:MENTIONED_IN]->(a)\n",
      "\n",
      "MERGE (resetGraph:Function {name: 'ResetGraph'})\n",
      "ON CREATE SET resetGraph.description = 'Empties the data from a specified Neptune Analytics graph.'\n",
      "MERGE (resetGraph)-[:PART_OF]->(awsNeptune)\n",
      "MERGE (resetGraph)-[:MENTIONED_IN]->(a)\n",
      "\n",
      "MERGE (graph:Dataset {identifier: 'graphIdentifier'})\n",
      "ON CREATE SET graph.pattern = 'g-[a-z0-9]{10}'\n",
      "MERGE (graph)-[:MENTIONED_IN]->(a)\n",
      "\n",
      "MERGE (responseElements:Response {name: 'Response Elements'})\n",
      "ON CREATE SET responseElements.statusCode = '200', responseElements.contentType = 'application/json'\n",
      "MERGE (responseElements)-[:PART_OF]->(resetGraph)\n",
      "MERGE (responseElements)-[:MENTIONED_IN]->(a)\n",
      "\n",
      "MERGE (errors:Error {name: 'Errors'})\n",
      "MERGE (errors)-[:PART_OF]->(resetGraph)\n",
      "MERGE (errors)-[:MENTIONED_IN]->(a)\n",
      "\n",
      "WITH responseElements\n",
      "UNWIND [\n",
      "  {property: 'arn', type: 'String'},\n",
      "  {property: 'buildNumber', type: 'String'},\n",
      "  {property: 'createTime', type: 'Timestamp'},\n",
      "  {property: 'deletionProtection', type: 'Boolean'},\n",
      "  {property: 'endpoint', type: 'String'},\n",
      "  {property: 'id', type: 'String', pattern: 'g-[a-z0-9]{10}'},\n",
      "  {property: 'kmsKeyIdentifier', type: 'String', pattern: 'arn:aws(|-cn|-us-gov):kms:[a-zA-Z0-9-]*:[0-9]{12}:key/[a-zA-Z0-9-]{36}'},\n",
      "  {property: 'name', type: 'String', pattern: '(?!g-)[a-z][a-z0-9]*(-[a-z0-9]+)*'},\n",
      "  {property: 'provisionedMemory', type: 'Integer', validRange: '32-24576'},\n",
      "  {property: 'publicConnectivity', type: 'Boolean'},\n",
      "  {property: 'replicaCount', type: 'Integer', validRange: '0-2'},\n",
      "  {property: 'sourceSnapshotId', type: 'String', pattern: 'gs-[a-z0-9]{10}'},\n",
      "  {property: 'status', type: 'String', validValues: 'CREATING, AVAILABLE, DELETING, RESETTING, UPDATING, SNAPSHOTTING, FAILED, IMPORTING'},\n",
      "  {property: 'statusReason', type: 'String'},\n",
      "  {property: 'vectorSearchConfiguration', type: 'VectorSearchConfiguration', maxDimensions: '65535'}\n",
      "] AS element\n",
      "MERGE (prop:Property {name: element.property})\n",
      "ON CREATE SET prop.type = element.type, prop.pattern = element.pattern, prop.validRange = element.validRange, prop.validValues = element.validValues, prop.maxDimensions = element.maxDimensions\n",
      "MERGE (responseElements)-[:CONTAINS]->(prop)\n",
      "\n",
      "WITH errors\n",
      "UNWIND [\n",
      "  {property: 'ConflictException', statusCode: '409'},\n",
      "  {property: 'InternalServerException', statusCode: '500'},\n",
      "  {property: 'ResourceNotFoundException', statusCode: '404'},\n",
      "  {property: 'ThrottlingException', statusCode: '429'},\n",
      "  {property: 'ValidationException', statusCode: '400'}\n",
      "] AS error\n",
      "MERGE (err:ErrorProperty {name: error.property})\n",
      "ON CREATE SET err.statusCode = error.statusCode\n",
      "MERGE (errors)-[:CONTAINS]->(err)\n",
      "\n",
      "9e9e911d-9758-4fa6-b497-fe247ae6d896\n",
      "{\"message\":\"Neptune query: \\nMERGE (a:Article {id: '9e9e911d-9758-4fa6-b497-fe247ae6d896'})\\n\\nMERGE (awsNeptune:Software {name: 'AWS Neptune Analytics API'})\\nON CREATE SET awsNeptune.developer = 'Amazon Web Services', awsNeptune.documentation = 'https://docs.aws.amazon.com/neptune/latest/userguide/analytics-api.html'\\nMERGE (awsNeptune)-[:MENTIONED_IN]->(a)\\n\\nMERGE (resetGraph:Function {name: 'ResetGraph'})\\nON CREATE SET resetGraph.description = 'Empties the data from a specified Neptune Analytics graph.'\\nMERGE (resetGraph)-[:PART_OF]->(awsNeptune)\\nMERGE (resetGraph)-[:MENTIONED_IN]->(a)\\n\\nMERGE (graph:Dataset {identifier: 'graphIdentifier'})\\nON CREATE SET graph.pattern = 'g-[a-z0-9]{10}'\\nMERGE (graph)-[:MENTIONED_IN]->(a)\\n\\nMERGE (responseElements:Response {name: 'Response Elements'})\\nON CREATE SET responseElements.statusCode = '200', responseElements.contentType = 'application/json'\\nMERGE (responseElements)-[:PART_OF]->(resetGraph)\\nMERGE (responseElements)-[:MENTIONED_IN]->(a)\\n\\nMERGE (errors:Error {name: 'Errors'})\\nMERGE (errors)-[:PART_OF]->(resetGraph)\\nMERGE (errors)-[:MENTIONED_IN]->(a)\\n\\nWITH responseElements\\nUNWIND [\\n  {property: 'arn', type: 'String'},\\n  {property: 'buildNumber', type: 'String'},\\n  {property: 'createTime', type: 'Timestamp'},\\n  {property: 'deletionProtection', type: 'Boolean'},\\n  {property: 'endpoint', type: 'String'},\\n  {property: 'id', type: 'String', pattern: 'g-[a-z0-9]{10}'},\\n  {property: 'kmsKeyIdentifier', type: 'String', pattern: 'arn:aws(|-cn|-us-gov):kms:[a-zA-Z0-9-]*:[0-9]{12}:key/[a-zA-Z0-9-]{36}'},\\n  {property: 'name', type: 'String', pattern: '(?!g-)[a-z][a-z0-9]*(-[a-z0-9]+)*'},\\n  {property: 'provisionedMemory', type: 'Integer', validRange: '32-24576'},\\n  {property: 'publicConnectivity', type: 'Boolean'},\\n  {property: 'replicaCount', type: 'Integer', validRange: '0-2'},\\n  {property: 'sourceSnapshotId', type: 'String', pattern: 'gs-[a-z0-9]{10}'},\\n  {property: 'status', type: 'String', validValues: 'CREATING, AVAILABLE, DELETING, RESETTING, UPDATING, SNAPSHOTTING, FAILED, IMPORTING'},\\n  {property: 'statusReason', type: 'String'},\\n  {property: 'vectorSearchConfiguration', type: 'VectorSearchConfiguration', maxDimensions: '65535'}\\n] AS element\\nMERGE (prop:Property {name: element.property})\\nON CREATE SET prop.type = element.type, prop.pattern = element.pattern, prop.validRange = element.validRange, prop.validValues = element.validValues, prop.maxDimensions = element.maxDimensions\\nMERGE (responseElements)-[:CONTAINS]->(prop)\\n\\nWITH errors\\nUNWIND [\\n  {property: 'ConflictException', statusCode: '409'},\\n  {property: 'InternalServerException', statusCode: '500'},\\n  {property: 'ResourceNotFoundException', statusCode: '404'},\\n  {property: 'ThrottlingException', statusCode: '429'},\\n  {property: 'ValidationException', statusCode: '400'}\\n] AS error\\nMERGE (err:ErrorProperty {name: error.property})\\nON CREATE SET err.statusCode = error.statusCode\\nMERGE (errors)-[:CONTAINS]->(err)\\n\",\"level\":\"INFO\",\"location\":\"query:21\",\"timestamp\":\"2024-10-01 11:29:43,612+0100\",\"service\":\"dassie\"}\n",
      "{\"message\":\"Neptune query response: {'ResponseMetadata': {'HTTPStatusCode': 200, 'HTTPHeaders': {'transfer-encoding': 'chunked'}, 'RetryAttempts': 0}, 'results': []}\",\"level\":\"INFO\",\"location\":\"query:26\",\"timestamp\":\"2024-10-01 11:29:43,734+0100\",\"service\":\"dassie\"}\n",
      "{\"message\":\"Neptune query response: {'ResponseMetadata': {'HTTPStatusCode': 200, 'HTTPHeaders': {'transfer-encoding': 'chunked'}, 'RetryAttempts': 0}, 'results': []}\",\"level\":\"INFO\",\"location\":\"query:26\",\"timestamp\":\"2024-10-01 11:29:43,816+0100\",\"service\":\"dassie\"}\n",
      "{\"message\":\"Neptune query response: {'ResponseMetadata': {'HTTPStatusCode': 200, 'HTTPHeaders': {'transfer-encoding': 'chunked'}, 'RetryAttempts': 0}, 'results': []}\",\"level\":\"INFO\",\"location\":\"query:26\",\"timestamp\":\"2024-10-01 11:29:43,882+0100\",\"service\":\"dassie\"}\n"
     ]
    },
    {
     "name": "stderr",
     "output_type": "stream",
     "text": [
      "/Users/davidburke/src/dassie/.venv/lib/python3.9/site-packages/urllib3/connectionpool.py:1063: InsecureRequestWarning: Unverified HTTPS request is being made to host '127.0.0.1'. Adding certificate verification is strongly advised. See: https://urllib3.readthedocs.io/en/1.26.x/advanced-usage.html#ssl-warnings\n",
      "  warnings.warn(\n",
      "/Users/davidburke/src/dassie/.venv/lib/python3.9/site-packages/urllib3/connectionpool.py:1063: InsecureRequestWarning: Unverified HTTPS request is being made to host '127.0.0.1'. Adding certificate verification is strongly advised. See: https://urllib3.readthedocs.io/en/1.26.x/advanced-usage.html#ssl-warnings\n",
      "  warnings.warn(\n",
      "/Users/davidburke/src/dassie/.venv/lib/python3.9/site-packages/urllib3/connectionpool.py:1063: InsecureRequestWarning: Unverified HTTPS request is being made to host '127.0.0.1'. Adding certificate verification is strongly advised. See: https://urllib3.readthedocs.io/en/1.26.x/advanced-usage.html#ssl-warnings\n",
      "  warnings.warn(\n",
      "/Users/davidburke/src/dassie/.venv/lib/python3.9/site-packages/urllib3/connectionpool.py:1063: InsecureRequestWarning: Unverified HTTPS request is being made to host '127.0.0.1'. Adding certificate verification is strongly advised. See: https://urllib3.readthedocs.io/en/1.26.x/advanced-usage.html#ssl-warnings\n",
      "  warnings.warn(\n"
     ]
    },
    {
     "name": "stdout",
     "output_type": "stream",
     "text": [
      "{\"message\":\"Neptune query response: {'ResponseMetadata': {'HTTPStatusCode': 200, 'HTTPHeaders': {'transfer-encoding': 'chunked'}, 'RetryAttempts': 0}, 'results': []}\",\"level\":\"INFO\",\"location\":\"query:26\",\"timestamp\":\"2024-10-01 11:29:43,958+0100\",\"service\":\"dassie\"}\n",
      "{\"message\":\"Neptune query response: {'ResponseMetadata': {'HTTPStatusCode': 200, 'HTTPHeaders': {'transfer-encoding': 'chunked'}, 'RetryAttempts': 0}, 'results': []}\",\"level\":\"INFO\",\"location\":\"query:26\",\"timestamp\":\"2024-10-01 11:29:44,040+0100\",\"service\":\"dassie\"}\n",
      "{\"message\":\"Neptune query response: {'ResponseMetadata': {'HTTPStatusCode': 200, 'HTTPHeaders': {'transfer-encoding': 'chunked'}, 'RetryAttempts': 0}, 'results': []}\",\"level\":\"INFO\",\"location\":\"query:26\",\"timestamp\":\"2024-10-01 11:29:44,115+0100\",\"service\":\"dassie\"}\n",
      "{\"message\":\"Error querying Neptune: An error occurred (MalformedQueryException) when calling the ExecuteOpenCypherQuery operation: Variable `responseElements` not defined (line 1, column 6 (offset: 5))\",\"level\":\"ERROR\",\"location\":\"query:34\",\"timestamp\":\"2024-10-01 11:29:44,156+0100\",\"service\":\"dassie\"}\n"
     ]
    },
    {
     "name": "stderr",
     "output_type": "stream",
     "text": [
      "/Users/davidburke/src/dassie/.venv/lib/python3.9/site-packages/urllib3/connectionpool.py:1063: InsecureRequestWarning: Unverified HTTPS request is being made to host '127.0.0.1'. Adding certificate verification is strongly advised. See: https://urllib3.readthedocs.io/en/1.26.x/advanced-usage.html#ssl-warnings\n",
      "  warnings.warn(\n",
      "/Users/davidburke/src/dassie/.venv/lib/python3.9/site-packages/urllib3/connectionpool.py:1063: InsecureRequestWarning: Unverified HTTPS request is being made to host '127.0.0.1'. Adding certificate verification is strongly advised. See: https://urllib3.readthedocs.io/en/1.26.x/advanced-usage.html#ssl-warnings\n",
      "  warnings.warn(\n",
      "/Users/davidburke/src/dassie/.venv/lib/python3.9/site-packages/urllib3/connectionpool.py:1063: InsecureRequestWarning: Unverified HTTPS request is being made to host '127.0.0.1'. Adding certificate verification is strongly advised. See: https://urllib3.readthedocs.io/en/1.26.x/advanced-usage.html#ssl-warnings\n",
      "  warnings.warn(\n"
     ]
    },
    {
     "ename": "MalformedQueryException",
     "evalue": "An error occurred (MalformedQueryException) when calling the ExecuteOpenCypherQuery operation: Variable `responseElements` not defined (line 1, column 6 (offset: 5))",
     "output_type": "error",
     "traceback": [
      "\u001b[0;31m---------------------------------------------------------------------------\u001b[0m",
      "\u001b[0;31mMalformedQueryException\u001b[0m                   Traceback (most recent call last)",
      "Cell \u001b[0;32mIn[4], line 5\u001b[0m\n\u001b[1;32m      3\u001b[0m \u001b[38;5;28mprint\u001b[39m(obs\u001b[38;5;241m.\u001b[39mdata\u001b[38;5;241m.\u001b[39moutput)\n\u001b[1;32m      4\u001b[0m \u001b[38;5;28mprint\u001b[39m(obs\u001b[38;5;241m.\u001b[39mdata\u001b[38;5;241m.\u001b[39minput[\u001b[38;5;124m'\u001b[39m\u001b[38;5;124mkwargs\u001b[39m\u001b[38;5;124m'\u001b[39m][\u001b[38;5;124m'\u001b[39m\u001b[38;5;124marticle_id\u001b[39m\u001b[38;5;124m'\u001b[39m])\n\u001b[0;32m----> 5\u001b[0m res \u001b[38;5;241m=\u001b[39m \u001b[43mneptune_client\u001b[49m\u001b[38;5;241;43m.\u001b[39;49m\u001b[43mquery\u001b[49m\u001b[43m(\u001b[49m\u001b[43mobs\u001b[49m\u001b[38;5;241;43m.\u001b[39;49m\u001b[43mdata\u001b[49m\u001b[38;5;241;43m.\u001b[39;49m\u001b[43moutput\u001b[49m\u001b[43m)\u001b[49m\n\u001b[1;32m      7\u001b[0m \u001b[38;5;28mprint\u001b[39m(res)\n\u001b[1;32m      8\u001b[0m \u001b[38;5;28mprint\u001b[39m(\u001b[38;5;124m\"\u001b[39m\u001b[38;5;124m---\u001b[39m\u001b[38;5;130;01m\\n\u001b[39;00m\u001b[38;5;130;01m\\n\u001b[39;00m\u001b[38;5;130;01m\\n\u001b[39;00m\u001b[38;5;124m\"\u001b[39m)\n",
      "File \u001b[0;32m~/src/dassie/dassie-app-backend/python/lambda/services/neptune_client.py:35\u001b[0m, in \u001b[0;36mNeptuneClient.query\u001b[0;34m(self, query)\u001b[0m\n\u001b[1;32m     33\u001b[0m \u001b[38;5;28;01mexcept\u001b[39;00m \u001b[38;5;167;01mException\u001b[39;00m \u001b[38;5;28;01mas\u001b[39;00m e:\n\u001b[1;32m     34\u001b[0m     logger\u001b[38;5;241m.\u001b[39merror(\u001b[38;5;124mf\u001b[39m\u001b[38;5;124m\"\u001b[39m\u001b[38;5;124mError querying Neptune: \u001b[39m\u001b[38;5;132;01m{\u001b[39;00me\u001b[38;5;132;01m}\u001b[39;00m\u001b[38;5;124m\"\u001b[39m)\n\u001b[0;32m---> 35\u001b[0m     \u001b[38;5;28;01mraise\u001b[39;00m e\n",
      "File \u001b[0;32m~/src/dassie/dassie-app-backend/python/lambda/services/neptune_client.py:25\u001b[0m, in \u001b[0;36mNeptuneClient.query\u001b[0;34m(self, query)\u001b[0m\n\u001b[1;32m     23\u001b[0m results \u001b[38;5;241m=\u001b[39m []\n\u001b[1;32m     24\u001b[0m \u001b[38;5;28;01mfor\u001b[39;00m query \u001b[38;5;129;01min\u001b[39;00m queries:\n\u001b[0;32m---> 25\u001b[0m     response \u001b[38;5;241m=\u001b[39m \u001b[38;5;28;43mself\u001b[39;49m\u001b[38;5;241;43m.\u001b[39;49m\u001b[43mclient\u001b[49m\u001b[38;5;241;43m.\u001b[39;49m\u001b[43mexecute_open_cypher_query\u001b[49m\u001b[43m(\u001b[49m\u001b[43mopenCypherQuery\u001b[49m\u001b[38;5;241;43m=\u001b[39;49m\u001b[43mquery\u001b[49m\u001b[43m)\u001b[49m\n\u001b[1;32m     26\u001b[0m     logger\u001b[38;5;241m.\u001b[39minfo(\u001b[38;5;124mf\u001b[39m\u001b[38;5;124m\"\u001b[39m\u001b[38;5;124mNeptune query response: \u001b[39m\u001b[38;5;132;01m{\u001b[39;00mresponse\u001b[38;5;132;01m}\u001b[39;00m\u001b[38;5;124m\"\u001b[39m)\n\u001b[1;32m     27\u001b[0m     \u001b[38;5;28;01mif\u001b[39;00m response[\u001b[38;5;124m\"\u001b[39m\u001b[38;5;124mResponseMetadata\u001b[39m\u001b[38;5;124m\"\u001b[39m][\u001b[38;5;124m\"\u001b[39m\u001b[38;5;124mHTTPStatusCode\u001b[39m\u001b[38;5;124m\"\u001b[39m] \u001b[38;5;241m!=\u001b[39m \u001b[38;5;241m200\u001b[39m:\n",
      "File \u001b[0;32m~/src/dassie/.venv/lib/python3.9/site-packages/botocore/client.py:565\u001b[0m, in \u001b[0;36mClientCreator._create_api_method.<locals>._api_call\u001b[0;34m(self, *args, **kwargs)\u001b[0m\n\u001b[1;32m    561\u001b[0m     \u001b[38;5;28;01mraise\u001b[39;00m \u001b[38;5;167;01mTypeError\u001b[39;00m(\n\u001b[1;32m    562\u001b[0m         \u001b[38;5;124mf\u001b[39m\u001b[38;5;124m\"\u001b[39m\u001b[38;5;132;01m{\u001b[39;00mpy_operation_name\u001b[38;5;132;01m}\u001b[39;00m\u001b[38;5;124m() only accepts keyword arguments.\u001b[39m\u001b[38;5;124m\"\u001b[39m\n\u001b[1;32m    563\u001b[0m     )\n\u001b[1;32m    564\u001b[0m \u001b[38;5;66;03m# The \"self\" in this scope is referring to the BaseClient.\u001b[39;00m\n\u001b[0;32m--> 565\u001b[0m \u001b[38;5;28;01mreturn\u001b[39;00m \u001b[38;5;28;43mself\u001b[39;49m\u001b[38;5;241;43m.\u001b[39;49m\u001b[43m_make_api_call\u001b[49m\u001b[43m(\u001b[49m\u001b[43moperation_name\u001b[49m\u001b[43m,\u001b[49m\u001b[43m \u001b[49m\u001b[43mkwargs\u001b[49m\u001b[43m)\u001b[49m\n",
      "File \u001b[0;32m~/src/dassie/.venv/lib/python3.9/site-packages/botocore/client.py:1021\u001b[0m, in \u001b[0;36mBaseClient._make_api_call\u001b[0;34m(self, operation_name, api_params)\u001b[0m\n\u001b[1;32m   1017\u001b[0m     error_code \u001b[38;5;241m=\u001b[39m error_info\u001b[38;5;241m.\u001b[39mget(\u001b[38;5;124m\"\u001b[39m\u001b[38;5;124mQueryErrorCode\u001b[39m\u001b[38;5;124m\"\u001b[39m) \u001b[38;5;129;01mor\u001b[39;00m error_info\u001b[38;5;241m.\u001b[39mget(\n\u001b[1;32m   1018\u001b[0m         \u001b[38;5;124m\"\u001b[39m\u001b[38;5;124mCode\u001b[39m\u001b[38;5;124m\"\u001b[39m\n\u001b[1;32m   1019\u001b[0m     )\n\u001b[1;32m   1020\u001b[0m     error_class \u001b[38;5;241m=\u001b[39m \u001b[38;5;28mself\u001b[39m\u001b[38;5;241m.\u001b[39mexceptions\u001b[38;5;241m.\u001b[39mfrom_code(error_code)\n\u001b[0;32m-> 1021\u001b[0m     \u001b[38;5;28;01mraise\u001b[39;00m error_class(parsed_response, operation_name)\n\u001b[1;32m   1022\u001b[0m \u001b[38;5;28;01melse\u001b[39;00m:\n\u001b[1;32m   1023\u001b[0m     \u001b[38;5;28;01mreturn\u001b[39;00m parsed_response\n",
      "\u001b[0;31mMalformedQueryException\u001b[0m: An error occurred (MalformedQueryException) when calling the ExecuteOpenCypherQuery operation: Variable `responseElements` not defined (line 1, column 6 (offset: 5))"
     ]
    }
   ],
   "source": [
    "obs = langfuse.fetch_observation('bc4b5a90-d1ba-45b9-ba06-3cdcb2a6156f')\n",
    "print(obs.data.input['kwargs']['article_id'])\n",
    "print(obs.data.trace_id)\n",
    "print(obs.data.output)\n",
    "\n",
    "res = neptune_client.query(obs.data.output)\n",
    "\n",
    "print(res)\n",
    "print(\"---\\n\\n\\n\")\n",
    "\n",
    "\n",
    "\n"
   ]
  },
  {
   "cell_type": "code",
   "execution_count": 13,
   "id": "7f7aae7d",
   "metadata": {},
   "outputs": [
    {
     "name": "stdout",
     "output_type": "stream",
     "text": [
      "{\"message\":\"Neptune query: \\nMERGE (a:Article {id: '9e9e911d-9758-4fa6-b497-fe247ae6d896'})\\n\\nMERGE (awsNeptune:Software {name: 'AWS Neptune Analytics API'})\\nON CREATE SET awsNeptune.developer = 'Amazon Web Services', awsNeptune.documentation = 'https://docs.aws.amazon.com/neptune/latest/userguide/analytics-api.html'\\nMERGE (awsNeptune)-[:MENTIONED_IN]->(a)\\n\\nMERGE (resetGraph:Function {name: 'ResetGraph'})\\nON CREATE SET resetGraph.description = 'Empties the data from a specified Neptune Analytics graph.'\\nMERGE (resetGraph)-[:PART_OF]->(awsNeptune)\\nMERGE (resetGraph)-[:MENTIONED_IN]->(a)\\n\\nMERGE (graph:Dataset {identifier: 'graphIdentifier'})\\nON CREATE SET graph.pattern = 'g-[a-z0-9]{10}'\\nMERGE (graph)-[:MENTIONED_IN]->(a)\\n\\nMERGE (responseElements:Response {name: 'Response Elements'})\\nON CREATE SET responseElements.statusCode = '200', responseElements.contentType = 'application/json'\\nMERGE (responseElements)-[:PART_OF]->(resetGraph)\\nMERGE (responseElements)-[:MENTIONED_IN]->(a)\\nMERGE (errors:Error {name: 'Errors'})\\nMERGE (errors)-[:PART_OF]->(resetGraph)\\nMERGE (errors)-[:MENTIONED_IN]->(a)\\nWITH responseElements\\nUNWIND [\\n  {property: 'arn', type: 'String'},\\n  {property: 'buildNumber', type: 'String'},\\n  {property: 'createTime', type: 'Timestamp'},\\n  {property: 'deletionProtection', type: 'Boolean'},\\n  {property: 'endpoint', type: 'String'},\\n  {property: 'id', type: 'String', pattern: 'g-[a-z0-9]{10}'},\\n  {property: 'kmsKeyIdentifier', type: 'String', pattern: 'arn:aws(|-cn|-us-gov):kms:[a-zA-Z0-9-]*:[0-9]{12}:key/[a-zA-Z0-9-]{36}'},\\n  {property: 'name', type: 'String', pattern: '(?!g-)[a-z][a-z0-9]*(-[a-z0-9]+)*'},\\n  {property: 'provisionedMemory', type: 'Integer', validRange: '32-24576'},\\n  {property: 'publicConnectivity', type: 'Boolean'},\\n  {property: 'replicaCount', type: 'Integer', validRange: '0-2'},\\n  {property: 'sourceSnapshotId', type: 'String', pattern: 'gs-[a-z0-9]{10}'},\\n  {property: 'status', type: 'String', validValues: 'CREATING, AVAILABLE, DELETING, RESETTING, UPDATING, SNAPSHOTTING, FAILED, IMPORTING'},\\n  {property: 'statusReason', type: 'String'},\\n  {property: 'vectorSearchConfiguration', type: 'VectorSearchConfiguration', maxDimensions: '65535'}\\n] AS element\\nMERGE (prop:Property {name: element.property})\\nON CREATE SET prop.type = element.type, prop.pattern = element.pattern, prop.validRange = element.validRange, prop.validValues = element.validValues, prop.maxDimensions = element.maxDimensions\\nMERGE (responseElements)-[:CONTAINS]->(prop)\\nWITH errors\\nUNWIND [\\n  {property: 'ConflictException', statusCode: '409'},\\n  {property: 'InternalServerException', statusCode: '500'},\\n  {property: 'ResourceNotFoundException', statusCode: '404'},\\n  {property: 'ThrottlingException', statusCode: '429'},\\n  {property: 'ValidationException', statusCode: '400'}\\n] AS error\\nMERGE (err:ErrorProperty {name: error.property})\\nON CREATE SET err.statusCode = error.statusCode\\nMERGE (errors)-[:CONTAINS]->(err)\\n\",\"level\":\"INFO\",\"location\":\"query:21\",\"timestamp\":\"2024-10-01 10:34:38,847+0100\",\"service\":\"dassie\"}\n",
      "{\"message\":\"Neptune query response: {'ResponseMetadata': {'HTTPStatusCode': 200, 'HTTPHeaders': {'transfer-encoding': 'chunked'}, 'RetryAttempts': 0}, 'results': []}\",\"level\":\"INFO\",\"location\":\"query:26\",\"timestamp\":\"2024-10-01 10:34:38,990+0100\",\"service\":\"dassie\"}\n",
      "{\"message\":\"Neptune query response: {'ResponseMetadata': {'HTTPStatusCode': 200, 'HTTPHeaders': {'transfer-encoding': 'chunked'}, 'RetryAttempts': 0}, 'results': []}\",\"level\":\"INFO\",\"location\":\"query:26\",\"timestamp\":\"2024-10-01 10:34:39,051+0100\",\"service\":\"dassie\"}\n",
      "{\"message\":\"Neptune query response: {'ResponseMetadata': {'HTTPStatusCode': 200, 'HTTPHeaders': {'transfer-encoding': 'chunked'}, 'RetryAttempts': 0}, 'results': []}\",\"level\":\"INFO\",\"location\":\"query:26\",\"timestamp\":\"2024-10-01 10:34:39,128+0100\",\"service\":\"dassie\"}\n"
     ]
    },
    {
     "name": "stderr",
     "output_type": "stream",
     "text": [
      "/Users/davidburke/src/dassie/.venv/lib/python3.9/site-packages/urllib3/connectionpool.py:1063: InsecureRequestWarning: Unverified HTTPS request is being made to host '127.0.0.1'. Adding certificate verification is strongly advised. See: https://urllib3.readthedocs.io/en/1.26.x/advanced-usage.html#ssl-warnings\n",
      "  warnings.warn(\n",
      "/Users/davidburke/src/dassie/.venv/lib/python3.9/site-packages/urllib3/connectionpool.py:1063: InsecureRequestWarning: Unverified HTTPS request is being made to host '127.0.0.1'. Adding certificate verification is strongly advised. See: https://urllib3.readthedocs.io/en/1.26.x/advanced-usage.html#ssl-warnings\n",
      "  warnings.warn(\n",
      "/Users/davidburke/src/dassie/.venv/lib/python3.9/site-packages/urllib3/connectionpool.py:1063: InsecureRequestWarning: Unverified HTTPS request is being made to host '127.0.0.1'. Adding certificate verification is strongly advised. See: https://urllib3.readthedocs.io/en/1.26.x/advanced-usage.html#ssl-warnings\n",
      "  warnings.warn(\n",
      "/Users/davidburke/src/dassie/.venv/lib/python3.9/site-packages/urllib3/connectionpool.py:1063: InsecureRequestWarning: Unverified HTTPS request is being made to host '127.0.0.1'. Adding certificate verification is strongly advised. See: https://urllib3.readthedocs.io/en/1.26.x/advanced-usage.html#ssl-warnings\n",
      "  warnings.warn(\n"
     ]
    },
    {
     "name": "stdout",
     "output_type": "stream",
     "text": [
      "{\"message\":\"Neptune query response: {'ResponseMetadata': {'HTTPStatusCode': 200, 'HTTPHeaders': {'transfer-encoding': 'chunked'}, 'RetryAttempts': 0}, 'results': []}\",\"level\":\"INFO\",\"location\":\"query:26\",\"timestamp\":\"2024-10-01 10:34:39,190+0100\",\"service\":\"dassie\"}\n",
      "{\"message\":\"Error querying Neptune: An error occurred (MalformedQueryException) when calling the ExecuteOpenCypherQuery operation: Variable `errors` not defined (line 29, column 6 (offset: 1771))\",\"level\":\"ERROR\",\"location\":\"query:34\",\"timestamp\":\"2024-10-01 10:34:39,239+0100\",\"service\":\"dassie\"}\n"
     ]
    },
    {
     "name": "stderr",
     "output_type": "stream",
     "text": [
      "/Users/davidburke/src/dassie/.venv/lib/python3.9/site-packages/urllib3/connectionpool.py:1063: InsecureRequestWarning: Unverified HTTPS request is being made to host '127.0.0.1'. Adding certificate verification is strongly advised. See: https://urllib3.readthedocs.io/en/1.26.x/advanced-usage.html#ssl-warnings\n",
      "  warnings.warn(\n"
     ]
    },
    {
     "ename": "MalformedQueryException",
     "evalue": "An error occurred (MalformedQueryException) when calling the ExecuteOpenCypherQuery operation: Variable `errors` not defined (line 29, column 6 (offset: 1771))",
     "output_type": "error",
     "traceback": [
      "\u001b[0;31m---------------------------------------------------------------------------\u001b[0m",
      "\u001b[0;31mMalformedQueryException\u001b[0m                   Traceback (most recent call last)",
      "Cell \u001b[0;32mIn[13], line 57\u001b[0m\n\u001b[1;32m      1\u001b[0m query \u001b[38;5;241m=\u001b[39m \u001b[38;5;124m\"\"\"\u001b[39m\n\u001b[1;32m      2\u001b[0m \u001b[38;5;124mMERGE (a:Article \u001b[39m\u001b[38;5;124m{\u001b[39m\u001b[38;5;124mid: \u001b[39m\u001b[38;5;124m'\u001b[39m\u001b[38;5;124m9e9e911d-9758-4fa6-b497-fe247ae6d896\u001b[39m\u001b[38;5;124m'\u001b[39m\u001b[38;5;124m})\u001b[39m\n\u001b[1;32m      3\u001b[0m \n\u001b[0;32m   (...)\u001b[0m\n\u001b[1;32m     55\u001b[0m \u001b[38;5;124mMERGE (errors)-[:CONTAINS]->(err)\u001b[39m\n\u001b[1;32m     56\u001b[0m \u001b[38;5;124m\"\"\"\u001b[39m\n\u001b[0;32m---> 57\u001b[0m \u001b[43mneptune_client\u001b[49m\u001b[38;5;241;43m.\u001b[39;49m\u001b[43mquery\u001b[49m\u001b[43m(\u001b[49m\u001b[43mquery\u001b[49m\u001b[43m)\u001b[49m\n",
      "File \u001b[0;32m~/src/dassie/dassie-app-backend/python/lambda/services/neptune_client.py:35\u001b[0m, in \u001b[0;36mNeptuneClient.query\u001b[0;34m(self, query)\u001b[0m\n\u001b[1;32m     33\u001b[0m \u001b[38;5;28;01mexcept\u001b[39;00m \u001b[38;5;167;01mException\u001b[39;00m \u001b[38;5;28;01mas\u001b[39;00m e:\n\u001b[1;32m     34\u001b[0m     logger\u001b[38;5;241m.\u001b[39merror(\u001b[38;5;124mf\u001b[39m\u001b[38;5;124m\"\u001b[39m\u001b[38;5;124mError querying Neptune: \u001b[39m\u001b[38;5;132;01m{\u001b[39;00me\u001b[38;5;132;01m}\u001b[39;00m\u001b[38;5;124m\"\u001b[39m)\n\u001b[0;32m---> 35\u001b[0m     \u001b[38;5;28;01mraise\u001b[39;00m e\n",
      "File \u001b[0;32m~/src/dassie/dassie-app-backend/python/lambda/services/neptune_client.py:25\u001b[0m, in \u001b[0;36mNeptuneClient.query\u001b[0;34m(self, query)\u001b[0m\n\u001b[1;32m     23\u001b[0m results \u001b[38;5;241m=\u001b[39m []\n\u001b[1;32m     24\u001b[0m \u001b[38;5;28;01mfor\u001b[39;00m query \u001b[38;5;129;01min\u001b[39;00m queries:\n\u001b[0;32m---> 25\u001b[0m     response \u001b[38;5;241m=\u001b[39m \u001b[38;5;28;43mself\u001b[39;49m\u001b[38;5;241;43m.\u001b[39;49m\u001b[43mclient\u001b[49m\u001b[38;5;241;43m.\u001b[39;49m\u001b[43mexecute_open_cypher_query\u001b[49m\u001b[43m(\u001b[49m\u001b[43mopenCypherQuery\u001b[49m\u001b[38;5;241;43m=\u001b[39;49m\u001b[43mquery\u001b[49m\u001b[43m)\u001b[49m\n\u001b[1;32m     26\u001b[0m     logger\u001b[38;5;241m.\u001b[39minfo(\u001b[38;5;124mf\u001b[39m\u001b[38;5;124m\"\u001b[39m\u001b[38;5;124mNeptune query response: \u001b[39m\u001b[38;5;132;01m{\u001b[39;00mresponse\u001b[38;5;132;01m}\u001b[39;00m\u001b[38;5;124m\"\u001b[39m)\n\u001b[1;32m     27\u001b[0m     \u001b[38;5;28;01mif\u001b[39;00m response[\u001b[38;5;124m\"\u001b[39m\u001b[38;5;124mResponseMetadata\u001b[39m\u001b[38;5;124m\"\u001b[39m][\u001b[38;5;124m\"\u001b[39m\u001b[38;5;124mHTTPStatusCode\u001b[39m\u001b[38;5;124m\"\u001b[39m] \u001b[38;5;241m!=\u001b[39m \u001b[38;5;241m200\u001b[39m:\n",
      "File \u001b[0;32m~/src/dassie/.venv/lib/python3.9/site-packages/botocore/client.py:565\u001b[0m, in \u001b[0;36mClientCreator._create_api_method.<locals>._api_call\u001b[0;34m(self, *args, **kwargs)\u001b[0m\n\u001b[1;32m    561\u001b[0m     \u001b[38;5;28;01mraise\u001b[39;00m \u001b[38;5;167;01mTypeError\u001b[39;00m(\n\u001b[1;32m    562\u001b[0m         \u001b[38;5;124mf\u001b[39m\u001b[38;5;124m\"\u001b[39m\u001b[38;5;132;01m{\u001b[39;00mpy_operation_name\u001b[38;5;132;01m}\u001b[39;00m\u001b[38;5;124m() only accepts keyword arguments.\u001b[39m\u001b[38;5;124m\"\u001b[39m\n\u001b[1;32m    563\u001b[0m     )\n\u001b[1;32m    564\u001b[0m \u001b[38;5;66;03m# The \"self\" in this scope is referring to the BaseClient.\u001b[39;00m\n\u001b[0;32m--> 565\u001b[0m \u001b[38;5;28;01mreturn\u001b[39;00m \u001b[38;5;28;43mself\u001b[39;49m\u001b[38;5;241;43m.\u001b[39;49m\u001b[43m_make_api_call\u001b[49m\u001b[43m(\u001b[49m\u001b[43moperation_name\u001b[49m\u001b[43m,\u001b[49m\u001b[43m \u001b[49m\u001b[43mkwargs\u001b[49m\u001b[43m)\u001b[49m\n",
      "File \u001b[0;32m~/src/dassie/.venv/lib/python3.9/site-packages/botocore/client.py:1021\u001b[0m, in \u001b[0;36mBaseClient._make_api_call\u001b[0;34m(self, operation_name, api_params)\u001b[0m\n\u001b[1;32m   1017\u001b[0m     error_code \u001b[38;5;241m=\u001b[39m error_info\u001b[38;5;241m.\u001b[39mget(\u001b[38;5;124m\"\u001b[39m\u001b[38;5;124mQueryErrorCode\u001b[39m\u001b[38;5;124m\"\u001b[39m) \u001b[38;5;129;01mor\u001b[39;00m error_info\u001b[38;5;241m.\u001b[39mget(\n\u001b[1;32m   1018\u001b[0m         \u001b[38;5;124m\"\u001b[39m\u001b[38;5;124mCode\u001b[39m\u001b[38;5;124m\"\u001b[39m\n\u001b[1;32m   1019\u001b[0m     )\n\u001b[1;32m   1020\u001b[0m     error_class \u001b[38;5;241m=\u001b[39m \u001b[38;5;28mself\u001b[39m\u001b[38;5;241m.\u001b[39mexceptions\u001b[38;5;241m.\u001b[39mfrom_code(error_code)\n\u001b[0;32m-> 1021\u001b[0m     \u001b[38;5;28;01mraise\u001b[39;00m error_class(parsed_response, operation_name)\n\u001b[1;32m   1022\u001b[0m \u001b[38;5;28;01melse\u001b[39;00m:\n\u001b[1;32m   1023\u001b[0m     \u001b[38;5;28;01mreturn\u001b[39;00m parsed_response\n",
      "\u001b[0;31mMalformedQueryException\u001b[0m: An error occurred (MalformedQueryException) when calling the ExecuteOpenCypherQuery operation: Variable `errors` not defined (line 29, column 6 (offset: 1771))"
     ]
    }
   ],
   "source": [
    "query = \"\"\"\n",
    "MERGE (a:Article {id: '9e9e911d-9758-4fa6-b497-fe247ae6d896'})\n",
    "\n",
    "MERGE (awsNeptune:Software {name: 'AWS Neptune Analytics API'})\n",
    "ON CREATE SET awsNeptune.developer = 'Amazon Web Services', awsNeptune.documentation = 'https://docs.aws.amazon.com/neptune/latest/userguide/analytics-api.html'\n",
    "MERGE (awsNeptune)-[:MENTIONED_IN]->(a)\n",
    "\n",
    "MERGE (resetGraph:Function {name: 'ResetGraph'})\n",
    "ON CREATE SET resetGraph.description = 'Empties the data from a specified Neptune Analytics graph.'\n",
    "MERGE (resetGraph)-[:PART_OF]->(awsNeptune)\n",
    "MERGE (resetGraph)-[:MENTIONED_IN]->(a)\n",
    "\n",
    "MERGE (graph:Dataset {identifier: 'graphIdentifier'})\n",
    "ON CREATE SET graph.pattern = 'g-[a-z0-9]{10}'\n",
    "MERGE (graph)-[:MENTIONED_IN]->(a)\n",
    "\n",
    "MERGE (responseElements:Response {name: 'Response Elements'})\n",
    "ON CREATE SET responseElements.statusCode = '200', responseElements.contentType = 'application/json'\n",
    "MERGE (responseElements)-[:PART_OF]->(resetGraph)\n",
    "MERGE (responseElements)-[:MENTIONED_IN]->(a)\n",
    "MERGE (errors:Error {name: 'Errors'})\n",
    "MERGE (errors)-[:PART_OF]->(resetGraph)\n",
    "MERGE (errors)-[:MENTIONED_IN]->(a)\n",
    "WITH responseElements\n",
    "UNWIND [\n",
    "  {property: 'arn', type: 'String'},\n",
    "  {property: 'buildNumber', type: 'String'},\n",
    "  {property: 'createTime', type: 'Timestamp'},\n",
    "  {property: 'deletionProtection', type: 'Boolean'},\n",
    "  {property: 'endpoint', type: 'String'},\n",
    "  {property: 'id', type: 'String', pattern: 'g-[a-z0-9]{10}'},\n",
    "  {property: 'kmsKeyIdentifier', type: 'String', pattern: 'arn:aws(|-cn|-us-gov):kms:[a-zA-Z0-9-]*:[0-9]{12}:key/[a-zA-Z0-9-]{36}'},\n",
    "  {property: 'name', type: 'String', pattern: '(?!g-)[a-z][a-z0-9]*(-[a-z0-9]+)*'},\n",
    "  {property: 'provisionedMemory', type: 'Integer', validRange: '32-24576'},\n",
    "  {property: 'publicConnectivity', type: 'Boolean'},\n",
    "  {property: 'replicaCount', type: 'Integer', validRange: '0-2'},\n",
    "  {property: 'sourceSnapshotId', type: 'String', pattern: 'gs-[a-z0-9]{10}'},\n",
    "  {property: 'status', type: 'String', validValues: 'CREATING, AVAILABLE, DELETING, RESETTING, UPDATING, SNAPSHOTTING, FAILED, IMPORTING'},\n",
    "  {property: 'statusReason', type: 'String'},\n",
    "  {property: 'vectorSearchConfiguration', type: 'VectorSearchConfiguration', maxDimensions: '65535'}\n",
    "] AS element\n",
    "MERGE (prop:Property {name: element.property})\n",
    "ON CREATE SET prop.type = element.type, prop.pattern = element.pattern, prop.validRange = element.validRange, prop.validValues = element.validValues, prop.maxDimensions = element.maxDimensions\n",
    "MERGE (responseElements)-[:CONTAINS]->(prop)\n",
    "WITH errors\n",
    "UNWIND [\n",
    "  {property: 'ConflictException', statusCode: '409'},\n",
    "  {property: 'InternalServerException', statusCode: '500'},\n",
    "  {property: 'ResourceNotFoundException', statusCode: '404'},\n",
    "  {property: 'ThrottlingException', statusCode: '429'},\n",
    "  {property: 'ValidationException', statusCode: '400'}\n",
    "] AS error\n",
    "MERGE (err:ErrorProperty {name: error.property})\n",
    "ON CREATE SET err.statusCode = error.statusCode\n",
    "MERGE (errors)-[:CONTAINS]->(err)\n",
    "\"\"\"\n",
    "neptune_client.query(query)"
   ]
  },
  {
   "cell_type": "code",
   "execution_count": null,
   "id": "f193e360",
   "metadata": {},
   "outputs": [],
   "source": [
    "query = \"\"\"MERGE (a:Article {id: 'b3c845a6-60b5-40cc-838a-e86043d41602'})\n",
    "\n",
    "MERGE (wp1:WebPage {url: 'https://platform.openai.com/docs/models'})\n",
    "SET wp1.title = 'Models - OpenAI API',\n",
    "    wp1.description = \"Explore resources, tutorials, API docs, and dynamic examples to get the most out of OpenAI's developer platform.\"\n",
    "MERGE (wp1)-[:SOURCE_OF]->(a)\n",
    "\n",
    "MERGE (c:Company {name: 'OpenAI'})\n",
    "MERGE (c)-[:SOURCE_OF]->(a)\n",
    "\n",
    "MERGE (s1:Software {name: 'GPT-4o'})\n",
    "SET s1.description = 'Our high-intelligence flagship model'\n",
    "MERGE (s1)-[:SOURCE_OF]->(a)\n",
    "MERGE (c)-[:PRODUCT]->(s1)\n",
    "\n",
    "MERGE (wp2:WebPage {url: 'https://learn.microsoft.com/Learn/Azure/AI_Services'})\n",
    "SET wp2.title = 'Azure OpenAI Service models',\n",
    "    wp2.description = 'Azure OpenAI Service is powered by a diverse set of models with different capabilities and price points. Model availability varies by region.'\n",
    "MERGE (wp2)-[:SOURCE_OF]->(a)\n",
    "\n",
    "MERGE (wp3:WebPage {url: 'https://openai.com/form/custom-models'})\n",
    "SET wp3.title = 'Custom models',\n",
    "    wp3.description = 'The Custom Models program gives selected organizations an opportunity to work with a dedicated group of OpenAI researchers to train custom GPT-4 models.'\n",
    "MERGE (wp3)-[:SOURCE_OF]->(a)\n",
    "\n",
    "MERGE (wp4:WebPage {url: 'https://openai.com/index/introducing-the-model-spec'})\n",
    "SET wp4.title = 'Introducing the Model Spec',\n",
    "    wp4.date = date(\"2024-05-08\"),\n",
    "    wp4.description = 'We are sharing a first draft of the Model Spec, a new document that specifies how we want our models to behave in the OpenAI API and ChatGPT.'\n",
    "MERGE (wp4)-[:SOURCE_OF]->(a)\n",
    "\n",
    "MERGE (wp5:WebPage {url: 'https://openai.com/index/new-models-and-developer-products-announced-at-DevDay'})\n",
    "SET wp5.title = 'New models and developer products announced at DevDay',\n",
    "    wp5.date = date('2023-11-06'),\n",
    "    wp5.description = 'GPT-4 Turbo with 128K context and lower prices, the new Assistants API, GPT-4 Turbo with Vision, DALL·E 3 API, and more.'\n",
    "MERGE (wp5)-[:SOURCE_OF]->(a)\"\"\"\n",
    "import re\n",
    "open_cypher = re.sub(r\"date\\(('|\\\".*?'|\\\")\\)\", r\"\\1\", query)\n",
    "print(open_cypher)"
   ]
  },
  {
   "cell_type": "code",
   "execution_count": null,
   "id": "21b75df1",
   "metadata": {},
   "outputs": [],
   "source": [
    "df = pf.iloc[0:10]\n",
    "for index, row in df.iterrows():\n",
    "    input = json.loads(row.input)\n",
    "    output = get_article_summarization(input['args'][0])\n",
    "    df.loc[index, \"output\"] = output"
   ]
  },
  {
   "cell_type": "code",
   "execution_count": null,
   "id": "954d4583",
   "metadata": {},
   "outputs": [],
   "source": [
    "df.iloc[5].output\n",
    "new_prompt = \"\"\"\n",
    "Your task is to validate that each of the following entities and relations in the turtle are grounded in the text. output opencypher (Neptune-9.0.20190305-1.0) query to create only the grounded entities and relations, assume the entities and relations may already exist. Include \n",
    "an Article entity with id {article_id} that relates to all the other entities as the source of the information.\n",
    "---\n",
    "\"\"\"\n",
    "prompt_hash = hash_prompt(new_prompt)\n",
    "print(f\"Hash of new_prompt: {prompt_hash}\")\n",
    "@observe(name=\"get_article_summarization_validate\")\n",
    "def get_article_summarization_validate(input,turtle,article_id):\n",
    "    langfuse_context.update_current_trace(\n",
    "        tags=[\"experimentation\", \"notebook\", prompt_hash]\n",
    "\n",
    "    )\n",
    "    return openai_client.get_completion(new_prompt.format(article_id=article_id), turtle+\"---\"+input,model=\"gpt-4o\")\n",
    "\n",
    "print(get_article_summarization_validate(json.loads(df.iloc[5].input)['args'][0],df.iloc[5].output,article_id=\"some_uuid\"))\n",
    "\n"
   ]
  },
  {
   "cell_type": "code",
   "execution_count": null,
   "id": "bfa0dad5",
   "metadata": {},
   "outputs": [],
   "source": [
    "df = pf.iloc[0:10]\n",
    "for index, row in df.iterrows():\n",
    "    input = json.loads(row.input)\n",
    "    output =get_article_summarization_validate(json.loads(row.input)['args'][0],row.output) \n",
    "    df.loc[index, \"output_validate\"] = output\n",
    "    print(json.loads(row.input)['args'][0])\n",
    "    print(row.output)\n",
    "    print(output)\n",
    "    print(\"---\\n\\n\\n\")\n",
    "\n"
   ]
  },
  {
   "cell_type": "code",
   "execution_count": null,
   "id": "18ee6501",
   "metadata": {},
   "outputs": [],
   "source": [
    "format_prompt = \"\"\"\n",
    "Your task is to translate the entities and relationships described in the following turtle triplets to json-ld that complies schemas from schema.org only.\n",
    "Output strictly valid json-ld, that complies with the selected schema.org vocabularies. Do not include any additional text or formatting.If the entity or relationship is not in schema.org, leave it out of the output.\n",
    "---\n",
    "\"\"\"\n",
    "\n",
    "format_prompt_hash = hash_prompt(format_prompt)\n",
    "print(f\"Hash of format_prompt: {format_prompt_hash}\")\n",
    "\n",
    "@observe(name=\"get_article_summarization_json_ld\")\n",
    "def get_article_summarization_json_ld(input):\n",
    "    langfuse_context.update_current_trace(\n",
    "        tags=[\"experimentation\", \"notebook\", format_prompt_hash]\n",
    "\n",
    "    )\n",
    "    return openai_client.get_completion(format_prompt, input)\n",
    "\n",
    "    "
   ]
  },
  {
   "cell_type": "code",
   "execution_count": 14,
   "id": "d9a6cd73",
   "metadata": {},
   "outputs": [
    {
     "name": "stdout",
     "output_type": "stream",
     "text": [
      "MERGE (article:Article {id: 'e6389c98-77ed-48e0-8f0d-6717635f0e64'}) MERGE (gremlinInc:Company {name: 'Gremlin Inc.'}) MERGE (stackOverflow:Website {name: 'Stack Overflow'}) MERGE (janusGraph:Software {name: 'JanusGraph'}) MERGE (apacheTinkerPop:Software {name: 'Apache TinkerPop'}) MERGE (amazonWebServices:Company {name: 'Amazon Web Services'}) MERGE (googleGroups:Website {name: 'Google Groups'}) MERGE (gremlinQueryLanguage:ProgrammingLanguage {name: 'Gremlin'}) MERGE (azureCosmosDB:Database {name: 'Azure Cosmos DB'}) MERGE (kubernetes:Software {name: 'Kubernetes'}) MERGE (chaosEngineering:EngineeringDiscipline {name: 'Chaos engineering'}) MERGE (devOps:EngineeringDiscipline {name: 'DevOps'}) MERGE (webPage1:WebPage {url: 'https://www.gremlin.com/getting-started-authentication', title: 'Getting Started > Authenticating the Gremlin Agent'}) MERGE (webPage1)-[:PUBLISHED_BY]->(gremlinInc) MERGE (article)-[:MENTIONS]->(webPage1) MERGE (webPage2:WebPage {url: 'https://stackoverflow.com/questions/gremlin-schema-validation', title: 'Gremlin schema validation - azure cosmosdb'}) MERGE (webPage2)-[:PUBLISHED_BY]->(stackOverflow) MERGE (webPage2)-[:SUBJECT]->(gremlinQueryLanguage) MERGE (webPage2)-[:SUBJECT]->(azureCosmosDB) MERGE (article)-[:MENTIONS]->(webPage2) MERGE (webPage3:WebPage {url: 'https://www.gremlin.com/community/tutorials/how-to-validate-your-kubernetes-liveness-probes-using-gremlin', title: 'How to validate your Kubernetes liveness probes using Gremlin'}) MERGE (webPage3)-[:PUBLISHED_BY]->(gremlinInc) MERGE (webPage3)-[:SUBJECT]->(kubernetes) MERGE (article)-[:MENTIONS]->(webPage3) MERGE (webPage4:WebPage {url: 'https://docs.janusgraph.org/getting-started/gremlin', title: 'Gremlin Query Language'}) MERGE (webPage4)-[:PUBLISHED_BY]->(janusGraph) MERGE (webPage4)-[:SUBJECT]->(gremlinQueryLanguage) MERGE (article)-[:MENTIONS]->(webPage4) MERGE (webPage5:WebPage {url: 'https://tinkerpop.apache.org/gremlin', title: 'Gremlin - Apache TinkerPop'}) MERGE (webPage5)-[:PUBLISHED_BY]->(apacheTinkerPop) MERGE (webPage5)-[:SUBJECT]->(gremlinQueryLanguage) MERGE (article)-[:MENTIONS]->(webPage5) MERGE (webPage6:WebPage {url: 'https://gremlin.awsworkshop.io/36_first_experiment', title: 'Experiment #1: Validate Autoscaling :: MP DevOps Series'}) MERGE (webPage6)-[:PUBLISHED_BY]->(amazonWebServices) MERGE (webPage6)-[:SUBJECT]->(devOps) MERGE (article)-[:MENTIONS]->(webPage6) MERGE (webPage7:WebPage {url: 'https://tinkerpop.apache.org/docs/current/tutorials', title: 'The Gremlin Console'}) MERGE (webPage7)-[:PUBLISHED_BY]->(apacheTinkerPop) MERGE (webPage7)-[:SUBJECT]->(gremlinQueryLanguage) MERGE (article)-[:MENTIONS]->(webPage7) MERGE (webPage8:WebPage {url: 'https://aws.amazon.com/blogs/apn/how-gremlins-chaos-engineering-platform-validates', title: 'How Gremlin's Chaos Engineering Platform Validates'}) MERGE (webPage8)-[:PUBLISHED_BY]->(amazonWebServices) MERGE (webPage8)-[:SUBJECT]->(chaosEngineering) MERGE (article)-[:MENTIONS]->(webPage8) MERGE (webPage9:WebPage {url: 'https://gremlin.awsworkshop.io/36_first_experiment', title: '6.5 Validate Action Items :: MP DevOps Series'}) MERGE (webPage9)-[:PUBLISHED_BY]->(amazonWebServices) MERGE (webPage9)-[:SUBJECT]->(devOps) MERGE (article)-[:MENTIONS]->(webPage9) MERGE (webPage10:WebPage {url: 'https://groups.google.com/YFseUTsuHY8', title: 'How to verify a remote graph connection?'}) MERGE (webPage10)-[:PUBLISHED_BY]->(googleGroups) MERGE (webPage10)-[:SUBJECT]->(gremlinQueryLanguage) MERGE (article)-[:MENTIONS]->(webPage10)\n"
     ]
    }
   ],
   "source": [
    "traces = langfuse.fetch_traces(name=\"article_graph_test\",tags=[\"neptune_exception_fixed\"],limit=100)\n",
    "for trace in traces.data:\n",
    "    for obs in trace.observations:\n",
    "        obs = langfuse.fetch_observation(obs)\n",
    "        if obs.data.name == \"get_article_graph\":\n",
    "            langfuse.create_dataset_item(\n",
    "                dataset_name=\"get_article_graph\",\n",
    "                metadata={\"tags\":[\"neptune_exception_fixed\"]},\n",
    "                source_trace_id=obs.data.trace_id,\n",
    "                source_observation_id=obs.data.id,\n",
    "                input=obs.data.input,\n",
    "                expected_output=obs.data.output,\n",
    "            )\n",
    "            "
   ]
  },
  {
   "cell_type": "code",
   "execution_count": 16,
   "id": "107ea41b",
   "metadata": {},
   "outputs": [
    {
     "data": {
      "text/plain": [
       "{'AWS_CONTAINER_AUTHORIZATION_TOKEN': '<hidden>',\n",
       " 'AWS_CONTAINER_CREDENTIALS_FULL_URI': 'http://127.0.0.1:50220',\n",
       " 'AWS_DEFAULT_REGION': 'eu-west-1',\n",
       " 'AWS_REGION': 'eu-west-1',\n",
       " 'AWS_VAULT': 'dburke',\n",
       " 'COMMAND_MODE': 'unix2003',\n",
       " 'CONDA_EXE': '/Users/davidburke/miniforge3/bin/conda',\n",
       " 'CONDA_PYTHON_EXE': '/Users/davidburke/miniforge3/bin/python',\n",
       " 'CONDA_SHLVL': '0',\n",
       " 'ELECTRON_NO_ATTACH_CONSOLE': '1',\n",
       " 'HOME': '/Users/davidburke',\n",
       " 'HOMEBREW_CELLAR': '/opt/homebrew/Cellar',\n",
       " 'HOMEBREW_PREFIX': '/opt/homebrew',\n",
       " 'HOMEBREW_REPOSITORY': '/opt/homebrew',\n",
       " 'INFOPATH': '/opt/homebrew/share/info:',\n",
       " 'LANG': 'en_IE.UTF-8',\n",
       " 'LOGNAME': 'davidburke',\n",
       " 'MANPATH': '/Users/davidburke/.nvm/versions/node/v22.2.0/share/man:/opt/homebrew/share/man::',\n",
       " 'MallocNanoZone': '0',\n",
       " 'NVM_BIN': '/Users/davidburke/.nvm/versions/node/v22.2.0/bin',\n",
       " 'NVM_CD_FLAGS': '-q',\n",
       " 'NVM_DIR': '/Users/davidburke/.nvm',\n",
       " 'NVM_INC': '/Users/davidburke/.nvm/versions/node/v22.2.0/include/node',\n",
       " 'ORIGINAL_XDG_CURRENT_DESKTOP': 'undefined',\n",
       " 'PATH': '/Users/davidburke/src/dassie/.venv/bin:/opt/homebrew/opt/libpq/bin:/opt/homebrew/opt/openjdk/bin:/Users/davidburke/.nvm/versions/node/v22.2.0/bin:/opt/homebrew/Cellar/pyenv-virtualenv/1.2.1/shims:/Users/davidburke/.pyenv/shims:/usr/local/bin:/Users/davidburke/Library/pnpm:/opt/homebrew/opt/libpq/bin:/opt/homebrew/opt/openjdk/bin:/Users/davidburke/miniforge3/condabin:/Users/davidburke/.nvm/versions/node/v22.2.0/bin:/opt/homebrew/Cellar/pyenv-virtualenv/1.2.1/shims:/usr/local/bin:/opt/homebrew/bin:/opt/homebrew/sbin:/usr/local/bin:/System/Cryptexes/App/usr/bin:/usr/bin:/bin:/usr/sbin:/sbin:/var/run/com.apple.security.cryptexd/codex.system/bootstrap/usr/local/bin:/var/run/com.apple.security.cryptexd/codex.system/bootstrap/usr/bin:/var/run/com.apple.security.cryptexd/codex.system/bootstrap/usr/appleinternal/bin:/Users/davidburke/.orbstack/bin:/Applications/Docker.app/Contents/Resources/bin/:/Applications/Docker.app/Contents/Resources/bin/',\n",
       " 'PNPM_HOME': '/Users/davidburke/Library/pnpm',\n",
       " 'PWD': '/',\n",
       " 'PYENV_ROOT': '/Users/davidburke/.pyenv',\n",
       " 'PYENV_SHELL': 'zsh',\n",
       " 'PYENV_VIRTUALENV_INIT': '1',\n",
       " 'SHELL': '/bin/zsh',\n",
       " 'SHLVL': '4',\n",
       " 'SSH_AUTH_SOCK': '/private/tmp/com.apple.launchd.3Z10Gmv4HG/Listeners',\n",
       " 'TERM': 'xterm-color',\n",
       " 'TERM_PROGRAM': 'Apple_Terminal',\n",
       " 'TERM_PROGRAM_VERSION': '453',\n",
       " 'TERM_SESSION_ID': 'BD9C7CDA-7E55-422B-9BAA-36AC01DFD975',\n",
       " 'TMPDIR': '/var/folders/wc/__ltg2910ylc3g15rrjh3dww0000gn/T/',\n",
       " 'USER': 'davidburke',\n",
       " 'VSCODE_AMD_ENTRYPOINT': 'vs/workbench/api/node/extensionHostProcess',\n",
       " 'VSCODE_CLI': '1',\n",
       " 'VSCODE_CODE_CACHE_PATH': '/Users/davidburke/Library/Application Support/Cursor/CachedData/297991d169fa3a11975c5aa95adc69be73250c70',\n",
       " 'VSCODE_CRASH_REPORTER_PROCESS_TYPE': 'extensionHost',\n",
       " 'VSCODE_CWD': '/Users/davidburke',\n",
       " 'VSCODE_HANDLES_UNCAUGHT_ERRORS': 'true',\n",
       " 'VSCODE_IPC_HOOK': '/Users/davidburke/Library/Application Support/Cursor/0.41-main.sock',\n",
       " 'VSCODE_NLS_CONFIG': '{\"locale\":\"en-gb\",\"osLocale\":\"en-gb\",\"availableLanguages\":{},\"_languagePackSupport\":true}',\n",
       " 'VSCODE_PID': '63345',\n",
       " 'XPC_FLAGS': '0x0',\n",
       " 'XPC_SERVICE_NAME': '0',\n",
       " '__CFBundleIdentifier': 'com.todesktop.230313mzl4w4u92',\n",
       " '__CF_USER_TEXT_ENCODING': '0x1F5:0x0:0x2',\n",
       " 'ELECTRON_RUN_AS_NODE': '1',\n",
       " 'APPLICATION_INSIGHTS_NO_DIAGNOSTIC_CHANNEL': '1',\n",
       " '__TELEMETRY_CLIENT_ID': '54d0e7ad-93fe-4c9f-bb1d-174724c11c2b',\n",
       " 'AWS_SDK_LOAD_CONFIG': 'true',\n",
       " 'VSCODE_L10N_BUNDLE_LOCATION': '',\n",
       " 'PYTHONUNBUFFERED': '1',\n",
       " 'PYTHONIOENCODING': 'utf-8',\n",
       " 'VIRTUAL_ENV': '/Users/davidburke/src/dassie/.venv',\n",
       " 'PS1': '(.venv) ',\n",
       " '_': '/Users/davidburke/src/dassie/.venv/bin/python',\n",
       " 'PYDEVD_IPYTHON_COMPATIBLE_DEBUGGING': '1',\n",
       " 'PYTHON_FROZEN_MODULES': 'on',\n",
       " 'PYDEVD_USE_FRAME_EVAL': 'NO',\n",
       " 'CLICOLOR': '1',\n",
       " 'FORCE_COLOR': '1',\n",
       " 'CLICOLOR_FORCE': '1',\n",
       " 'PAGER': 'cat',\n",
       " 'GIT_PAGER': 'cat',\n",
       " 'MPLBACKEND': 'module://matplotlib_inline.backend_inline',\n",
       " 'DB_CLUSTER_ENDPOINT': 'localhost',\n",
       " 'DDB_TABLE': 'TodoAppBackendStack-nwbxl-navlogDB0A59EC5D-CJ3HCDHHL44L',\n",
       " 'BUCKET_NAME': 'todoappbackendstack-nwbxl-navlogimages0c68e55c-3ywwdtenerym',\n",
       " 'DB_SECRET_ARN': '<hidden>',\n",
       " 'OPENAI_API_KEY': '<hidden>',\n",
       " 'LANGFUSE_KEY': '<hidden>',\n",
       " 'AWS_ACCOUNT_ID': '559845934392',\n",
       " 'LANGFUSE_RELEASE': 'local_$(git rev-parse HEAD)'}"
      ]
     },
     "execution_count": 16,
     "metadata": {},
     "output_type": "execute_result"
    }
   ],
   "source": [
    "%env"
   ]
  }
 ],
 "metadata": {
  "kernelspec": {
   "display_name": "Python 3 (ipykernel)",
   "language": "python",
   "name": "python3"
  },
  "language_info": {
   "codemirror_mode": {
    "name": "ipython",
    "version": 3
   },
   "file_extension": ".py",
   "mimetype": "text/x-python",
   "name": "python",
   "nbconvert_exporter": "python",
   "pygments_lexer": "ipython3",
   "version": "3.9.18"
  }
 },
 "nbformat": 4,
 "nbformat_minor": 5
}
