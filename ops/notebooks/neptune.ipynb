{
 "cells": [
  {
   "cell_type": "code",
   "execution_count": 1,
   "metadata": {},
   "outputs": [
    {
     "name": "stdout",
     "output_type": "stream",
     "text": [
      "Set notebook config to:\n",
      "{\n",
      "    \"host\": \"dassie.cluster-c9w86oa4s60z.eu-west-1.neptune.amazonaws.com\",\n",
      "    \"neptune_service\": \"neptune-db\",\n",
      "    \"port\": 8182,\n",
      "    \"proxy_host\": \"\",\n",
      "    \"proxy_port\": 8182,\n",
      "    \"auth_mode\": \"DEFAULT\",\n",
      "    \"load_from_s3_arn\": \"\",\n",
      "    \"ssl\": true,\n",
      "    \"ssl_verify\": true,\n",
      "    \"aws_region\": \"eu-west-1\",\n",
      "    \"sparql\": {\n",
      "        \"path\": \"\"\n",
      "    },\n",
      "    \"gremlin\": {\n",
      "        \"connection_protocol\": \"websockets\",\n",
      "        \"traversal_source\": \"g\",\n",
      "        \"username\": \"\",\n",
      "        \"password\": \"\",\n",
      "        \"message_serializer\": \"GraphSONMessageSerializerV3\"\n",
      "    },\n",
      "    \"neo4j\": {\n",
      "        \"username\": \"neo4j\",\n",
      "        \"password\": \"password\",\n",
      "        \"auth\": true,\n",
      "        \"database\": null\n",
      "    }\n",
      "}\n"
     ]
    },
    {
     "data": {
      "text/plain": [
       "<graph_notebook.configuration.generate_config.Configuration at 0x7fd9fe00de20>"
      ]
     },
     "execution_count": 1,
     "metadata": {},
     "output_type": "execute_result"
    }
   ],
   "source": [
    "%%graph_notebook_config\n",
    "{\n",
    "  \"host\": \"dassie.cluster-c9w86oa4s60z.eu-west-1.neptune.amazonaws.com\",\n",
    "  \"neptune_service\": \"neptune-db\",\n",
    "  \"port\": 8182,\n",
    "  \"auth_mode\": \"DEFAULT\",\n",
    "  \"load_from_s3_arn\": \"\",\n",
    "  \"ssl\": true,\n",
    "  \"ssl_verify\": true,\n",
    "  \"aws_region\": \"eu-west-1\"\n",
    "}"
   ]
  },
  {
   "cell_type": "code",
   "execution_count": 2,
   "metadata": {},
   "outputs": [
    {
     "data": {
      "application/vnd.jupyter.widget-view+json": {
       "model_id": "4f47bca935c5415a94b2381a58415df8",
       "version_major": 2,
       "version_minor": 0
      },
      "text/plain": [
       "Tab(children=(Output(layout=Layout(max_height='600px', max_width='940px', overflow='scroll')), Force(network=<…"
      ]
     },
     "metadata": {},
     "output_type": "display_data"
    }
   ],
   "source": [
    "%%oc\n",
    "match (a:Theme {name: 'Remote Dev With Cursor'})-[r]-(art:Article)\n",
    "return a,r,art"
   ]
  },
  {
   "cell_type": "code",
   "execution_count": 3,
   "metadata": {},
   "outputs": [
    {
     "name": "stdout",
     "output_type": "stream",
     "text": [
      "JupyterLab v4.3.1\n",
      "/workspaces/dassie-app-backend/venv/share/jupyter/labextensions\n",
      "        jupyterlab_pygments v0.3.0 \u001b[32menabled\u001b[0m \u001b[32mOK\u001b[0m (python, jupyterlab_pygments)\n",
      "        graph_notebook_widgets v4.6.1 \u001b[32menabled\u001b[0m \u001b[32mOK\u001b[0m (python, graph-notebook)\n",
      "        @jupyter-widgets/jupyterlab-manager v3.1.11 \u001b[32menabled\u001b[0m \u001b[32mOK\u001b[0m (python, jupyterlab_widgets)\n",
      "\n"
     ]
    }
   ],
   "source": [
    "!jupyter labextension list"
   ]
  }
 ],
 "metadata": {
  "kernelspec": {
   "display_name": "Python 3 (ipykernel)",
   "language": "python",
   "name": "python3"
  },
  "language_info": {
   "codemirror_mode": {
    "name": "ipython",
    "version": 3
   },
   "file_extension": ".py",
   "mimetype": "text/x-python",
   "name": "python",
   "nbconvert_exporter": "python",
   "pygments_lexer": "ipython3",
   "version": "3.9.18"
  }
 },
 "nbformat": 4,
 "nbformat_minor": 4
}
